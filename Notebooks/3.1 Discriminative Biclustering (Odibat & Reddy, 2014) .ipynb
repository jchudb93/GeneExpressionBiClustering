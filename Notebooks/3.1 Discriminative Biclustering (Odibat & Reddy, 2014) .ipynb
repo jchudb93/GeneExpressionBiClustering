{
 "cells": [
  {
   "cell_type": "markdown",
   "metadata": {},
   "source": [
    "# Discriminative Biclustering Algorithm \n",
    "Proposed by Odibat & Reddy, 2014 in **Efficient mining of discriminative co-clusters from gene\n",
    "expression data**"
   ]
  },
  {
   "cell_type": "code",
   "execution_count": 6,
   "metadata": {},
   "outputs": [],
   "source": [
    "%load_ext pycodestyle_magic"
   ]
  },
  {
   "cell_type": "code",
   "execution_count": 33,
   "metadata": {},
   "outputs": [],
   "source": [
    "%matplotlib inline\n",
    "import numpy as np\n",
    "import math\n",
    "from matplotlib import pyplot as plt\n",
    "from sklearn.metrics import consensus_score"
   ]
  },
  {
   "cell_type": "code",
   "execution_count": 12,
   "metadata": {},
   "outputs": [],
   "source": [
    "# !pip install pycodestyle\n",
    "# !pip install pycodestyle_magic"
   ]
  },
  {
   "cell_type": "markdown",
   "metadata": {},
   "source": [
    "### Definition 1 - Coherence Measure H"
   ]
  },
  {
   "cell_type": "code",
   "execution_count": 108,
   "metadata": {},
   "outputs": [],
   "source": [
    "#%pycodestyle\n",
    "class CoherenceMeasure(object):\n",
    "    def __init__(self, data):\n",
    "        self.data = data\n",
    "        self.n, self.m = data.shape\n",
    "        self.xiJ = np.mean(data, axis=1)\n",
    "        self.xIj = np.mean(data, axis=0)\n",
    "        self.xIJ = np.mean(data)\n",
    "        self._H = None\n",
    "\n",
    "    @property\n",
    "    def H(self):\n",
    "        if self._H is None:\n",
    "            print(\"Computing coherence measure\")\n",
    "            self._H = self._compute_H()\n",
    "            print(\"H value: \" + str(self._H))\n",
    "        return self._H\n",
    "    \n",
    "    def _compute_H(self):\n",
    "        H = 0\n",
    "        for i in range(self.n):\n",
    "            for j in range(self.m):\n",
    "                H += (self.data[i, j] - self.xIj[j] -\n",
    "                      self.xiJ[i] + self.xIJ)**2\n",
    "        H *= 1.0/math.fabs(self.m*self.n)\n",
    "        H = 1 - H\n",
    "        return H"
   ]
  },
  {
   "cell_type": "markdown",
   "metadata": {},
   "source": [
    "#### Loading test data for Coherence Measure"
   ]
  },
  {
   "cell_type": "code",
   "execution_count": 109,
   "metadata": {},
   "outputs": [
    {
     "name": "stdout",
     "output_type": "stream",
     "text": [
      "[[  6.88227454e-02   8.69286523e-01   9.39309423e-01 ...,   4.01059206e-01\n",
      "    8.80684981e-01   2.12975344e-01]\n",
      " [  5.88589952e-01   1.82084080e-02   2.77328720e-01 ...,   3.03886824e-01\n",
      "    7.42037713e-01   5.81847395e-01]\n",
      " [  1.77672159e-01   3.55086191e-02   2.57813268e-01 ...,   6.10602703e-04\n",
      "    5.69565356e-01   7.96284668e-01]\n",
      " ..., \n",
      " [  2.68156554e-01   1.04229194e-01   8.51128579e-01 ...,   2.54590950e-01\n",
      "    9.50749186e-01   5.88278111e-01]\n",
      " [  8.86663497e-01   8.82423383e-01   4.03006035e-01 ...,   6.45916512e-01\n",
      "    7.79249400e-01   3.31922164e-01]\n",
      " [  2.99875037e-01   9.01604365e-01   2.63093259e-01 ...,   9.28822904e-01\n",
      "    3.34648509e-01   8.63327902e-02]]\n"
     ]
    }
   ],
   "source": [
    "import random\n",
    "data = np.random.random((50, 50))\n",
    "print(data)"
   ]
  },
  {
   "cell_type": "code",
   "execution_count": 110,
   "metadata": {},
   "outputs": [
    {
     "name": "stdout",
     "output_type": "stream",
     "text": [
      "Computing coherence measure\n",
      "H value: 0.919827674087\n",
      "H = 0.919827674087\n"
     ]
    }
   ],
   "source": [
    "# Testing Coherence\n",
    "coherence_measure = CoherenceMeasure(data)\n",
    "print(\"H = \" + str(coherence_measure.H))"
   ]
  },
  {
   "cell_type": "markdown",
   "metadata": {},
   "source": [
    "### Definition 2 - Positive and negative correlations"
   ]
  },
  {
   "cell_type": "code",
   "execution_count": 123,
   "metadata": {},
   "outputs": [],
   "source": [
    "# input: rows x and y and J columns\n",
    "# output: positive and negative correlations\n",
    "\n",
    "\n",
    "class PositiveNegativeCorrelation(object):\n",
    "    def __init__(self, x, y, J):\n",
    "        self._x = x\n",
    "        self._y = y\n",
    "        self._J = J\n",
    "        self._x_mean = np.mean(x)\n",
    "        self._y_mean = np.mean(y)\n",
    "        self._H_pos = None\n",
    "        self._H_neg = None\n",
    "\n",
    "    @property\n",
    "    def H_pos(self):\n",
    "        if self._H_pos is None:\n",
    "            print(\"Computing H positive...\")\n",
    "            self._H_pos = self._compute_H_pos()\n",
    "            print(\"H positive value: \" + str(self._H_pos))\n",
    "        return self._H_pos\n",
    "\n",
    "    @property\n",
    "    def H_neg(self):\n",
    "        if self._H_neg is None:\n",
    "            print(\"Computing H negative...\")\n",
    "            self._H_neg = self._compute_H_neg()\n",
    "            print(\"H negative value: \" + str(self._H_neg))\n",
    "        return self._H_neg\n",
    "\n",
    "    def _compute_H_pos(self):\n",
    "        H_pos = 0\n",
    "        for j in range(self._J):\n",
    "            aux = (((self._x[j] - self._x_mean) -\n",
    "                    (self._y[j] - self._y_mean))/2.0)**2\n",
    "            H_pos += aux\n",
    "        H_pos *= 1.0/math.fabs(self._J)\n",
    "        H_pos = 1 - H_pos\n",
    "        return H_pos\n",
    "\n",
    "    def _compute_H_neg(self):\n",
    "        H_neg = 0\n",
    "        for j in range(self._J):\n",
    "            aux = (((self._x[j] - self._x_mean) +\n",
    "                    (self._y[j] - self._y_mean))/2.0)**2\n",
    "            H_neg += aux\n",
    "        H_neg *= 1.0/math.fabs(self._J)\n",
    "        H_neg = 1 - H_neg\n",
    "        return H_neg"
   ]
  },
  {
   "cell_type": "markdown",
   "metadata": {},
   "source": [
    "#### Loading test data for positive and negative correlation"
   ]
  },
  {
   "cell_type": "code",
   "execution_count": 118,
   "metadata": {},
   "outputs": [
    {
     "name": "stdout",
     "output_type": "stream",
     "text": [
      "Row x [ 0.48481788  0.26905352  0.21049012  0.41920513  0.19222423]\n",
      "Row y [ 0.00961271  0.54497597  0.04661777  0.77375366  0.51490612]\n",
      "J value 5\n"
     ]
    }
   ],
   "source": [
    "x = np.random.random((5))\n",
    "y = np.random.random((5))\n",
    "J = 5\n",
    "print(\"Row x \" + str(x))\n",
    "print(\"Row y \" + str(y))\n",
    "print(\"J value \" + str(J))"
   ]
  },
  {
   "cell_type": "code",
   "execution_count": 127,
   "metadata": {},
   "outputs": [
    {
     "name": "stdout",
     "output_type": "stream",
     "text": [
      "Computing H positive...\n",
      "H positive value: 0.973054655414\n",
      "H positive 0.973054655414\n",
      "\n",
      "Computing H negative...\n",
      "H negative value: 0.975288087483\n",
      "H negative 0.975288087483\n"
     ]
    }
   ],
   "source": [
    "# Testing correlation\n",
    "positive_negative_correlation = PositiveNegativeCorrelation(x,y,J)\n",
    "print(\"H positive \" + str(positive_negative_correlation.H_pos))\n",
    "print()\n",
    "print(\"H negative \" + str(positive_negative_correlation.H_neg))"
   ]
  },
  {
   "cell_type": "markdown",
   "metadata": {},
   "source": [
    "### Definition 3 - Pair-based coherence"
   ]
  },
  {
   "cell_type": "code",
   "execution_count": null,
   "metadata": {},
   "outputs": [],
   "source": []
  }
 ],
 "metadata": {
  "kernelspec": {
   "display_name": "Python 3",
   "language": "python",
   "name": "python3"
  },
  "language_info": {
   "codemirror_mode": {
    "name": "ipython",
    "version": 3
   },
   "file_extension": ".py",
   "mimetype": "text/x-python",
   "name": "python",
   "nbconvert_exporter": "python",
   "pygments_lexer": "ipython3",
   "version": "3.6.3"
  }
 },
 "nbformat": 4,
 "nbformat_minor": 2
}
