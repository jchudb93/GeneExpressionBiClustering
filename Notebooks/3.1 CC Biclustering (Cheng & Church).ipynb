{
 "cells": [
  {
   "cell_type": "markdown",
   "metadata": {},
   "source": [
    "# Biclustering CC\n",
    "Implementation proposed by Cheng & Church in Biclustering of Expression Data"
   ]
  },
  {
   "cell_type": "code",
   "execution_count": 3,
   "metadata": {},
   "outputs": [],
   "source": [
    "%matplotlib inline\n",
    "import numpy as np\n",
    "from matplotlib import pyplot as plt\n",
    "from sklearn.metrics import consensus_score"
   ]
  },
  {
   "cell_type": "code",
   "execution_count": 4,
   "metadata": {},
   "outputs": [
    {
     "data": {
      "text/latex": [
       "Define Mean Squeae Residue (MSR)$H(I,J)$:\n",
       "$$H(I,J) = \\frac{1}{|I||J|} \\sum_{i \\in I} \\sum_{j \\in J} (a_{ij} - a_{Ij} - a_{iJ} + a_{IJ})^2$$\n",
       "where:\n",
       "$$a_{iJ} = \\frac{1}{|J|} \\sum_{j \\in J} a_{ij}$$\n",
       "$$a_{Ij} = \\frac{1}{|I|} \\sum_{i \\in I} a_{ij}$$\n",
       "$$a_{IJ} = \\frac{1}{|I||J|} \\sum_{i \\in I, j \\in J} a_{ij}$$"
      ],
      "text/plain": [
       "<IPython.core.display.Latex object>"
      ]
     },
     "metadata": {},
     "output_type": "display_data"
    }
   ],
   "source": [
    "%%latex\n",
    "Define Mean Squeae Residue (MSR)$H(I,J)$:\n",
    "$$H(I,J) = \\frac{1}{|I||J|} \\sum_{i \\in I} \\sum_{j \\in J} (a_{ij} - a_{Ij} - a_{iJ} + a_{IJ})^2$$\n",
    "where:\n",
    "$$a_{iJ} = \\frac{1}{|J|} \\sum_{j \\in J} a_{ij}$$\n",
    "$$a_{Ij} = \\frac{1}{|I|} \\sum_{i \\in I} a_{ij}$$\n",
    "$$a_{IJ} = \\frac{1}{|I||J|} \\sum_{i \\in I, j \\in J} a_{ij}$$\n"
   ]
  },
  {
   "cell_type": "code",
   "execution_count": 5,
   "metadata": {},
   "outputs": [],
   "source": [
    "class MSR(object):\n",
    "    def __init__(self,data):\n",
    "        self.data=data\n",
    "        self.n, self.m = data.shape\n",
    "        self.aiJ = np.mean(data,axis=1)\n",
    "        self.aIj = np.mean(data,axis=0)\n",
    "        self.aIJ = np.mean(data)\n",
    "        self._H = None\n",
    "        self._HiJ = None\n",
    "        self._HIj = None\n",
    "    \n",
    "    @property\n",
    "    def H(self):\n",
    "        if self._H is None:\n",
    "            print (\"computing MSR ...\")\n",
    "            self._H = self._compute_H()\n",
    "            print (\"MSR VALUE \" + str(self._H))\n",
    "        return self._H\n",
    "        \n",
    "    @property\n",
    "    def HiJ(self):\n",
    "        if self._HiJ is None:\n",
    "            self._HiJ = self._compute_HiJ()\n",
    "        return self._HiJ\n",
    "    \n",
    "    @property\n",
    "    def HIj(self):\n",
    "        if self._HIj is None:\n",
    "            self._HIj = self._compute_HIj()\n",
    "        return self._HIj\n",
    "    \n",
    "    def _compute_H(self):\n",
    "        H = 0\n",
    "        for i in range(self.n):\n",
    "            for j in range(self.m):\n",
    "                H  += (self.data[i,j] - self.aIj[j] - self.aiJ[i] + self.aIJ ) ** 2\n",
    "        H *= 1.0/(self.n + self.m)       \n",
    "        return H\n",
    "    \n",
    "    def _compute_HiJ(self):\n",
    "        HiJ = np.zeros(self.n)\n",
    "        for i in range(self.n):\n",
    "            for j in range(self.m):\n",
    "                HiJ[i] += ( self.data[i,j] - self.aIj[j] - self.aiJ[i] + self.aIJ )**2\n",
    "        HiJ *= 1.0/self.m\n",
    "        return HiJ\n",
    "\n",
    "\n",
    "    def _compute_HIj(self):\n",
    "        HIj = np.zeros(self.m)\n",
    "        for j in range(self.m):\n",
    "            for i in range(self.n):\n",
    "                HIj[j] += ( self.data[i,j] - self.aIj[j] - self.aiJ[i] + self.aIJ )**2\n",
    "        HIj *= 1.0/self.n\n",
    "        return HIj\n",
    "\n",
    "\n",
    "        "
   ]
  },
  {
   "cell_type": "code",
   "execution_count": 6,
   "metadata": {},
   "outputs": [
    {
     "data": {
      "text/plain": [
       "array([[ 0.7714686 ,  0.38901062,  0.50071368,  0.95953905,  0.4719957 ],\n",
       "       [ 0.92451367,  0.13852356,  0.95933971,  0.25337161,  0.68681878],\n",
       "       [ 0.90676724,  0.10489289,  0.98191844,  0.61737656,  0.28549578],\n",
       "       [ 0.98601928,  0.20642548,  0.3342513 ,  0.79954132,  0.49948114],\n",
       "       [ 0.33105844,  0.49796544,  0.54729449,  0.64151175,  0.85167327]])"
      ]
     },
     "execution_count": 6,
     "metadata": {},
     "output_type": "execute_result"
    }
   ],
   "source": [
    "import random\n",
    "data  = np.random.random((5, 5))\n",
    "data"
   ]
  },
  {
   "cell_type": "code",
   "execution_count": 7,
   "metadata": {},
   "outputs": [
    {
     "name": "stdout",
     "output_type": "stream",
     "text": [
      "aIJ= 0.585878711288\n",
      "computing MSR ...\n",
      "MSR VALUE 0.118874651634\n",
      "H= 0.118874651634\n",
      "aiJ= [ 0.61854553  0.59251347  0.57929018  0.5651437   0.57390068]\n",
      "aIj= [ 0.78396545  0.2673636   0.66470352  0.65426805  0.55909293]\n"
     ]
    }
   ],
   "source": [
    "msr = MSR(data)\n",
    "print (\"aIJ= \" + str(msr.aIJ))\n",
    "print (\"H= \" + str(msr.H))\n",
    "print (\"aiJ= \" + str(msr.aiJ))\n",
    "print (\"aIj= \" + str(msr.aIj))"
   ]
  },
  {
   "cell_type": "code",
   "execution_count": 8,
   "metadata": {},
   "outputs": [],
   "source": [
    "def remove_unique_nodes(data, delta, I=None, J=None):\n",
    "    it = 1\n",
    "    \n",
    "    if I is None:\n",
    "        I = np.arange(len(data))\n",
    "    \n",
    "    if J is None:    \n",
    "        J = np.arange(len(data[0]))\n",
    "        \n",
    "    while True:\n",
    "        it += 1\n",
    "        \n",
    "        msr = MSR(data[I][:,J])\n",
    "        \n",
    "        if msr.H <delta:\n",
    "            break\n",
    "            \n",
    "        if len(I) == 1 or len(J) == 1:\n",
    "            break\n",
    "        \n",
    "        row_idx_to_remove = np.argmax(msr.HiJ)\n",
    "        col_idx_to_remove = np.argmax(msr.HIj)\n",
    "        \n",
    "        if msr.HiJ[row_idx_to_remove] > msr.HIj[col_idx_to_remove]:\n",
    "            print(\"removing row \" + str(row_idx_to_remove))\n",
    "            I = np.delete(I,row_idx_to_remove)\n",
    "            \n",
    "        else:\n",
    "            print(\"removing col \" + str(col_idx_to_remove))\n",
    "            J = np.delete(J, col_idx_to_remove)\n",
    "            \n",
    "    return (data[I][:,J],I,J)\n",
    "        \n",
    "    "
   ]
  },
  {
   "cell_type": "code",
   "execution_count": 9,
   "metadata": {},
   "outputs": [],
   "source": [
    "def remove_multiple_nodes(data, delta, alpha, I=None, J = None):\n",
    "    it = 1\n",
    "    if I is None:\n",
    "        I = np.arange(len(data))\n",
    "    \n",
    "    if J is None:    \n",
    "        J = np.arange(len(data[0]))\n",
    "        \n",
    "    removal_ocurred = True\n",
    "    \n",
    "    while True:\n",
    "        it += 1\n",
    "        \n",
    "        msr = MSR(data[I][:,J]) \n",
    "        \n",
    "        if msr.H <delta:\n",
    "            break\n",
    "        if len(I) == 1 or len(J) == 1:\n",
    "            break\n",
    "            \n",
    "        row_idxs_to_remove = np.nonzero(msr.HiJ > alpha*msr.H)[0]\n",
    "        \n",
    "        if len(row_idxs_to_remove) > 0:\n",
    "            I = np.delete(I, row_idxs_to_remove)\n",
    "        else:\n",
    "            removal_ocurred = False\n",
    "            \n",
    "        msr = MSR(data[I][:,J])\n",
    "        \n",
    "        cols_idxs_to_remove= np.nonzero(msr.HIj > alpha*msr.H)[0]\n",
    "        \n",
    "        if len(cols_idxs_to_remove) > 0:\n",
    "            J = np.delete(J, cols_idxs_to_remove)\n",
    "            \n",
    "        else:\n",
    "            if not removal_ocurred:\n",
    "                return remove_unique_nodes (data[I][:,J], delta, I, J)\n",
    "    \n",
    "    return (data[I][:,J],I,J)\n",
    "        \n",
    "        "
   ]
  },
  {
   "cell_type": "code",
   "execution_count": null,
   "metadata": {},
   "outputs": [],
   "source": [
    "\n"
   ]
  }
 ],
 "metadata": {
  "kernelspec": {
   "display_name": "Python 3",
   "language": "python",
   "name": "python3"
  },
  "language_info": {
   "codemirror_mode": {
    "name": "ipython",
    "version": 3
   },
   "file_extension": ".py",
   "mimetype": "text/x-python",
   "name": "python",
   "nbconvert_exporter": "python",
   "pygments_lexer": "ipython3",
   "version": "3.6.3"
  }
 },
 "nbformat": 4,
 "nbformat_minor": 2
}
