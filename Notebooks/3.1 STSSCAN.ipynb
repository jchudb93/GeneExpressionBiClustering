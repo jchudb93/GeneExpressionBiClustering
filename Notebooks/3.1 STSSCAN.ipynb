{
 "cells": [
  {
   "cell_type": "code",
   "execution_count": 1,
   "metadata": {},
   "outputs": [],
   "source": [
    "%matplotlib inline\n",
    "import pandas as pd\n",
    "import numpy as np\n",
    "import matplotlib.pyplot as plt\n",
    "import seaborn as sns\n",
    "import math\n",
    "import glob\n",
    "import multiprocessing\n",
    "\n",
    "from operator import attrgetter\n",
    "from sklearn.datasets import make_biclusters\n",
    "from sklearn.datasets import samples_generator as sg\n",
    "from sklearn.preprocessing import MinMaxScaler\n",
    "from sklearn.cluster import DBSCAN\n",
    "\n",
    "from metrics import *"
   ]
  },
  {
   "cell_type": "code",
   "execution_count": 2,
   "metadata": {},
   "outputs": [],
   "source": [
    "data = pd.read_csv('TestData/SimulatedDataCoherence/BiclusterABC_high.csv',header=None)\n",
    "scaler = MinMaxScaler()\n",
    "scaler.fit(data)\n",
    "data = scaler.transform(data)*2-1\n",
    "\n",
    "data = np.concatenate((data,data),axis=0)"
   ]
  },
  {
   "cell_type": "code",
   "execution_count": 4,
   "metadata": {},
   "outputs": [],
   "source": [
    "class Bicluster(object):\n",
    "    def __init__(self, rho=None, gamma=None, H = 0):\n",
    "        self.gamma = gamma\n",
    "        self.rho = rho\n",
    "        self.H = H\n",
    "    \n",
    "    def __str__(self):\n",
    "        return (\"rho: \\n\"+ str(self.rho) + \"\\ngamma: \\n\" + str(self.gamma) + \"\\nH: \\n \" + str(self.H))"
   ]
  },
  {
   "cell_type": "code",
   "execution_count": null,
   "metadata": {},
   "outputs": [],
   "source": [
    "class MapArray(object):\n",
    "    def __init__(self, map_array, flg_direction):\n",
    "        self._map_array = map_array\n",
    "        self._flg_direction = flg_direction\n",
    "        \n",
    "    @property\n",
    "    def map_array(self):\n",
    "        return self._map_array\n",
    "    \n",
    "    @property\n",
    "    def flg_direction(self):\n",
    "        return self._flg_direction"
   ]
  },
  {
   "cell_type": "code",
   "execution_count": 5,
   "metadata": {},
   "outputs": [],
   "source": [
    "def compute_objective_function(bicluster):\n",
    "    print(bicluster)"
   ]
  },
  {
   "cell_type": "code",
   "execution_count": null,
   "metadata": {},
   "outputs": [],
   "source": [
    "class STSSCAN(object):\n",
    "    \n",
    "    def __init__(self, data, n_clusters = 2):\n",
    "        assert data is not None, \"Empty data\"\n",
    "        self._data = data\n",
    "        self._I, self._J = self._data.shape\n",
    "        self._n_clusters = n_clusters\n",
    "        self._biclusters = list()\n",
    "        self._objective_function = 0\n",
    "    \n",
    "    @property\n",
    "    def n_clusters(self):\n",
    "        return self._n_clusters\n",
    "    \n",
    "    @property\n",
    "    def data(self):\n",
    "        return self._D\n",
    "    \n",
    "    @property\n",
    "    def labels(self):\n",
    "        return _labels\n",
    "            \n",
    "    def fit(self):\n",
    "        n_iterations = 0\n",
    "        n_clusters = 0\n",
    "        initial_bicluster = Bicluster(np.arange(self._I), np.arange(self._J))\n",
    "        self._biclusters.append()\n",
    "        for n_iterations in range(0,n_clusters):\n",
    "            self._split_biclusters()\n",
    "                \n",
    "    def _split_biclusters(self):\n",
    "        \n",
    "        tmp_bicluster_delta = 0\n",
    "        max_delta = 0\n",
    "        position = 0\n",
    "        best_position = 0\n",
    "        bisection = MapArray()\n",
    "        for bicluster in self._labels:        \n",
    "            tmp_bicluster_delta = compute_bicluster_coherence(bicluster, bisection)\n",
    "            if(tmp_bicluster_delta >= max_delta):\n",
    "                max_delta = tmp_bicluster_delta\n",
    "                best_bicluster = bicluster\n",
    "                best_position = position\n",
    "            position += 1\n",
    "        self._add_bicluster(best_bicluster, best_position)\n",
    "    \n",
    "    def _add_bicluster(self, best_bicluster, best_position):\n",
    "        \n",
    "        "
   ]
  },
  {
   "cell_type": "code",
   "execution_count": null,
   "metadata": {},
   "outputs": [],
   "source": []
  }
 ],
 "metadata": {
  "kernelspec": {
   "display_name": "Python 3",
   "language": "python",
   "name": "python3"
  },
  "language_info": {
   "codemirror_mode": {
    "name": "ipython",
    "version": 3
   },
   "file_extension": ".py",
   "mimetype": "text/x-python",
   "name": "python",
   "nbconvert_exporter": "python",
   "pygments_lexer": "ipython3",
   "version": "3.6.3"
  }
 },
 "nbformat": 4,
 "nbformat_minor": 2
}
