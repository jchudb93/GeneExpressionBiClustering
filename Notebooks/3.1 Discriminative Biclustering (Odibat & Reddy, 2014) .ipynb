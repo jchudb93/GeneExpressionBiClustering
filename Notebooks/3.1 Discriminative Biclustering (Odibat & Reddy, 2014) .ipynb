{
 "cells": [
  {
   "cell_type": "markdown",
   "metadata": {},
   "source": [
    "# Discriminative Biclustering Algorithm \n",
    "Proposed by Odibat & Reddy, 2014 in **Efficient mining of discriminative co-clusters from gene\n",
    "expression data**"
   ]
  },
  {
   "cell_type": "code",
   "execution_count": 2,
   "metadata": {},
   "outputs": [],
   "source": [
    "%load_ext pycodestyle_magic"
   ]
  },
  {
   "cell_type": "code",
   "execution_count": 3,
   "metadata": {},
   "outputs": [],
   "source": [
    "%matplotlib inline\n",
    "import numpy as np\n",
    "import math\n",
    "from matplotlib import pyplot as plt\n",
    "from sklearn.metrics import consensus_score"
   ]
  },
  {
   "cell_type": "code",
   "execution_count": 4,
   "metadata": {},
   "outputs": [],
   "source": [
    "# !pip install pycodestyle\n",
    "# !pip install pycodestyle_magic"
   ]
  },
  {
   "cell_type": "markdown",
   "metadata": {},
   "source": [
    "### Definition 1 - Coherence Measure H"
   ]
  },
  {
   "cell_type": "code",
   "execution_count": 5,
   "metadata": {},
   "outputs": [],
   "source": [
    "#%pycodestyle\n",
    "class CoherenceMeasure(object):\n",
    "    def __init__(self, data):\n",
    "        self.data = data\n",
    "        self.n, self.m = data.shape\n",
    "        self.xiJ = np.mean(data, axis=1)\n",
    "        self.xIj = np.mean(data, axis=0)\n",
    "        self.xIJ = np.mean(data)\n",
    "        self._H = None\n",
    "\n",
    "    @property\n",
    "    def H(self):\n",
    "        if self._H is None:\n",
    "            print(\"Computing coherence measure\")\n",
    "            self._H = self._compute_H()\n",
    "            print(\"H value: \" + str(self._H))\n",
    "        return self._H\n",
    "    \n",
    "    def _compute_H(self):\n",
    "        H = 0\n",
    "        for i in range(self.n):\n",
    "            for j in range(self.m):\n",
    "                H += (self.data[i, j] - self.xIj[j] -\n",
    "                      self.xiJ[i] + self.xIJ)**2\n",
    "        H *= 1.0/math.fabs(self.m*self.n)\n",
    "        H = 1 - H\n",
    "        return H"
   ]
  },
  {
   "cell_type": "markdown",
   "metadata": {},
   "source": [
    "#### Loading test data for Coherence Measure"
   ]
  },
  {
   "cell_type": "code",
   "execution_count": 6,
   "metadata": {},
   "outputs": [
    {
     "name": "stdout",
     "output_type": "stream",
     "text": [
      "[[ 0.99292617  0.46054783  0.45334732 ...,  0.54637177  0.34975704\n",
      "   0.03320745]\n",
      " [ 0.4967808   0.92398397  0.850448   ...,  0.8214379   0.99155833\n",
      "   0.44774937]\n",
      " [ 0.60443283  0.04417372  0.73247088 ...,  0.66486059  0.44419794\n",
      "   0.35091846]\n",
      " ..., \n",
      " [ 0.83547912  0.1982444   0.91010615 ...,  0.63991897  0.3788043\n",
      "   0.3138958 ]\n",
      " [ 0.36928451  0.08344092  0.87638898 ...,  0.9969633   0.40814035\n",
      "   0.36725078]\n",
      " [ 0.48100482  0.85805674  0.31450355 ...,  0.10528504  0.85085786\n",
      "   0.72156388]]\n"
     ]
    }
   ],
   "source": [
    "import random\n",
    "data = np.random.random((50, 50))\n",
    "print(data)"
   ]
  },
  {
   "cell_type": "code",
   "execution_count": 7,
   "metadata": {},
   "outputs": [
    {
     "name": "stdout",
     "output_type": "stream",
     "text": [
      "Computing coherence measure\n",
      "H value: 0.920836263328\n",
      "H = 0.920836263328\n"
     ]
    }
   ],
   "source": [
    "# Testing Coherence\n",
    "coherence_measure = CoherenceMeasure(data)\n",
    "print(\"H = \" + str(coherence_measure.H))"
   ]
  },
  {
   "cell_type": "markdown",
   "metadata": {},
   "source": [
    "### Definition 2 - Positive and negative correlations"
   ]
  },
  {
   "cell_type": "code",
   "execution_count": 8,
   "metadata": {},
   "outputs": [],
   "source": [
    "# input: rows x and y and J columns\n",
    "# output: positive and negative correlations\n",
    "\n",
    "\n",
    "class PositiveNegativeCorrelation(object):\n",
    "    def __init__(self, x, y, J):\n",
    "        self._x = x\n",
    "        self._y = y\n",
    "        self._J = J\n",
    "        self._x_mean = np.mean(x)\n",
    "        self._y_mean = np.mean(y)\n",
    "        self._H_pos = None\n",
    "        self._H_neg = None\n",
    "\n",
    "    @property\n",
    "    def H_pos(self):\n",
    "        if self._H_pos is None:\n",
    "            # print(\"Computing H positive...\")\n",
    "            self._H_pos = self._compute_H_pos()\n",
    "            # print(\"H positive value: \" + str(self._H_pos))\n",
    "        return self._H_pos\n",
    "\n",
    "    @property\n",
    "    def H_neg(self):\n",
    "        if self._H_neg is None:\n",
    "            # print(\"Computing H negative...\")\n",
    "            self._H_neg = self._compute_H_neg()\n",
    "            # print(\"H negative value: \" + str(self._H_neg))\n",
    "        return self._H_neg\n",
    "\n",
    "    def _compute_H_pos(self):\n",
    "        H_pos = 0\n",
    "        for j in range(self._J):\n",
    "            aux = (((self._x[j] - self._x_mean) -\n",
    "                    (self._y[j] - self._y_mean))/2.0)**2\n",
    "            H_pos += aux\n",
    "        H_pos *= 1.0/math.fabs(self._J)\n",
    "        H_pos = 1 - H_pos\n",
    "        return H_pos\n",
    "\n",
    "    def _compute_H_neg(self):\n",
    "        H_neg = 0\n",
    "        for j in range(self._J):\n",
    "            aux = (((self._x[j] - self._x_mean) +\n",
    "                    (self._y[j] - self._y_mean))/2.0)**2\n",
    "            H_neg += aux\n",
    "        H_neg *= 1.0/math.fabs(self._J)\n",
    "        H_neg = 1 - H_neg\n",
    "        return H_neg"
   ]
  },
  {
   "cell_type": "markdown",
   "metadata": {},
   "source": [
    "#### Loading test data for positive and negative correlation"
   ]
  },
  {
   "cell_type": "code",
   "execution_count": 9,
   "metadata": {},
   "outputs": [
    {
     "name": "stdout",
     "output_type": "stream",
     "text": [
      "Row x [ 0.35116499  0.61168243  0.54373779  0.24584837  0.53652892]\n",
      "Row y [ 0.44920898  0.25643547  0.79416032  0.92575588  0.77734419]\n",
      "J value 5\n"
     ]
    }
   ],
   "source": [
    "x = np.random.random((5))\n",
    "y = np.random.random((5))\n",
    "J = 5\n",
    "print(\"Row x \" + str(x))\n",
    "print(\"Row y \" + str(y))\n",
    "print(\"J value \" + str(J))"
   ]
  },
  {
   "cell_type": "code",
   "execution_count": 10,
   "metadata": {},
   "outputs": [
    {
     "name": "stdout",
     "output_type": "stream",
     "text": [
      "H positive 0.972413371625\n",
      "\n",
      "H negative 0.987450189092\n"
     ]
    }
   ],
   "source": [
    "# Testing correlation\n",
    "positive_negative_correlation = PositiveNegativeCorrelation(x,y,J)\n",
    "print(\"H positive \" + str(positive_negative_correlation.H_pos))\n",
    "print()\n",
    "print(\"H negative \" + str(positive_negative_correlation.H_neg))"
   ]
  },
  {
   "cell_type": "markdown",
   "metadata": {},
   "source": [
    "### Definition 3 - Pair-based coherence"
   ]
  },
  {
   "cell_type": "code",
   "execution_count": 193,
   "metadata": {},
   "outputs": [],
   "source": [
    "#%%pycodestyle\n",
    "\n",
    "# input: co-cluster X of I rows and J columns\n",
    "# output: paired-based coherence\n",
    "\n",
    "\n",
    "class PairBasedCoherence(object):\n",
    "    def __init__(self, X):\n",
    "        self._X = np.array(X)\n",
    "        self._I, self._J = X.shape\n",
    "        self._HP = None\n",
    "\n",
    "    @property\n",
    "    def HP(self):\n",
    "        if self._HP is None:\n",
    "            # print(\"Calculating Pair based coherence..\")\n",
    "            self._HP = self._compute_HP_()\n",
    "            print(\"Paired based coherence value: \" + str(self._HP))\n",
    "        return self._HP\n",
    "\n",
    "    def _compute_HP_(self):\n",
    "        HP = 0\n",
    "        for i in range(self._I):\n",
    "            for j in range(i+1, self._I):\n",
    "                if (i==j): \n",
    "                    break\n",
    "                x = self._X[i]\n",
    "                y = self._X[j]\n",
    "                correlation = PositiveNegativeCorrelation(x, y,self._J)\n",
    "                # H0 = correlation.H_pos + correlation.H_neg\n",
    "                H0 = max(correlation.H_pos,correlation.H_neg)\n",
    "                HP += H0\n",
    "        HP *= math.fabs(2.0)/(math.fabs(self._I)*(math.fabs(self._I)-1))\n",
    "        return HP"
   ]
  },
  {
   "cell_type": "markdown",
   "metadata": {},
   "source": [
    "#### Loading test data for pair-based coherence"
   ]
  },
  {
   "cell_type": "code",
   "execution_count": 171,
   "metadata": {},
   "outputs": [
    {
     "name": "stdout",
     "output_type": "stream",
     "text": [
      "[[ 0.35201519  0.66624139  0.47324458 ...,  0.28920509  0.48218676\n",
      "   0.19888243]\n",
      " [ 0.99267477  0.85729539  0.58811335 ...,  0.84362019  0.47761887\n",
      "   0.7530935 ]\n",
      " [ 0.7929525   0.25019647  0.78238322 ...,  0.90085513  0.41874252\n",
      "   0.8099857 ]\n",
      " ..., \n",
      " [ 0.46498502  0.02534155  0.5364507  ...,  0.12980135  0.24798783\n",
      "   0.40901146]\n",
      " [ 0.054231    0.88829901  0.24406213 ...,  0.8294805   0.24632265\n",
      "   0.05511035]\n",
      " [ 0.66915714  0.17731626  0.49298928 ...,  0.5113613   0.52655005\n",
      "   0.49508702]]\n"
     ]
    }
   ],
   "source": [
    "data = np.random.random((50, 50))\n",
    "print(data)"
   ]
  },
  {
   "cell_type": "code",
   "execution_count": 172,
   "metadata": {},
   "outputs": [
    {
     "name": "stdout",
     "output_type": "stream",
     "text": [
      "Calculating Pair based coherence..\n",
      "Paired based coherence value: 1.91836331183\n",
      "H value 1.91836331183\n"
     ]
    }
   ],
   "source": [
    "pair_based_coherence = PairBasedCoherence(data)\n",
    "print(\"H value \" + str(pair_based_coherence.HP))"
   ]
  },
  {
   "cell_type": "markdown",
   "metadata": {},
   "source": [
    "### Coherence for a new z in in X"
   ]
  },
  {
   "cell_type": "code",
   "execution_count": 14,
   "metadata": {},
   "outputs": [
    {
     "data": {
      "text/latex": [
       "Define H for a new term 'z' in X\n",
       "$$\n",
       "H_{1}(I,J,X,z) =H_{0}(I,J,X) \\cdot \\frac{(I-1)}{(I+1)} + \\frac{|2|}{(I)(I+1)} \\cdot \\sum_{x \\epsilon X} {h(x,z,J)}\n",
       "$$"
      ],
      "text/plain": [
       "<IPython.core.display.Latex object>"
      ]
     },
     "metadata": {},
     "output_type": "display_data"
    }
   ],
   "source": [
    "%%latex\n",
    "Define H for a new term 'z' in X\n",
    "$$\n",
    "H_{1}(I,J,X,z) =H_{0}(I,J,X) \\cdot \\frac{(I-1)}{(I+1)} + \\frac{|2|}{(I)(I+1)} \\cdot \\sum_{x \\epsilon X} {h(x,z,J)}\n",
    "$$"
   ]
  },
  {
   "cell_type": "markdown",
   "metadata": {},
   "source": [
    "### RAPOOC\n",
    "\n",
    "This algorithm is proposed to efficiently extract the most coherent and large co-clusters that area arbitrarily positioned in the data matrix.\n",
    "\n"
   ]
  },
  {
   "cell_type": "markdown",
   "metadata": {},
   "source": [
    "#### Algorithm 1 RAPOOC (D,k,l,K)\n",
    "Input: Data matrix D, number of row clusters (k), number of column clusters (l), number of optimized co-clusters (K)\n",
    "\n",
    "Output: A set of K co-clusters({X})"
   ]
  },
  {
   "cell_type": "code",
   "execution_count": 267,
   "metadata": {},
   "outputs": [],
   "source": [
    "# https://github.com/munikarmanish/kmeans/blob/master/kmeans.py\n",
    "\n",
    "\n",
    "class BisectingClusterer(object):\n",
    "    def __init__(self, data):\n",
    "        if data is not None:\n",
    "            self._data = np.array(data)\n",
    "            self._I, self._J = self._data.shape\n",
    "        else:\n",
    "            print(\"Empty data\")\n",
    "    \n",
    "    @property\n",
    "    def centroids(self):\n",
    "        return self._centroids\n",
    "\n",
    "    def fit(self):\n",
    "        self._centroids = self._compute_centroids_()\n",
    "        bisecting_indices = self._bisect_clusters_(self._centroids)\n",
    "        return bisecting_indices\n",
    "    \n",
    "    def _compute_centroids_(self):\n",
    "        max_correlation = 0\n",
    "        centroids = [0,0]\n",
    "        for i in range(self._I):\n",
    "            for j in range(i+1, self._I):\n",
    "                if (i == j):\n",
    "                    break\n",
    "                correlation = PositiveNegativeCorrelation(self._data[i],\n",
    "                                                          self._data[j],\n",
    "                                                          self._J).H_neg\n",
    "                if(correlation > max_correlation):\n",
    "                    max_correlation = correlation\n",
    "                    centroids[0] = i\n",
    "                    centroids[1] = j\n",
    "        return centroids\n",
    "\n",
    "    def _bisect_clusters_(self, centroids):\n",
    "        cluster_indices = np.zeros(self._I)\n",
    "        for i in range(self._I):\n",
    "            correlation0 = PositiveNegativeCorrelation(\n",
    "                self._data[centroids[0]], self._data[i],self._J).H_pos\n",
    "            correlation1 = PositiveNegativeCorrelation(\n",
    "                self._data[centroids[1]], self._data[i],self._J).H_pos\n",
    "            if(correlation0 <= correlation1):\n",
    "                cluster_indices[i] = 1\n",
    "        return cluster_indices\n",
    "    "
   ]
  },
  {
   "cell_type": "code",
   "execution_count": 276,
   "metadata": {},
   "outputs": [],
   "source": [
    "#%%pycodestyle\n",
    "\n",
    "\n",
    "class Rapooc(object):\n",
    "    def __init__(self, D, k, l, K):\n",
    "        self._D = np.array(D)\n",
    "        self._k = k\n",
    "        self._l = l\n",
    "        self._K = K\n",
    "        self._rho = np.ones(D.shape[0])\n",
    "        self._gamma = np.ones(D.shape[1])\n",
    "\n",
    "    def initialize(self):\n",
    "        i = 1\n",
    "        j = 1\n",
    "        while (i < self._k or j < self._l):\n",
    "            if i < self._k:\n",
    "                i += 1\n",
    "                print('\\n0. argmin\\n')\n",
    "                alpha = self._argmin_H_(self._rho, self._gamma,i)\n",
    "                print('\\n4. alpha: ' + str(alpha) + '\\n ======= \\n')\n",
    "                print('% debug % '+ str(len(self._D[np.where(self._rho==alpha)])))\n",
    "                self._bisect_partitions_(self._D[np.where(self._rho==alpha)], self._rho, alpha, i)\n",
    "            '''\n",
    "            if j < l:\n",
    "                j += 1\n",
    "                beta = self._argmin_H(self._rho,self._gaamma)\n",
    "                self._bisect_partitions_(self._D[np.where(self._rho==alpha)],np.where(self._rho==alpha),i)\n",
    "            '''\n",
    "            j += 1 \n",
    "            \n",
    "    def _argmin_H_(self, row_co_cluster, col_co_cluster,num_coclusters,option='row'):\n",
    "        if (option=='row'):\n",
    "            data = self._D\n",
    "        else:\n",
    "            data = self._D.T\n",
    "        h_min = math.inf\n",
    "        min_cocluster = 1\n",
    "        print('1. calculating arg min\\n')\n",
    "        print('2. coclusters: ' + str(np.max(np.int64(row_co_cluster))))\n",
    "        for i in range(1, np.max(np.int64(row_co_cluster))):\n",
    "            coherence = PairBasedCoherence(\n",
    "                data[np.where(row_co_cluster == i)]).HP # self._D[np.where(row_co_cluster == i)]\n",
    "            if (coherence <= h_min):\n",
    "                h_min = coherence\n",
    "                min_cocluster = i\n",
    "        print ('3. coherence: ' + str(h_min) + '\\n')\n",
    "        return min_cocluster\n",
    "\n",
    "    def _bisect_partitions_ (self, data, mapping_array, cluster_to_replace, new_cluster_index):\n",
    "        clusterer = BisectingClusterer(data)\n",
    "        bisected_map = clusterer.fit()\n",
    "        bisected_map_index = 0\n",
    "        for i in range(0,cluster_to_replace):\n",
    "            if (mapping_array[i] == cluster_to_replace): \n",
    "                if (bisected_map[bisected_map_index] == 1):\n",
    "                    mapping_array[i] = new_cluster_index\n",
    "                new_cluster_index += 1"
   ]
  },
  {
   "cell_type": "code",
   "execution_count": 277,
   "metadata": {},
   "outputs": [
    {
     "data": {
      "text/html": [
       "<div>\n",
       "<style>\n",
       "    .dataframe thead tr:only-child th {\n",
       "        text-align: right;\n",
       "    }\n",
       "\n",
       "    .dataframe thead th {\n",
       "        text-align: left;\n",
       "    }\n",
       "\n",
       "    .dataframe tbody tr th {\n",
       "        vertical-align: top;\n",
       "    }\n",
       "</style>\n",
       "<table border=\"1\" class=\"dataframe\">\n",
       "  <thead>\n",
       "    <tr style=\"text-align: right;\">\n",
       "      <th></th>\n",
       "      <th>0</th>\n",
       "      <th>1</th>\n",
       "      <th>2</th>\n",
       "      <th>3</th>\n",
       "      <th>4</th>\n",
       "      <th>5</th>\n",
       "      <th>6</th>\n",
       "    </tr>\n",
       "  </thead>\n",
       "  <tbody>\n",
       "    <tr>\n",
       "      <th>0</th>\n",
       "      <td>0.335750</td>\n",
       "      <td>0.087721</td>\n",
       "      <td>0.48434</td>\n",
       "      <td>0.70389</td>\n",
       "      <td>0.28692</td>\n",
       "      <td>0.317500</td>\n",
       "      <td>0.28815</td>\n",
       "    </tr>\n",
       "    <tr>\n",
       "      <th>1</th>\n",
       "      <td>0.318860</td>\n",
       "      <td>0.132890</td>\n",
       "      <td>0.72690</td>\n",
       "      <td>0.54530</td>\n",
       "      <td>0.48470</td>\n",
       "      <td>0.126590</td>\n",
       "      <td>0.48244</td>\n",
       "    </tr>\n",
       "    <tr>\n",
       "      <th>2</th>\n",
       "      <td>0.148530</td>\n",
       "      <td>0.131420</td>\n",
       "      <td>0.69661</td>\n",
       "      <td>0.61358</td>\n",
       "      <td>0.26988</td>\n",
       "      <td>0.074009</td>\n",
       "      <td>0.48441</td>\n",
       "    </tr>\n",
       "    <tr>\n",
       "      <th>3</th>\n",
       "      <td>0.139390</td>\n",
       "      <td>0.016388</td>\n",
       "      <td>0.38919</td>\n",
       "      <td>0.92711</td>\n",
       "      <td>0.57897</td>\n",
       "      <td>0.001382</td>\n",
       "      <td>0.49239</td>\n",
       "    </tr>\n",
       "    <tr>\n",
       "      <th>4</th>\n",
       "      <td>0.085258</td>\n",
       "      <td>0.192790</td>\n",
       "      <td>0.40184</td>\n",
       "      <td>0.80296</td>\n",
       "      <td>0.60293</td>\n",
       "      <td>0.004399</td>\n",
       "      <td>0.21951</td>\n",
       "    </tr>\n",
       "  </tbody>\n",
       "</table>\n",
       "</div>"
      ],
      "text/plain": [
       "          0         1        2        3        4         5        6\n",
       "0  0.335750  0.087721  0.48434  0.70389  0.28692  0.317500  0.28815\n",
       "1  0.318860  0.132890  0.72690  0.54530  0.48470  0.126590  0.48244\n",
       "2  0.148530  0.131420  0.69661  0.61358  0.26988  0.074009  0.48441\n",
       "3  0.139390  0.016388  0.38919  0.92711  0.57897  0.001382  0.49239\n",
       "4  0.085258  0.192790  0.40184  0.80296  0.60293  0.004399  0.21951"
      ]
     },
     "execution_count": 277,
     "metadata": {},
     "output_type": "execute_result"
    }
   ],
   "source": [
    "import pandas as pd\n",
    "import glob as glob\n",
    "\n",
    "\n",
    "data = pd.read_csv('TestData/SimulatedDataCoherence/LowCoherenceMix.csv',header=None)\n",
    "data.head()"
   ]
  },
  {
   "cell_type": "code",
   "execution_count": 278,
   "metadata": {},
   "outputs": [
    {
     "name": "stdout",
     "output_type": "stream",
     "text": [
      "\n",
      "0. argmin\n",
      "\n",
      "1. calculating arg min\n",
      "\n",
      "2. coclusters: 1\n",
      "3. coherence: inf\n",
      "\n",
      "\n",
      "4. alpha: 1\n",
      " ======= \n",
      "\n",
      "% debug % 200\n",
      "\n",
      "0. argmin\n",
      "\n",
      "1. calculating arg min\n",
      "\n",
      "2. coclusters: 1\n",
      "3. coherence: inf\n",
      "\n",
      "\n",
      "4. alpha: 1\n",
      " ======= \n",
      "\n",
      "% debug % 200\n",
      "\n",
      "0. argmin\n",
      "\n",
      "1. calculating arg min\n",
      "\n",
      "2. coclusters: 1\n",
      "3. coherence: inf\n",
      "\n",
      "\n",
      "4. alpha: 1\n",
      " ======= \n",
      "\n",
      "% debug % 200\n"
     ]
    }
   ],
   "source": [
    "rapooc = Rapooc(data,4,4,2)\n",
    "rapooc.initialize()"
   ]
  },
  {
   "cell_type": "code",
   "execution_count": 204,
   "metadata": {},
   "outputs": [
    {
     "data": {
      "text/plain": [
       "array([ 1.,  1.,  1.,  0.,  0.,  1.,  1.])"
      ]
     },
     "execution_count": 204,
     "metadata": {},
     "output_type": "execute_result"
    }
   ],
   "source": [
    "clusterer = BisectingClusterer(data.T)\n",
    "clusterer.fit()"
   ]
  },
  {
   "cell_type": "code",
   "execution_count": 107,
   "metadata": {},
   "outputs": [
    {
     "data": {
      "text/plain": [
       "['TestData/SimulatedDataCoherence/LowCoherence.csv',\n",
       " 'TestData/SimulatedDataCoherence/HighCoherenceMix.csv',\n",
       " 'TestData/SimulatedDataCoherence/MidCoherence.csv',\n",
       " 'TestData/SimulatedDataCoherence/RandData.csv',\n",
       " 'TestData/SimulatedDataCoherence/HighCoherence.csv',\n",
       " 'TestData/SimulatedDataCoherence/LowCoherenceMix.csv',\n",
       " 'TestData/SimulatedDataCoherence/MidCoherenceMix.csv']"
      ]
     },
     "execution_count": 107,
     "metadata": {},
     "output_type": "execute_result"
    }
   ],
   "source": [
    "import glob\n",
    "glob.glob('TestData/SimulatedDataCoherence/*')"
   ]
  },
  {
   "cell_type": "code",
   "execution_count": 225,
   "metadata": {},
   "outputs": [],
   "source": [
    "d = np.array(np.array([0,1,2,3,3,3,6,7,8]))\n",
    "a = d[np.where(d==3)]"
   ]
  },
  {
   "cell_type": "code",
   "execution_count": 226,
   "metadata": {},
   "outputs": [
    {
     "data": {
      "text/plain": [
       "array([3, 3, 3])"
      ]
     },
     "execution_count": 226,
     "metadata": {},
     "output_type": "execute_result"
    }
   ],
   "source": [
    "a"
   ]
  },
  {
   "cell_type": "code",
   "execution_count": 227,
   "metadata": {},
   "outputs": [
    {
     "data": {
      "text/plain": [
       "array([0, 1, 2, 3, 3, 3, 6, 7, 8])"
      ]
     },
     "execution_count": 227,
     "metadata": {},
     "output_type": "execute_result"
    }
   ],
   "source": [
    "d"
   ]
  },
  {
   "cell_type": "code",
   "execution_count": null,
   "metadata": {},
   "outputs": [],
   "source": []
  }
 ],
 "metadata": {
  "kernelspec": {
   "display_name": "Python 3",
   "language": "python",
   "name": "python3"
  },
  "language_info": {
   "codemirror_mode": {
    "name": "ipython",
    "version": 3
   },
   "file_extension": ".py",
   "mimetype": "text/x-python",
   "name": "python",
   "nbconvert_exporter": "python",
   "pygments_lexer": "ipython3",
   "version": "3.6.3"
  }
 },
 "nbformat": 4,
 "nbformat_minor": 2
}
