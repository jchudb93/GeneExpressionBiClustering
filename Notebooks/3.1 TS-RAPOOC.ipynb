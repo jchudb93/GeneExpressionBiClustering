{
 "cells": [
  {
   "cell_type": "markdown",
   "metadata": {},
   "source": [
    "# TS-RAPOOC"
   ]
  },
  {
   "cell_type": "markdown",
   "metadata": {},
   "source": [
    "### Based on RAPOOC algorithm proposed by Omar Odibat (2014)"
   ]
  },
  {
   "cell_type": "markdown",
   "metadata": {},
   "source": [
    "- Step 1: Devide rows into two separate parts\n",
    "- Step 2: Decide which part will be devided among all generated clusters\n",
    "- Step 3: Devide the chosen cluster in columns or rows, the one that has the highest coherence\n",
    "- Step 4: Check the number of clusters generated this way, if the number of clusters is reached, break, else return to step 2"
   ]
  },
  {
   "cell_type": "code",
   "execution_count": 1,
   "metadata": {},
   "outputs": [],
   "source": [
    "%matplotlib inline\n",
    "import pandas as pd\n",
    "import numpy as np\n",
    "import matplotlib.pyplot as plt\n",
    "import seaborn as sns\n",
    "import math\n",
    "import glob\n",
    "import multiprocessing\n",
    "from operator import attrgetter\n",
    "\n",
    "from metrics import *\n",
    "from clusterer import *"
   ]
  },
  {
   "cell_type": "code",
   "execution_count": 2,
   "metadata": {},
   "outputs": [
    {
     "data": {
      "text/latex": [
       "Define H for a new term 'z' in X\n",
       "$$\n",
       "H_{1}(I,J,X,z) =H_{0}(I,J,X) \\cdot \\frac{(I-1)}{(I+1)} + \\frac{|2|}{(I)(I+1)} \\cdot \\sum_{x \\epsilon X} {h(x,z,J)}\n",
       "$$"
      ],
      "text/plain": [
       "<IPython.core.display.Latex object>"
      ]
     },
     "metadata": {},
     "output_type": "display_data"
    }
   ],
   "source": [
    "%%latex\n",
    "Define H for a new term 'z' in X\n",
    "$$\n",
    "H_{1}(I,J,X,z) =H_{0}(I,J,X) \\cdot \\frac{(I-1)}{(I+1)} + \\frac{|2|}{(I)(I+1)} \\cdot \\sum_{x \\epsilon X} {h(x,z,J)}\n",
    "$$"
   ]
  },
  {
   "cell_type": "code",
   "execution_count": 27,
   "metadata": {},
   "outputs": [],
   "source": [
    "class ClusterMaps(object):\n",
    "    def __init__(self, rho=None, gamma=None, H = 0):\n",
    "        self.gamma = gamma\n",
    "        self.rho = rho\n",
    "        self.H = H\n",
    "    \n",
    "    def __str__(self):\n",
    "        return (\"rho \"+ str(self.rho) + \" gamma \" + str(self.gamma) + \" H \" + str(self.H))"
   ]
  },
  {
   "cell_type": "code",
   "execution_count": null,
   "metadata": {},
   "outputs": [],
   "source": [
    "def "
   ]
  },
  {
   "cell_type": "code",
   "execution_count": 120,
   "metadata": {},
   "outputs": [],
   "source": [
    "class TsRapooc(object):\n",
    "    def __init__(self, data, n_clusters = 3):\n",
    "        self._D = np.array(data)\n",
    "        self._n_clusters = n_clusters\n",
    "        self._labels = list()\n",
    "        self._I, self._J = data.shape\n",
    "        \n",
    "    @property\n",
    "    def n_clusters(self):\n",
    "        return self._n_clusters\n",
    "    \n",
    "    @property\n",
    "    def data(self):\n",
    "        return self._D\n",
    "    \n",
    "    @property\n",
    "    def labels(self):\n",
    "        return _labels\n",
    "    \n",
    "    def fit(self):\n",
    "        n_iteration = 0\n",
    "        n_clusters = 0\n",
    "        for n_iteration in range(0, self._n_clusters):\n",
    "            if n_iteration == 0:\n",
    "                initial_partition = BisectingClusterer(data).fit_rows()\n",
    "                self._labels.append(ClusterMaps(np.where(initial_partition==0)[0],\n",
    "                                   np.arange(self._J),\n",
    "                                    PairBasedCoherence(self._D[np.where(initial_partition==0)[0]]).HP))\n",
    "         \n",
    "                \n",
    "                self._labels.append(ClusterMaps(np.where(initial_partition==1)[0],\n",
    "                                   np.arange(self._J),\n",
    "                                   PairBasedCoherence(self._D[np.where(initial_partition==1)[0]]).HP))\n",
    "            else:\n",
    "                self._partition()\n",
    "        \n",
    "    def _partition(self):\n",
    "        least_coherent = self._find_least_coherent()\n",
    "        lowest_cluster = self._D[np.ix_(least_coherent.rho,least_coherent.gamma)]\n",
    "        self._bisect_bicluster(lowest_cluster, least_coherent)\n",
    "    \n",
    "    def _find_least_coherent(self):\n",
    "        return self._labels[self._labels.index(min(self._labels,key=attrgetter('H')))]\n",
    "    \n",
    "    def _bisect_bicluster(self,cluster, cluster_node):\n",
    "        #which of the biclusters maximize coherence\n",
    "        rows_map = BisectingClusterer(cluster).fit_rows()\n",
    "        cols_map = BisectingClusterer(cluster).fit_cols()\n",
    "        \n",
    "        flg_alls= 'none'\n",
    "        \n",
    "        if(np.all(cols_map) or np.all(rows_map)):\n",
    "            if(np.all(rows_map)):\n",
    "                flg_alls = 'cols'\n",
    "            else:\n",
    "                flg_alls = 'rows'\n",
    "            \n",
    "        print(flg_alls)\n",
    "        \n",
    "        if(flg_alls == 'none'):\n",
    "            print(cluster_node)\n",
    "            print(str(rows_map))\n",
    "            print(str(cols_map))\n",
    "        elif (flg_alls == 'cols'):\n",
    "            print(cluster_node)\n",
    "            print(str(rows_map))\n",
    "            print(str(cols_map))\n",
    "        else:\n",
    "            print()\n",
    "            print(np.flatnonzero(rows_map == 0))\n",
    "            print(cluster_node.rho[np.flatnonzero(rows_map == 0)])\n",
    "            print(str(rows_map))\n",
    "            print(str(cols_map))\n",
    "                        "
   ]
  },
  {
   "cell_type": "code",
   "execution_count": 121,
   "metadata": {},
   "outputs": [
    {
     "name": "stdout",
     "output_type": "stream",
     "text": [
      "rows\n",
      "\n",
      "[ 0  2  3  4  7  9 11 12 13 17 19 20 21 23 27 30 35 36 37 39 41 42 45 46 47\n",
      " 49 50 51 52]\n",
      "node\n",
      "[ 0  2  3  4  8 11 13 14 15 25 27 28 31 34 43 49 54 56 58 67 71 73 78 79 80\n",
      " 85 86 87 92]\n",
      "[ 0.  1.  0.  0.  0.  1.  1.  0.  1.  0.  1.  0.  0.  0.  1.  1.  1.  0.\n",
      "  1.  0.  0.  0.  1.  0.  1.  1.  1.  0.  1.  1.  0.  1.  1.  1.  1.  0.\n",
      "  0.  0.  1.  0.  1.  0.  0.  1.  1.  0.  0.  0.  1.  0.  0.  0.  0.  1.\n",
      "  1.  1.]\n",
      "[ 1.  1.  1.  1.  1.  1.  1.  1.  1.  1.  1.]\n",
      "rows\n",
      "\n",
      "[ 0  2  3  4  7  9 11 12 13 17 19 20 21 23 27 30 35 36 37 39 41 42 45 46 47\n",
      " 49 50 51 52]\n",
      "node\n",
      "[ 0  2  3  4  8 11 13 14 15 25 27 28 31 34 43 49 54 56 58 67 71 73 78 79 80\n",
      " 85 86 87 92]\n",
      "[ 0.  1.  0.  0.  0.  1.  1.  0.  1.  0.  1.  0.  0.  0.  1.  1.  1.  0.\n",
      "  1.  0.  0.  0.  1.  0.  1.  1.  1.  0.  1.  1.  0.  1.  1.  1.  1.  0.\n",
      "  0.  0.  1.  0.  1.  0.  0.  1.  1.  0.  0.  0.  1.  0.  0.  0.  0.  1.\n",
      "  1.  1.]\n",
      "[ 1.  1.  1.  1.  1.  1.  1.  1.  1.  1.  1.]\n"
     ]
    }
   ],
   "source": [
    "tsrapooc = TsRapooc(data)\n",
    "tsrapooc.fit()"
   ]
  },
  {
   "cell_type": "code",
   "execution_count": null,
   "metadata": {},
   "outputs": [],
   "source": [
    "data = pd.read_csv('TestData/SimulatedDataCoherence/BiclusterA_high.csv',header=None)\n",
    "# data = (data - 0.5) * 2.0\n",
    "data.describe()"
   ]
  },
  {
   "cell_type": "code",
   "execution_count": 72,
   "metadata": {},
   "outputs": [],
   "source": [
    "bisect = BisectingClusterer(data)"
   ]
  },
  {
   "cell_type": "code",
   "execution_count": 73,
   "metadata": {},
   "outputs": [
    {
     "data": {
      "text/plain": [
       "array([ 1.,  1.,  1.,  1.,  1.,  1.,  1.,  0.,  1.,  0.,  1.,  1.,  1.,\n",
       "        1.,  1.,  1.,  0.,  0.,  0.,  0.,  1.,  0.,  1.,  0.,  1.,  1.,\n",
       "        1.,  1.,  1.,  0.,  0.,  1.,  1.,  0.,  1.,  0.,  1.,  0.,  0.,\n",
       "        1.,  1.,  0.,  0.,  1.,  0.,  0.,  1.,  0.,  1.,  1.,  1.,  1.,\n",
       "        1.,  1.,  1.,  0.,  1.,  0.,  1.,  0.,  0.,  0.,  0.,  0.,  0.,\n",
       "        0.,  1.,  1.,  0.,  0.,  1.,  1.,  0.,  1.,  1.,  1.,  0.,  0.,\n",
       "        1.,  1.,  1.,  0.,  1.,  0.,  0.,  1.,  1.,  1.,  0.,  0.,  0.,\n",
       "        0.,  1.,  1.,  1.,  0.,  0.,  0.,  1.,  0.])"
      ]
     },
     "execution_count": 73,
     "metadata": {},
     "output_type": "execute_result"
    }
   ],
   "source": [
    "bisect.fit()"
   ]
  },
  {
   "cell_type": "code",
   "execution_count": 74,
   "metadata": {},
   "outputs": [
    {
     "data": {
      "text/plain": [
       "array([ 0.,  0.,  0.,  0.,  0.,  0.,  0.,  0.,  1.,  1.,  1.])"
      ]
     },
     "execution_count": 74,
     "metadata": {},
     "output_type": "execute_result"
    }
   ],
   "source": [
    "bisect.fit_cols()"
   ]
  },
  {
   "cell_type": "code",
   "execution_count": 92,
   "metadata": {},
   "outputs": [
    {
     "data": {
      "text/plain": [
       "True"
      ]
     },
     "execution_count": 92,
     "metadata": {},
     "output_type": "execute_result"
    }
   ],
   "source": [
    "np.all([1,1,1,1])"
   ]
  },
  {
   "cell_type": "code",
   "execution_count": 58,
   "metadata": {},
   "outputs": [
    {
     "name": "stdout",
     "output_type": "stream",
     "text": [
      "rho [ 0  1  2  3  4  5  6  7  8  9 10] gamma (array([], dtype=int64),) H 0\n"
     ]
    }
   ],
   "source": []
  },
  {
   "cell_type": "code",
   "execution_count": null,
   "metadata": {},
   "outputs": [],
   "source": []
  }
 ],
 "metadata": {
  "kernelspec": {
   "display_name": "Python 3",
   "language": "python",
   "name": "python3"
  },
  "language_info": {
   "codemirror_mode": {
    "name": "ipython",
    "version": 3
   },
   "file_extension": ".py",
   "mimetype": "text/x-python",
   "name": "python",
   "nbconvert_exporter": "python",
   "pygments_lexer": "ipython3",
   "version": "3.6.3"
  }
 },
 "nbformat": 4,
 "nbformat_minor": 2
}
