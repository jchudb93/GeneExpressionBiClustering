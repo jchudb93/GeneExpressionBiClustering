{
 "cells": [
  {
   "cell_type": "code",
   "execution_count": 1,
   "metadata": {},
   "outputs": [],
   "source": [
    "%matplotlib inline\n",
    "import gc\n",
    "import pandas as pd\n",
    "import glob\n",
    "import sklearn\n",
    "import numpy as np\n",
    "import matplotlib"
   ]
  },
  {
   "cell_type": "code",
   "execution_count": 4,
   "metadata": {},
   "outputs": [
    {
     "data": {
      "text/plain": [
       "['../data/Di/Jnk.csv',\n",
       " '../data/Di/IRF4.csv',\n",
       " '../data/Di/LEF1.csv',\n",
       " '../data/Di/Ikk2.csv',\n",
       " '../data/Di/CTNNB1.csv',\n",
       " '../data/Di/Erk.csv',\n",
       " '../data/Di/MYC.csv']"
      ]
     },
     "execution_count": 4,
     "metadata": {},
     "output_type": "execute_result"
    }
   ],
   "source": [
    "diFiles=glob.glob(\"../data/Di/*\")\n",
    "diFiles"
   ]
  },
  {
   "cell_type": "code",
   "execution_count": 6,
   "metadata": {},
   "outputs": [],
   "source": [
    "trainIndexFiles=glob.glob(\"../Train/*\")\n",
    "frames = list()\n",
    "for f in trainIndexFiles:\n",
    "    indices = pd.read_csv(f,sep=\";\")\n",
    "    indexList=list(indices['0'])\n",
    "    protein = f.split(\"/\")[-1].split(\".\")[0]\n",
    "    fpath = '../data/Di/'+f.split(\"/\")[-1].split(\".\")[0]+\".csv\"\n",
    "    diRead = pd.read_csv(fpath,sep=\";\")\n",
    "    diPartialTrain=diRead[diRead.columns[5:]].loc[indexList].copy()\n",
    "    diPartialTrain.insert(0,column='Protein',value =protein )\n",
    "    del diRead\n",
    "    gc.collect()\n",
    "    frames.append(diPartialTrain)"
   ]
  },
  {
   "cell_type": "code",
   "execution_count": 7,
   "metadata": {},
   "outputs": [],
   "source": [
    "diTrain = pd.concat(frames)"
   ]
  },
  {
   "cell_type": "code",
   "execution_count": 8,
   "metadata": {
    "scrolled": true
   },
   "outputs": [],
   "source": [
    "diTrain.to_csv(\"../FullTrain/FullTrainDI/FullTrainDI.csv\")"
   ]
  },
  {
   "cell_type": "code",
   "execution_count": 9,
   "metadata": {},
   "outputs": [
    {
     "data": {
      "text/html": [
       "<div>\n",
       "<style>\n",
       "    .dataframe thead tr:only-child th {\n",
       "        text-align: right;\n",
       "    }\n",
       "\n",
       "    .dataframe thead th {\n",
       "        text-align: left;\n",
       "    }\n",
       "\n",
       "    .dataframe tbody tr th {\n",
       "        vertical-align: top;\n",
       "    }\n",
       "</style>\n",
       "<table border=\"1\" class=\"dataframe\">\n",
       "  <thead>\n",
       "    <tr style=\"text-align: right;\">\n",
       "      <th></th>\n",
       "      <th>Protein</th>\n",
       "      <th>X0min_neg_effect-X0min_neg_cause</th>\n",
       "      <th>X15min_effect-X0min_neg_cause</th>\n",
       "      <th>X15min_effect-X15min_cause</th>\n",
       "      <th>X30min_effect-X0min_neg_cause</th>\n",
       "      <th>X30min_effect-X15min_cause</th>\n",
       "      <th>X30min_effect-X30min_cause</th>\n",
       "      <th>X90min_effect-X0min_neg_cause</th>\n",
       "      <th>X90min_effect-X15min_cause</th>\n",
       "      <th>X90min_effect-X30min_cause</th>\n",
       "      <th>...</th>\n",
       "      <th>X240min_effect-X240min_cause</th>\n",
       "      <th>X360min_effect-X0min_neg_cause</th>\n",
       "      <th>X360min_effect-X15min_cause</th>\n",
       "      <th>X360min_effect-X30min_cause</th>\n",
       "      <th>X360min_effect-X90min_cause</th>\n",
       "      <th>X360min_effect-X120min_cause</th>\n",
       "      <th>X360min_effect-X180min_cause</th>\n",
       "      <th>X360min_effect-X210min_cause</th>\n",
       "      <th>X360min_effect-X240min_cause</th>\n",
       "      <th>X360min_effect-X360min_cause</th>\n",
       "    </tr>\n",
       "  </thead>\n",
       "  <tbody>\n",
       "    <tr>\n",
       "      <th>1530</th>\n",
       "      <td>LEF1</td>\n",
       "      <td>-1.398215</td>\n",
       "      <td>-1.332073</td>\n",
       "      <td>-1.176495</td>\n",
       "      <td>-1.152913</td>\n",
       "      <td>-0.997335</td>\n",
       "      <td>-1.138456</td>\n",
       "      <td>-0.748848</td>\n",
       "      <td>-0.593270</td>\n",
       "      <td>-0.734391</td>\n",
       "      <td>...</td>\n",
       "      <td>2.750291</td>\n",
       "      <td>-0.626720</td>\n",
       "      <td>-0.471142</td>\n",
       "      <td>-0.612263</td>\n",
       "      <td>-0.798977</td>\n",
       "      <td>0.539404</td>\n",
       "      <td>1.340642</td>\n",
       "      <td>1.469409</td>\n",
       "      <td>1.965642</td>\n",
       "      <td>1.504612</td>\n",
       "    </tr>\n",
       "    <tr>\n",
       "      <th>1531</th>\n",
       "      <td>LEF1</td>\n",
       "      <td>-1.398215</td>\n",
       "      <td>-2.044245</td>\n",
       "      <td>-2.118504</td>\n",
       "      <td>-1.532107</td>\n",
       "      <td>-1.606366</td>\n",
       "      <td>-1.470422</td>\n",
       "      <td>-1.569035</td>\n",
       "      <td>-1.643294</td>\n",
       "      <td>-1.507350</td>\n",
       "      <td>...</td>\n",
       "      <td>0.370043</td>\n",
       "      <td>-1.108882</td>\n",
       "      <td>-1.183141</td>\n",
       "      <td>-1.047197</td>\n",
       "      <td>-0.874397</td>\n",
       "      <td>-1.075918</td>\n",
       "      <td>-0.703188</td>\n",
       "      <td>-0.427842</td>\n",
       "      <td>-0.257982</td>\n",
       "      <td>0.510709</td>\n",
       "    </tr>\n",
       "    <tr>\n",
       "      <th>1532</th>\n",
       "      <td>LEF1</td>\n",
       "      <td>-1.788833</td>\n",
       "      <td>-2.585672</td>\n",
       "      <td>-2.277672</td>\n",
       "      <td>-1.168975</td>\n",
       "      <td>-0.860975</td>\n",
       "      <td>-1.271061</td>\n",
       "      <td>0.322233</td>\n",
       "      <td>0.630234</td>\n",
       "      <td>0.220148</td>\n",
       "      <td>...</td>\n",
       "      <td>1.514755</td>\n",
       "      <td>-0.227687</td>\n",
       "      <td>0.080314</td>\n",
       "      <td>-0.329772</td>\n",
       "      <td>0.364790</td>\n",
       "      <td>0.983367</td>\n",
       "      <td>0.419474</td>\n",
       "      <td>2.833032</td>\n",
       "      <td>1.480500</td>\n",
       "      <td>3.645275</td>\n",
       "    </tr>\n",
       "    <tr>\n",
       "      <th>1533</th>\n",
       "      <td>LEF1</td>\n",
       "      <td>-1.788833</td>\n",
       "      <td>-1.823722</td>\n",
       "      <td>-1.514011</td>\n",
       "      <td>-1.545921</td>\n",
       "      <td>-1.236210</td>\n",
       "      <td>-1.757871</td>\n",
       "      <td>-0.847480</td>\n",
       "      <td>-0.537768</td>\n",
       "      <td>-1.059429</td>\n",
       "      <td>...</td>\n",
       "      <td>0.379215</td>\n",
       "      <td>-3.095851</td>\n",
       "      <td>-2.786140</td>\n",
       "      <td>-3.307800</td>\n",
       "      <td>-3.017836</td>\n",
       "      <td>-3.030779</td>\n",
       "      <td>-2.279847</td>\n",
       "      <td>-2.823244</td>\n",
       "      <td>-2.188745</td>\n",
       "      <td>-2.846625</td>\n",
       "    </tr>\n",
       "    <tr>\n",
       "      <th>1535</th>\n",
       "      <td>LEF1</td>\n",
       "      <td>-1.375053</td>\n",
       "      <td>-1.252870</td>\n",
       "      <td>-1.363479</td>\n",
       "      <td>-0.796131</td>\n",
       "      <td>-0.906741</td>\n",
       "      <td>-1.598657</td>\n",
       "      <td>-0.169129</td>\n",
       "      <td>-0.279739</td>\n",
       "      <td>-0.971655</td>\n",
       "      <td>...</td>\n",
       "      <td>1.312185</td>\n",
       "      <td>0.099997</td>\n",
       "      <td>-0.010613</td>\n",
       "      <td>-0.702529</td>\n",
       "      <td>-0.537396</td>\n",
       "      <td>-0.619269</td>\n",
       "      <td>-0.279518</td>\n",
       "      <td>-0.051200</td>\n",
       "      <td>0.444093</td>\n",
       "      <td>-0.952516</td>\n",
       "    </tr>\n",
       "  </tbody>\n",
       "</table>\n",
       "<p>5 rows × 46 columns</p>\n",
       "</div>"
      ],
      "text/plain": [
       "     Protein  X0min_neg_effect-X0min_neg_cause  X15min_effect-X0min_neg_cause  \\\n",
       "1530    LEF1                         -1.398215                      -1.332073   \n",
       "1531    LEF1                         -1.398215                      -2.044245   \n",
       "1532    LEF1                         -1.788833                      -2.585672   \n",
       "1533    LEF1                         -1.788833                      -1.823722   \n",
       "1535    LEF1                         -1.375053                      -1.252870   \n",
       "\n",
       "      X15min_effect-X15min_cause  X30min_effect-X0min_neg_cause  \\\n",
       "1530                   -1.176495                      -1.152913   \n",
       "1531                   -2.118504                      -1.532107   \n",
       "1532                   -2.277672                      -1.168975   \n",
       "1533                   -1.514011                      -1.545921   \n",
       "1535                   -1.363479                      -0.796131   \n",
       "\n",
       "      X30min_effect-X15min_cause  X30min_effect-X30min_cause  \\\n",
       "1530                   -0.997335                   -1.138456   \n",
       "1531                   -1.606366                   -1.470422   \n",
       "1532                   -0.860975                   -1.271061   \n",
       "1533                   -1.236210                   -1.757871   \n",
       "1535                   -0.906741                   -1.598657   \n",
       "\n",
       "      X90min_effect-X0min_neg_cause  X90min_effect-X15min_cause  \\\n",
       "1530                      -0.748848                   -0.593270   \n",
       "1531                      -1.569035                   -1.643294   \n",
       "1532                       0.322233                    0.630234   \n",
       "1533                      -0.847480                   -0.537768   \n",
       "1535                      -0.169129                   -0.279739   \n",
       "\n",
       "      X90min_effect-X30min_cause              ...               \\\n",
       "1530                   -0.734391              ...                \n",
       "1531                   -1.507350              ...                \n",
       "1532                    0.220148              ...                \n",
       "1533                   -1.059429              ...                \n",
       "1535                   -0.971655              ...                \n",
       "\n",
       "      X240min_effect-X240min_cause  X360min_effect-X0min_neg_cause  \\\n",
       "1530                      2.750291                       -0.626720   \n",
       "1531                      0.370043                       -1.108882   \n",
       "1532                      1.514755                       -0.227687   \n",
       "1533                      0.379215                       -3.095851   \n",
       "1535                      1.312185                        0.099997   \n",
       "\n",
       "      X360min_effect-X15min_cause  X360min_effect-X30min_cause  \\\n",
       "1530                    -0.471142                    -0.612263   \n",
       "1531                    -1.183141                    -1.047197   \n",
       "1532                     0.080314                    -0.329772   \n",
       "1533                    -2.786140                    -3.307800   \n",
       "1535                    -0.010613                    -0.702529   \n",
       "\n",
       "      X360min_effect-X90min_cause  X360min_effect-X120min_cause  \\\n",
       "1530                    -0.798977                      0.539404   \n",
       "1531                    -0.874397                     -1.075918   \n",
       "1532                     0.364790                      0.983367   \n",
       "1533                    -3.017836                     -3.030779   \n",
       "1535                    -0.537396                     -0.619269   \n",
       "\n",
       "      X360min_effect-X180min_cause  X360min_effect-X210min_cause  \\\n",
       "1530                      1.340642                      1.469409   \n",
       "1531                     -0.703188                     -0.427842   \n",
       "1532                      0.419474                      2.833032   \n",
       "1533                     -2.279847                     -2.823244   \n",
       "1535                     -0.279518                     -0.051200   \n",
       "\n",
       "      X360min_effect-X240min_cause  X360min_effect-X360min_cause  \n",
       "1530                      1.965642                      1.504612  \n",
       "1531                     -0.257982                      0.510709  \n",
       "1532                      1.480500                      3.645275  \n",
       "1533                     -2.188745                     -2.846625  \n",
       "1535                      0.444093                     -0.952516  \n",
       "\n",
       "[5 rows x 46 columns]"
      ]
     },
     "execution_count": 9,
     "metadata": {},
     "output_type": "execute_result"
    }
   ],
   "source": [
    "diTrain.head()"
   ]
  },
  {
   "cell_type": "code",
   "execution_count": 10,
   "metadata": {},
   "outputs": [],
   "source": [
    "lstn_clusters=range(2,30)"
   ]
  },
  {
   "cell_type": "code",
   "execution_count": 11,
   "metadata": {},
   "outputs": [],
   "source": [
    "import time\n",
    "from sklearn.cluster import MiniBatchKMeans\n",
    "from sklearn.metrics import silhouette_score"
   ]
  },
  {
   "cell_type": "code",
   "execution_count": 12,
   "metadata": {},
   "outputs": [
    {
     "data": {
      "text/plain": [
       "19"
      ]
     },
     "execution_count": 12,
     "metadata": {},
     "output_type": "execute_result"
    }
   ],
   "source": [
    "file = open('../ClusteringOutputs/DI_Clustering/diMiniBatch.txt','w')  \n",
    "bestOut = open('../ClusteringOutputs/DI_Clustering/diBestMiniBatch.txt','w') \n",
    "file.write(\"n_clusters,s_score\\n\")"
   ]
  },
  {
   "cell_type": "code",
   "execution_count": 13,
   "metadata": {},
   "outputs": [],
   "source": [
    "dfLabels=pd.DataFrame()"
   ]
  },
  {
   "cell_type": "code",
   "execution_count": 16,
   "metadata": {},
   "outputs": [],
   "source": [
    "dfLabels['Protein'] = diTrain['Protein'].tolist()"
   ]
  },
  {
   "cell_type": "code",
   "execution_count": 15,
   "metadata": {},
   "outputs": [
    {
     "ename": "KeyboardInterrupt",
     "evalue": "",
     "output_type": "error",
     "traceback": [
      "\u001b[0;31m---------------------------------------------------------------------------\u001b[0m",
      "\u001b[0;31mKeyboardInterrupt\u001b[0m                         Traceback (most recent call last)",
      "\u001b[0;32m<ipython-input-15-650fb030831a>\u001b[0m in \u001b[0;36m<module>\u001b[0;34m()\u001b[0m\n\u001b[1;32m      7\u001b[0m     \u001b[0mmbk\u001b[0m\u001b[0;34m.\u001b[0m\u001b[0mfit\u001b[0m\u001b[0;34m(\u001b[0m\u001b[0mdiTrain\u001b[0m\u001b[0;34m[\u001b[0m\u001b[0mdiTrain\u001b[0m\u001b[0;34m.\u001b[0m\u001b[0mcolumns\u001b[0m\u001b[0;34m[\u001b[0m\u001b[0;36m1\u001b[0m\u001b[0;34m:\u001b[0m\u001b[0;34m]\u001b[0m\u001b[0;34m]\u001b[0m\u001b[0;34m)\u001b[0m\u001b[0;34m\u001b[0m\u001b[0m\n\u001b[1;32m      8\u001b[0m     \u001b[0mlabels\u001b[0m \u001b[0;34m=\u001b[0m \u001b[0mmbk\u001b[0m\u001b[0;34m.\u001b[0m\u001b[0mlabels_\u001b[0m\u001b[0;34m\u001b[0m\u001b[0m\n\u001b[0;32m----> 9\u001b[0;31m     \u001b[0ms_score\u001b[0m \u001b[0;34m=\u001b[0m \u001b[0msilhouette_score\u001b[0m\u001b[0;34m(\u001b[0m\u001b[0mdiTrain\u001b[0m\u001b[0;34m[\u001b[0m\u001b[0mdiTrain\u001b[0m\u001b[0;34m.\u001b[0m\u001b[0mcolumns\u001b[0m\u001b[0;34m[\u001b[0m\u001b[0;36m1\u001b[0m\u001b[0;34m:\u001b[0m\u001b[0;34m]\u001b[0m\u001b[0;34m]\u001b[0m\u001b[0;34m,\u001b[0m \u001b[0mlabels\u001b[0m\u001b[0;34m,\u001b[0m \u001b[0mmetric\u001b[0m\u001b[0;34m=\u001b[0m\u001b[0;34m'euclidean'\u001b[0m\u001b[0;34m)\u001b[0m\u001b[0;34m\u001b[0m\u001b[0m\n\u001b[0m\u001b[1;32m     10\u001b[0m     \u001b[0mdfLabels\u001b[0m\u001b[0;34m[\u001b[0m\u001b[0;34m'NClusters'\u001b[0m\u001b[0;34m+\u001b[0m\u001b[0mstr\u001b[0m\u001b[0;34m(\u001b[0m\u001b[0mn\u001b[0m\u001b[0;34m)\u001b[0m\u001b[0;34m]\u001b[0m \u001b[0;34m=\u001b[0m \u001b[0mn\u001b[0m\u001b[0;34m\u001b[0m\u001b[0m\n\u001b[1;32m     11\u001b[0m     \u001b[0mdfLabels\u001b[0m\u001b[0;34m[\u001b[0m\u001b[0;34m'Labels_'\u001b[0m\u001b[0;34m+\u001b[0m\u001b[0mstr\u001b[0m\u001b[0;34m(\u001b[0m\u001b[0mn\u001b[0m\u001b[0;34m)\u001b[0m\u001b[0;34m]\u001b[0m \u001b[0;34m=\u001b[0m\u001b[0mlabels\u001b[0m\u001b[0;34m\u001b[0m\u001b[0m\n",
      "\u001b[0;32m~/anaconda3/envs/Biclustering/lib/python3.6/site-packages/sklearn/metrics/cluster/unsupervised.py\u001b[0m in \u001b[0;36msilhouette_score\u001b[0;34m(X, labels, metric, sample_size, random_state, **kwds)\u001b[0m\n\u001b[1;32m     99\u001b[0m         \u001b[0;32melse\u001b[0m\u001b[0;34m:\u001b[0m\u001b[0;34m\u001b[0m\u001b[0m\n\u001b[1;32m    100\u001b[0m             \u001b[0mX\u001b[0m\u001b[0;34m,\u001b[0m \u001b[0mlabels\u001b[0m \u001b[0;34m=\u001b[0m \u001b[0mX\u001b[0m\u001b[0;34m[\u001b[0m\u001b[0mindices\u001b[0m\u001b[0;34m]\u001b[0m\u001b[0;34m,\u001b[0m \u001b[0mlabels\u001b[0m\u001b[0;34m[\u001b[0m\u001b[0mindices\u001b[0m\u001b[0;34m]\u001b[0m\u001b[0;34m\u001b[0m\u001b[0m\n\u001b[0;32m--> 101\u001b[0;31m     \u001b[0;32mreturn\u001b[0m \u001b[0mnp\u001b[0m\u001b[0;34m.\u001b[0m\u001b[0mmean\u001b[0m\u001b[0;34m(\u001b[0m\u001b[0msilhouette_samples\u001b[0m\u001b[0;34m(\u001b[0m\u001b[0mX\u001b[0m\u001b[0;34m,\u001b[0m \u001b[0mlabels\u001b[0m\u001b[0;34m,\u001b[0m \u001b[0mmetric\u001b[0m\u001b[0;34m=\u001b[0m\u001b[0mmetric\u001b[0m\u001b[0;34m,\u001b[0m \u001b[0;34m**\u001b[0m\u001b[0mkwds\u001b[0m\u001b[0;34m)\u001b[0m\u001b[0;34m)\u001b[0m\u001b[0;34m\u001b[0m\u001b[0m\n\u001b[0m\u001b[1;32m    102\u001b[0m \u001b[0;34m\u001b[0m\u001b[0m\n\u001b[1;32m    103\u001b[0m \u001b[0;34m\u001b[0m\u001b[0m\n",
      "\u001b[0;32m~/anaconda3/envs/Biclustering/lib/python3.6/site-packages/sklearn/metrics/cluster/unsupervised.py\u001b[0m in \u001b[0;36msilhouette_samples\u001b[0;34m(X, labels, metric, **kwds)\u001b[0m\n\u001b[1;32m    184\u001b[0m         \u001b[0;31m# label.\u001b[0m\u001b[0;34m\u001b[0m\u001b[0;34m\u001b[0m\u001b[0m\n\u001b[1;32m    185\u001b[0m         \u001b[0mmask\u001b[0m \u001b[0;34m=\u001b[0m \u001b[0mlabels\u001b[0m \u001b[0;34m==\u001b[0m \u001b[0mcurr_label\u001b[0m\u001b[0;34m\u001b[0m\u001b[0m\n\u001b[0;32m--> 186\u001b[0;31m         \u001b[0mcurrent_distances\u001b[0m \u001b[0;34m=\u001b[0m \u001b[0mdistances\u001b[0m\u001b[0;34m[\u001b[0m\u001b[0mmask\u001b[0m\u001b[0;34m]\u001b[0m\u001b[0;34m\u001b[0m\u001b[0m\n\u001b[0m\u001b[1;32m    187\u001b[0m \u001b[0;34m\u001b[0m\u001b[0m\n\u001b[1;32m    188\u001b[0m         \u001b[0;31m# Leave out current sample.\u001b[0m\u001b[0;34m\u001b[0m\u001b[0;34m\u001b[0m\u001b[0m\n",
      "\u001b[0;31mKeyboardInterrupt\u001b[0m: "
     ]
    }
   ],
   "source": [
    "max_silhouette=0\n",
    "nClusters=2\n",
    "\n",
    "for n in lstn_clusters:\n",
    "    mbk=MiniBatchKMeans(init='k-means++', n_clusters=n\n",
    "                        , max_no_improvement=10, verbose=0)\n",
    "    mbk.fit(diTrain[diTrain.columns[1:]])\n",
    "    labels = mbk.labels_\n",
    "    s_score = silhouette_score(diTrain[diTrain.columns[1:]], labels, metric='euclidean')\n",
    "    dfLabels['NClusters'+str(n)] = n\n",
    "    dfLabels['Labels_'+str(n)] =labels\n",
    "    file.write(str(n)+\",\")\n",
    "    file.write(str(s_score)+\"\\n\")\n",
    "    if s_score>max_silhouette:\n",
    "        max_silhouette = s_score\n",
    "        nClusters=n\n",
    "#t_mini_batch = time.time() - t0    \n",
    "#print(\"Num clusters \" + str(n))\n",
    "bestOut.write(\"Num clusters \" + str(n))\n",
    "#print(\"Silhouette score \" + str(max_silhouette))\n",
    "bestOut.write(\"Silhouette score \" + str(max_silhouette))\n",
    "#print(\"Running time \" + str(t_mini_batch))\n",
    "file.close()\n",
    "bestOut.close()\n",
    "file.close()\n",
    "bestOut.close()"
   ]
  },
  {
   "cell_type": "code",
   "execution_count": 17,
   "metadata": {},
   "outputs": [
    {
     "data": {
      "text/plain": [
       "pandas.core.frame.DataFrame"
      ]
     },
     "execution_count": 17,
     "metadata": {},
     "output_type": "execute_result"
    }
   ],
   "source": [
    "type(dfLabels)"
   ]
  },
  {
   "cell_type": "code",
   "execution_count": 18,
   "metadata": {},
   "outputs": [
    {
     "data": {
      "text/html": [
       "<div>\n",
       "<style>\n",
       "    .dataframe thead tr:only-child th {\n",
       "        text-align: right;\n",
       "    }\n",
       "\n",
       "    .dataframe thead th {\n",
       "        text-align: left;\n",
       "    }\n",
       "\n",
       "    .dataframe tbody tr th {\n",
       "        vertical-align: top;\n",
       "    }\n",
       "</style>\n",
       "<table border=\"1\" class=\"dataframe\">\n",
       "  <thead>\n",
       "    <tr style=\"text-align: right;\">\n",
       "      <th></th>\n",
       "      <th>Protein</th>\n",
       "      <th>NClusters2</th>\n",
       "      <th>Labels_2</th>\n",
       "      <th>NClusters3</th>\n",
       "      <th>Labels_3</th>\n",
       "      <th>NClusters4</th>\n",
       "      <th>Labels_4</th>\n",
       "      <th>NClusters5</th>\n",
       "      <th>Labels_5</th>\n",
       "      <th>NClusters6</th>\n",
       "      <th>...</th>\n",
       "      <th>NClusters11</th>\n",
       "      <th>Labels_11</th>\n",
       "      <th>NClusters12</th>\n",
       "      <th>Labels_12</th>\n",
       "      <th>NClusters13</th>\n",
       "      <th>Labels_13</th>\n",
       "      <th>NClusters14</th>\n",
       "      <th>Labels_14</th>\n",
       "      <th>NClusters15</th>\n",
       "      <th>Labels_15</th>\n",
       "    </tr>\n",
       "  </thead>\n",
       "  <tbody>\n",
       "    <tr>\n",
       "      <th>0</th>\n",
       "      <td>LEF1</td>\n",
       "      <td>2</td>\n",
       "      <td>1</td>\n",
       "      <td>3</td>\n",
       "      <td>2</td>\n",
       "      <td>4</td>\n",
       "      <td>0</td>\n",
       "      <td>5</td>\n",
       "      <td>4</td>\n",
       "      <td>6</td>\n",
       "      <td>...</td>\n",
       "      <td>11</td>\n",
       "      <td>3</td>\n",
       "      <td>12</td>\n",
       "      <td>2</td>\n",
       "      <td>13</td>\n",
       "      <td>5</td>\n",
       "      <td>14</td>\n",
       "      <td>0</td>\n",
       "      <td>15</td>\n",
       "      <td>9</td>\n",
       "    </tr>\n",
       "    <tr>\n",
       "      <th>1</th>\n",
       "      <td>LEF1</td>\n",
       "      <td>2</td>\n",
       "      <td>1</td>\n",
       "      <td>3</td>\n",
       "      <td>2</td>\n",
       "      <td>4</td>\n",
       "      <td>1</td>\n",
       "      <td>5</td>\n",
       "      <td>0</td>\n",
       "      <td>6</td>\n",
       "      <td>...</td>\n",
       "      <td>11</td>\n",
       "      <td>10</td>\n",
       "      <td>12</td>\n",
       "      <td>6</td>\n",
       "      <td>13</td>\n",
       "      <td>5</td>\n",
       "      <td>14</td>\n",
       "      <td>1</td>\n",
       "      <td>15</td>\n",
       "      <td>8</td>\n",
       "    </tr>\n",
       "    <tr>\n",
       "      <th>2</th>\n",
       "      <td>LEF1</td>\n",
       "      <td>2</td>\n",
       "      <td>1</td>\n",
       "      <td>3</td>\n",
       "      <td>2</td>\n",
       "      <td>4</td>\n",
       "      <td>0</td>\n",
       "      <td>5</td>\n",
       "      <td>4</td>\n",
       "      <td>6</td>\n",
       "      <td>...</td>\n",
       "      <td>11</td>\n",
       "      <td>5</td>\n",
       "      <td>12</td>\n",
       "      <td>2</td>\n",
       "      <td>13</td>\n",
       "      <td>11</td>\n",
       "      <td>14</td>\n",
       "      <td>13</td>\n",
       "      <td>15</td>\n",
       "      <td>9</td>\n",
       "    </tr>\n",
       "    <tr>\n",
       "      <th>3</th>\n",
       "      <td>LEF1</td>\n",
       "      <td>2</td>\n",
       "      <td>1</td>\n",
       "      <td>3</td>\n",
       "      <td>0</td>\n",
       "      <td>4</td>\n",
       "      <td>1</td>\n",
       "      <td>5</td>\n",
       "      <td>0</td>\n",
       "      <td>6</td>\n",
       "      <td>...</td>\n",
       "      <td>11</td>\n",
       "      <td>7</td>\n",
       "      <td>12</td>\n",
       "      <td>6</td>\n",
       "      <td>13</td>\n",
       "      <td>10</td>\n",
       "      <td>14</td>\n",
       "      <td>10</td>\n",
       "      <td>15</td>\n",
       "      <td>3</td>\n",
       "    </tr>\n",
       "    <tr>\n",
       "      <th>4</th>\n",
       "      <td>LEF1</td>\n",
       "      <td>2</td>\n",
       "      <td>1</td>\n",
       "      <td>3</td>\n",
       "      <td>2</td>\n",
       "      <td>4</td>\n",
       "      <td>0</td>\n",
       "      <td>5</td>\n",
       "      <td>2</td>\n",
       "      <td>6</td>\n",
       "      <td>...</td>\n",
       "      <td>11</td>\n",
       "      <td>10</td>\n",
       "      <td>12</td>\n",
       "      <td>1</td>\n",
       "      <td>13</td>\n",
       "      <td>5</td>\n",
       "      <td>14</td>\n",
       "      <td>1</td>\n",
       "      <td>15</td>\n",
       "      <td>12</td>\n",
       "    </tr>\n",
       "  </tbody>\n",
       "</table>\n",
       "<p>5 rows × 29 columns</p>\n",
       "</div>"
      ],
      "text/plain": [
       "  Protein  NClusters2  Labels_2  NClusters3  Labels_3  NClusters4  Labels_4  \\\n",
       "0    LEF1           2         1           3         2           4         0   \n",
       "1    LEF1           2         1           3         2           4         1   \n",
       "2    LEF1           2         1           3         2           4         0   \n",
       "3    LEF1           2         1           3         0           4         1   \n",
       "4    LEF1           2         1           3         2           4         0   \n",
       "\n",
       "   NClusters5  Labels_5  NClusters6    ...      NClusters11  Labels_11  \\\n",
       "0           5         4           6    ...               11          3   \n",
       "1           5         0           6    ...               11         10   \n",
       "2           5         4           6    ...               11          5   \n",
       "3           5         0           6    ...               11          7   \n",
       "4           5         2           6    ...               11         10   \n",
       "\n",
       "   NClusters12  Labels_12  NClusters13  Labels_13  NClusters14  Labels_14  \\\n",
       "0           12          2           13          5           14          0   \n",
       "1           12          6           13          5           14          1   \n",
       "2           12          2           13         11           14         13   \n",
       "3           12          6           13         10           14         10   \n",
       "4           12          1           13          5           14          1   \n",
       "\n",
       "   NClusters15  Labels_15  \n",
       "0           15          9  \n",
       "1           15          8  \n",
       "2           15          9  \n",
       "3           15          3  \n",
       "4           15         12  \n",
       "\n",
       "[5 rows x 29 columns]"
      ]
     },
     "execution_count": 18,
     "metadata": {},
     "output_type": "execute_result"
    }
   ],
   "source": [
    "dfLabels.head()"
   ]
  },
  {
   "cell_type": "code",
   "execution_count": null,
   "metadata": {},
   "outputs": [],
   "source": [
    "dfLabels.to_csv('../ClusteringOutputs/DI_Clustering/DILabelsKmeans.csv')"
   ]
  },
  {
   "cell_type": "code",
   "execution_count": 47,
   "metadata": {},
   "outputs": [],
   "source": [
    "mbk=MiniBatchKMeans(init='k-means++', n_clusters=5\n",
    "                        , max_no_improvement=10, verbose=0)\n",
    "mbk.fit(diTrain[diTrain.columns[1:]])\n",
    "labels = mbk.labels_\n",
    "s_score = silhouette_score(diTrain[diTrain.columns[1:]], labels, metric='euclidean')"
   ]
  },
  {
   "cell_type": "code",
   "execution_count": 48,
   "metadata": {},
   "outputs": [],
   "source": [
    "from sklearn.decomposition import PCA"
   ]
  },
  {
   "cell_type": "code",
   "execution_count": 49,
   "metadata": {},
   "outputs": [],
   "source": [
    "pca = PCA(n_components=3, svd_solver='full')"
   ]
  },
  {
   "cell_type": "code",
   "execution_count": 50,
   "metadata": {},
   "outputs": [
    {
     "data": {
      "text/plain": [
       "PCA(copy=True, iterated_power='auto', n_components=3, random_state=None,\n",
       "  svd_solver='full', tol=0.0, whiten=False)"
      ]
     },
     "execution_count": 50,
     "metadata": {},
     "output_type": "execute_result"
    }
   ],
   "source": [
    "pca.fit(diTrain[diTrain.columns[1:]])"
   ]
  },
  {
   "cell_type": "code",
   "execution_count": 51,
   "metadata": {},
   "outputs": [],
   "source": [
    "pca_3d = pca.transform(diTrain[diTrain.columns[1:]]).T"
   ]
  },
  {
   "cell_type": "code",
   "execution_count": 52,
   "metadata": {},
   "outputs": [
    {
     "data": {
      "text/plain": [
       "3"
      ]
     },
     "execution_count": 52,
     "metadata": {},
     "output_type": "execute_result"
    }
   ],
   "source": [
    "len(pca_3d)"
   ]
  },
  {
   "cell_type": "code",
   "execution_count": 53,
   "metadata": {},
   "outputs": [],
   "source": [
    "from matplotlib import pyplot\n",
    "from mpl_toolkits.mplot3d import Axes3D"
   ]
  },
  {
   "cell_type": "code",
   "execution_count": 54,
   "metadata": {},
   "outputs": [],
   "source": [
    "x=pca_3d[0]\n",
    "y=pca_3d[1]\n",
    "z=pca_3d[2]"
   ]
  },
  {
   "cell_type": "code",
   "execution_count": 55,
   "metadata": {},
   "outputs": [
    {
     "data": {
      "image/png": "[encoded data removed]",
      "text/plain": [
       "<matplotlib.figure.Figure at 0x7f49a46a2cc0>"
      ]
     },
     "metadata": {},
     "output_type": "display_data"
    }
   ],
   "source": [
    "fig = pyplot.figure()\n",
    "ax = Axes3D(fig)\n",
    "ax.scatter(x, y, z,c=labels)\n",
    "pyplot.show()"
   ]
  },
  {
   "cell_type": "code",
   "execution_count": 19,
   "metadata": {},
   "outputs": [],
   "source": []
  },
  {
   "cell_type": "code",
   "execution_count": null,
   "metadata": {},
   "outputs": [],
   "source": []
  }
 ],
 "metadata": {
  "kernelspec": {
   "display_name": "Python 3",
   "language": "python",
   "name": "python3"
  },
  "language_info": {
   "codemirror_mode": {
    "name": "ipython",
    "version": 3
   },
   "file_extension": ".py",
   "mimetype": "text/x-python",
   "name": "python",
   "nbconvert_exporter": "python",
   "pygments_lexer": "ipython3",
   "version": "3.6.3"
  }
 },
 "nbformat": 4,
 "nbformat_minor": 2
}
