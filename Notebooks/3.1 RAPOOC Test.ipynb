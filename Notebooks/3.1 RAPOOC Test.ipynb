{
 "cells": [
  {
   "cell_type": "markdown",
   "metadata": {},
   "source": [
    "# RAPOOC Algorithm"
   ]
  },
  {
   "cell_type": "code",
   "execution_count": 1,
   "metadata": {},
   "outputs": [],
   "source": [
    "%matplotlib inline\n",
    "import numpy as np\n",
    "import math\n",
    "from matplotlib import pyplot as plt\n",
    "from sklearn.metrics import consensus_score\n",
    "import multiprocessing as mp\n",
    "import pandas as pd\n",
    "import glob as glob\n",
    "from functools import reduce"
   ]
  },
  {
   "cell_type": "code",
   "execution_count": 2,
   "metadata": {},
   "outputs": [],
   "source": [
    "class PositiveNegativeCorrelation(object):\n",
    "    def __init__(self, x, y, J):\n",
    "        self._x = x\n",
    "        self._y = y\n",
    "        self._J = J\n",
    "        self._x_mean = np.mean(x)\n",
    "        self._y_mean = np.mean(y)\n",
    "        self._H_pos = None\n",
    "        self._H_neg = None\n",
    "\n",
    "    @property\n",
    "    def H_pos(self):\n",
    "        if self._H_pos is None:\n",
    "            # print(\"Computing H positive...\")\n",
    "            self._H_pos = self._compute_H_pos()\n",
    "            # print(\"H positive value: \" + str(self._H_pos))\n",
    "        return self._H_pos\n",
    "\n",
    "    @property\n",
    "    def H_neg(self):\n",
    "        if self._H_neg is None:\n",
    "            # print(\"Computing H negative...\")\n",
    "            self._H_neg = self._compute_H_neg()\n",
    "            # print(\"H negative value: \" + str(self._H_neg))\n",
    "        return self._H_neg\n",
    "\n",
    "    def _compute_H_pos(self):\n",
    "        H_pos = 0\n",
    "        for j in range(self._J):\n",
    "            aux = (((self._x[j] - self._x_mean) -\n",
    "                    (self._y[j] - self._y_mean))/2.0)**2\n",
    "            H_pos += aux\n",
    "        H_pos *= 1.0/math.fabs(self._J)\n",
    "        H_pos = 1 - H_pos\n",
    "        return H_pos\n",
    "\n",
    "    def _compute_H_neg(self):\n",
    "        H_neg = 0\n",
    "        for j in range(self._J):\n",
    "            aux = (((self._x[j] - self._x_mean) +\n",
    "                    (self._y[j] - self._y_mean))/2.0)**2\n",
    "            H_neg += aux\n",
    "        H_neg *= 1.0/math.fabs(self._J)\n",
    "        H_neg = 1 - H_neg\n",
    "        return H_neg"
   ]
  },
  {
   "cell_type": "code",
   "execution_count": 479,
   "metadata": {},
   "outputs": [],
   "source": [
    "class PairBasedCoherence(object):\n",
    "    def __init__(self, X):\n",
    "        self._X = np.array(X)\n",
    "        self._I, self._J = X.shape\n",
    "        self._HP = None\n",
    "\n",
    "    @property\n",
    "    def HP(self):\n",
    "        if self._HP is None:\n",
    "            # print(\"Calculating Pair based coherence..\")\n",
    "            self._HP = self._compute_HP_()\n",
    "            # print(\"Paired based coherence value: \" + str(self._HP))\n",
    "        return self._HP\n",
    "\n",
    "    def _compute_HP_(self):\n",
    "        HP = 0\n",
    "        for i in range(self._I):\n",
    "            for j in range(i+1, self._I):\n",
    "                if (i==j): \n",
    "                    break\n",
    "                x = self._X[i]\n",
    "                y = self._X[j]\n",
    "                correlation = PositiveNegativeCorrelation(x, y,self._J)\n",
    "                H0 = correlation.H_pos\n",
    "                # H0 = max(correlation.H_pos,correlation.H_neg)\n",
    "                HP += H0\n",
    "        HP *= math.fabs(2.0)/(math.fabs(self._I)*(math.fabs(self._I)-1)) # if self._I > 1 else 0\n",
    "        \n",
    "        return HP"
   ]
  },
  {
   "cell_type": "code",
   "execution_count": 480,
   "metadata": {},
   "outputs": [
    {
     "data": {
      "text/latex": [
       "Define H for a new term 'z' in X\n",
       "$$\n",
       "H_{1}(I,J,X,z) =H_{0}(I,J,X) \\cdot \\frac{(I-1)}{(I+1)} + \\frac{|2|}{(I)(I+1)} \\cdot \\sum_{x \\epsilon X} {h(x,z,J)}\n",
       "$$"
      ],
      "text/plain": [
       "<IPython.core.display.Latex object>"
      ]
     },
     "metadata": {},
     "output_type": "display_data"
    }
   ],
   "source": [
    "%%latex\n",
    "Define H for a new term 'z' in X\n",
    "$$\n",
    "H_{1}(I,J,X,z) =H_{0}(I,J,X) \\cdot \\frac{(I-1)}{(I+1)} + \\frac{|2|}{(I)(I+1)} \\cdot \\sum_{x \\epsilon X} {h(x,z,J)}\n",
    "$$"
   ]
  },
  {
   "cell_type": "code",
   "execution_count": 558,
   "metadata": {},
   "outputs": [
    {
     "data": {
      "text/html": [
       "<div>\n",
       "<style>\n",
       "    .dataframe thead tr:only-child th {\n",
       "        text-align: right;\n",
       "    }\n",
       "\n",
       "    .dataframe thead th {\n",
       "        text-align: left;\n",
       "    }\n",
       "\n",
       "    .dataframe tbody tr th {\n",
       "        vertical-align: top;\n",
       "    }\n",
       "</style>\n",
       "<table border=\"1\" class=\"dataframe\">\n",
       "  <thead>\n",
       "    <tr style=\"text-align: right;\">\n",
       "      <th></th>\n",
       "      <th>0</th>\n",
       "      <th>1</th>\n",
       "      <th>2</th>\n",
       "      <th>3</th>\n",
       "      <th>4</th>\n",
       "      <th>5</th>\n",
       "      <th>6</th>\n",
       "    </tr>\n",
       "  </thead>\n",
       "  <tbody>\n",
       "    <tr>\n",
       "      <th>0</th>\n",
       "      <td>0.015521</td>\n",
       "      <td>0.013931</td>\n",
       "      <td>0.49935</td>\n",
       "      <td>0.98560</td>\n",
       "      <td>0.49268</td>\n",
       "      <td>0.006029</td>\n",
       "      <td>0.010850</td>\n",
       "    </tr>\n",
       "    <tr>\n",
       "      <th>1</th>\n",
       "      <td>0.007642</td>\n",
       "      <td>0.007915</td>\n",
       "      <td>0.49475</td>\n",
       "      <td>0.98089</td>\n",
       "      <td>0.49296</td>\n",
       "      <td>0.008737</td>\n",
       "      <td>0.007426</td>\n",
       "    </tr>\n",
       "    <tr>\n",
       "      <th>2</th>\n",
       "      <td>0.009314</td>\n",
       "      <td>0.000106</td>\n",
       "      <td>0.50717</td>\n",
       "      <td>0.98620</td>\n",
       "      <td>0.49783</td>\n",
       "      <td>0.007664</td>\n",
       "      <td>0.016632</td>\n",
       "    </tr>\n",
       "    <tr>\n",
       "      <th>3</th>\n",
       "      <td>0.003243</td>\n",
       "      <td>0.006791</td>\n",
       "      <td>0.50297</td>\n",
       "      <td>0.98170</td>\n",
       "      <td>0.50450</td>\n",
       "      <td>0.004663</td>\n",
       "      <td>0.018980</td>\n",
       "    </tr>\n",
       "    <tr>\n",
       "      <th>4</th>\n",
       "      <td>0.010901</td>\n",
       "      <td>0.011237</td>\n",
       "      <td>0.49306</td>\n",
       "      <td>0.98213</td>\n",
       "      <td>0.50162</td>\n",
       "      <td>0.017864</td>\n",
       "      <td>0.001509</td>\n",
       "    </tr>\n",
       "  </tbody>\n",
       "</table>\n",
       "</div>"
      ],
      "text/plain": [
       "          0         1        2        3        4         5         6\n",
       "0  0.015521  0.013931  0.49935  0.98560  0.49268  0.006029  0.010850\n",
       "1  0.007642  0.007915  0.49475  0.98089  0.49296  0.008737  0.007426\n",
       "2  0.009314  0.000106  0.50717  0.98620  0.49783  0.007664  0.016632\n",
       "3  0.003243  0.006791  0.50297  0.98170  0.50450  0.004663  0.018980\n",
       "4  0.010901  0.011237  0.49306  0.98213  0.50162  0.017864  0.001509"
      ]
     },
     "execution_count": 558,
     "metadata": {},
     "output_type": "execute_result"
    }
   ],
   "source": [
    "data = pd.read_csv('TestData/SimulatedDataCoherence/HighCoherenceMix.csv',header=None)\n",
    "data.head()"
   ]
  },
  {
   "cell_type": "code",
   "execution_count": 559,
   "metadata": {},
   "outputs": [],
   "source": [
    "\n",
    "class BisectingClusterer(object):\n",
    "    def __init__(self, data):\n",
    "        if data is not None:\n",
    "            self._data = np.array(data)\n",
    "            self._I, self._J = self._data.shape\n",
    "        else:\n",
    "            print(\"Empty data\")\n",
    "    \n",
    "    @property\n",
    "    def centroids(self):\n",
    "        return self._centroids\n",
    "\n",
    "    def fit(self):\n",
    "        self._centroids = self._compute_centroids_()\n",
    "        bisecting_indices = self._bisect_clusters_(self._centroids)\n",
    "        return bisecting_indices\n",
    "    \n",
    "    def _compute_centroids_(self):\n",
    "        max_correlation = 0\n",
    "        centroids = [0,0]\n",
    "        for i in range(self._I):\n",
    "            for j in range(i+1, self._I):\n",
    "                if (i == j):\n",
    "                    break\n",
    "                correlation = PositiveNegativeCorrelation(self._data[i],\n",
    "                                                          self._data[j],\n",
    "                                                          self._J).H_neg\n",
    "                if(correlation > max_correlation):\n",
    "                    max_correlation = correlation\n",
    "                    centroids[0] = i\n",
    "                    centroids[1] = j\n",
    "        return centroids\n",
    "\n",
    "    def _bisect_clusters_(self, centroids):\n",
    "        cluster_indices = np.zeros(self._I)\n",
    "        for i in range(self._I):\n",
    "            correlation0 = PositiveNegativeCorrelation(\n",
    "                self._data[centroids[0]], self._data[i],self._J).H_pos\n",
    "            correlation1 = PositiveNegativeCorrelation(\n",
    "                self._data[centroids[1]], self._data[i],self._J).H_pos\n",
    "            if(correlation0 <= correlation1):\n",
    "                cluster_indices[i] = 1\n",
    "        return cluster_indices"
   ]
  },
  {
   "cell_type": "code",
   "execution_count": 560,
   "metadata": {},
   "outputs": [],
   "source": [
    "class Rapooc_test(object):\n",
    "    def __init__(self, D, k, l, K):\n",
    "        self._D = np.array(D)\n",
    "        assert k>0 and l >0, \"invalid values, k>0 and l>0\"\n",
    "        self._k = k\n",
    "        self._l = l\n",
    "        assert K <= k*l and k>=1, \"invalid values, 1<= K <= k*l\"\n",
    "        self._K = K\n",
    "        self._rho = np.ones(D.shape[0])\n",
    "        self._gamma = np.ones(D.shape[1])\n",
    "        self._M, self._N = self._D.shape\n",
    "        self._rows_h_score = None\n",
    "        self._cols_h_score = None\n",
    "            \n",
    "    @property\n",
    "    def rho(self):\n",
    "        return self._rho\n",
    "    \n",
    "    @property\n",
    "    def gamma(self):\n",
    "        return self._gamma\n",
    "    \n",
    "    @property\n",
    "    def bicluster_h_values(self):\n",
    "        assert not self._cluster_H_values is None, \"H values have not yet been calculated\"\n",
    "        return self._cluster_H_values\n",
    "\n",
    "    def initialize(self):\n",
    "        i = 1\n",
    "        j = 1\n",
    "        while (i < self._k or j < self._l):\n",
    "            if i < self._k:\n",
    "                i += 1\n",
    "                alpha = self._argmin_H_(self._rho, self._gamma,'row')\n",
    "                self._bisect_partitions_(self._D[np.where(self._rho ==alpha)], self._rho, alpha, i,'row')\n",
    "            if j < self._l:\n",
    "                j += 1\n",
    "                beta = self._argmin_H_(self._rho,self._gamma, 'column')\n",
    "                self._bisect_partitions_((self._D.T)[np.where(self._gamma==beta)], self._gamma, beta, j,'column')   \n",
    "\n",
    "    def _argmin_H_(self, row_co_cluster, col_co_cluster,option='row'):\n",
    "        if (option=='row'):\n",
    "            data = self._D\n",
    "        else:\n",
    "            data = self._D.T\n",
    "        h_min = math.inf\n",
    "        min_cocluster = 1\n",
    "        map_array = np.int64(row_co_cluster if option == 'row' else col_co_cluster)\n",
    "        max_index_in_map = np.max(map_array) + 1\n",
    "        for i in range(1,max_index_in_map):\n",
    "            if (list(map_array).count(i) < 2):\n",
    "                pass\n",
    "            else:\n",
    "                coherence = PairBasedCoherence(\n",
    "                    data[np.where((row_co_cluster if option == 'row' else col_co_cluster) == i)]).HP \n",
    "                if (coherence <= h_min):\n",
    "                    h_min = coherence\n",
    "                    min_cocluster = i\n",
    "        return min_cocluster\n",
    "\n",
    "    def _bisect_partitions_ (self, data, mapping_array, cluster_to_replace, new_cluster_index,option='row'):\n",
    "        clusterer = BisectingClusterer(data)\n",
    "        bisected_map = clusterer.fit()\n",
    "        bisected_map_index = 0\n",
    "        for i in range(0,len(mapping_array)):\n",
    "            if ((self._rho if option == 'row' else self._gamma)[i] == cluster_to_replace):\n",
    "                if (bisected_map[bisected_map_index] == 1.0):\n",
    "                    (self._rho if option == 'row' else self._gamma)[i] = new_cluster_index\n",
    "                bisected_map_index += 1\n",
    "    \n",
    "    def _compute_objective_function_(self):\n",
    "        \n",
    "        self._cluster_H_values = np.array([ [0.0] * (int(self._k) + 2)  \n",
    "                                           for _ in range(int(self._l + 2))])\n",
    "    \n",
    "        for i in range(1,int(max(self._rho) + 1)):\n",
    "            for j in range (1, int(max(self._gamma) + 1)):\n",
    "                # print(\"% debug % cluster i \" + str(i) + \" cluster j \" + str(j))\n",
    "                coherence = PairBasedCoherence(self._D[np.ix_(np.where(self._rho == i)[0],\n",
    "                                                              np.where(self._gamma == j)[0])]).HP\n",
    "                \n",
    "                # print(self._D[np.ix_(np.where(self._rho == i)[0],\n",
    "                                                              # np.where(self._gamma == j)[0])])\n",
    "                self._cluster_H_values[i][j] = coherence\n",
    "            \n",
    "        print(self._cluster_H_values)\n",
    "        \n",
    "        h_values_1d = self._cluster_H_values.flatten()\n",
    "        \n",
    "        idx_1d = h_values_1d.argsort()[-self._K:]\n",
    "        \n",
    "        x_idx, y_idx = np.unravel_index(idx_1d, self._cluster_H_values.shape)\n",
    "        \n",
    "        acc=0\n",
    "        for x, y, in zip(x_idx, y_idx):\n",
    "            print(\"% debug % x_idx, y_idx \" + str(self._cluster_H_values[x][y]))\n",
    "            acc += self._cluster_H_values[x][y]\n",
    "        \n",
    "        print(\"%debug % FO value \" + str(acc/self._K) + \" accumulator \"+str(acc))\n",
    "        return (acc/(self._K))\n",
    "    \n",
    "    def core_co_clustering(self):\n",
    "        \n",
    "        n_iterations = 0\n",
    "        n_repetitions = 0\n",
    "        of_last_value = 0\n",
    "        best_OF = 0\n",
    "        while(n_iterations < (self._k * self._l) and n_repetitions < int((self._k * self._l) * 0.3)):\n",
    "            \n",
    "            objective_function = self._compute_objective_function_() \n",
    "     \n",
    "            temp_rows = self._update_maps_(option = 'rows')\n",
    "            temp_columns = self._update_maps_(option = 'columns')\n",
    "            \n",
    "            if (objective_function > best_OF):\n",
    "                best_iter = n_iterations\n",
    "                best_OF = objective_function\n",
    "                best_rows = temp_rows\n",
    "                best_columns = temp_columns\n",
    "            # break conditions\n",
    "            if (math.fabs(1 - objective_function) < 0.2):\n",
    "                break\n",
    "            \n",
    "            if(math.fabs(objective_function - of_last_value) > 0.001):\n",
    "                of_last_value = objective_function\n",
    "                n_repetitions = 0\n",
    "            else:\n",
    "                n_repetitions += 1\n",
    "                \n",
    "            n_iterations += 1\n",
    "        \n",
    "        self._rho = best_rows\n",
    "        self._gamma = best_columns\n",
    "        print(\"Finishing core-coclustering\")\n",
    "        print(\"Number of iterations \" + str(n_iterations))\n",
    "        print(\"Objective function \" + str(math.fabs(best_OF)) + \" at iter \" +str(best_iter))\n",
    "        print(\"Number of repetitions \" + str(n_repetitions))\n",
    "        for i in range(1,int(max(self._rho) + 1)):\n",
    "            for j in range (1, int(max(self._gamma) + 1)):\n",
    "                print(\"% debug % cluster i \" + str(i) + \" cluster j \" + str(j))\n",
    "                print(self._D[np.ix_(np.where(self._rho == i)[0],\n",
    "                                                              np.where(self._gamma == j)[0])])\n",
    "    \n",
    "        ax = sns.tsplot(data= self._D[np.ix_(np.where(self._rho == 1)[0],\n",
    "                                                              np.where(self._gamma == 2)[0])] \n",
    "                                , err_style=\"unit_traces\")\n",
    "    def _update_maps_(self,option = 'rows'):\n",
    "        \n",
    "        if(option == 'rows'):\n",
    "            mapping_array = self._rho\n",
    "            data = self._D\n",
    "        elif (option == 'columns'):\n",
    "            mapping_array = self._gamma\n",
    "            data = self._D.T\n",
    "            \n",
    "        for i in range(0,len(data)):\n",
    "            self._compute_arg_max_(data,mapping_array,i)\n",
    "            \n",
    "        return np.copy(mapping_array)\n",
    "    \n",
    "    def _compute_arg_max_(self,data,mapping_array,index):\n",
    "        \n",
    "        actual_coherence = 0\n",
    "        previous_cluster = mapping_array[index]\n",
    "        if (list(mapping_array).count(previous_cluster) <= 2):\n",
    "            return\n",
    "        prev_coherence = PairBasedCoherence(data[np.where(mapping_array == previous_cluster)]).HP\n",
    "        \n",
    "        mapping_array[index] = 0\n",
    "        \n",
    "        local_coherence = PairBasedCoherence(data[np.where(mapping_array == previous_cluster)]).HP\n",
    "        \n",
    "        if (prev_coherence >= local_coherence):\n",
    "            mapping_array[index] = previous_cluster\n",
    "            actual_coherence = prev_coherence\n",
    "        else:\n",
    "            actual_coherence = local_coherence\n",
    "            \n",
    "        best_cluster,best_coherence = self._iter_maps_(data, mapping_array, index, previous_cluster)\n",
    "        \n",
    "        if (best_coherence > local_coherence):\n",
    "            mapping_array[index] = best_cluster\n",
    "    \n",
    "    def _iter_maps_(self, data, mapping_array, index, previous_cluster):\n",
    "        \n",
    "        best_coherence = 0\n",
    "        best_cluster = 0\n",
    "        \n",
    "        for actual_cluster in range(1,int(max(mapping_array))):\n",
    "            if actual_cluster == previous_cluster:\n",
    "                pass\n",
    "            else:\n",
    "                mapping_array[index] = actual_cluster\n",
    "                coherence = PairBasedCoherence(data[np.where(mapping_array == actual_cluster)]).HP\n",
    "                if(coherence >= best_coherence):\n",
    "                    best_coherence = coherence\n",
    "                    best_cluster = actual_cluster\n",
    "                    \n",
    "        return best_cluster, best_coherence"
   ]
  },
  {
   "cell_type": "code",
   "execution_count": 561,
   "metadata": {},
   "outputs": [],
   "source": [
    "rapooc = Rapooc_test(data,2,3,4)"
   ]
  },
  {
   "cell_type": "code",
   "execution_count": 562,
   "metadata": {},
   "outputs": [],
   "source": [
    "rapooc.initialize()"
   ]
  },
  {
   "cell_type": "code",
   "execution_count": 563,
   "metadata": {
    "scrolled": true
   },
   "outputs": [
    {
     "data": {
      "text/plain": [
       "array([ 1.,  1.,  1.,  1.,  1.,  1.,  1.,  1.,  1.,  1.,  1.,  1.,  1.,\n",
       "        1.,  1.,  1.,  1.,  1.,  1.,  1.,  1.,  1.,  1.,  1.,  1.,  1.,\n",
       "        1.,  1.,  1.,  1.,  1.,  1.,  1.,  1.,  1.,  1.,  1.,  1.,  1.,\n",
       "        1.,  1.,  1.,  1.,  1.,  1.,  1.,  1.,  1.,  1.,  1.,  1.,  1.,\n",
       "        1.,  1.,  1.,  1.,  1.,  1.,  1.,  1.,  1.,  1.,  1.,  1.,  1.,\n",
       "        1.,  1.,  1.,  1.,  1.,  1.,  1.,  1.,  1.,  1.,  1.,  1.,  1.,\n",
       "        1.,  1.,  1.,  1.,  1.,  1.,  1.,  1.,  1.,  1.,  1.,  1.,  1.,\n",
       "        1.,  1.,  1.,  1.,  1.,  1.,  1.,  1.,  1.,  2.,  2.,  2.,  2.,\n",
       "        2.,  2.,  2.,  2.,  2.,  2.,  2.,  2.,  2.,  2.,  2.,  2.,  2.,\n",
       "        2.,  2.,  2.,  2.,  2.,  2.,  2.,  2.,  2.,  2.,  2.,  2.,  2.,\n",
       "        2.,  2.,  2.,  2.,  2.,  2.,  2.,  2.,  2.,  2.,  2.,  2.,  2.,\n",
       "        2.,  2.,  2.,  2.,  2.,  2.,  2.,  2.,  2.,  2.,  2.,  2.,  2.,\n",
       "        2.,  2.,  2.,  2.,  2.,  2.,  2.,  2.,  2.,  2.,  2.,  2.,  2.,\n",
       "        2.,  2.,  2.,  2.,  2.,  2.,  2.,  2.,  2.,  2.,  2.,  2.,  2.,\n",
       "        2.,  2.,  2.,  2.,  2.,  2.,  2.,  2.,  2.,  2.,  2.,  2.,  2.,\n",
       "        2.,  2.,  2.,  2.,  2.])"
      ]
     },
     "execution_count": 563,
     "metadata": {},
     "output_type": "execute_result"
    }
   ],
   "source": [
    "rapooc.rho"
   ]
  },
  {
   "cell_type": "code",
   "execution_count": 564,
   "metadata": {},
   "outputs": [
    {
     "data": {
      "text/plain": [
       "array([ 1.,  1.,  1.,  2.,  3.,  1.,  1.])"
      ]
     },
     "execution_count": 564,
     "metadata": {},
     "output_type": "execute_result"
    }
   ],
   "source": [
    "rapooc.gamma"
   ]
  },
  {
   "cell_type": "code",
   "execution_count": 565,
   "metadata": {},
   "outputs": [
    {
     "name": "stdout",
     "output_type": "stream",
     "text": [
      "[[ 0.          0.          0.          0.        ]\n",
      " [ 0.          0.99998638  1.          1.        ]\n",
      " [ 0.          0.99998685  1.          1.        ]\n",
      " [ 0.          0.          0.          0.        ]\n",
      " [ 0.          0.          0.          0.        ]]\n",
      "% debug % x_idx, y_idx 1.0\n",
      "% debug % x_idx, y_idx 1.0\n",
      "% debug % x_idx, y_idx 1.0\n",
      "% debug % x_idx, y_idx 1.0\n",
      "%debug % FO value 1.0 accumulator 4.0\n",
      "Finishing core-coclustering\n",
      "Number of iterations 0\n",
      "Objective function 1.0 at iter 0\n",
      "Number of repetitions 0\n",
      "% debug % cluster i 1 cluster j 1\n",
      "[[  9.85600000e-01   1.08500000e-02]\n",
      " [  9.80890000e-01   7.42570000e-03]\n",
      " [  9.86200000e-01   1.66320000e-02]\n",
      " [  9.92880000e-01   8.45530000e-03]\n",
      " [  9.86730000e-01   1.14790000e-02]\n",
      " [  9.84180000e-01   7.41170000e-03]\n",
      " [  9.96670000e-01   1.17310000e-02]\n",
      " [  9.96980000e-01   6.54200000e-03]\n",
      " [  9.85240000e-01   1.43250000e-02]\n",
      " [  9.90370000e-01   7.43920000e-03]\n",
      " [  9.83520000e-01   1.19530000e-02]\n",
      " [  9.91170000e-01   1.20900000e-02]\n",
      " [  9.98730000e-01   1.04730000e-02]\n",
      " [  9.85190000e-01   9.71770000e-03]\n",
      " [  9.98620000e-01   1.45000000e-02]\n",
      " [  9.84090000e-01   9.52230000e-03]\n",
      " [  9.88110000e-01   6.98980000e-03]\n",
      " [  9.90170000e-01   1.48090000e-03]\n",
      " [  9.90290000e-01   1.24610000e-02]\n",
      " [  9.93750000e-01   1.00060000e-02]\n",
      " [  9.88570000e-01   4.57680000e-03]\n",
      " [  9.84870000e-01   7.18780000e-03]\n",
      " [  9.86950000e-01   7.85800000e-03]\n",
      " [  9.83860000e-01   5.05300000e-03]\n",
      " [  9.93190000e-01   1.50340000e-02]\n",
      " [  9.83420000e-01   1.17110000e-02]\n",
      " [  9.92580000e-01   8.82810000e-03]\n",
      " [  9.84210000e-01   6.82920000e-03]\n",
      " [  9.94440000e-01   1.34500000e-02]\n",
      " [  9.88270000e-01   9.05370000e-03]\n",
      " [  9.99040000e-01   1.89350000e-02]\n",
      " [  9.84380000e-01   1.62630000e-02]\n",
      " [  9.86650000e-01   7.00690000e-03]\n",
      " [  9.88630000e-01   4.97750000e-03]\n",
      " [  9.94620000e-01   1.58630000e-02]\n",
      " [  9.85630000e-01   4.70300000e-03]\n",
      " [  9.92160000e-01   1.58930000e-03]\n",
      " [  9.95680000e-01   4.29900000e-03]\n",
      " [  3.54650000e-03   9.86610000e-01]\n",
      " [  6.96740000e-03   9.84270000e-01]\n",
      " [  1.81070000e-02   9.86030000e-01]\n",
      " [  2.73230000e-03   9.86940000e-01]\n",
      " [  1.93690000e-02   9.94550000e-01]\n",
      " [  3.76480000e-03   9.81800000e-01]\n",
      " [  7.66880000e-03   9.90300000e-01]\n",
      " [  7.67910000e-03   9.81990000e-01]\n",
      " [  1.12630000e-03   9.89350000e-01]\n",
      " [  4.85890000e-03   9.94330000e-01]\n",
      " [  9.87030000e-03   9.94640000e-01]\n",
      " [  1.63450000e-03   9.85510000e-01]\n",
      " [  1.60540000e-02   9.91140000e-01]\n",
      " [  9.00770000e-03   9.99640000e-01]\n",
      " [  1.26570000e-02   9.87490000e-01]\n",
      " [  3.92060000e-03   9.96790000e-01]\n",
      " [  1.71670000e-02   9.82300000e-01]\n",
      " [  1.62510000e-02   1.00000000e+00]\n",
      " [  2.01790000e-03   9.94970000e-01]\n",
      " [  3.23370000e-03   9.99190000e-01]\n",
      " [  4.26590000e-03   9.99690000e-01]\n",
      " [  1.91210000e-02   9.87550000e-01]\n",
      " [  1.43410000e-02   9.85950000e-01]\n",
      " [  5.24110000e-03   9.95260000e-01]\n",
      " [  7.62950000e-03   9.89950000e-01]\n",
      " [  1.18820000e-02   9.97240000e-01]\n",
      " [  1.15410000e-02   9.86030000e-01]\n",
      " [  4.71660000e-03   9.83490000e-01]\n",
      " [  5.70620000e-03   9.80660000e-01]\n",
      " [  1.59810000e-02   9.92220000e-01]\n",
      " [  1.83760000e-02   9.93800000e-01]\n",
      " [  1.42060000e-03   9.99880000e-01]\n",
      " [  5.01770000e-03   9.96240000e-01]\n",
      " [  8.22800000e-04   9.86180000e-01]\n",
      " [  8.92750000e-03   9.87650000e-01]\n",
      " [  5.88380000e-03   9.86680000e-01]\n",
      " [  7.59860000e-03   9.83990000e-01]\n",
      " [  5.85290000e-03   9.86820000e-01]\n",
      " [  4.14110000e-04   9.84350000e-01]\n",
      " [  1.90040000e-03   9.90780000e-01]\n",
      " [  1.12580000e-02   9.80630000e-01]\n",
      " [  7.95240000e-03   9.83300000e-01]\n",
      " [  4.47780000e-03   9.91700000e-01]\n",
      " [  7.37230000e-03   9.81200000e-01]\n",
      " [  1.24930000e-02   9.91300000e-01]\n",
      " [  3.03880000e-03   9.97330000e-01]\n",
      " [  4.23700000e-03   9.94010000e-01]\n",
      " [  5.74720000e-03   9.99740000e-01]\n",
      " [  1.33420000e-02   9.87450000e-01]\n",
      " [  1.59360000e-02   9.89070000e-01]\n",
      " [  5.76370000e-03   9.95560000e-01]\n",
      " [  3.11060000e-03   9.88840000e-01]\n",
      " [  1.61740000e-02   9.85340000e-01]\n",
      " [  9.17940000e-03   9.84050000e-01]\n",
      " [  1.49090000e-02   9.89660000e-01]\n",
      " [  1.72860000e-02   9.84100000e-01]\n",
      " [  1.16680000e-02   9.99030000e-01]\n",
      " [  1.56950000e-02   9.91390000e-01]\n",
      " [  1.62760000e-02   9.89630000e-01]\n",
      " [  1.57160000e-02   9.84280000e-01]\n",
      " [  1.32050000e-02   9.94910000e-01]\n",
      " [  1.06410000e-02   9.93570000e-01]\n",
      " [  9.35700000e-03   9.90760000e-01]\n",
      " [  6.08380000e-03   9.95290000e-01]\n",
      " [  9.46550000e-03   9.85220000e-01]\n",
      " [  8.47240000e-03   9.98490000e-01]\n",
      " [  1.10430000e-02   9.86250000e-01]\n",
      " [  5.01590000e-03   9.97740000e-01]\n",
      " [  2.08610000e-03   9.96750000e-01]\n",
      " [  1.88500000e-02   9.90450000e-01]\n",
      " [  1.30840000e-03   9.86850000e-01]\n",
      " [  1.95130000e-02   9.89360000e-01]\n",
      " [  1.83370000e-02   9.97670000e-01]\n",
      " [  1.06390000e-02   9.86720000e-01]\n",
      " [  1.66730000e-02   9.84040000e-01]\n",
      " [  1.17550000e-02   9.93830000e-01]\n",
      " [  8.40810000e-03   9.97360000e-01]\n",
      " [  1.09020000e-03   9.90930000e-01]\n",
      " [  6.05760000e-03   9.81490000e-01]\n",
      " [  3.64900000e-05   9.80580000e-01]\n",
      " [  1.47120000e-02   9.85010000e-01]\n",
      " [  1.86560000e-02   9.84560000e-01]\n",
      " [  1.89590000e-02   9.85590000e-01]\n",
      " [  1.60660000e-02   9.82610000e-01]\n",
      " [  1.57750000e-03   9.85130000e-01]\n",
      " [  6.97610000e-03   9.88200000e-01]\n",
      " [  5.11250000e-03   9.95710000e-01]\n",
      " [  2.93630000e-03   9.91250000e-01]\n",
      " [  1.31480000e-02   9.89670000e-01]\n",
      " [  7.89110000e-04   9.83260000e-01]\n",
      " [  6.97170000e-04   9.86290000e-01]\n",
      " [  1.45120000e-03   9.81690000e-01]\n",
      " [  4.21430000e-03   9.95900000e-01]\n",
      " [  1.34300000e-02   9.86770000e-01]\n",
      " [  1.68590000e-02   9.89690000e-01]\n",
      " [  3.65720000e-03   9.94040000e-01]\n",
      " [  1.87890000e-02   9.83980000e-01]\n",
      " [  4.71190000e-04   9.82500000e-01]]\n",
      "% debug % cluster i 1 cluster j 2\n",
      "[[  1.55210000e-02   1.39310000e-02   4.99350000e-01   6.02890000e-03]\n",
      " [  7.64230000e-03   7.91510000e-03   4.94750000e-01   8.73680000e-03]\n",
      " [  9.31390000e-03   1.06050000e-04   5.07170000e-01   7.66350000e-03]\n",
      " [  1.33440000e-02   4.45570000e-03   5.01530000e-01   2.54450000e-03]\n",
      " [  1.29710000e-02   4.68450000e-03   5.01760000e-01   1.65080000e-02]\n",
      " [  5.73910000e-03   1.94890000e-02   4.97640000e-01   1.31930000e-02]\n",
      " [  1.12620000e-02   3.85880000e-03   4.93620000e-01   1.47440000e-02]\n",
      " [  1.10340000e-02   7.57300000e-04   4.98600000e-01   3.83860000e-03]\n",
      " [  1.28960000e-02   8.45400000e-03   4.90920000e-01   1.66610000e-03]\n",
      " [  6.31790000e-03   1.53340000e-03   4.94690000e-01   1.10230000e-02]\n",
      " [  9.08080000e-03   1.05860000e-02   5.00330000e-01   1.70890000e-02]\n",
      " [  1.15730000e-02   2.25350000e-03   4.90810000e-01   1.76310000e-02]\n",
      " [  1.41150000e-02   1.59200000e-02   5.04280000e-01   1.17470000e-02]\n",
      " [  1.62650000e-02   1.22690000e-02   4.94700000e-01   1.44700000e-02]\n",
      " [  1.22860000e-02   1.12250000e-02   5.00830000e-01   1.34890000e-02]\n",
      " [  6.30070000e-03   3.08340000e-03   5.00990000e-01   1.59130000e-02]\n",
      " [  1.44170000e-02   6.31990000e-03   5.05590000e-01   1.03580000e-02]\n",
      " [  1.69980000e-02   7.01380000e-03   5.02640000e-01   7.40890000e-03]\n",
      " [  1.95810000e-03   9.17180000e-03   5.05880000e-01   4.99610000e-03]\n",
      " [  1.52970000e-02   1.07370000e-03   5.01620000e-01   7.28230000e-03]\n",
      " [  3.82180000e-03   8.91700000e-03   5.01510000e-01   1.83710000e-02]\n",
      " [  1.16830000e-02   9.18540000e-03   5.04960000e-01   1.79180000e-02]\n",
      " [  1.28500000e-02   7.62430000e-03   5.06330000e-01   3.55840000e-03]\n",
      " [  4.50400000e-03   1.54170000e-02   5.05930000e-01   8.51890000e-03]\n",
      " [  5.84070000e-03   1.07630000e-02   4.96040000e-01   7.71230000e-03]\n",
      " [  4.43740000e-03   1.43790000e-02   4.96360000e-01   4.88780000e-03]\n",
      " [  2.88920000e-03   1.52590000e-02   4.99460000e-01   9.41190000e-03]\n",
      " [  8.01310000e-03   8.25930000e-03   4.91610000e-01   9.43520000e-03]\n",
      " [  8.28160000e-03   9.93750000e-03   5.07880000e-01   8.98960000e-03]\n",
      " [  1.24490000e-02   2.80280000e-03   4.93680000e-01   1.75730000e-02]\n",
      " [  9.97650000e-03   1.81140000e-02   5.07850000e-01   1.61910000e-02]\n",
      " [  7.49980000e-03   3.44530000e-03   5.04230000e-01   8.30550000e-03]\n",
      " [  1.92490000e-02   1.55520000e-02   5.02050000e-01   1.38800000e-02]\n",
      " [  9.01780000e-03   5.79150000e-03   5.05420000e-01   1.00290000e-02]\n",
      " [  1.81650000e-02   9.23710000e-03   4.97910000e-01   5.85340000e-03]\n",
      " [  1.24270000e-02   5.85620000e-03   4.97520000e-01   1.21910000e-02]\n",
      " [  1.42980000e-02   1.05120000e-02   4.96600000e-01   1.18320000e-02]\n",
      " [  4.10070000e-03   4.96380000e-03   4.99180000e-01   1.33800000e-02]\n",
      " [  9.89290000e-01   9.89250000e-01   5.09360000e-01   9.87200000e-01]\n",
      " [  9.85190000e-01   9.94510000e-01   4.94350000e-01   9.91730000e-01]\n",
      " [  9.90370000e-01   9.88740000e-01   5.09660000e-01   9.84750000e-01]\n",
      " [  9.97670000e-01   9.93920000e-01   5.05100000e-01   9.94260000e-01]\n",
      " [  9.88570000e-01   9.90810000e-01   4.99630000e-01   9.85720000e-01]\n",
      " [  9.94470000e-01   9.81440000e-01   5.02590000e-01   9.99230000e-01]\n",
      " [  9.88990000e-01   9.89590000e-01   5.05740000e-01   9.94380000e-01]\n",
      " [  9.93130000e-01   9.99260000e-01   5.02930000e-01   9.80500000e-01]\n",
      " [  9.87450000e-01   9.93610000e-01   4.93990000e-01   9.87520000e-01]\n",
      " [  9.83090000e-01   9.97080000e-01   4.99110000e-01   9.81990000e-01]\n",
      " [  9.90580000e-01   9.96420000e-01   4.96150000e-01   9.85710000e-01]\n",
      " [  9.87990000e-01   9.95090000e-01   4.90780000e-01   9.86250000e-01]\n",
      " [  9.94380000e-01   9.96510000e-01   4.96390000e-01   9.86430000e-01]\n",
      " [  9.96910000e-01   9.93880000e-01   5.08690000e-01   9.82670000e-01]\n",
      " [  9.90500000e-01   9.81960000e-01   4.94910000e-01   9.99060000e-01]\n",
      " [  9.83350000e-01   9.84480000e-01   5.01430000e-01   9.95680000e-01]\n",
      " [  9.81360000e-01   9.95800000e-01   5.08110000e-01   9.93790000e-01]\n",
      " [  9.97620000e-01   9.87500000e-01   4.94210000e-01   9.90770000e-01]\n",
      " [  9.92770000e-01   9.94380000e-01   4.92940000e-01   9.95830000e-01]\n",
      " [  9.93160000e-01   9.95960000e-01   5.03710000e-01   9.90510000e-01]\n",
      " [  9.93520000e-01   9.88590000e-01   4.90580000e-01   9.84440000e-01]\n",
      " [  9.81790000e-01   9.80520000e-01   5.03700000e-01   9.89910000e-01]\n",
      " [  9.89060000e-01   9.97320000e-01   5.07480000e-01   9.82280000e-01]\n",
      " [  9.87330000e-01   9.99700000e-01   4.93730000e-01   9.83170000e-01]\n",
      " [  9.85520000e-01   9.89310000e-01   4.93490000e-01   9.90980000e-01]\n",
      " [  9.81350000e-01   9.96630000e-01   5.04040000e-01   9.80450000e-01]\n",
      " [  9.97680000e-01   9.88720000e-01   4.98900000e-01   9.88880000e-01]\n",
      " [  9.87100000e-01   9.89690000e-01   5.09710000e-01   9.81560000e-01]\n",
      " [  9.84470000e-01   9.84280000e-01   4.97910000e-01   9.92680000e-01]\n",
      " [  9.82060000e-01   9.85920000e-01   5.06710000e-01   9.94150000e-01]\n",
      " [  9.89090000e-01   9.85020000e-01   4.98940000e-01   9.96930000e-01]\n",
      " [  9.88420000e-01   9.88260000e-01   4.90980000e-01   9.88200000e-01]\n",
      " [  9.99840000e-01   9.81240000e-01   4.95760000e-01   9.81210000e-01]\n",
      " [  9.83300000e-01   9.84070000e-01   4.99390000e-01   9.90380000e-01]\n",
      " [  9.96910000e-01   9.83520000e-01   4.98420000e-01   9.89750000e-01]\n",
      " [  9.86740000e-01   9.82000000e-01   4.94220000e-01   9.92510000e-01]\n",
      " [  9.90420000e-01   9.85840000e-01   5.06460000e-01   9.98010000e-01]\n",
      " [  9.86610000e-01   9.81990000e-01   5.06180000e-01   9.94520000e-01]\n",
      " [  9.80590000e-01   9.94490000e-01   4.98100000e-01   9.99420000e-01]\n",
      " [  9.94760000e-01   9.83710000e-01   4.94280000e-01   9.90780000e-01]\n",
      " [  9.82990000e-01   9.91920000e-01   4.92560000e-01   9.99580000e-01]\n",
      " [  9.82860000e-01   9.97030000e-01   4.99160000e-01   9.99050000e-01]\n",
      " [  9.98610000e-01   9.85200000e-01   5.08890000e-01   9.87030000e-01]\n",
      " [  9.90530000e-01   9.88350000e-01   5.04960000e-01   9.95090000e-01]\n",
      " [  9.83430000e-01   9.94330000e-01   5.09610000e-01   9.92400000e-01]\n",
      " [  9.97860000e-01   9.96030000e-01   4.90470000e-01   9.94970000e-01]\n",
      " [  9.88240000e-01   9.85510000e-01   5.00560000e-01   9.90870000e-01]\n",
      " [  9.86040000e-01   9.92740000e-01   4.99500000e-01   9.95020000e-01]\n",
      " [  9.87790000e-01   9.92200000e-01   5.08830000e-01   9.81250000e-01]\n",
      " [  9.86460000e-01   9.97520000e-01   5.02680000e-01   9.92460000e-01]\n",
      " [  9.95850000e-01   9.94790000e-01   5.08020000e-01   9.82400000e-01]\n",
      " [  9.94920000e-01   9.88940000e-01   4.97320000e-01   9.85400000e-01]\n",
      " [  9.89450000e-01   9.97150000e-01   5.09590000e-01   9.95120000e-01]\n",
      " [  9.96160000e-01   9.88470000e-01   5.02090000e-01   9.83340000e-01]\n",
      " [  9.90570000e-01   9.96330000e-01   4.93450000e-01   9.86040000e-01]\n",
      " [  9.81650000e-01   9.82700000e-01   4.92280000e-01   9.81240000e-01]\n",
      " [  9.97670000e-01   9.86890000e-01   5.09650000e-01   9.93380000e-01]\n",
      " [  9.85560000e-01   9.93230000e-01   4.95340000e-01   9.90430000e-01]\n",
      " [  9.85230000e-01   9.95730000e-01   5.06350000e-01   9.91030000e-01]\n",
      " [  9.80460000e-01   9.93640000e-01   4.94930000e-01   9.92070000e-01]\n",
      " [  9.94110000e-01   9.86220000e-01   5.06180000e-01   9.93830000e-01]\n",
      " [  9.88570000e-01   9.90130000e-01   5.02290000e-01   9.86810000e-01]\n",
      " [  9.96510000e-01   9.92960000e-01   4.96280000e-01   9.97540000e-01]\n",
      " [  9.83360000e-01   9.89210000e-01   4.90590000e-01   9.80620000e-01]\n",
      " [  9.81690000e-01   9.92650000e-01   5.02570000e-01   9.96510000e-01]\n",
      " [  9.91550000e-01   9.86010000e-01   5.09410000e-01   9.92080000e-01]\n",
      " [  9.87310000e-01   9.89120000e-01   5.02810000e-01   9.99730000e-01]\n",
      " [  9.95080000e-01   9.88020000e-01   5.06150000e-01   9.86010000e-01]\n",
      " [  9.98190000e-01   9.98140000e-01   5.03110000e-01   9.91520000e-01]\n",
      " [  9.82110000e-01   9.97860000e-01   5.02610000e-01   9.81680000e-01]\n",
      " [  9.89440000e-01   9.82620000e-01   5.01660000e-01   9.86550000e-01]\n",
      " [  9.95150000e-01   9.80940000e-01   4.91030000e-01   9.81610000e-01]\n",
      " [  9.83060000e-01   9.93530000e-01   5.01230000e-01   9.84540000e-01]\n",
      " [  9.82220000e-01   9.82960000e-01   4.91670000e-01   9.92830000e-01]\n",
      " [  9.96280000e-01   9.88320000e-01   5.00240000e-01   9.95120000e-01]\n",
      " [  9.96010000e-01   9.93790000e-01   5.02600000e-01   9.90320000e-01]\n",
      " [  9.91890000e-01   9.90500000e-01   5.09430000e-01   9.81650000e-01]\n",
      " [  9.95440000e-01   9.90990000e-01   4.92870000e-01   9.96710000e-01]\n",
      " [  9.90840000e-01   9.95300000e-01   5.01000000e-01   9.87130000e-01]\n",
      " [  9.93940000e-01   9.97040000e-01   4.93770000e-01   9.84010000e-01]\n",
      " [  9.90880000e-01   9.98270000e-01   4.91270000e-01   9.87300000e-01]\n",
      " [  9.81910000e-01   9.90070000e-01   5.05400000e-01   9.83100000e-01]\n",
      " [  9.94970000e-01   9.97440000e-01   5.04450000e-01   9.81410000e-01]\n",
      " [  9.94610000e-01   9.83190000e-01   5.04030000e-01   9.90440000e-01]\n",
      " [  9.95530000e-01   9.85530000e-01   4.95130000e-01   9.96080000e-01]\n",
      " [  9.96530000e-01   9.94030000e-01   5.00030000e-01   9.85220000e-01]\n",
      " [  9.97910000e-01   9.99870000e-01   4.98200000e-01   9.81010000e-01]\n",
      " [  9.81520000e-01   9.81140000e-01   5.06980000e-01   9.81020000e-01]\n",
      " [  9.80990000e-01   9.82200000e-01   5.04450000e-01   9.80710000e-01]\n",
      " [  9.82110000e-01   9.80940000e-01   4.97020000e-01   9.92750000e-01]\n",
      " [  9.94940000e-01   9.93930000e-01   5.02340000e-01   9.84310000e-01]\n",
      " [  9.96540000e-01   9.92250000e-01   4.96130000e-01   9.96090000e-01]\n",
      " [  9.83990000e-01   9.80580000e-01   5.02780000e-01   9.86550000e-01]\n",
      " [  9.96770000e-01   9.82510000e-01   4.97030000e-01   9.92200000e-01]\n",
      " [  9.81180000e-01   9.97900000e-01   4.91800000e-01   9.81180000e-01]\n",
      " [  9.89330000e-01   9.85950000e-01   5.00620000e-01   9.92000000e-01]\n",
      " [  9.87710000e-01   9.99330000e-01   5.02870000e-01   9.99690000e-01]\n",
      " [  9.88790000e-01   9.94420000e-01   4.97470000e-01   9.81350000e-01]]\n",
      "% debug % cluster i 1 cluster j 3\n",
      "[[ 0.49268]\n",
      " [ 0.49296]\n",
      " [ 0.49783]\n",
      " [ 0.50346]\n",
      " [ 0.50974]\n",
      " [ 0.49857]\n",
      " [ 0.4954 ]\n",
      " [ 0.49598]\n",
      " [ 0.49702]\n",
      " [ 0.50023]\n",
      " [ 0.49877]\n",
      " [ 0.49839]\n",
      " [ 0.50989]\n",
      " [ 0.50643]\n",
      " [ 0.50327]\n",
      " [ 0.49811]\n",
      " [ 0.49876]\n",
      " [ 0.50465]\n",
      " [ 0.50709]\n",
      " [ 0.50156]\n",
      " [ 0.49798]\n",
      " [ 0.5024 ]\n",
      " [ 0.50732]\n",
      " [ 0.50273]\n",
      " [ 0.49458]\n",
      " [ 0.50105]\n",
      " [ 0.49674]\n",
      " [ 0.49258]\n",
      " [ 0.50765]\n",
      " [ 0.49974]\n",
      " [ 0.50497]\n",
      " [ 0.49702]\n",
      " [ 0.50111]\n",
      " [ 0.50618]\n",
      " [ 0.49863]\n",
      " [ 0.49321]\n",
      " [ 0.49961]\n",
      " [ 0.49628]\n",
      " [ 0.49832]\n",
      " [ 0.50464]\n",
      " [ 0.497  ]\n",
      " [ 0.49829]\n",
      " [ 0.5021 ]\n",
      " [ 0.49443]\n",
      " [ 0.50338]\n",
      " [ 0.50798]\n",
      " [ 0.50926]\n",
      " [ 0.50971]\n",
      " [ 0.49271]\n",
      " [ 0.5096 ]\n",
      " [ 0.50573]\n",
      " [ 0.50197]\n",
      " [ 0.49977]\n",
      " [ 0.50381]\n",
      " [ 0.49132]\n",
      " [ 0.50332]\n",
      " [ 0.50965]\n",
      " [ 0.4966 ]\n",
      " [ 0.49174]\n",
      " [ 0.50455]\n",
      " [ 0.49586]\n",
      " [ 0.49933]\n",
      " [ 0.50912]\n",
      " [ 0.49023]\n",
      " [ 0.50045]\n",
      " [ 0.50786]\n",
      " [ 0.50801]\n",
      " [ 0.49105]\n",
      " [ 0.49945]\n",
      " [ 0.49279]\n",
      " [ 0.50257]\n",
      " [ 0.50761]\n",
      " [ 0.50525]\n",
      " [ 0.4924 ]\n",
      " [ 0.49124]\n",
      " [ 0.49594]\n",
      " [ 0.50677]\n",
      " [ 0.50368]\n",
      " [ 0.50857]\n",
      " [ 0.49594]\n",
      " [ 0.4903 ]\n",
      " [ 0.50417]\n",
      " [ 0.49604]\n",
      " [ 0.49839]\n",
      " [ 0.49645]\n",
      " [ 0.50073]\n",
      " [ 0.50016]\n",
      " [ 0.50449]\n",
      " [ 0.49589]\n",
      " [ 0.50303]\n",
      " [ 0.50103]\n",
      " [ 0.49961]\n",
      " [ 0.49557]\n",
      " [ 0.50466]\n",
      " [ 0.50633]\n",
      " [ 0.49551]\n",
      " [ 0.50024]\n",
      " [ 0.4902 ]\n",
      " [ 0.49733]\n",
      " [ 0.49612]\n",
      " [ 0.49875]\n",
      " [ 0.49897]\n",
      " [ 0.49702]\n",
      " [ 0.49494]\n",
      " [ 0.50723]\n",
      " [ 0.50607]\n",
      " [ 0.50828]\n",
      " [ 0.49482]\n",
      " [ 0.4985 ]\n",
      " [ 0.50834]\n",
      " [ 0.49102]\n",
      " [ 0.49924]\n",
      " [ 0.49858]\n",
      " [ 0.50934]\n",
      " [ 0.50408]\n",
      " [ 0.50814]\n",
      " [ 0.50207]\n",
      " [ 0.50501]\n",
      " [ 0.49706]\n",
      " [ 0.50432]\n",
      " [ 0.4938 ]\n",
      " [ 0.50891]\n",
      " [ 0.50426]\n",
      " [ 0.49804]\n",
      " [ 0.505  ]\n",
      " [ 0.49293]\n",
      " [ 0.4921 ]\n",
      " [ 0.494  ]\n",
      " [ 0.49913]\n",
      " [ 0.4941 ]\n",
      " [ 0.50581]\n",
      " [ 0.50131]\n",
      " [ 0.49046]\n",
      " [ 0.50423]\n",
      " [ 0.49425]\n",
      " [ 0.49252]]\n",
      "% debug % cluster i 2 cluster j 1\n",
      "[[ 0.        0.99446 ]\n",
      " [ 0.013516  0.98347 ]]\n",
      "% debug % cluster i 2 cluster j 2\n",
      "[[ 0.98229  0.99556  0.50189  0.98244]\n",
      " [ 0.99009  0.99002  0.49877  0.99295]]\n",
      "% debug % cluster i 2 cluster j 3\n",
      "[[ 0.49983]\n",
      " [ 0.49766]]\n"
     ]
    },
    {
     "name": "stderr",
     "output_type": "stream",
     "text": [
      "/home/a20125359/anaconda3/envs/Biclustering/lib/python3.6/site-packages/seaborn/timeseries.py:183: UserWarning: The tsplot function is deprecated and will be removed or replaced (in a substantially altered version) in a future release.\n",
      "  warnings.warn(msg, UserWarning)\n"
     ]
    },
    {
     "data": {
      "image/png": "[encoded data removed]",
      "text/plain": [
       "<matplotlib.figure.Figure at 0x7fa4f19ed128>"
      ]
     },
     "metadata": {},
     "output_type": "display_data"
    }
   ],
   "source": [
    "rapooc.core_co_clustering()"
   ]
  },
  {
   "cell_type": "code",
   "execution_count": 538,
   "metadata": {},
   "outputs": [
    {
     "data": {
      "text/plain": [
       "array([ 3.,  1.,  1.,  2.,  1.,  3.,  2.])"
      ]
     },
     "execution_count": 538,
     "metadata": {},
     "output_type": "execute_result"
    }
   ],
   "source": [
    "rapooc.gamma"
   ]
  },
  {
   "cell_type": "code",
   "execution_count": 539,
   "metadata": {},
   "outputs": [
    {
     "data": {
      "text/plain": [
       "array([ 1.,  1.,  1.,  0.,  1.,  1.,  1.,  1.,  1.,  1.,  1.,  1.,  1.,\n",
       "        0.,  1.,  1.,  1.,  0.,  1.,  1.,  1.,  1.,  1.,  1.,  1.,  1.,\n",
       "        1.,  1.,  0.,  1.,  1.,  0.,  1.,  1.,  1.,  1.,  1.,  1.,  1.,\n",
       "        0.,  1.,  1.,  1.,  1.,  1.,  1.,  1.,  1.,  1.,  1.,  1.,  1.,\n",
       "        1.,  1.,  1.,  1.,  1.,  1.,  0.,  1.,  0.,  1.,  1.,  1.,  0.,\n",
       "        1.,  0.,  1.,  1.,  0.,  1.,  1.,  1.,  1.,  0.,  1.,  1.,  0.,\n",
       "        1.,  1.,  0.,  0.,  1.,  1.,  1.,  0.,  1.,  1.,  0.,  1.,  1.,\n",
       "        1.,  0.,  1.,  1.,  1.,  1.,  2.,  2.,  0.])"
      ]
     },
     "execution_count": 539,
     "metadata": {},
     "output_type": "execute_result"
    }
   ],
   "source": [
    "rapooc.rho"
   ]
  },
  {
   "cell_type": "markdown",
   "metadata": {},
   "source": [
    "# Testing"
   ]
  },
  {
   "cell_type": "code",
   "execution_count": 398,
   "metadata": {},
   "outputs": [],
   "source": [
    "import seaborn as sns"
   ]
  },
  {
   "cell_type": "code",
   "execution_count": 566,
   "metadata": {},
   "outputs": [
    {
     "name": "stderr",
     "output_type": "stream",
     "text": [
      "/home/a20125359/anaconda3/envs/Biclustering/lib/python3.6/site-packages/seaborn/timeseries.py:183: UserWarning: The tsplot function is deprecated and will be removed or replaced (in a substantially altered version) in a future release.\n",
      "  warnings.warn(msg, UserWarning)\n"
     ]
    },
    {
     "data": {
      "image/png": "[encoded data removed]",
      "text/plain": [
       "<matplotlib.figure.Figure at 0x7fa4ec89e668>"
      ]
     },
     "metadata": {},
     "output_type": "display_data"
    }
   ],
   "source": [
    "ax = sns.tsplot(data=np.array(data), err_style=\"unit_traces\")"
   ]
  },
  {
   "cell_type": "code",
   "execution_count": 400,
   "metadata": {},
   "outputs": [
    {
     "data": {
      "text/html": [
       "<div>\n",
       "<style>\n",
       "    .dataframe thead tr:only-child th {\n",
       "        text-align: right;\n",
       "    }\n",
       "\n",
       "    .dataframe thead th {\n",
       "        text-align: left;\n",
       "    }\n",
       "\n",
       "    .dataframe tbody tr th {\n",
       "        vertical-align: top;\n",
       "    }\n",
       "</style>\n",
       "<table border=\"1\" class=\"dataframe\">\n",
       "  <thead>\n",
       "    <tr style=\"text-align: right;\">\n",
       "      <th></th>\n",
       "      <th>0</th>\n",
       "      <th>1</th>\n",
       "      <th>2</th>\n",
       "      <th>3</th>\n",
       "      <th>4</th>\n",
       "      <th>5</th>\n",
       "      <th>6</th>\n",
       "    </tr>\n",
       "  </thead>\n",
       "  <tbody>\n",
       "    <tr>\n",
       "      <th>0</th>\n",
       "      <td>0.015521</td>\n",
       "      <td>0.013931</td>\n",
       "      <td>0.49935</td>\n",
       "      <td>0.98560</td>\n",
       "      <td>0.49268</td>\n",
       "      <td>0.006029</td>\n",
       "      <td>0.010850</td>\n",
       "    </tr>\n",
       "    <tr>\n",
       "      <th>1</th>\n",
       "      <td>0.007642</td>\n",
       "      <td>0.007915</td>\n",
       "      <td>0.49475</td>\n",
       "      <td>0.98089</td>\n",
       "      <td>0.49296</td>\n",
       "      <td>0.008737</td>\n",
       "      <td>0.007426</td>\n",
       "    </tr>\n",
       "    <tr>\n",
       "      <th>2</th>\n",
       "      <td>0.009314</td>\n",
       "      <td>0.000106</td>\n",
       "      <td>0.50717</td>\n",
       "      <td>0.98620</td>\n",
       "      <td>0.49783</td>\n",
       "      <td>0.007664</td>\n",
       "      <td>0.016632</td>\n",
       "    </tr>\n",
       "    <tr>\n",
       "      <th>3</th>\n",
       "      <td>0.003243</td>\n",
       "      <td>0.006791</td>\n",
       "      <td>0.50297</td>\n",
       "      <td>0.98170</td>\n",
       "      <td>0.50450</td>\n",
       "      <td>0.004663</td>\n",
       "      <td>0.018980</td>\n",
       "    </tr>\n",
       "    <tr>\n",
       "      <th>4</th>\n",
       "      <td>0.010901</td>\n",
       "      <td>0.011237</td>\n",
       "      <td>0.49306</td>\n",
       "      <td>0.98213</td>\n",
       "      <td>0.50162</td>\n",
       "      <td>0.017864</td>\n",
       "      <td>0.001509</td>\n",
       "    </tr>\n",
       "  </tbody>\n",
       "</table>\n",
       "</div>"
      ],
      "text/plain": [
       "          0         1        2        3        4         5         6\n",
       "0  0.015521  0.013931  0.49935  0.98560  0.49268  0.006029  0.010850\n",
       "1  0.007642  0.007915  0.49475  0.98089  0.49296  0.008737  0.007426\n",
       "2  0.009314  0.000106  0.50717  0.98620  0.49783  0.007664  0.016632\n",
       "3  0.003243  0.006791  0.50297  0.98170  0.50450  0.004663  0.018980\n",
       "4  0.010901  0.011237  0.49306  0.98213  0.50162  0.017864  0.001509"
      ]
     },
     "execution_count": 400,
     "metadata": {},
     "output_type": "execute_result"
    }
   ],
   "source": [
    "data.head()"
   ]
  },
  {
   "cell_type": "code",
   "execution_count": 401,
   "metadata": {},
   "outputs": [
    {
     "data": {
      "image/png": "[encoded data removed]",
      "text/plain": [
       "<matplotlib.figure.Figure at 0x7fa4ec58f9e8>"
      ]
     },
     "metadata": {},
     "output_type": "display_data"
    }
   ],
   "source": [
    "fit_data = np.array(data)[np.argsort(rapooc.rho)]\n",
    "fit_data = fit_data[:, np.argsort(rapooc.gamma)]\n",
    "plt.matshow(fit_data, cmap=plt.cm.Blues)\n",
    "plt.title(\"After biclustering; rearranged to show biclusters\")\n",
    "\n",
    "plt.show()"
   ]
  },
  {
   "cell_type": "code",
   "execution_count": 402,
   "metadata": {},
   "outputs": [
    {
     "data": {
      "text/plain": [
       "Text(0.5,1.05,'Original dataset')"
      ]
     },
     "execution_count": 402,
     "metadata": {},
     "output_type": "execute_result"
    },
    {
     "data": {
      "image/png": "[encoded data removed]",
      "text/plain": [
       "<matplotlib.figure.Figure at 0x7fa4ec382278>"
      ]
     },
     "metadata": {},
     "output_type": "display_data"
    }
   ],
   "source": [
    "plt.matshow(data, cmap=plt.cm.Blues)\n",
    "plt.title(\"Original dataset\")"
   ]
  },
  {
   "cell_type": "code",
   "execution_count": 453,
   "metadata": {},
   "outputs": [],
   "source": [
    "from sklearn.datasets import make_biclusters\n",
    "from sklearn.datasets import samples_generator as sg\n",
    "from sklearn.preprocessing import MinMaxScaler\n",
    "test_data, rows, columns = make_biclusters(\n",
    "    shape=(100, 7), n_clusters=5, noise=0,\n",
    "    shuffle=False, random_state=0)"
   ]
  },
  {
   "cell_type": "code",
   "execution_count": 454,
   "metadata": {},
   "outputs": [
    {
     "data": {
      "text/plain": [
       "Text(0.5,1.05,'Shuffled dataset')"
      ]
     },
     "execution_count": 454,
     "metadata": {},
     "output_type": "execute_result"
    },
    {
     "data": {
      "image/png": "[encoded data removed]",
      "text/plain": [
       "<matplotlib.figure.Figure at 0x7fa4eca3ac50>"
      ]
     },
     "metadata": {},
     "output_type": "display_data"
    },
    {
     "data": {
      "image/png": "[encoded data removed]",
      "text/plain": [
       "<matplotlib.figure.Figure at 0x7fa4ef3fb748>"
      ]
     },
     "metadata": {},
     "output_type": "display_data"
    }
   ],
   "source": [
    "plt.matshow(test_data, cmap=plt.cm.Blues)\n",
    "plt.title(\"Original dataset\")\n",
    "\n",
    "scaler = MinMaxScaler()\n",
    "scaler.fit(test_data)\n",
    "test_data = scaler.transform(test_data)\n",
    "\n",
    "# test_data, row_idx, col_idx = sg._shuffle(test_data, random_state=0)\n",
    "plt.matshow(test_data, cmap=plt.cm.Blues)\n",
    "plt.title(\"Shuffled dataset\")"
   ]
  },
  {
   "cell_type": "code",
   "execution_count": 455,
   "metadata": {},
   "outputs": [
    {
     "name": "stderr",
     "output_type": "stream",
     "text": [
      "/home/a20125359/anaconda3/envs/Biclustering/lib/python3.6/site-packages/seaborn/timeseries.py:183: UserWarning: The tsplot function is deprecated and will be removed or replaced (in a substantially altered version) in a future release.\n",
      "  warnings.warn(msg, UserWarning)\n"
     ]
    },
    {
     "data": {
      "image/png": "[encoded data removed]",
      "text/plain": [
       "<matplotlib.figure.Figure at 0x7fa4edb35d68>"
      ]
     },
     "metadata": {},
     "output_type": "display_data"
    }
   ],
   "source": [
    "ax = sns.tsplot(data=np.array(test_data), err_style=\"unit_traces\")"
   ]
  },
  {
   "cell_type": "code",
   "execution_count": 468,
   "metadata": {},
   "outputs": [],
   "source": [
    "rapooc_test = Rapooc_test(test_data,4,5,20)\n",
    "rapooc_test.initialize()"
   ]
  },
  {
   "cell_type": "code",
   "execution_count": 469,
   "metadata": {},
   "outputs": [
    {
     "data": {
      "text/plain": [
       "array([ 2.,  1.,  1.,  4.,  3.,  3.,  5.])"
      ]
     },
     "execution_count": 469,
     "metadata": {},
     "output_type": "execute_result"
    }
   ],
   "source": [
    "rapooc_test.gamma"
   ]
  },
  {
   "cell_type": "code",
   "execution_count": 470,
   "metadata": {},
   "outputs": [
    {
     "data": {
      "text/plain": [
       "array([ 1.,  1.,  1.,  1.,  1.,  1.,  1.,  1.,  1.,  1.,  1.,  1.,  1.,\n",
       "        1.,  1.,  1.,  1.,  1.,  1.,  1.,  1.,  3.,  3.,  3.,  3.,  3.,\n",
       "        3.,  3.,  3.,  3.,  3.,  3.,  3.,  3.,  3.,  3.,  3.,  3.,  3.,\n",
       "        3.,  2.,  2.,  2.,  2.,  2.,  2.,  2.,  2.,  2.,  2.,  2.,  2.,\n",
       "        2.,  2.,  2.,  2.,  2.,  2.,  2.,  2.,  2.,  2.,  2.,  2.,  2.,\n",
       "        4.,  4.,  4.,  4.,  4.,  4.,  4.,  4.,  4.,  4.,  4.,  4.,  4.,\n",
       "        4.,  4.,  4.,  4.,  4.,  4.,  4.,  4.,  4.,  4.,  4.,  4.,  4.,\n",
       "        4.,  4.,  4.,  4.,  4.,  4.,  4.,  4.,  4.])"
      ]
     },
     "execution_count": 470,
     "metadata": {},
     "output_type": "execute_result"
    }
   ],
   "source": [
    "rapooc_test.rho"
   ]
  },
  {
   "cell_type": "code",
   "execution_count": 471,
   "metadata": {},
   "outputs": [
    {
     "name": "stdout",
     "output_type": "stream",
     "text": [
      "[[ 0.  0.  0.  0.  0.  0.]\n",
      " [ 0.  1.  1.  1.  1.  1.]\n",
      " [ 0.  1.  1.  1.  1.  1.]\n",
      " [ 0.  1.  1.  1.  1.  1.]\n",
      " [ 0.  1.  1.  1.  1.  1.]\n",
      " [ 0.  0.  0.  0.  0.  0.]]\n",
      "% debug % x_idx, y_idx 1.0\n",
      "% debug % x_idx, y_idx 1.0\n",
      "% debug % x_idx, y_idx 1.0\n",
      "% debug % x_idx, y_idx 1.0\n",
      "% debug % x_idx, y_idx 1.0\n",
      "% debug % x_idx, y_idx 1.0\n",
      "% debug % x_idx, y_idx 1.0\n",
      "% debug % x_idx, y_idx 1.0\n",
      "% debug % x_idx, y_idx 1.0\n",
      "% debug % x_idx, y_idx 1.0\n",
      "% debug % x_idx, y_idx 1.0\n",
      "% debug % x_idx, y_idx 1.0\n",
      "% debug % x_idx, y_idx 1.0\n",
      "% debug % x_idx, y_idx 1.0\n",
      "% debug % x_idx, y_idx 1.0\n",
      "% debug % x_idx, y_idx 1.0\n",
      "% debug % x_idx, y_idx 1.0\n",
      "% debug % x_idx, y_idx 1.0\n",
      "% debug % x_idx, y_idx 1.0\n",
      "% debug % x_idx, y_idx 1.0\n",
      "%debug % FO value 1.0accumulator 20.0\n",
      "Finishing core-coclustering\n",
      "Number of iterations 0\n",
      "Objective function 1.0 at iter 0\n",
      "Number of repetitions 0\n"
     ]
    }
   ],
   "source": [
    "rapooc_test.core_co_clustering()"
   ]
  },
  {
   "cell_type": "code",
   "execution_count": 472,
   "metadata": {},
   "outputs": [
    {
     "data": {
      "image/png": "[encoded data removed]",
      "text/plain": [
       "<matplotlib.figure.Figure at 0x7fa4ec2ee048>"
      ]
     },
     "metadata": {},
     "output_type": "display_data"
    }
   ],
   "source": [
    "fit_data = np.array(test_data)[np.argsort(rapooc_test.rho)]\n",
    "fit_data = fit_data[:, np.argsort(rapooc_test.gamma)]\n",
    "plt.matshow(fit_data, cmap=plt.cm.Blues)\n",
    "plt.title(\"After biclustering; rearranged to show biclusters\")\n",
    "\n",
    "plt.show()"
   ]
  },
  {
   "cell_type": "code",
   "execution_count": 473,
   "metadata": {},
   "outputs": [],
   "source": [
    "model_rows = list()\n",
    "for i in range(1,int(max(rapooc_test.rho)) + 1):\n",
    "    r = list()\n",
    "    for j in range(0,len(rapooc_test.rho)):\n",
    "        r.append(i==rapooc_test.rho[j])\n",
    "    model_rows.append(r)"
   ]
  },
  {
   "cell_type": "code",
   "execution_count": 474,
   "metadata": {},
   "outputs": [],
   "source": [
    "model_columns = list()\n",
    "for i in range(1,int(max(rapooc_test.gamma)) + 1):\n",
    "    r = list()\n",
    "    for j in range(0,len(rapooc_test.gamma)):\n",
    "        r.append(i==rapooc_test.gamma[j])\n",
    "    model_columns.append(r)\n",
    "\n",
    "model = (np.array(model_rows),np.array(model_columns))"
   ]
  },
  {
   "cell_type": "code",
   "execution_count": 476,
   "metadata": {},
   "outputs": [
    {
     "ename": "ValueError",
     "evalue": "Found input variables with inconsistent numbers of samples: [4, 5]",
     "output_type": "error",
     "traceback": [
      "\u001b[0;31m---------------------------------------------------------------------------\u001b[0m",
      "\u001b[0;31mValueError\u001b[0m                                Traceback (most recent call last)",
      "\u001b[0;32m<ipython-input-476-98d1e59a0b82>\u001b[0m in \u001b[0;36m<module>\u001b[0;34m()\u001b[0m\n\u001b[1;32m      2\u001b[0m \u001b[0;34m\u001b[0m\u001b[0m\n\u001b[1;32m      3\u001b[0m score = consensus_score(model,\n\u001b[0;32m----> 4\u001b[0;31m                         (rows[:, row_idx], columns[:, col_idx]))\n\u001b[0m",
      "\u001b[0;32m~/anaconda3/envs/Biclustering/lib/python3.6/site-packages/sklearn/metrics/cluster/bicluster.py\u001b[0m in \u001b[0;36mconsensus_score\u001b[0;34m(a, b, similarity)\u001b[0m\n\u001b[1;32m     80\u001b[0m     \u001b[0;32mif\u001b[0m \u001b[0msimilarity\u001b[0m \u001b[0;34m==\u001b[0m \u001b[0;34m\"jaccard\"\u001b[0m\u001b[0;34m:\u001b[0m\u001b[0;34m\u001b[0m\u001b[0m\n\u001b[1;32m     81\u001b[0m         \u001b[0msimilarity\u001b[0m \u001b[0;34m=\u001b[0m \u001b[0m_jaccard\u001b[0m\u001b[0;34m\u001b[0m\u001b[0m\n\u001b[0;32m---> 82\u001b[0;31m     \u001b[0mmatrix\u001b[0m \u001b[0;34m=\u001b[0m \u001b[0m_pairwise_similarity\u001b[0m\u001b[0;34m(\u001b[0m\u001b[0ma\u001b[0m\u001b[0;34m,\u001b[0m \u001b[0mb\u001b[0m\u001b[0;34m,\u001b[0m \u001b[0msimilarity\u001b[0m\u001b[0;34m)\u001b[0m\u001b[0;34m\u001b[0m\u001b[0m\n\u001b[0m\u001b[1;32m     83\u001b[0m     \u001b[0mindices\u001b[0m \u001b[0;34m=\u001b[0m \u001b[0mlinear_assignment\u001b[0m\u001b[0;34m(\u001b[0m\u001b[0;36m1.\u001b[0m \u001b[0;34m-\u001b[0m \u001b[0mmatrix\u001b[0m\u001b[0;34m)\u001b[0m\u001b[0;34m\u001b[0m\u001b[0m\n\u001b[1;32m     84\u001b[0m     \u001b[0mn_a\u001b[0m \u001b[0;34m=\u001b[0m \u001b[0mlen\u001b[0m\u001b[0;34m(\u001b[0m\u001b[0ma\u001b[0m\u001b[0;34m[\u001b[0m\u001b[0;36m0\u001b[0m\u001b[0;34m]\u001b[0m\u001b[0;34m)\u001b[0m\u001b[0;34m\u001b[0m\u001b[0m\n",
      "\u001b[0;32m~/anaconda3/envs/Biclustering/lib/python3.6/site-packages/sklearn/metrics/cluster/bicluster.py\u001b[0m in \u001b[0;36m_pairwise_similarity\u001b[0;34m(a, b, similarity)\u001b[0m\n\u001b[1;32m     37\u001b[0m \u001b[0;34m\u001b[0m\u001b[0m\n\u001b[1;32m     38\u001b[0m     \"\"\"\n\u001b[0;32m---> 39\u001b[0;31m     \u001b[0ma_rows\u001b[0m\u001b[0;34m,\u001b[0m \u001b[0ma_cols\u001b[0m\u001b[0;34m,\u001b[0m \u001b[0mb_rows\u001b[0m\u001b[0;34m,\u001b[0m \u001b[0mb_cols\u001b[0m \u001b[0;34m=\u001b[0m \u001b[0m_check_rows_and_columns\u001b[0m\u001b[0;34m(\u001b[0m\u001b[0ma\u001b[0m\u001b[0;34m,\u001b[0m \u001b[0mb\u001b[0m\u001b[0;34m)\u001b[0m\u001b[0;34m\u001b[0m\u001b[0m\n\u001b[0m\u001b[1;32m     40\u001b[0m     \u001b[0mn_a\u001b[0m \u001b[0;34m=\u001b[0m \u001b[0ma_rows\u001b[0m\u001b[0;34m.\u001b[0m\u001b[0mshape\u001b[0m\u001b[0;34m[\u001b[0m\u001b[0;36m0\u001b[0m\u001b[0;34m]\u001b[0m\u001b[0;34m\u001b[0m\u001b[0m\n\u001b[1;32m     41\u001b[0m     \u001b[0mn_b\u001b[0m \u001b[0;34m=\u001b[0m \u001b[0mb_rows\u001b[0m\u001b[0;34m.\u001b[0m\u001b[0mshape\u001b[0m\u001b[0;34m[\u001b[0m\u001b[0;36m0\u001b[0m\u001b[0;34m]\u001b[0m\u001b[0;34m\u001b[0m\u001b[0m\n",
      "\u001b[0;32m~/anaconda3/envs/Biclustering/lib/python3.6/site-packages/sklearn/metrics/cluster/bicluster.py\u001b[0m in \u001b[0;36m_check_rows_and_columns\u001b[0;34m(a, b)\u001b[0m\n\u001b[1;32m     11\u001b[0m \u001b[0;32mdef\u001b[0m \u001b[0m_check_rows_and_columns\u001b[0m\u001b[0;34m(\u001b[0m\u001b[0ma\u001b[0m\u001b[0;34m,\u001b[0m \u001b[0mb\u001b[0m\u001b[0;34m)\u001b[0m\u001b[0;34m:\u001b[0m\u001b[0;34m\u001b[0m\u001b[0m\n\u001b[1;32m     12\u001b[0m     \u001b[0;34m\"\"\"Unpacks the row and column arrays and checks their shape.\"\"\"\u001b[0m\u001b[0;34m\u001b[0m\u001b[0m\n\u001b[0;32m---> 13\u001b[0;31m     \u001b[0mcheck_consistent_length\u001b[0m\u001b[0;34m(\u001b[0m\u001b[0;34m*\u001b[0m\u001b[0ma\u001b[0m\u001b[0;34m)\u001b[0m\u001b[0;34m\u001b[0m\u001b[0m\n\u001b[0m\u001b[1;32m     14\u001b[0m     \u001b[0mcheck_consistent_length\u001b[0m\u001b[0;34m(\u001b[0m\u001b[0;34m*\u001b[0m\u001b[0mb\u001b[0m\u001b[0;34m)\u001b[0m\u001b[0;34m\u001b[0m\u001b[0m\n\u001b[1;32m     15\u001b[0m     \u001b[0mchecks\u001b[0m \u001b[0;34m=\u001b[0m \u001b[0;32mlambda\u001b[0m \u001b[0mx\u001b[0m\u001b[0;34m:\u001b[0m \u001b[0mcheck_array\u001b[0m\u001b[0;34m(\u001b[0m\u001b[0mx\u001b[0m\u001b[0;34m,\u001b[0m \u001b[0mensure_2d\u001b[0m\u001b[0;34m=\u001b[0m\u001b[0;32mFalse\u001b[0m\u001b[0;34m)\u001b[0m\u001b[0;34m\u001b[0m\u001b[0m\n",
      "\u001b[0;32m~/anaconda3/envs/Biclustering/lib/python3.6/site-packages/sklearn/utils/validation.py\u001b[0m in \u001b[0;36mcheck_consistent_length\u001b[0;34m(*arrays)\u001b[0m\n\u001b[1;32m    171\u001b[0m     \u001b[0;32mif\u001b[0m \u001b[0mlen\u001b[0m\u001b[0;34m(\u001b[0m\u001b[0muniques\u001b[0m\u001b[0;34m)\u001b[0m \u001b[0;34m>\u001b[0m \u001b[0;36m1\u001b[0m\u001b[0;34m:\u001b[0m\u001b[0;34m\u001b[0m\u001b[0m\n\u001b[1;32m    172\u001b[0m         raise ValueError(\"Found input variables with inconsistent numbers of\"\n\u001b[0;32m--> 173\u001b[0;31m                          \" samples: %r\" % [int(l) for l in lengths])\n\u001b[0m\u001b[1;32m    174\u001b[0m \u001b[0;34m\u001b[0m\u001b[0m\n\u001b[1;32m    175\u001b[0m \u001b[0;34m\u001b[0m\u001b[0m\n",
      "\u001b[0;31mValueError\u001b[0m: Found input variables with inconsistent numbers of samples: [4, 5]"
     ]
    }
   ],
   "source": [
    "from sklearn.metrics import consensus_score\n",
    "\n",
    "score = consensus_score(model,\n",
    "                        (rows[:, row_idx], columns[:, col_idx]))"
   ]
  },
  {
   "cell_type": "code",
   "execution_count": null,
   "metadata": {},
   "outputs": [],
   "source": [
    "score"
   ]
  },
  {
   "cell_type": "code",
   "execution_count": 477,
   "metadata": {},
   "outputs": [],
   "source": [
    "a = np.array([ [0.0] * ((3) + 2)  for _ in range(int(2+ 1))])"
   ]
  },
  {
   "cell_type": "code",
   "execution_count": 478,
   "metadata": {},
   "outputs": [
    {
     "data": {
      "text/plain": [
       "array([[ 0.,  0.,  0.,  0.,  0.],\n",
       "       [ 0.,  0.,  0.,  0.,  0.],\n",
       "       [ 0.,  0.,  0.,  0.,  0.]])"
      ]
     },
     "execution_count": 478,
     "metadata": {},
     "output_type": "execute_result"
    }
   ],
   "source": [
    "a"
   ]
  },
  {
   "cell_type": "code",
   "execution_count": null,
   "metadata": {},
   "outputs": [],
   "source": []
  }
 ],
 "metadata": {
  "kernelspec": {
   "display_name": "Python 3",
   "language": "python",
   "name": "python3"
  },
  "language_info": {
   "codemirror_mode": {
    "name": "ipython",
    "version": 3
   },
   "file_extension": ".py",
   "mimetype": "text/x-python",
   "name": "python",
   "nbconvert_exporter": "python",
   "pygments_lexer": "ipython3",
   "version": "3.6.3"
  }
 },
 "nbformat": 4,
 "nbformat_minor": 2
}
