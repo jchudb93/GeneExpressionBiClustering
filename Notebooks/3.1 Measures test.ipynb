{
 "cells": [
  {
   "cell_type": "code",
   "execution_count": 11,
   "metadata": {},
   "outputs": [],
   "source": [
    "%matplotlib inline\n",
    "import numpy as np\n",
    "import math\n",
    "import pandas as pd\n",
    "import seaborn as sns\n",
    "from matplotlib import pyplot as plt"
   ]
  },
  {
   "cell_type": "code",
   "execution_count": 133,
   "metadata": {},
   "outputs": [],
   "source": [
    "class PositiveNegativeCorrelation(object):\n",
    "    def __init__(self, x, y, J):\n",
    "        self._x = x\n",
    "        self._y = y\n",
    "        self._J = J\n",
    "        self._x_mean = np.mean(x)\n",
    "        self._y_mean = np.mean(y)\n",
    "        self._H_pos = None\n",
    "        self._H_neg = None\n",
    "\n",
    "    @property\n",
    "    def H_pos(self):\n",
    "        if self._H_pos is None:\n",
    "            # print(\"Computing H positive...\")\n",
    "            self._H_pos = self._compute_H_pos()\n",
    "            # print(\"H positive value: \" + str(self._H_pos))\n",
    "        return self._H_pos\n",
    "\n",
    "    @property\n",
    "    def H_neg(self):\n",
    "        if self._H_neg is None:\n",
    "            # print(\"Computing H negative...\")\n",
    "            self._H_neg = self._compute_H_neg()\n",
    "            # print(\"H negative value: \" + str(self._H_neg))\n",
    "        return self._H_neg\n",
    "\n",
    "    def _compute_H_pos(self):\n",
    "        H_pos = 0\n",
    "        for j in range(self._J):\n",
    "            aux = (((self._x[j] - self._x_mean) -\n",
    "                    (self._y[j] - self._y_mean))/2.0)**2\n",
    "            print(\"% debug % j\" + str(j) + \" aux \" + str(aux) + \" xj \" + str(self._x[j] )+ \" yj \" +str(self._y[j]))\n",
    "            H_pos += aux\n",
    "        print(\"% debug % HP \" + str(H_pos))\n",
    "        print(\"% debug % HP/J \" + str((H_pos*1.0/math.fabs(self._J))))\n",
    "        H_pos = 1 - (H_pos*1.0/math.fabs(self._J))\n",
    "        return H_pos\n",
    "\n",
    "    def _compute_H_neg(self):\n",
    "        H_neg = 0\n",
    "        for j in range(self._J):\n",
    "            aux = (((self._x[j] - self._x_mean) +\n",
    "                    (self._y[j] - self._y_mean))/2.0)**2\n",
    "            H_neg += aux\n",
    "        H_neg *= 1.0/math.fabs(self._J)\n",
    "        H_neg = 1 - H_neg\n",
    "        return H_neg"
   ]
  },
  {
   "cell_type": "code",
   "execution_count": 90,
   "metadata": {},
   "outputs": [],
   "source": [
    "class PairBasedCoherence(object):\n",
    "    def __init__(self, X):\n",
    "        self._X = np.array(X)\n",
    "        self._I, self._J = X.shape\n",
    "        self._HP = None\n",
    "\n",
    "    @property\n",
    "    def HP(self):\n",
    "        if self._HP is None:\n",
    "            # print(\"Calculating Pair based coherence..\")\n",
    "            self._HP = self._compute_HP_()\n",
    "            # print(\"Paired based coherence value: \" + str(self._HP))\n",
    "        return self._HP\n",
    "\n",
    "    def _compute_HP_(self):\n",
    "        HP = 0\n",
    "        for i in range(self._I):\n",
    "            for j in range(i+1, self._I):\n",
    "                if (i==j): \n",
    "                    break\n",
    "                x = self._X[i]\n",
    "                y = self._X[j]\n",
    "                correlation = PositiveNegativeCorrelation(x, y,self._J)\n",
    "                H0 = correlation.H_pos\n",
    "                # H0 = max(correlation.H_pos,correlation.H_neg)\n",
    "                HP += H0\n",
    "        HP *= math.fabs(2.0)/(math.fabs(self._I)*(math.fabs(self._I)-1)) # if self._I > 1 else 0\n",
    "        \n",
    "        return HP"
   ]
  },
  {
   "cell_type": "code",
   "execution_count": 128,
   "metadata": {},
   "outputs": [
    {
     "data": {
      "text/html": [
       "<div>\n",
       "<style>\n",
       "    .dataframe thead tr:only-child th {\n",
       "        text-align: right;\n",
       "    }\n",
       "\n",
       "    .dataframe thead th {\n",
       "        text-align: left;\n",
       "    }\n",
       "\n",
       "    .dataframe tbody tr th {\n",
       "        vertical-align: top;\n",
       "    }\n",
       "</style>\n",
       "<table border=\"1\" class=\"dataframe\">\n",
       "  <thead>\n",
       "    <tr style=\"text-align: right;\">\n",
       "      <th></th>\n",
       "      <th>0</th>\n",
       "      <th>1</th>\n",
       "      <th>2</th>\n",
       "      <th>3</th>\n",
       "      <th>4</th>\n",
       "      <th>5</th>\n",
       "      <th>6</th>\n",
       "    </tr>\n",
       "  </thead>\n",
       "  <tbody>\n",
       "    <tr>\n",
       "      <th>0</th>\n",
       "      <td>-0.968958</td>\n",
       "      <td>-0.972138</td>\n",
       "      <td>-0.00130</td>\n",
       "      <td>0.97120</td>\n",
       "      <td>-0.01464</td>\n",
       "      <td>-0.987942</td>\n",
       "      <td>-0.978300</td>\n",
       "    </tr>\n",
       "    <tr>\n",
       "      <th>1</th>\n",
       "      <td>-0.984715</td>\n",
       "      <td>-0.984170</td>\n",
       "      <td>-0.01050</td>\n",
       "      <td>0.96178</td>\n",
       "      <td>-0.01408</td>\n",
       "      <td>-0.982526</td>\n",
       "      <td>-0.985149</td>\n",
       "    </tr>\n",
       "    <tr>\n",
       "      <th>2</th>\n",
       "      <td>-0.981372</td>\n",
       "      <td>-0.999788</td>\n",
       "      <td>0.01434</td>\n",
       "      <td>0.97240</td>\n",
       "      <td>-0.00434</td>\n",
       "      <td>-0.984673</td>\n",
       "      <td>-0.966736</td>\n",
       "    </tr>\n",
       "    <tr>\n",
       "      <th>3</th>\n",
       "      <td>-0.993515</td>\n",
       "      <td>-0.986418</td>\n",
       "      <td>0.00594</td>\n",
       "      <td>0.96340</td>\n",
       "      <td>0.00900</td>\n",
       "      <td>-0.990675</td>\n",
       "      <td>-0.962040</td>\n",
       "    </tr>\n",
       "    <tr>\n",
       "      <th>4</th>\n",
       "      <td>-0.978198</td>\n",
       "      <td>-0.977526</td>\n",
       "      <td>-0.01388</td>\n",
       "      <td>0.96426</td>\n",
       "      <td>0.00324</td>\n",
       "      <td>-0.964272</td>\n",
       "      <td>-0.996982</td>\n",
       "    </tr>\n",
       "  </tbody>\n",
       "</table>\n",
       "</div>"
      ],
      "text/plain": [
       "          0         1        2        3        4         5         6\n",
       "0 -0.968958 -0.972138 -0.00130  0.97120 -0.01464 -0.987942 -0.978300\n",
       "1 -0.984715 -0.984170 -0.01050  0.96178 -0.01408 -0.982526 -0.985149\n",
       "2 -0.981372 -0.999788  0.01434  0.97240 -0.00434 -0.984673 -0.966736\n",
       "3 -0.993515 -0.986418  0.00594  0.96340  0.00900 -0.990675 -0.962040\n",
       "4 -0.978198 -0.977526 -0.01388  0.96426  0.00324 -0.964272 -0.996982"
      ]
     },
     "execution_count": 128,
     "metadata": {},
     "output_type": "execute_result"
    }
   ],
   "source": [
    "data = pd.read_csv('TestData/SimulatedDataCoherence/HighCoherenceMix.csv',header=None)\n",
    "data = (data - 0.5) * 2.0\n",
    "data.head()"
   ]
  },
  {
   "cell_type": "code",
   "execution_count": 129,
   "metadata": {},
   "outputs": [],
   "source": [
    "coherence = PairBasedCoherence(data)"
   ]
  },
  {
   "cell_type": "markdown",
   "metadata": {},
   "source": [
    "plt.matshow(data, cmap=plt.cm.Blues)\n",
    "plt.title(\"Original dataset\")"
   ]
  },
  {
   "cell_type": "code",
   "execution_count": 134,
   "metadata": {},
   "outputs": [],
   "source": [
    "corr = PositiveNegativeCorrelation(np.array(data)[99],np.array(data)[100],data.shape[1])"
   ]
  },
  {
   "cell_type": "code",
   "execution_count": 135,
   "metadata": {},
   "outputs": [
    {
     "name": "stderr",
     "output_type": "stream",
     "text": [
      "/home/a20125359/anaconda3/envs/Biclustering/lib/python3.6/site-packages/seaborn/timeseries.py:183: UserWarning: The tsplot function is deprecated and will be removed or replaced (in a substantially altered version) in a future release.\n",
      "  warnings.warn(msg, UserWarning)\n"
     ]
    },
    {
     "data": {
      "text/plain": [
       "<matplotlib.axes._subplots.AxesSubplot at 0x7f023a0e98d0>"
      ]
     },
     "execution_count": 135,
     "metadata": {},
     "output_type": "execute_result"
    },
    {
     "data": {
      "image/png": "[encoded data removed]",
      "text/plain": [
       "<matplotlib.figure.Figure at 0x7f023a0ae780>"
      ]
     },
     "metadata": {},
     "output_type": "display_data"
    }
   ],
   "source": [
    "sns.tsplot(np.array(data)[99])"
   ]
  },
  {
   "cell_type": "code",
   "execution_count": 136,
   "metadata": {},
   "outputs": [
    {
     "name": "stderr",
     "output_type": "stream",
     "text": [
      "/home/a20125359/anaconda3/envs/Biclustering/lib/python3.6/site-packages/seaborn/timeseries.py:183: UserWarning: The tsplot function is deprecated and will be removed or replaced (in a substantially altered version) in a future release.\n",
      "  warnings.warn(msg, UserWarning)\n"
     ]
    },
    {
     "data": {
      "text/plain": [
       "<matplotlib.axes._subplots.AxesSubplot at 0x7f023a0ae4a8>"
      ]
     },
     "execution_count": 136,
     "metadata": {},
     "output_type": "execute_result"
    },
    {
     "data": {
      "image/png": "[encoded data removed]",
      "text/plain": [
       "<matplotlib.figure.Figure at 0x7f023a06f048>"
      ]
     },
     "metadata": {},
     "output_type": "display_data"
    }
   ],
   "source": [
    "sns.tsplot(np.array(data)[100])"
   ]
  },
  {
   "cell_type": "code",
   "execution_count": 137,
   "metadata": {},
   "outputs": [
    {
     "name": "stdout",
     "output_type": "stream",
     "text": [
      "% debug % j0 aux 0.313154778933 xj -0.973214 yj 0.97858\n",
      "% debug % j1 aux 0.328037361951 xj -0.99958024 yj 0.9785\n",
      "% debug % j2 aux 0.170969564055 xj 0.0131 yj 0.01872\n",
      "% debug % j3 aux 1.95691606205 xj 0.9723 yj -0.992907\n",
      "% debug % j4 aux 0.181658936399 xj 0.01648 yj -0.00336\n",
      "% debug % j5 aux 0.308443989785 xj -0.968944 yj 0.9744\n",
      "% debug % j6 aux 0.303460334977 xj -0.961114 yj 0.97322\n",
      "% debug % HP 3.56264102815\n",
      "% debug % HP/J 0.508948718307\n"
     ]
    },
    {
     "data": {
      "text/plain": [
       "0.49105128169253509"
      ]
     },
     "execution_count": 137,
     "metadata": {},
     "output_type": "execute_result"
    }
   ],
   "source": [
    "corr.H_pos"
   ]
  },
  {
   "cell_type": "code",
   "execution_count": 138,
   "metadata": {},
   "outputs": [
    {
     "data": {
      "text/plain": [
       "0.99992282607105087"
      ]
     },
     "execution_count": 138,
     "metadata": {},
     "output_type": "execute_result"
    }
   ],
   "source": [
    "corr.H_neg"
   ]
  },
  {
   "cell_type": "code",
   "execution_count": 65,
   "metadata": {},
   "outputs": [
    {
     "data": {
      "text/plain": [
       "0.29278769714285707"
      ]
     },
     "execution_count": 65,
     "metadata": {},
     "output_type": "execute_result"
    }
   ],
   "source": [
    "corr._x_mean"
   ]
  },
  {
   "cell_type": "code",
   "execution_count": 66,
   "metadata": {},
   "outputs": [
    {
     "data": {
      "text/plain": [
       "0.70908235714285717"
      ]
     },
     "execution_count": 66,
     "metadata": {},
     "output_type": "execute_result"
    }
   ],
   "source": [
    "corr._y_mean"
   ]
  },
  {
   "cell_type": "code",
   "execution_count": 64,
   "metadata": {},
   "outputs": [
    {
     "name": "stderr",
     "output_type": "stream",
     "text": [
      "/home/a20125359/anaconda3/envs/Biclustering/lib/python3.6/site-packages/seaborn/timeseries.py:183: UserWarning: The tsplot function is deprecated and will be removed or replaced (in a substantially altered version) in a future release.\n",
      "  warnings.warn(msg, UserWarning)\n"
     ]
    },
    {
     "data": {
      "text/plain": [
       "<matplotlib.axes._subplots.AxesSubplot at 0x7f023a73c128>"
      ]
     },
     "execution_count": 64,
     "metadata": {},
     "output_type": "execute_result"
    },
    {
     "data": {
      "image/png": "[encoded data removed]",
      "text/plain": [
       "<matplotlib.figure.Figure at 0x7f02452aecc0>"
      ]
     },
     "metadata": {},
     "output_type": "display_data"
    }
   ],
   "source": [
    "sns.tsplot(np.array(data)[99:101])"
   ]
  },
  {
   "cell_type": "code",
   "execution_count": 63,
   "metadata": {},
   "outputs": [
    {
     "data": {
      "text/plain": [
       "array([[  1.33930000e-02,   2.09880000e-04,   5.06550000e-01,\n",
       "          9.86150000e-01,   5.08240000e-01,   1.55280000e-02,\n",
       "          1.94430000e-02]])"
      ]
     },
     "execution_count": 63,
     "metadata": {},
     "output_type": "execute_result"
    }
   ],
   "source": [
    "np.array(data)[99:100]"
   ]
  },
  {
   "cell_type": "code",
   "execution_count": 73,
   "metadata": {},
   "outputs": [],
   "source": [
    "class MSR(object):\n",
    "    def __init__(self,data):\n",
    "        self.data=np.array(data)\n",
    "        self.n, self.m = data.shape\n",
    "        self.aiJ = np.mean(data,axis=1)\n",
    "        self.aIj = np.mean(data,axis=0)\n",
    "        self.aIJ = np.mean(data)\n",
    "        self._H = None\n",
    "        self._HiJ = None\n",
    "        self._HIj = None\n",
    "    \n",
    "    @property\n",
    "    def H(self):\n",
    "        if self._H is None:\n",
    "            print (\"computing MSR ...\")\n",
    "            self._H = self._compute_H()\n",
    "            print (\"MSR VALUE \" + str(self._H))\n",
    "        return self._H\n",
    "        \n",
    "    @property\n",
    "    def HiJ(self):\n",
    "        if self._HiJ is None:\n",
    "            self._HiJ = self._compute_HiJ()\n",
    "        return self._HiJ\n",
    "    \n",
    "    @property\n",
    "    def HIj(self):\n",
    "        if self._HIj is None:\n",
    "            self._HIj = self._compute_HIj()\n",
    "        return self._HIj\n",
    "    \n",
    "    def _compute_H(self):\n",
    "        H = 0\n",
    "        for i in range(self.n):\n",
    "            for j in range(self.m):\n",
    "                H  += (self.data[i,j] - self.aIj[j] - self.aiJ[i] + self.aIJ ) ** 2\n",
    "        H *= 1.0/(self.n * self.m)       \n",
    "        return H\n",
    "    \n",
    "    def _compute_HiJ(self):\n",
    "        HiJ = np.zeros(self.n)\n",
    "        for i in range(self.n):\n",
    "            for j in range(self.m):\n",
    "                HiJ[i] += ( self.data[i,j] - self.aIj[j] - self.aiJ[i] + self.aIJ )**2\n",
    "        HiJ *= 1.0/self.m\n",
    "        return HiJ\n",
    "\n",
    "    def _compute_HIj(self):\n",
    "        HIj = np.zeros(self.m)\n",
    "        for j in range(self.m):\n",
    "            for i in range(self.n):\n",
    "                HIj[j] += ( self.data[i,j] - self.aIj[j] - self.aiJ[i] + self.aIJ )**2\n",
    "        HIj *= 1.0/self.n\n",
    "        return HIj"
   ]
  },
  {
   "cell_type": "code",
   "execution_count": 74,
   "metadata": {},
   "outputs": [],
   "source": [
    "msr = MSR(data)"
   ]
  },
  {
   "cell_type": "code",
   "execution_count": 75,
   "metadata": {},
   "outputs": [
    {
     "name": "stdout",
     "output_type": "stream",
     "text": [
      "computing MSR ...\n",
      "MSR VALUE 0    0.127476\n",
      "1    0.127476\n",
      "2    0.127476\n",
      "3    0.127476\n",
      "4    0.127476\n",
      "5    0.127476\n",
      "6    0.127476\n",
      "dtype: float64\n"
     ]
    },
    {
     "data": {
      "text/plain": [
       "0    0.127476\n",
       "1    0.127476\n",
       "2    0.127476\n",
       "3    0.127476\n",
       "4    0.127476\n",
       "5    0.127476\n",
       "6    0.127476\n",
       "dtype: float64"
      ]
     },
     "execution_count": 75,
     "metadata": {},
     "output_type": "execute_result"
    }
   ],
   "source": [
    "msr.H"
   ]
  },
  {
   "cell_type": "code",
   "execution_count": null,
   "metadata": {},
   "outputs": [],
   "source": []
  }
 ],
 "metadata": {
  "kernelspec": {
   "display_name": "Python 3",
   "language": "python",
   "name": "python3"
  },
  "language_info": {
   "codemirror_mode": {
    "name": "ipython",
    "version": 3
   },
   "file_extension": ".py",
   "mimetype": "text/x-python",
   "name": "python",
   "nbconvert_exporter": "python",
   "pygments_lexer": "ipython3",
   "version": "3.6.3"
  }
 },
 "nbformat": 4,
 "nbformat_minor": 2
}
