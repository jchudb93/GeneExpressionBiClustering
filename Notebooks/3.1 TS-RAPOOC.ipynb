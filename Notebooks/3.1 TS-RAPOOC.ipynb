{
 "cells": [
  {
   "cell_type": "markdown",
   "metadata": {},
   "source": [
    "# TS-RAPOOC"
   ]
  },
  {
   "cell_type": "markdown",
   "metadata": {},
   "source": [
    "### Based on RAPOOC algorithm proposed by Omar Odibat (2014)"
   ]
  },
  {
   "cell_type": "markdown",
   "metadata": {},
   "source": [
    "- Step 1: Divide rows into two separate parts\n",
    "- Step 2: Decide which part will be devided among all generated clusters\n",
    "- Step 3: Divide the chosen cluster in columns or rows, the one that has the highest coherence\n",
    "- Step 4: Check the number of clusters generated this way, if the number of clusters is reached, break, else return to step 2"
   ]
  },
  {
   "cell_type": "code",
   "execution_count": 1,
   "metadata": {},
   "outputs": [],
   "source": [
    "%matplotlib inline\n",
    "import pandas as pd\n",
    "import numpy as np\n",
    "import matplotlib.pyplot as plt\n",
    "import seaborn as sns\n",
    "import math\n",
    "import glob\n",
    "import multiprocessing\n",
    "from operator import attrgetter\n",
    "\n",
    "from metrics import *\n",
    "from clusterer import *"
   ]
  },
  {
   "cell_type": "code",
   "execution_count": 2,
   "metadata": {},
   "outputs": [
    {
     "data": {
      "text/latex": [
       "Define H for a new term 'z' in X\n",
       "$$\n",
       "H_{1}(I,J,X,z) =H_{0}(I,J,X) \\cdot \\frac{(I-1)}{(I+1)} + \\frac{|2|}{(I)(I+1)} \\cdot \\sum_{x \\epsilon X} {h(x,z,J)}\n",
       "$$"
      ],
      "text/plain": [
       "<IPython.core.display.Latex object>"
      ]
     },
     "metadata": {},
     "output_type": "display_data"
    }
   ],
   "source": [
    "%%latex\n",
    "Define H for a new term 'z' in X\n",
    "$$\n",
    "H_{1}(I,J,X,z) =H_{0}(I,J,X) \\cdot \\frac{(I-1)}{(I+1)} + \\frac{|2|}{(I)(I+1)} \\cdot \\sum_{x \\epsilon X} {h(x,z,J)}\n",
    "$$"
   ]
  },
  {
   "cell_type": "code",
   "execution_count": 178,
   "metadata": {},
   "outputs": [],
   "source": [
    "class ClusterMaps(object):\n",
    "    def __init__(self, rho=None, gamma=None, H = 0):\n",
    "        self.gamma = gamma\n",
    "        self.rho = rho\n",
    "        self.H = H\n",
    "    \n",
    "    def __str__(self):\n",
    "        return (\"rho: \\n\"+ str(self.rho) + \"\\n gamma: \\n\" + str(self.gamma) + \"\\n H: \\n \" + str(self.H))"
   ]
  },
  {
   "cell_type": "code",
   "execution_count": 189,
   "metadata": {},
   "outputs": [],
   "source": [
    "class TsRapooc(object):\n",
    "    def __init__(self, data, n_clusters = 5):\n",
    "        self._D = np.array(data)\n",
    "        self._n_clusters = n_clusters\n",
    "        self._labels = list()\n",
    "        self._I, self._J = data.shape\n",
    "        \n",
    "    @property\n",
    "    def n_clusters(self):\n",
    "        return self._n_clusters\n",
    "    \n",
    "    @property\n",
    "    def data(self):\n",
    "        return self._D\n",
    "    \n",
    "    @property\n",
    "    def labels(self):\n",
    "        return _labels\n",
    "    \n",
    "    def fit(self):\n",
    "        n_iteration = 0\n",
    "        n_clusters = 0\n",
    "        for n_iteration in range(0, self._n_clusters):\n",
    "            if n_iteration == 0:\n",
    "                initial_partition = BisectingClusterer(data).fit_rows()\n",
    "                self._labels.append(ClusterMaps(np.where(initial_partition==0)[0],\n",
    "                                   np.arange(self._J),\n",
    "                                    PairBasedCoherence(self._D[np.where(initial_partition==0)[0]]).HP))\n",
    "         \n",
    "                \n",
    "                self._labels.append(ClusterMaps(np.where(initial_partition==1)[0],\n",
    "                                   np.arange(self._J),\n",
    "                                   PairBasedCoherence(self._D[np.where(initial_partition==1)[0]]).HP))\n",
    "            else:\n",
    "                self._partition()\n",
    "        \n",
    "    def _partition(self):\n",
    "        least_coherent, least_coherent_index = self._find_least_coherent()\n",
    "        lowest_cluster = self._D[np.ix_(least_coherent.rho,least_coherent.gamma)]\n",
    "        self._bisect_bicluster(lowest_cluster, least_coherent,least_coherent_index)\n",
    "    \n",
    "    def _find_least_coherent(self):\n",
    "        return self._labels[self._labels.index(min(self._labels,key=attrgetter('H')))], self._labels.index(min(self._labels,key=attrgetter('H')))\n",
    "    \n",
    "    def _bisect_bicluster(self,cluster, cluster_node, node_index):\n",
    "        #which of the biclusters maximize coherence\n",
    "        rows_map = BisectingClusterer(cluster).fit_rows()\n",
    "        cols_map = BisectingClusterer(cluster).fit_cols()\n",
    "        \n",
    "        flg_alls= 'none'\n",
    "        \n",
    "        if(np.all(cols_map) or np.all(rows_map)):\n",
    "            if(np.all(rows_map)):\n",
    "                flg_alls = 'cols'\n",
    "            else:\n",
    "                flg_alls = 'rows'\n",
    "        \n",
    "        if(flg_alls == 'none'):\n",
    "            \n",
    "            # find the coherences, the ones which raises the average coherences are the ones that are divided\n",
    "            cols_coherence_1 = PairBasedCoherence(self._D[np.ix_(cluster_node.rho,cluster_node.gamma[np.flatnonzero(cols_map == 0)])]).HP\n",
    "            cols_coherence_2 = PairBasedCoherence(self._D[np.ix_(cluster_node.rho,cluster_node.gamma[np.flatnonzero(cols_map == 1)])]).HP\n",
    "            rows_coherence_1 = PairBasedCoherence(self._D[np.ix_(cluster_node.rho[np.flatnonzero(rows_map == 0)],cluster_node.gamma)]).HP\n",
    "            rows_coherence_2 = PairBasedCoherence(self._D[np.ix_(cluster_node.rho[np.flatnonzero(rows_map == 1)],cluster_node.gamma)]).HP\n",
    "            l = [cols_coherence_1, cols_coherence_2, rows_coherence_1, rows_coherence_2]\n",
    "            min_value = min(l)\n",
    "            if (min_value == cols_coherence_1 or min_value == cols_coherence_2):\n",
    "                print('cols')\n",
    "            elif (min_value == rows_coherence_1 or min_value == rows_coherence_2):\n",
    "                print('rows_1')\n",
    "        elif (flg_alls == 'cols'):\n",
    "            print('cols')\n",
    "            print('cols 0')\n",
    "            cols_coherence_1 = PairBasedCoherence(self._D[np.ix_(cluster_node.rho,cluster_node.gamma[np.flatnonzero(cols_map == 0)])]).HP\n",
    "            cols_coherence_2 = PairBasedCoherence(self._D[np.ix_(cluster_node.rho,cluster_node.gamma[np.flatnonzero(cols_map == 1)])]).HP\n",
    "            col_cluster_1 = ClusterMaps(cluster_node.rho\n",
    "                                        , cluster_node.gamma[np.flatnonzero(cols_map == 0)], rows_coherence_1)\n",
    "            self._labels[node_index] = col_cluster_1\n",
    "            col_cluster_2 = ClusterMaps(cluster_node.rho\n",
    "                                        , cluster_node.gamma[np.flatnonzero(cols_map == 1)], rows_coherence_2)\n",
    "            self._labels.append(col_cluster_2)\n",
    "        else:\n",
    "            print('####')\n",
    "            print('rows')\n",
    "            rows_coherence_1 = PairBasedCoherence(self._D[np.ix_(cluster_node.rho[np.flatnonzero(rows_map == 0)],cluster_node.gamma)]).HP\n",
    "            rows_coherence_2 = PairBasedCoherence(self._D[np.ix_(cluster_node.rho[np.flatnonzero(rows_map == 1)],cluster_node.gamma)]).HP\n",
    "            row_cluster_1 = ClusterMaps(cluster_node.rho[np.flatnonzero(rows_map == 0)], cluster_node.gamma, rows_coherence_1)\n",
    "            print(' rows cluster 1 ' + str(row_cluster_1))\n",
    "            print('  ')\n",
    "            self._labels[node_index] = row_cluster_1\n",
    "            row_cluster_2 = ClusterMaps(cluster_node.rho[np.flatnonzero(rows_map == 1)], cluster_node.gamma, rows_coherence_2)\n",
    "            print(' rows cluster 2 ' + str(row_cluster_2))\n",
    "            self._labels.append(row_cluster_2)\n",
    "            \n",
    "            "
   ]
  },
  {
   "cell_type": "code",
   "execution_count": 190,
   "metadata": {},
   "outputs": [
    {
     "name": "stdout",
     "output_type": "stream",
     "text": [
      "####\n",
      "rows\n",
      " rows cluster 1 rho: \n",
      "[ 0  2  3  4  8 11 13 14 15 25 27 28 31 34 43 49 54 56 58 67 71 73 78 79 80\n",
      " 85 86 87 92]\n",
      " gamma: \n",
      "[ 0  1  2  3  4  5  6  7  8  9 10]\n",
      " H: \n",
      " 0.903326570295\n",
      "  \n",
      " rows cluster 2 rho: \n",
      "[ 1  5  6 10 12 20 22 24 26 32 36 39 40 46 48 50 51 52 53 66 70 74 75 82 93\n",
      " 94 98]\n",
      " gamma: \n",
      "[ 0  1  2  3  4  5  6  7  8  9 10]\n",
      " H: \n",
      " 0.910945988966\n",
      "####\n",
      "rows\n",
      " rows cluster 1 rho: \n",
      "[ 7 16 17 21 44 45 47 55 57 59 60 61 62 63 64 65 69 76 83 90 91]\n",
      " gamma: \n",
      "[ 0  1  2  3  4  5  6  7  8  9 10]\n",
      " H: \n",
      " 0.905298832907\n",
      "  \n",
      " rows cluster 2 rho: \n",
      "[ 9 18 19 23 29 30 33 35 37 38 41 42 68 72 77 81 84 88 89 95 96 97 99]\n",
      " gamma: \n",
      "[ 0  1  2  3  4  5  6  7  8  9 10]\n",
      " H: \n",
      " 0.916506834441\n",
      "####\n",
      "rows\n",
      " rows cluster 1 rho: \n",
      "[11 14 28 31 34 54 56 67 71 73 87]\n",
      " gamma: \n",
      "[ 0  1  2  3  4  5  6  7  8  9 10]\n",
      " H: \n",
      " 0.905822063748\n",
      "  \n",
      " rows cluster 2 rho: \n",
      "[ 0  2  3  4  8 13 15 25 27 43 49 58 78 79 80 85 86 92]\n",
      " gamma: \n",
      "[ 0  1  2  3  4  5  6  7  8  9 10]\n",
      " H: \n",
      " 0.916743476894\n",
      "none\n",
      "0.934438725161\n",
      "0.870676754272\n",
      "0.922925460777\n",
      "0.929846241197\n",
      "cols_2\n"
     ]
    }
   ],
   "source": [
    "tsrapooc = TsRapooc(data)\n",
    "tsrapooc.fit()"
   ]
  },
  {
   "cell_type": "code",
   "execution_count": null,
   "metadata": {},
   "outputs": [],
   "source": [
    "data = pd.read_csv('TestData/SimulatedDataCoherence/BiclusterA_high.csv',header=None)\n",
    "# data = (data - 0.5) * 2.0\n",
    "data.describe()"
   ]
  },
  {
   "cell_type": "code",
   "execution_count": 72,
   "metadata": {},
   "outputs": [],
   "source": [
    "bisect = BisectingClusterer(data)"
   ]
  },
  {
   "cell_type": "code",
   "execution_count": 73,
   "metadata": {},
   "outputs": [
    {
     "data": {
      "text/plain": [
       "array([ 1.,  1.,  1.,  1.,  1.,  1.,  1.,  0.,  1.,  0.,  1.,  1.,  1.,\n",
       "        1.,  1.,  1.,  0.,  0.,  0.,  0.,  1.,  0.,  1.,  0.,  1.,  1.,\n",
       "        1.,  1.,  1.,  0.,  0.,  1.,  1.,  0.,  1.,  0.,  1.,  0.,  0.,\n",
       "        1.,  1.,  0.,  0.,  1.,  0.,  0.,  1.,  0.,  1.,  1.,  1.,  1.,\n",
       "        1.,  1.,  1.,  0.,  1.,  0.,  1.,  0.,  0.,  0.,  0.,  0.,  0.,\n",
       "        0.,  1.,  1.,  0.,  0.,  1.,  1.,  0.,  1.,  1.,  1.,  0.,  0.,\n",
       "        1.,  1.,  1.,  0.,  1.,  0.,  0.,  1.,  1.,  1.,  0.,  0.,  0.,\n",
       "        0.,  1.,  1.,  1.,  0.,  0.,  0.,  1.,  0.])"
      ]
     },
     "execution_count": 73,
     "metadata": {},
     "output_type": "execute_result"
    }
   ],
   "source": [
    "bisect.fit()"
   ]
  },
  {
   "cell_type": "code",
   "execution_count": 74,
   "metadata": {},
   "outputs": [
    {
     "data": {
      "text/plain": [
       "array([ 0.,  0.,  0.,  0.,  0.,  0.,  0.,  0.,  1.,  1.,  1.])"
      ]
     },
     "execution_count": 74,
     "metadata": {},
     "output_type": "execute_result"
    }
   ],
   "source": [
    "bisect.fit_cols()"
   ]
  },
  {
   "cell_type": "code",
   "execution_count": 92,
   "metadata": {},
   "outputs": [
    {
     "data": {
      "text/plain": [
       "True"
      ]
     },
     "execution_count": 92,
     "metadata": {},
     "output_type": "execute_result"
    }
   ],
   "source": [
    "np.all([1,1,1,1])"
   ]
  },
  {
   "cell_type": "code",
   "execution_count": 58,
   "metadata": {},
   "outputs": [
    {
     "name": "stdout",
     "output_type": "stream",
     "text": [
      "rho [ 0  1  2  3  4  5  6  7  8  9 10] gamma (array([], dtype=int64),) H 0\n"
     ]
    }
   ],
   "source": []
  },
  {
   "cell_type": "code",
   "execution_count": null,
   "metadata": {},
   "outputs": [],
   "source": []
  }
 ],
 "metadata": {
  "kernelspec": {
   "display_name": "Python 3",
   "language": "python",
   "name": "python3"
  },
  "language_info": {
   "codemirror_mode": {
    "name": "ipython",
    "version": 3
   },
   "file_extension": ".py",
   "mimetype": "text/x-python",
   "name": "python",
   "nbconvert_exporter": "python",
   "pygments_lexer": "ipython3",
   "version": "3.6.3"
  }
 },
 "nbformat": 4,
 "nbformat_minor": 2
}
