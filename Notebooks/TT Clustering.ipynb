{
 "cells": [
  {
   "cell_type": "code",
   "execution_count": 1,
   "metadata": {},
   "outputs": [],
   "source": [
    "import gc\n",
    "import pandas as pd\n",
    "import glob\n",
    "import sklearn\n",
    "import numpy as np"
   ]
  },
  {
   "cell_type": "code",
   "execution_count": 2,
   "metadata": {},
   "outputs": [
    {
     "data": {
      "text/plain": [
       "['../Tt/Jnk.csv',\n",
       " '../Tt/IRF4.csv',\n",
       " '../Tt/LEF1.csv',\n",
       " '../Tt/Ikk2.csv',\n",
       " '../Tt/CTNNB1.csv',\n",
       " '../Tt/Erk.csv',\n",
       " '../Tt/MYC.csv']"
      ]
     },
     "execution_count": 2,
     "metadata": {},
     "output_type": "execute_result"
    }
   ],
   "source": [
    "dcFiles=glob.glob(\"../Tt/*\")\n",
    "dcFiles"
   ]
  },
  {
   "cell_type": "code",
   "execution_count": 3,
   "metadata": {},
   "outputs": [],
   "source": [
    "trainIndexFiles=glob.glob(\"../Train/*\")"
   ]
  },
  {
   "cell_type": "markdown",
   "metadata": {},
   "source": [
    "#Read ttTrain\n",
    "frames = list()\n",
    "for f in trainIndexFiles:\n",
    "    indices = pd.read_csv(f,sep=\";\")\n",
    "    indexList=list(indices['0'])\n",
    "    protein = f.split(\"/\")[-1].split(\".\")[0]\n",
    "    fpath = '../Tt/'+f.split(\"/\")[-1].split(\".\")[0]+\".csv\"\n",
    "    ttRead = pd.read_csv(fpath,sep=\";\")\n",
    "    ttPartialTrain=ttRead[ttRead.columns[5:]].loc[indexList].copy()\n",
    "    ttPartialTrain.insert(0,column='Protein',value =protein )\n",
    "    del ttRead\n",
    "    gc.collect()\n",
    "    frames.append(ttPartialTrain)\n",
    "ttTrain = pd.concat(frames)\n"
   ]
  },
  {
   "cell_type": "code",
   "execution_count": 4,
   "metadata": {},
   "outputs": [],
   "source": [
    "#ttTrain.to_csv(\"../FullTrain/FullTrainDC/FullTrainDC.csv\")\n",
    "ttTrain = pd.read_csv(\"../FullTrain/FullTrainDC/FullTrainDC.csv\",index_col=0)"
   ]
  },
  {
   "cell_type": "code",
   "execution_count": 5,
   "metadata": {},
   "outputs": [
    {
     "data": {
      "text/html": [
       "<div>\n",
       "<style>\n",
       "    .dataframe thead tr:only-child th {\n",
       "        text-align: right;\n",
       "    }\n",
       "\n",
       "    .dataframe thead th {\n",
       "        text-align: left;\n",
       "    }\n",
       "\n",
       "    .dataframe tbody tr th {\n",
       "        vertical-align: top;\n",
       "    }\n",
       "</style>\n",
       "<table border=\"1\" class=\"dataframe\">\n",
       "  <thead>\n",
       "    <tr style=\"text-align: right;\">\n",
       "      <th></th>\n",
       "      <th>Protein</th>\n",
       "      <th>C0_C15~E0_E15</th>\n",
       "      <th>C15_C30~E15_E30</th>\n",
       "      <th>C30_C90~E30_E90</th>\n",
       "      <th>C90_C120~E90_E120</th>\n",
       "      <th>C120_C180~E120_E180</th>\n",
       "      <th>C180_C210~E180_E210</th>\n",
       "      <th>C210_C240~E210_E240</th>\n",
       "      <th>C240_C360~E240_E360</th>\n",
       "      <th>C0_C15~E15_E30</th>\n",
       "      <th>...</th>\n",
       "      <th>C0_C240~E15_E360</th>\n",
       "      <th>C0_C240~E0_E360</th>\n",
       "      <th>C0_C360~E240_E360</th>\n",
       "      <th>C0_C360~E210_E360</th>\n",
       "      <th>C0_C360~E180_E360</th>\n",
       "      <th>C0_C360~E120_E360</th>\n",
       "      <th>C0_C360~E90_E360</th>\n",
       "      <th>C0_C360~E30_E360</th>\n",
       "      <th>C0_C360~E15_E360</th>\n",
       "      <th>C0_C360~E0_E360</th>\n",
       "    </tr>\n",
       "  </thead>\n",
       "  <tbody>\n",
       "    <tr>\n",
       "      <th>1530</th>\n",
       "      <td>LEF1</td>\n",
       "      <td>1</td>\n",
       "      <td>1</td>\n",
       "      <td>0</td>\n",
       "      <td>-1</td>\n",
       "      <td>0</td>\n",
       "      <td>0</td>\n",
       "      <td>-1</td>\n",
       "      <td>-1</td>\n",
       "      <td>1</td>\n",
       "      <td>...</td>\n",
       "      <td>-1</td>\n",
       "      <td>-1</td>\n",
       "      <td>1</td>\n",
       "      <td>0</td>\n",
       "      <td>1</td>\n",
       "      <td>1</td>\n",
       "      <td>0</td>\n",
       "      <td>-1</td>\n",
       "      <td>-1</td>\n",
       "      <td>-1</td>\n",
       "    </tr>\n",
       "    <tr>\n",
       "      <th>1531</th>\n",
       "      <td>LEF1</td>\n",
       "      <td>0</td>\n",
       "      <td>0</td>\n",
       "      <td>1</td>\n",
       "      <td>0</td>\n",
       "      <td>-1</td>\n",
       "      <td>1</td>\n",
       "      <td>0</td>\n",
       "      <td>1</td>\n",
       "      <td>0</td>\n",
       "      <td>...</td>\n",
       "      <td>-1</td>\n",
       "      <td>0</td>\n",
       "      <td>1</td>\n",
       "      <td>1</td>\n",
       "      <td>1</td>\n",
       "      <td>1</td>\n",
       "      <td>-1</td>\n",
       "      <td>-1</td>\n",
       "      <td>-1</td>\n",
       "      <td>0</td>\n",
       "    </tr>\n",
       "    <tr>\n",
       "      <th>1532</th>\n",
       "      <td>LEF1</td>\n",
       "      <td>1</td>\n",
       "      <td>1</td>\n",
       "      <td>-1</td>\n",
       "      <td>1</td>\n",
       "      <td>1</td>\n",
       "      <td>1</td>\n",
       "      <td>0</td>\n",
       "      <td>0</td>\n",
       "      <td>-1</td>\n",
       "      <td>...</td>\n",
       "      <td>-1</td>\n",
       "      <td>-1</td>\n",
       "      <td>0</td>\n",
       "      <td>0</td>\n",
       "      <td>1</td>\n",
       "      <td>0</td>\n",
       "      <td>1</td>\n",
       "      <td>-1</td>\n",
       "      <td>-1</td>\n",
       "      <td>-1</td>\n",
       "    </tr>\n",
       "    <tr>\n",
       "      <th>1533</th>\n",
       "      <td>LEF1</td>\n",
       "      <td>0</td>\n",
       "      <td>0</td>\n",
       "      <td>0</td>\n",
       "      <td>0</td>\n",
       "      <td>-1</td>\n",
       "      <td>0</td>\n",
       "      <td>1</td>\n",
       "      <td>-1</td>\n",
       "      <td>0</td>\n",
       "      <td>...</td>\n",
       "      <td>1</td>\n",
       "      <td>1</td>\n",
       "      <td>0</td>\n",
       "      <td>0</td>\n",
       "      <td>0</td>\n",
       "      <td>0</td>\n",
       "      <td>0</td>\n",
       "      <td>0</td>\n",
       "      <td>0</td>\n",
       "      <td>0</td>\n",
       "    </tr>\n",
       "    <tr>\n",
       "      <th>1535</th>\n",
       "      <td>LEF1</td>\n",
       "      <td>1</td>\n",
       "      <td>1</td>\n",
       "      <td>0</td>\n",
       "      <td>1</td>\n",
       "      <td>-1</td>\n",
       "      <td>1</td>\n",
       "      <td>0</td>\n",
       "      <td>-1</td>\n",
       "      <td>0</td>\n",
       "      <td>...</td>\n",
       "      <td>-1</td>\n",
       "      <td>-1</td>\n",
       "      <td>-1</td>\n",
       "      <td>-1</td>\n",
       "      <td>-1</td>\n",
       "      <td>0</td>\n",
       "      <td>0</td>\n",
       "      <td>1</td>\n",
       "      <td>1</td>\n",
       "      <td>1</td>\n",
       "    </tr>\n",
       "  </tbody>\n",
       "</table>\n",
       "<p>5 rows × 541 columns</p>\n",
       "</div>"
      ],
      "text/plain": [
       "     Protein  C0_C15~E0_E15  C15_C30~E15_E30  C30_C90~E30_E90  \\\n",
       "1530    LEF1              1                1                0   \n",
       "1531    LEF1              0                0                1   \n",
       "1532    LEF1              1                1               -1   \n",
       "1533    LEF1              0                0                0   \n",
       "1535    LEF1              1                1                0   \n",
       "\n",
       "      C90_C120~E90_E120  C120_C180~E120_E180  C180_C210~E180_E210  \\\n",
       "1530                 -1                    0                    0   \n",
       "1531                  0                   -1                    1   \n",
       "1532                  1                    1                    1   \n",
       "1533                  0                   -1                    0   \n",
       "1535                  1                   -1                    1   \n",
       "\n",
       "      C210_C240~E210_E240  C240_C360~E240_E360  C0_C15~E15_E30  \\\n",
       "1530                   -1                   -1               1   \n",
       "1531                    0                    1               0   \n",
       "1532                    0                    0              -1   \n",
       "1533                    1                   -1               0   \n",
       "1535                    0                   -1               0   \n",
       "\n",
       "           ...         C0_C240~E15_E360  C0_C240~E0_E360  C0_C360~E240_E360  \\\n",
       "1530       ...                       -1               -1                  1   \n",
       "1531       ...                       -1                0                  1   \n",
       "1532       ...                       -1               -1                  0   \n",
       "1533       ...                        1                1                  0   \n",
       "1535       ...                       -1               -1                 -1   \n",
       "\n",
       "      C0_C360~E210_E360  C0_C360~E180_E360  C0_C360~E120_E360  \\\n",
       "1530                  0                  1                  1   \n",
       "1531                  1                  1                  1   \n",
       "1532                  0                  1                  0   \n",
       "1533                  0                  0                  0   \n",
       "1535                 -1                 -1                  0   \n",
       "\n",
       "      C0_C360~E90_E360  C0_C360~E30_E360  C0_C360~E15_E360  C0_C360~E0_E360  \n",
       "1530                 0                -1                -1               -1  \n",
       "1531                -1                -1                -1                0  \n",
       "1532                 1                -1                -1               -1  \n",
       "1533                 0                 0                 0                0  \n",
       "1535                 0                 1                 1                1  \n",
       "\n",
       "[5 rows x 541 columns]"
      ]
     },
     "execution_count": 5,
     "metadata": {},
     "output_type": "execute_result"
    }
   ],
   "source": [
    "ttTrain.head()"
   ]
  },
  {
   "cell_type": "code",
   "execution_count": 6,
   "metadata": {},
   "outputs": [],
   "source": [
    "lstn_clusters=range(2,10)"
   ]
  },
  {
   "cell_type": "code",
   "execution_count": 7,
   "metadata": {},
   "outputs": [],
   "source": [
    "#import time\n",
    "from sklearn.cluster import dbscan\n",
    "from sklearn.metrics import silhouette_score\n",
    "from sklearn.neighbors import DistanceMetric"
   ]
  },
  {
   "cell_type": "code",
   "execution_count": 8,
   "metadata": {},
   "outputs": [],
   "source": [
    "dist = DistanceMetric.get_metric('hamming')"
   ]
  },
  {
   "cell_type": "code",
   "execution_count": 9,
   "metadata": {},
   "outputs": [],
   "source": [
    "mDist = dist.pairwise(ttTrain[ttTrain.columns[1:]])"
   ]
  },
  {
   "cell_type": "code",
   "execution_count": 10,
   "metadata": {},
   "outputs": [
    {
     "data": {
      "text/plain": [
       "15998"
      ]
     },
     "execution_count": 10,
     "metadata": {},
     "output_type": "execute_result"
    }
   ],
   "source": [
    "len(mDist)"
   ]
  },
  {
   "cell_type": "code",
   "execution_count": null,
   "metadata": {},
   "outputs": [],
   "source": []
  }
 ],
 "metadata": {
  "kernelspec": {
   "display_name": "Python 3",
   "language": "python",
   "name": "python3"
  },
  "language_info": {
   "codemirror_mode": {
    "name": "ipython",
    "version": 3
   },
   "file_extension": ".py",
   "mimetype": "text/x-python",
   "name": "python",
   "nbconvert_exporter": "python",
   "pygments_lexer": "ipython3",
   "version": "3.6.3"
  }
 },
 "nbformat": 4,
 "nbformat_minor": 2
}
