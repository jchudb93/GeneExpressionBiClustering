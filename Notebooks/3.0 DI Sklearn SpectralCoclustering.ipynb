{
 "cells": [
  {
   "cell_type": "markdown",
   "metadata": {},
   "source": [
    "# Biclustering "
   ]
  },
  {
   "cell_type": "markdown",
   "metadata": {},
   "source": [
    "Biclustering using sklearn"
   ]
  },
  {
   "cell_type": "code",
   "execution_count": 1,
   "metadata": {},
   "outputs": [],
   "source": [
    "import gc\n",
    "import pandas as pd\n",
    "import glob\n",
    "import sklearn\n",
    "import numpy as np"
   ]
  },
  {
   "cell_type": "code",
   "execution_count": 3,
   "metadata": {},
   "outputs": [
    {
     "data": {
      "text/plain": [
       "['../data/Di/Jnk.csv',\n",
       " '../data/Di/IRF4.csv',\n",
       " '../data/Di/LEF1.csv',\n",
       " '../data/Di/Ikk2.csv',\n",
       " '../data/Di/CTNNB1.csv',\n",
       " '../data/Di/Erk.csv',\n",
       " '../data/Di/MYC.csv']"
      ]
     },
     "execution_count": 3,
     "metadata": {},
     "output_type": "execute_result"
    }
   ],
   "source": [
    "diFiles=glob.glob(\"../data/Di/*\")\n",
    "diFiles"
   ]
  },
  {
   "cell_type": "code",
   "execution_count": 9,
   "metadata": {},
   "outputs": [
    {
     "data": {
      "text/plain": [
       "['../Train/LEF1.index.csv',\n",
       " '../Train/MYC.index.csv',\n",
       " '../Train/IRF4.index.csv',\n",
       " '../Train/Jnk.index.csv',\n",
       " '../Train/Ikk2.index.csv',\n",
       " '../Train/Erk.index.csv',\n",
       " '../Train/CTNNB1.index.csv']"
      ]
     },
     "execution_count": 9,
     "metadata": {},
     "output_type": "execute_result"
    }
   ],
   "source": [
    "trainIndexFiles=glob.glob(\"../Train/*\")\n",
    "trainIndexFiles"
   ]
  },
  {
   "cell_type": "code",
   "execution_count": 10,
   "metadata": {},
   "outputs": [],
   "source": [
    "trainIndexFiles=glob.glob(\"../Train/*\")\n",
    "frames = list()\n",
    "for f in trainIndexFiles:\n",
    "    indices = pd.read_csv(f,sep=\";\")\n",
    "    indexList=list(indices['0'])\n",
    "    protein = f.split(\"/\")[-1].split(\".\")[0]\n",
    "    fpath = '../data/Di/'+f.split(\"/\")[-1].split(\".\")[0]+\".csv\"\n",
    "    diRead = pd.read_csv(fpath,sep=\";\")\n",
    "    diPartialTrain=diRead[diRead.columns[5:]].loc[indexList].copy()\n",
    "    diPartialTrain.insert(0,column='Protein',value =protein )\n",
    "    del diRead\n",
    "    gc.collect()\n",
    "    frames.append(diPartialTrain)\n",
    "diTrain =  pd.concat(frames)"
   ]
  },
  {
   "cell_type": "code",
   "execution_count": 11,
   "metadata": {},
   "outputs": [
    {
     "data": {
      "text/html": [
       "<div>\n",
       "<style>\n",
       "    .dataframe thead tr:only-child th {\n",
       "        text-align: right;\n",
       "    }\n",
       "\n",
       "    .dataframe thead th {\n",
       "        text-align: left;\n",
       "    }\n",
       "\n",
       "    .dataframe tbody tr th {\n",
       "        vertical-align: top;\n",
       "    }\n",
       "</style>\n",
       "<table border=\"1\" class=\"dataframe\">\n",
       "  <thead>\n",
       "    <tr style=\"text-align: right;\">\n",
       "      <th></th>\n",
       "      <th>Protein</th>\n",
       "      <th>X0min_neg_effect-X0min_neg_cause</th>\n",
       "      <th>X15min_effect-X0min_neg_cause</th>\n",
       "      <th>X15min_effect-X15min_cause</th>\n",
       "      <th>X30min_effect-X0min_neg_cause</th>\n",
       "      <th>X30min_effect-X15min_cause</th>\n",
       "      <th>X30min_effect-X30min_cause</th>\n",
       "      <th>X90min_effect-X0min_neg_cause</th>\n",
       "      <th>X90min_effect-X15min_cause</th>\n",
       "      <th>X90min_effect-X30min_cause</th>\n",
       "      <th>...</th>\n",
       "      <th>X240min_effect-X240min_cause</th>\n",
       "      <th>X360min_effect-X0min_neg_cause</th>\n",
       "      <th>X360min_effect-X15min_cause</th>\n",
       "      <th>X360min_effect-X30min_cause</th>\n",
       "      <th>X360min_effect-X90min_cause</th>\n",
       "      <th>X360min_effect-X120min_cause</th>\n",
       "      <th>X360min_effect-X180min_cause</th>\n",
       "      <th>X360min_effect-X210min_cause</th>\n",
       "      <th>X360min_effect-X240min_cause</th>\n",
       "      <th>X360min_effect-X360min_cause</th>\n",
       "    </tr>\n",
       "  </thead>\n",
       "  <tbody>\n",
       "    <tr>\n",
       "      <th>1530</th>\n",
       "      <td>LEF1</td>\n",
       "      <td>-1.398215</td>\n",
       "      <td>-1.332073</td>\n",
       "      <td>-1.176495</td>\n",
       "      <td>-1.152913</td>\n",
       "      <td>-0.997335</td>\n",
       "      <td>-1.138456</td>\n",
       "      <td>-0.748848</td>\n",
       "      <td>-0.593270</td>\n",
       "      <td>-0.734391</td>\n",
       "      <td>...</td>\n",
       "      <td>2.750291</td>\n",
       "      <td>-0.626720</td>\n",
       "      <td>-0.471142</td>\n",
       "      <td>-0.612263</td>\n",
       "      <td>-0.798977</td>\n",
       "      <td>0.539404</td>\n",
       "      <td>1.340642</td>\n",
       "      <td>1.469409</td>\n",
       "      <td>1.965642</td>\n",
       "      <td>1.504612</td>\n",
       "    </tr>\n",
       "    <tr>\n",
       "      <th>1531</th>\n",
       "      <td>LEF1</td>\n",
       "      <td>-1.398215</td>\n",
       "      <td>-2.044245</td>\n",
       "      <td>-2.118504</td>\n",
       "      <td>-1.532107</td>\n",
       "      <td>-1.606366</td>\n",
       "      <td>-1.470422</td>\n",
       "      <td>-1.569035</td>\n",
       "      <td>-1.643294</td>\n",
       "      <td>-1.507350</td>\n",
       "      <td>...</td>\n",
       "      <td>0.370043</td>\n",
       "      <td>-1.108882</td>\n",
       "      <td>-1.183141</td>\n",
       "      <td>-1.047197</td>\n",
       "      <td>-0.874397</td>\n",
       "      <td>-1.075918</td>\n",
       "      <td>-0.703188</td>\n",
       "      <td>-0.427842</td>\n",
       "      <td>-0.257982</td>\n",
       "      <td>0.510709</td>\n",
       "    </tr>\n",
       "    <tr>\n",
       "      <th>1532</th>\n",
       "      <td>LEF1</td>\n",
       "      <td>-1.788833</td>\n",
       "      <td>-2.585672</td>\n",
       "      <td>-2.277672</td>\n",
       "      <td>-1.168975</td>\n",
       "      <td>-0.860975</td>\n",
       "      <td>-1.271061</td>\n",
       "      <td>0.322233</td>\n",
       "      <td>0.630234</td>\n",
       "      <td>0.220148</td>\n",
       "      <td>...</td>\n",
       "      <td>1.514755</td>\n",
       "      <td>-0.227687</td>\n",
       "      <td>0.080314</td>\n",
       "      <td>-0.329772</td>\n",
       "      <td>0.364790</td>\n",
       "      <td>0.983367</td>\n",
       "      <td>0.419474</td>\n",
       "      <td>2.833032</td>\n",
       "      <td>1.480500</td>\n",
       "      <td>3.645275</td>\n",
       "    </tr>\n",
       "    <tr>\n",
       "      <th>1533</th>\n",
       "      <td>LEF1</td>\n",
       "      <td>-1.788833</td>\n",
       "      <td>-1.823722</td>\n",
       "      <td>-1.514011</td>\n",
       "      <td>-1.545921</td>\n",
       "      <td>-1.236210</td>\n",
       "      <td>-1.757871</td>\n",
       "      <td>-0.847480</td>\n",
       "      <td>-0.537768</td>\n",
       "      <td>-1.059429</td>\n",
       "      <td>...</td>\n",
       "      <td>0.379215</td>\n",
       "      <td>-3.095851</td>\n",
       "      <td>-2.786140</td>\n",
       "      <td>-3.307800</td>\n",
       "      <td>-3.017836</td>\n",
       "      <td>-3.030779</td>\n",
       "      <td>-2.279847</td>\n",
       "      <td>-2.823244</td>\n",
       "      <td>-2.188745</td>\n",
       "      <td>-2.846625</td>\n",
       "    </tr>\n",
       "    <tr>\n",
       "      <th>1535</th>\n",
       "      <td>LEF1</td>\n",
       "      <td>-1.375053</td>\n",
       "      <td>-1.252870</td>\n",
       "      <td>-1.363479</td>\n",
       "      <td>-0.796131</td>\n",
       "      <td>-0.906741</td>\n",
       "      <td>-1.598657</td>\n",
       "      <td>-0.169129</td>\n",
       "      <td>-0.279739</td>\n",
       "      <td>-0.971655</td>\n",
       "      <td>...</td>\n",
       "      <td>1.312185</td>\n",
       "      <td>0.099997</td>\n",
       "      <td>-0.010613</td>\n",
       "      <td>-0.702529</td>\n",
       "      <td>-0.537396</td>\n",
       "      <td>-0.619269</td>\n",
       "      <td>-0.279518</td>\n",
       "      <td>-0.051200</td>\n",
       "      <td>0.444093</td>\n",
       "      <td>-0.952516</td>\n",
       "    </tr>\n",
       "  </tbody>\n",
       "</table>\n",
       "<p>5 rows × 46 columns</p>\n",
       "</div>"
      ],
      "text/plain": [
       "     Protein  X0min_neg_effect-X0min_neg_cause  X15min_effect-X0min_neg_cause  \\\n",
       "1530    LEF1                         -1.398215                      -1.332073   \n",
       "1531    LEF1                         -1.398215                      -2.044245   \n",
       "1532    LEF1                         -1.788833                      -2.585672   \n",
       "1533    LEF1                         -1.788833                      -1.823722   \n",
       "1535    LEF1                         -1.375053                      -1.252870   \n",
       "\n",
       "      X15min_effect-X15min_cause  X30min_effect-X0min_neg_cause  \\\n",
       "1530                   -1.176495                      -1.152913   \n",
       "1531                   -2.118504                      -1.532107   \n",
       "1532                   -2.277672                      -1.168975   \n",
       "1533                   -1.514011                      -1.545921   \n",
       "1535                   -1.363479                      -0.796131   \n",
       "\n",
       "      X30min_effect-X15min_cause  X30min_effect-X30min_cause  \\\n",
       "1530                   -0.997335                   -1.138456   \n",
       "1531                   -1.606366                   -1.470422   \n",
       "1532                   -0.860975                   -1.271061   \n",
       "1533                   -1.236210                   -1.757871   \n",
       "1535                   -0.906741                   -1.598657   \n",
       "\n",
       "      X90min_effect-X0min_neg_cause  X90min_effect-X15min_cause  \\\n",
       "1530                      -0.748848                   -0.593270   \n",
       "1531                      -1.569035                   -1.643294   \n",
       "1532                       0.322233                    0.630234   \n",
       "1533                      -0.847480                   -0.537768   \n",
       "1535                      -0.169129                   -0.279739   \n",
       "\n",
       "      X90min_effect-X30min_cause              ...               \\\n",
       "1530                   -0.734391              ...                \n",
       "1531                   -1.507350              ...                \n",
       "1532                    0.220148              ...                \n",
       "1533                   -1.059429              ...                \n",
       "1535                   -0.971655              ...                \n",
       "\n",
       "      X240min_effect-X240min_cause  X360min_effect-X0min_neg_cause  \\\n",
       "1530                      2.750291                       -0.626720   \n",
       "1531                      0.370043                       -1.108882   \n",
       "1532                      1.514755                       -0.227687   \n",
       "1533                      0.379215                       -3.095851   \n",
       "1535                      1.312185                        0.099997   \n",
       "\n",
       "      X360min_effect-X15min_cause  X360min_effect-X30min_cause  \\\n",
       "1530                    -0.471142                    -0.612263   \n",
       "1531                    -1.183141                    -1.047197   \n",
       "1532                     0.080314                    -0.329772   \n",
       "1533                    -2.786140                    -3.307800   \n",
       "1535                    -0.010613                    -0.702529   \n",
       "\n",
       "      X360min_effect-X90min_cause  X360min_effect-X120min_cause  \\\n",
       "1530                    -0.798977                      0.539404   \n",
       "1531                    -0.874397                     -1.075918   \n",
       "1532                     0.364790                      0.983367   \n",
       "1533                    -3.017836                     -3.030779   \n",
       "1535                    -0.537396                     -0.619269   \n",
       "\n",
       "      X360min_effect-X180min_cause  X360min_effect-X210min_cause  \\\n",
       "1530                      1.340642                      1.469409   \n",
       "1531                     -0.703188                     -0.427842   \n",
       "1532                      0.419474                      2.833032   \n",
       "1533                     -2.279847                     -2.823244   \n",
       "1535                     -0.279518                     -0.051200   \n",
       "\n",
       "      X360min_effect-X240min_cause  X360min_effect-X360min_cause  \n",
       "1530                      1.965642                      1.504612  \n",
       "1531                     -0.257982                      0.510709  \n",
       "1532                      1.480500                      3.645275  \n",
       "1533                     -2.188745                     -2.846625  \n",
       "1535                      0.444093                     -0.952516  \n",
       "\n",
       "[5 rows x 46 columns]"
      ]
     },
     "execution_count": 11,
     "metadata": {},
     "output_type": "execute_result"
    }
   ],
   "source": [
    "diTrain.head()"
   ]
  },
  {
   "cell_type": "code",
   "execution_count": 12,
   "metadata": {},
   "outputs": [],
   "source": [
    "lstn_clusters=range(2,30)"
   ]
  },
  {
   "cell_type": "code",
   "execution_count": 13,
   "metadata": {},
   "outputs": [],
   "source": [
    "from sklearn.cluster.bicluster import SpectralCoclustering\n",
    "from sklearn.metrics import consensus_score\n",
    "from sklearn.datasets import samples_generator as sg"
   ]
  },
  {
   "cell_type": "code",
   "execution_count": 14,
   "metadata": {},
   "outputs": [
    {
     "data": {
      "text/plain": [
       "SpectralCoclustering(init='k-means++', mini_batch=False, n_clusters=5,\n",
       "           n_init=10, n_jobs=1, n_svd_vecs=None, random_state=0,\n",
       "           svd_method='randomized')"
      ]
     },
     "execution_count": 14,
     "metadata": {},
     "output_type": "execute_result"
    }
   ],
   "source": [
    "spectralCC = SpectralCoclustering(n_clusters=5, random_state=0)\n",
    "spectralCC.fit(diTrain[diTrain.columns[1:]])"
   ]
  },
  {
   "cell_type": "code",
   "execution_count": 15,
   "metadata": {},
   "outputs": [
    {
     "data": {
      "text/plain": [
       "2"
      ]
     },
     "execution_count": 15,
     "metadata": {},
     "output_type": "execute_result"
    }
   ],
   "source": [
    "len(spectralCC.biclusters_)"
   ]
  },
  {
   "cell_type": "code",
   "execution_count": 16,
   "metadata": {},
   "outputs": [
    {
     "data": {
      "text/plain": [
       "45"
      ]
     },
     "execution_count": 16,
     "metadata": {},
     "output_type": "execute_result"
    }
   ],
   "source": [
    "len(spectralCC.biclusters_[1][1])"
   ]
  },
  {
   "cell_type": "code",
   "execution_count": 17,
   "metadata": {},
   "outputs": [],
   "source": [
    "%matplotlib inline"
   ]
  },
  {
   "cell_type": "code",
   "execution_count": 19,
   "metadata": {},
   "outputs": [],
   "source": [
    "import numpy as np\n",
    "from matplotlib import pyplot as plt"
   ]
  },
  {
   "cell_type": "code",
   "execution_count": 29,
   "metadata": {},
   "outputs": [
    {
     "ename": "IndexError",
     "evalue": "index 11090 is out of bounds for axis 1 with size 45",
     "output_type": "error",
     "traceback": [
      "\u001b[0;31m---------------------------------------------------------------------------\u001b[0m",
      "\u001b[0;31mIndexError\u001b[0m                                Traceback (most recent call last)",
      "\u001b[0;32m<ipython-input-29-86ff1f757828>\u001b[0m in \u001b[0;36m<module>\u001b[0;34m()\u001b[0m\n\u001b[0;32m----> 1\u001b[0;31m \u001b[0mfit_data\u001b[0m \u001b[0;34m=\u001b[0m \u001b[0mdiTrain\u001b[0m\u001b[0;34m.\u001b[0m\u001b[0mcolumns\u001b[0m\u001b[0;34m[\u001b[0m\u001b[0;36m1\u001b[0m\u001b[0;34m:\u001b[0m\u001b[0;34m]\u001b[0m\u001b[0;34m[\u001b[0m\u001b[0mnp\u001b[0m\u001b[0;34m.\u001b[0m\u001b[0margsort\u001b[0m\u001b[0;34m(\u001b[0m\u001b[0mspectralCC\u001b[0m\u001b[0;34m.\u001b[0m\u001b[0mrow_labels_\u001b[0m\u001b[0;34m)\u001b[0m\u001b[0;34m]\u001b[0m\u001b[0;34m\u001b[0m\u001b[0m\n\u001b[0m\u001b[1;32m      2\u001b[0m \u001b[0mfit_data\u001b[0m \u001b[0;34m=\u001b[0m \u001b[0mfit_data\u001b[0m\u001b[0;34m[\u001b[0m\u001b[0;34m:\u001b[0m\u001b[0;34m,\u001b[0m \u001b[0mnp\u001b[0m\u001b[0;34m.\u001b[0m\u001b[0margsort\u001b[0m\u001b[0;34m(\u001b[0m\u001b[0mspectralCC\u001b[0m\u001b[0;34m.\u001b[0m\u001b[0mcolumn_labels_\u001b[0m\u001b[0;34m)\u001b[0m\u001b[0;34m]\u001b[0m\u001b[0;34m\u001b[0m\u001b[0m\n",
      "\u001b[0;32m~/anaconda3/envs/Biclustering/lib/python3.6/site-packages/pandas/core/indexes/base.py\u001b[0m in \u001b[0;36m__getitem__\u001b[0;34m(self, key)\u001b[0m\n\u001b[1;32m   1698\u001b[0m \u001b[0;34m\u001b[0m\u001b[0m\n\u001b[1;32m   1699\u001b[0m         \u001b[0mkey\u001b[0m \u001b[0;34m=\u001b[0m \u001b[0m_values_from_object\u001b[0m\u001b[0;34m(\u001b[0m\u001b[0mkey\u001b[0m\u001b[0;34m)\u001b[0m\u001b[0;34m\u001b[0m\u001b[0m\n\u001b[0;32m-> 1700\u001b[0;31m         \u001b[0mresult\u001b[0m \u001b[0;34m=\u001b[0m \u001b[0mgetitem\u001b[0m\u001b[0;34m(\u001b[0m\u001b[0mkey\u001b[0m\u001b[0;34m)\u001b[0m\u001b[0;34m\u001b[0m\u001b[0m\n\u001b[0m\u001b[1;32m   1701\u001b[0m         \u001b[0;32mif\u001b[0m \u001b[0;32mnot\u001b[0m \u001b[0mis_scalar\u001b[0m\u001b[0;34m(\u001b[0m\u001b[0mresult\u001b[0m\u001b[0;34m)\u001b[0m\u001b[0;34m:\u001b[0m\u001b[0;34m\u001b[0m\u001b[0m\n\u001b[1;32m   1702\u001b[0m             \u001b[0;32mreturn\u001b[0m \u001b[0mpromote\u001b[0m\u001b[0;34m(\u001b[0m\u001b[0mresult\u001b[0m\u001b[0;34m)\u001b[0m\u001b[0;34m\u001b[0m\u001b[0m\n",
      "\u001b[0;31mIndexError\u001b[0m: index 11090 is out of bounds for axis 1 with size 45"
     ]
    }
   ],
   "source": [
    "fit_data = diTrain.columns[1:][np.argsort(spectralCC.row_labels_)]\n",
    "fit_data = fit_data[:, np.argsort(spectralCC.column_labels_)]"
   ]
  },
  {
   "cell_type": "code",
   "execution_count": 21,
   "metadata": {},
   "outputs": [
    {
     "ename": "ValueError",
     "evalue": "could not broadcast input array from shape (5,15998) into shape (5)",
     "output_type": "error",
     "traceback": [
      "\u001b[0;31m---------------------------------------------------------------------------\u001b[0m",
      "\u001b[0;31mValueError\u001b[0m                                Traceback (most recent call last)",
      "\u001b[0;32m<ipython-input-21-8a31ca7becff>\u001b[0m in \u001b[0;36m<module>\u001b[0;34m()\u001b[0m\n\u001b[0;32m----> 1\u001b[0;31m \u001b[0mplt\u001b[0m\u001b[0;34m.\u001b[0m\u001b[0mmatshow\u001b[0m\u001b[0;34m(\u001b[0m\u001b[0mspectralCC\u001b[0m\u001b[0;34m.\u001b[0m\u001b[0mbiclusters_\u001b[0m\u001b[0;34m,\u001b[0m \u001b[0mcmap\u001b[0m\u001b[0;34m=\u001b[0m\u001b[0mplt\u001b[0m\u001b[0;34m.\u001b[0m\u001b[0mcm\u001b[0m\u001b[0;34m.\u001b[0m\u001b[0mBlues\u001b[0m\u001b[0;34m)\u001b[0m\u001b[0;34m\u001b[0m\u001b[0m\n\u001b[0m",
      "\u001b[0;32m~/anaconda3/envs/Biclustering/lib/python3.6/site-packages/matplotlib/pyplot.py\u001b[0m in \u001b[0;36mmatshow\u001b[0;34m(A, fignum, **kw)\u001b[0m\n\u001b[1;32m   2266\u001b[0m       \u001b[0mIf\u001b[0m \u001b[0;34m*\u001b[0m\u001b[0mfignum\u001b[0m\u001b[0;34m*\u001b[0m \u001b[0;32mis\u001b[0m \u001b[0;34m*\u001b[0m\u001b[0;32mFalse\u001b[0m\u001b[0;34m*\u001b[0m \u001b[0;32mor\u001b[0m \u001b[0;36m0\u001b[0m\u001b[0;34m,\u001b[0m \u001b[0ma\u001b[0m \u001b[0mnew\u001b[0m \u001b[0mfigure\u001b[0m \u001b[0mwindow\u001b[0m \u001b[0mwill\u001b[0m \u001b[0;34m**\u001b[0m\u001b[0mNOT\u001b[0m\u001b[0;34m**\u001b[0m \u001b[0mbe\u001b[0m \u001b[0mcreated\u001b[0m\u001b[0;34m.\u001b[0m\u001b[0;34m\u001b[0m\u001b[0m\n\u001b[1;32m   2267\u001b[0m     \"\"\"\n\u001b[0;32m-> 2268\u001b[0;31m     \u001b[0mA\u001b[0m \u001b[0;34m=\u001b[0m \u001b[0mnp\u001b[0m\u001b[0;34m.\u001b[0m\u001b[0masanyarray\u001b[0m\u001b[0;34m(\u001b[0m\u001b[0mA\u001b[0m\u001b[0;34m)\u001b[0m\u001b[0;34m\u001b[0m\u001b[0m\n\u001b[0m\u001b[1;32m   2269\u001b[0m     \u001b[0;32mif\u001b[0m \u001b[0mfignum\u001b[0m \u001b[0;32mis\u001b[0m \u001b[0;32mFalse\u001b[0m \u001b[0;32mor\u001b[0m \u001b[0mfignum\u001b[0m \u001b[0;32mis\u001b[0m \u001b[0;36m0\u001b[0m\u001b[0;34m:\u001b[0m\u001b[0;34m\u001b[0m\u001b[0m\n\u001b[1;32m   2270\u001b[0m         \u001b[0max\u001b[0m \u001b[0;34m=\u001b[0m \u001b[0mgca\u001b[0m\u001b[0;34m(\u001b[0m\u001b[0;34m)\u001b[0m\u001b[0;34m\u001b[0m\u001b[0m\n",
      "\u001b[0;32m~/anaconda3/envs/Biclustering/lib/python3.6/site-packages/numpy/core/numeric.py\u001b[0m in \u001b[0;36masanyarray\u001b[0;34m(a, dtype, order)\u001b[0m\n\u001b[1;32m    581\u001b[0m \u001b[0;34m\u001b[0m\u001b[0m\n\u001b[1;32m    582\u001b[0m     \"\"\"\n\u001b[0;32m--> 583\u001b[0;31m     \u001b[0;32mreturn\u001b[0m \u001b[0marray\u001b[0m\u001b[0;34m(\u001b[0m\u001b[0ma\u001b[0m\u001b[0;34m,\u001b[0m \u001b[0mdtype\u001b[0m\u001b[0;34m,\u001b[0m \u001b[0mcopy\u001b[0m\u001b[0;34m=\u001b[0m\u001b[0;32mFalse\u001b[0m\u001b[0;34m,\u001b[0m \u001b[0morder\u001b[0m\u001b[0;34m=\u001b[0m\u001b[0morder\u001b[0m\u001b[0;34m,\u001b[0m \u001b[0msubok\u001b[0m\u001b[0;34m=\u001b[0m\u001b[0;32mTrue\u001b[0m\u001b[0;34m)\u001b[0m\u001b[0;34m\u001b[0m\u001b[0m\n\u001b[0m\u001b[1;32m    584\u001b[0m \u001b[0;34m\u001b[0m\u001b[0m\n\u001b[1;32m    585\u001b[0m \u001b[0;34m\u001b[0m\u001b[0m\n",
      "\u001b[0;31mValueError\u001b[0m: could not broadcast input array from shape (5,15998) into shape (5)"
     ]
    }
   ],
   "source": [
    "plt.matshow(, cmap=plt.cm.Blues)"
   ]
  },
  {
   "cell_type": "code",
   "execution_count": null,
   "metadata": {},
   "outputs": [],
   "source": []
  }
 ],
 "metadata": {
  "kernelspec": {
   "display_name": "Python 3",
   "language": "python",
   "name": "python3"
  },
  "language_info": {
   "codemirror_mode": {
    "name": "ipython",
    "version": 3
   },
   "file_extension": ".py",
   "mimetype": "text/x-python",
   "name": "python",
   "nbconvert_exporter": "python",
   "pygments_lexer": "ipython3",
   "version": "3.6.3"
  }
 },
 "nbformat": 4,
 "nbformat_minor": 2
}
