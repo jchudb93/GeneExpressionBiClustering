{
 "cells": [
  {
   "cell_type": "markdown",
   "metadata": {},
   "source": [
    "# Tridimensional Coherence"
   ]
  },
  {
   "cell_type": "code",
   "execution_count": 1,
   "metadata": {},
   "outputs": [
    {
     "data": {
      "text/latex": [
       "Define H for a tridimensional space given two trajectories x and y in J temporary points.\n",
       "$$\n",
       "H_{+}(x,y,J) = 1 - \\frac{1}{|J|} \\cdot \\sum \\limits_{j \\in J }|((x_{j},\\bar{x}) - (y_{j},\\bar{y})|\n",
       "$$"
      ],
      "text/plain": [
       "<IPython.core.display.Latex object>"
      ]
     },
     "metadata": {},
     "output_type": "display_data"
    }
   ],
   "source": [
    "%%latex\n",
    "Define H for a tridimensional space given two trajectories x and y in J temporary points.\n",
    "$$\n",
    "H_{+}(x,y,J) = 1 - \\frac{1}{|J|} \\cdot \\sum \\limits_{j \\in J }|((x_{j},\\bar{x}) - (y_{j},\\bar{y})|\n",
    "$$"
   ]
  },
  {
   "cell_type": "code",
   "execution_count": 2,
   "metadata": {},
   "outputs": [
    {
     "data": {
      "text/latex": [
       "Define H for a new term 'z' in X\n",
       "$$\n",
       "H_{1}(I,J,X,z) =H_{0}(I,J,X) \\cdot \\frac{(I-1)}{(I+1)} + \\frac{|2|}{(I)(I+1)} \\cdot \\sum_{x \\epsilon X} {h(x,z,J)}\n",
       "$$"
      ],
      "text/plain": [
       "<IPython.core.display.Latex object>"
      ]
     },
     "metadata": {},
     "output_type": "display_data"
    }
   ],
   "source": [
    "%%latex\n",
    "Define H for a new term 'z' in X\n",
    "$$\n",
    "H_{1}(I,J,X,z) =H_{0}(I,J,X) \\cdot \\frac{(I-1)}{(I+1)} + \\frac{|2|}{(I)(I+1)} \\cdot \\sum_{x \\epsilon X} {h(x,z,J)}\n",
    "$$"
   ]
  },
  {
   "cell_type": "code",
   "execution_count": 3,
   "metadata": {},
   "outputs": [],
   "source": [
    "%matplotlib inline\n",
    "import numpy as np\n",
    "import matplotlib.pyplot as plt\n",
    "import math\n",
    "\n",
    "from mpl_toolkits.mplot3d import Axes3D"
   ]
  },
  {
   "cell_type": "code",
   "execution_count": 4,
   "metadata": {},
   "outputs": [
    {
     "data": {
      "text/plain": [
       "6"
      ]
     },
     "execution_count": 4,
     "metadata": {},
     "output_type": "execute_result"
    }
   ],
   "source": [
    "_x = np.array([[0.0,0.0],[0.25,0.25],[0.5,0.5],[0.25,0.25],[0.0,0.0],[-0.25,-0.25]])\n",
    "_y = np.array([[0.0,0.0],[-0.25,-0.25],[-0.5,-0.5],[0.25,0.25],[0.0,0.0],[0.0,0.25]])\n",
    "len(_x)"
   ]
  },
  {
   "cell_type": "code",
   "execution_count": 5,
   "metadata": {},
   "outputs": [
    {
     "data": {
      "text/plain": [
       "array([ 0.125,  0.125])"
      ]
     },
     "execution_count": 5,
     "metadata": {},
     "output_type": "execute_result"
    }
   ],
   "source": [
    "np.mean(_x,axis=0)"
   ]
  },
  {
   "cell_type": "code",
   "execution_count": 6,
   "metadata": {},
   "outputs": [
    {
     "data": {
      "text/plain": [
       "array([-0.08333333, -0.04166667])"
      ]
     },
     "execution_count": 6,
     "metadata": {},
     "output_type": "execute_result"
    }
   ],
   "source": [
    "np.mean(_y, axis=0)"
   ]
  },
  {
   "cell_type": "code",
   "execution_count": 7,
   "metadata": {},
   "outputs": [
    {
     "data": {
      "text/plain": [
       "0.1767766952966369"
      ]
     },
     "execution_count": 7,
     "metadata": {},
     "output_type": "execute_result"
    }
   ],
   "source": [
    "math.hypot(_x[0][0]-np.mean(_x,axis=0)[0],_x[0][1]-np.mean(_x,axis=0)[1])"
   ]
  },
  {
   "cell_type": "code",
   "execution_count": 8,
   "metadata": {},
   "outputs": [
    {
     "data": {
      "text/plain": [
       "0.09316949906249122"
      ]
     },
     "execution_count": 8,
     "metadata": {},
     "output_type": "execute_result"
    }
   ],
   "source": [
    "math.hypot(_y[0][0]-np.mean(_y,axis=0)[0],_y[0][1]-np.mean(_y,axis=0)[1])"
   ]
  },
  {
   "cell_type": "markdown",
   "metadata": {},
   "source": [
    "def three_dimensional_correlation(x, y):\n",
    "    \n",
    "    _x = x\n",
    "    _y = y\n",
    "    mean_point_x = np.mean(_x, axis=0)\n",
    "    mean_point_y = np.mean(_y, axis=0)\n",
    "    _J = len(_x)\n",
    "    \n",
    "    acc = 0\n",
    "    \n",
    "    for j in range(0,_J):\n",
    "        \n",
    "        x_axis_diff = _x[j][0] - mean_point_x[0]\n",
    "        y_axis_diff = _x[j][1] - mean_point_x[1]\n",
    "        \n",
    "        x_distance = math.hypot(x_axis_diff, y_axis_diff)\n",
    "        \n",
    "        x_axis_diff = _y[j][0] - mean_point_y[0]\n",
    "        y_axis_diff = _y[j][1] - mean_point_y[1]\n",
    "        \n",
    "        y_distance = math.hypot(x_axis_diff, y_axis_diff)\n",
    "        \n",
    "        diff_term = (x_distance - y_distance) / 2.0\n",
    "        \n",
    "        diff_term = diff_term ** 2.0\n",
    "        \n",
    "        acc += diff_term\n",
    "        \n",
    "    return (1-acc/abs(_J))"
   ]
  },
  {
   "cell_type": "code",
   "execution_count": 10,
   "metadata": {},
   "outputs": [
    {
     "data": {
      "text/plain": [
       "0.9936508313301623"
      ]
     },
     "execution_count": 10,
     "metadata": {},
     "output_type": "execute_result"
    }
   ],
   "source": [
    "three_dimensional_correlation(_x, _y)"
   ]
  },
  {
   "cell_type": "code",
   "execution_count": 11,
   "metadata": {},
   "outputs": [],
   "source": [
    "_x_test = np.array([[1,1],[1,1],[-1,-1],[1,1],[1,1],[-1,-1]])\n",
    "_y_test = np.array([[-1,-1],[-1,-1],[1,1],[-1,-1],[-1,-1],[1,1]])"
   ]
  },
  {
   "cell_type": "code",
   "execution_count": 12,
   "metadata": {},
   "outputs": [
    {
     "data": {
      "text/plain": [
       "0.7392698824122184"
      ]
     },
     "execution_count": 12,
     "metadata": {},
     "output_type": "execute_result"
    }
   ],
   "source": [
    "three_dimensional_correlation(_x_test, _y)"
   ]
  },
  {
   "cell_type": "markdown",
   "metadata": {},
   "source": [
    "def three_dimensional_pair_coherence(X):\n",
    "    \n",
    "    _I = len(X)\n",
    "    HP = 0\n",
    "    \n",
    "    for i in range(0, len(X)):\n",
    "    \n",
    "        for j in range(i+1, len(X)):\n",
    "            \n",
    "            if i == j:\n",
    "                \n",
    "                break\n",
    "                \n",
    "            x = X[i]\n",
    "            y = X[j]\n",
    "            correlation = three_dimensional_correlation(x,y)\n",
    "            HP += correlation\n",
    "            \n",
    "    HP *= math.fabs(2.0)/(math.fabs(_I)*(math.fabs(_I)-1.0)) if _I > 1 else 0\n",
    "    \n",
    "    return HP"
   ]
  },
  {
   "cell_type": "markdown",
   "metadata": {},
   "source": [
    "## Data generation"
   ]
  },
  {
   "cell_type": "code",
   "execution_count": 14,
   "metadata": {},
   "outputs": [],
   "source": [
    "test_vectors = np.array([_x]*1)"
   ]
  },
  {
   "cell_type": "code",
   "execution_count": 15,
   "metadata": {},
   "outputs": [
    {
     "data": {
      "text/plain": [
       "numpy.ndarray"
      ]
     },
     "execution_count": 15,
     "metadata": {},
     "output_type": "execute_result"
    }
   ],
   "source": [
    "type(test_vectors)"
   ]
  },
  {
   "cell_type": "code",
   "execution_count": 16,
   "metadata": {},
   "outputs": [
    {
     "data": {
      "text/plain": [
       "array([[ 0.51718754, -0.39015333],\n",
       "       [-0.56616161,  0.50001387],\n",
       "       [-0.39639107, -0.23434533],\n",
       "       [ 0.32241726,  0.94748774],\n",
       "       [-0.22004499,  0.32998441],\n",
       "       [ 0.03879684,  0.09037203]])"
      ]
     },
     "execution_count": 16,
     "metadata": {},
     "output_type": "execute_result"
    }
   ],
   "source": [
    "np.random.random((len(_x),2)) * 2 - 1"
   ]
  },
  {
   "cell_type": "code",
   "execution_count": 17,
   "metadata": {},
   "outputs": [],
   "source": [
    "test_data = []\n",
    "\n",
    "for i in range(0,100):\n",
    "    \n",
    "    test_data.append(np.random.random((len(_x),2)) * 2 - 1)    "
   ]
  },
  {
   "cell_type": "code",
   "execution_count": 18,
   "metadata": {},
   "outputs": [
    {
     "data": {
      "text/plain": [
       "100"
      ]
     },
     "execution_count": 18,
     "metadata": {},
     "output_type": "execute_result"
    }
   ],
   "source": [
    "len(np.array(test_data))"
   ]
  },
  {
   "cell_type": "code",
   "execution_count": 19,
   "metadata": {},
   "outputs": [],
   "source": [
    "final_test = np.concatenate([np.array(test_data),test_vectors])"
   ]
  },
  {
   "cell_type": "code",
   "execution_count": 20,
   "metadata": {},
   "outputs": [
    {
     "data": {
      "text/plain": [
       "100"
      ]
     },
     "execution_count": 20,
     "metadata": {},
     "output_type": "execute_result"
    }
   ],
   "source": [
    "len(test_data)"
   ]
  },
  {
   "cell_type": "code",
   "execution_count": 21,
   "metadata": {},
   "outputs": [
    {
     "data": {
      "text/plain": [
       "101"
      ]
     },
     "execution_count": 21,
     "metadata": {},
     "output_type": "execute_result"
    }
   ],
   "source": [
    "len(final_test)"
   ]
  },
  {
   "cell_type": "code",
   "execution_count": 22,
   "metadata": {},
   "outputs": [
    {
     "name": "stdout",
     "output_type": "stream",
     "text": [
      "0.9552473811835247\n"
     ]
    }
   ],
   "source": [
    "print(three_dimensional_pair_coherence(test_data))"
   ]
  },
  {
   "cell_type": "code",
   "execution_count": 23,
   "metadata": {},
   "outputs": [
    {
     "name": "stdout",
     "output_type": "stream",
     "text": [
      "0.9548032511558131\n"
     ]
    }
   ],
   "source": [
    "print(three_dimensional_pair_coherence(final_test))"
   ]
  },
  {
   "cell_type": "code",
   "execution_count": 24,
   "metadata": {},
   "outputs": [
    {
     "data": {
      "text/plain": [
       "(101, 6, 2)"
      ]
     },
     "execution_count": 24,
     "metadata": {},
     "output_type": "execute_result"
    }
   ],
   "source": [
    "final_test.shape"
   ]
  },
  {
   "cell_type": "code",
   "execution_count": 269,
   "metadata": {},
   "outputs": [],
   "source": [
    "def three_dimensional_msr(X):\n",
    "    \n",
    "    _I = X.shape[0]\n",
    "    _J = X.shape[1]\n",
    "    _XiJ = np.mean(X, axis=1)\n",
    "    _XIj = np.mean(X, axis=0)\n",
    "    # _XIJ = np.mean(X)\n",
    "    _XIJ = np.mean(_XiJ, axis = 0)\n",
    "    acc = 0\n",
    "    \n",
    "    for i in range(_I):\n",
    "        \n",
    "        tmp = 0\n",
    "        \n",
    "        for j in range(_J):\n",
    "            \n",
    "            tmp =  (X[i,j] - _XiJ[i] - _XIj[j] + _XIJ)\n",
    "            tmp = (tmp[0]**2 + tmp[1]**2)\n",
    "            acc += tmp\n",
    "\n",
    "    acc = 1-(acc/(_I*_J*2*np.sqrt(2)))\n",
    "    return acc"
   ]
  },
  {
   "cell_type": "code",
   "execution_count": 270,
   "metadata": {},
   "outputs": [
    {
     "data": {
      "text/plain": [
       "array([ 0.23326865,  0.32952037])"
      ]
     },
     "execution_count": 270,
     "metadata": {},
     "output_type": "execute_result"
    }
   ],
   "source": [
    "final_test[0,0]"
   ]
  },
  {
   "cell_type": "code",
   "execution_count": 273,
   "metadata": {},
   "outputs": [
    {
     "data": {
      "text/plain": [
       "1.0"
      ]
     },
     "execution_count": 273,
     "metadata": {},
     "output_type": "execute_result"
    }
   ],
   "source": [
    "_x_test = np.array([[1,1],[-1,1]])\n",
    "_y_test = np.array([[1,1],[-1,1]])\n",
    "\n",
    "test = list()\n",
    "test.append(_x_test)\n",
    "test.append(_y_test)\n",
    "np.array(test)\n",
    "\n",
    "three_dimensional_msr(np.array(test))"
   ]
  },
  {
   "cell_type": "code",
   "execution_count": 274,
   "metadata": {},
   "outputs": [
    {
     "data": {
      "text/plain": [
       "2"
      ]
     },
     "execution_count": 274,
     "metadata": {},
     "output_type": "execute_result"
    }
   ],
   "source": [
    "len(_x_test)"
   ]
  },
  {
   "cell_type": "code",
   "execution_count": 268,
   "metadata": {},
   "outputs": [
    {
     "data": {
      "text/plain": [
       "array([0, 0])"
      ]
     },
     "execution_count": 268,
     "metadata": {},
     "output_type": "execute_result"
    }
   ],
   "source": [
    "np.array([1,1]) - 1"
   ]
  },
  {
   "cell_type": "code",
   "execution_count": 275,
   "metadata": {},
   "outputs": [],
   "source": [
    "def three_dimensional_coherence(r1, r2):\n",
    "    \n",
    "    aux_list = list()\n",
    "    aux_list.append(r1)\n",
    "    aux_list.append(r2)\n",
    "    \n",
    "    return three_dimensional_msr(np.array(aux_list))"
   ]
  },
  {
   "cell_type": "code",
   "execution_count": 276,
   "metadata": {},
   "outputs": [
    {
     "data": {
      "text/plain": [
       "1.0"
      ]
     },
     "execution_count": 276,
     "metadata": {},
     "output_type": "execute_result"
    }
   ],
   "source": [
    "three_dimensional_correlation(_x_test,_y_test)"
   ]
  }
 ],
 "metadata": {
  "kernelspec": {
   "display_name": "Python 3",
   "language": "python",
   "name": "python3"
  },
  "language_info": {
   "codemirror_mode": {
    "name": "ipython",
    "version": 3
   },
   "file_extension": ".py",
   "mimetype": "text/x-python",
   "name": "python",
   "nbconvert_exporter": "python",
   "pygments_lexer": "ipython3",
   "version": "3.6.3"
  }
 },
 "nbformat": 4,
 "nbformat_minor": 2
}
