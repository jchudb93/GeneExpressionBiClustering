{
 "cells": [
  {
   "cell_type": "markdown",
   "metadata": {},
   "source": [
    "# Biclustering "
   ]
  },
  {
   "cell_type": "markdown",
   "metadata": {},
   "source": [
    "Biclustering using sklearn"
   ]
  },
  {
   "cell_type": "code",
   "execution_count": 1,
   "metadata": {},
   "outputs": [],
   "source": [
    "import gc\n",
    "import pandas as pd\n",
    "import glob\n",
    "import sklearn\n",
    "import numpy as np"
   ]
  },
  {
   "cell_type": "code",
   "execution_count": 2,
   "metadata": {},
   "outputs": [
    {
     "data": {
      "text/plain": [
       "['../Di/Jnk.csv',\n",
       " '../Di/IRF4.csv',\n",
       " '../Di/LEF1.csv',\n",
       " '../Di/Ikk2.csv',\n",
       " '../Di/CTNNB1.csv',\n",
       " '../Di/Erk.csv',\n",
       " '../Di/MYC.csv']"
      ]
     },
     "execution_count": 2,
     "metadata": {},
     "output_type": "execute_result"
    }
   ],
   "source": [
    "diFiles=glob.glob(\"../Di/*\")\n",
    "diFiles"
   ]
  },
  {
   "cell_type": "code",
   "execution_count": 3,
   "metadata": {},
   "outputs": [],
   "source": [
    "trainIndexFiles=glob.glob(\"../Train/*\")\n",
    "frames = list()\n",
    "for f in trainIndexFiles:\n",
    "    indices = pd.read_csv(f,sep=\";\")\n",
    "    indexList=list(indices['0'])\n",
    "    protein = f.split(\"/\")[-1].split(\".\")[0]\n",
    "    fpath = '../Dc/'+f.split(\"/\")[-1].split(\".\")[0]+\".csv\"\n",
    "    diRead = pd.read_csv(fpath,sep=\";\")\n",
    "    diPartialTrain=diRead[diRead.columns[5:]].loc[indexList].copy()\n",
    "    diPartialTrain.insert(0,column='Protein',value =protein )\n",
    "    del diRead\n",
    "    gc.collect()\n",
    "    frames.append(diPartialTrain)\n",
    "diTrain =  pd.concat(frames)"
   ]
  },
  {
   "cell_type": "code",
   "execution_count": 4,
   "metadata": {},
   "outputs": [
    {
     "data": {
      "text/html": [
       "<div>\n",
       "<style>\n",
       "    .dataframe thead tr:only-child th {\n",
       "        text-align: right;\n",
       "    }\n",
       "\n",
       "    .dataframe thead th {\n",
       "        text-align: left;\n",
       "    }\n",
       "\n",
       "    .dataframe tbody tr th {\n",
       "        vertical-align: top;\n",
       "    }\n",
       "</style>\n",
       "<table border=\"1\" class=\"dataframe\">\n",
       "  <thead>\n",
       "    <tr style=\"text-align: right;\">\n",
       "      <th></th>\n",
       "      <th>Protein</th>\n",
       "      <th>X0min_neg_effect-X0min_neg_cause</th>\n",
       "      <th>X15min_effect-X0min_neg_cause</th>\n",
       "      <th>X15min_effect-X15min_cause</th>\n",
       "      <th>X30min_effect-X0min_neg_cause</th>\n",
       "      <th>X30min_effect-X15min_cause</th>\n",
       "      <th>X30min_effect-X30min_cause</th>\n",
       "      <th>X90min_effect-X0min_neg_cause</th>\n",
       "      <th>X90min_effect-X15min_cause</th>\n",
       "      <th>X90min_effect-X30min_cause</th>\n",
       "      <th>...</th>\n",
       "      <th>X240min_effect-X240min_cause</th>\n",
       "      <th>X360min_effect-X0min_neg_cause</th>\n",
       "      <th>X360min_effect-X15min_cause</th>\n",
       "      <th>X360min_effect-X30min_cause</th>\n",
       "      <th>X360min_effect-X90min_cause</th>\n",
       "      <th>X360min_effect-X120min_cause</th>\n",
       "      <th>X360min_effect-X180min_cause</th>\n",
       "      <th>X360min_effect-X210min_cause</th>\n",
       "      <th>X360min_effect-X240min_cause</th>\n",
       "      <th>X360min_effect-X360min_cause</th>\n",
       "    </tr>\n",
       "  </thead>\n",
       "  <tbody>\n",
       "    <tr>\n",
       "      <th>1530</th>\n",
       "      <td>LEF1</td>\n",
       "      <td>1.023241</td>\n",
       "      <td>0.724441</td>\n",
       "      <td>0.818558</td>\n",
       "      <td>0.563618</td>\n",
       "      <td>0.484836</td>\n",
       "      <td>0.672051</td>\n",
       "      <td>-0.033114</td>\n",
       "      <td>-0.013766</td>\n",
       "      <td>0.068516</td>\n",
       "      <td>...</td>\n",
       "      <td>1.759207</td>\n",
       "      <td>0.168689</td>\n",
       "      <td>0.138546</td>\n",
       "      <td>0.072377</td>\n",
       "      <td>-0.208468</td>\n",
       "      <td>0.002047</td>\n",
       "      <td>-0.033598</td>\n",
       "      <td>0.196686</td>\n",
       "      <td>-0.146813</td>\n",
       "      <td>0.336667</td>\n",
       "    </tr>\n",
       "    <tr>\n",
       "      <th>1531</th>\n",
       "      <td>LEF1</td>\n",
       "      <td>0.169366</td>\n",
       "      <td>0.093080</td>\n",
       "      <td>0.621927</td>\n",
       "      <td>0.102329</td>\n",
       "      <td>0.108679</td>\n",
       "      <td>0.166695</td>\n",
       "      <td>0.022466</td>\n",
       "      <td>0.021222</td>\n",
       "      <td>0.052001</td>\n",
       "      <td>...</td>\n",
       "      <td>0.422824</td>\n",
       "      <td>-0.093931</td>\n",
       "      <td>0.017554</td>\n",
       "      <td>-0.044028</td>\n",
       "      <td>-0.024721</td>\n",
       "      <td>-0.009345</td>\n",
       "      <td>0.050461</td>\n",
       "      <td>-0.073455</td>\n",
       "      <td>-0.042127</td>\n",
       "      <td>0.806875</td>\n",
       "    </tr>\n",
       "    <tr>\n",
       "      <th>1532</th>\n",
       "      <td>LEF1</td>\n",
       "      <td>1.887236</td>\n",
       "      <td>0.981507</td>\n",
       "      <td>2.324589</td>\n",
       "      <td>0.764263</td>\n",
       "      <td>0.324520</td>\n",
       "      <td>1.247644</td>\n",
       "      <td>-0.241862</td>\n",
       "      <td>-0.431564</td>\n",
       "      <td>-0.149245</td>\n",
       "      <td>...</td>\n",
       "      <td>0.462031</td>\n",
       "      <td>0.728134</td>\n",
       "      <td>0.877128</td>\n",
       "      <td>0.352315</td>\n",
       "      <td>-0.127248</td>\n",
       "      <td>-0.097222</td>\n",
       "      <td>-0.054824</td>\n",
       "      <td>0.538076</td>\n",
       "      <td>0.111132</td>\n",
       "      <td>1.637100</td>\n",
       "    </tr>\n",
       "    <tr>\n",
       "      <th>1533</th>\n",
       "      <td>LEF1</td>\n",
       "      <td>0.237701</td>\n",
       "      <td>-0.071842</td>\n",
       "      <td>0.166615</td>\n",
       "      <td>0.123891</td>\n",
       "      <td>-0.070192</td>\n",
       "      <td>0.429748</td>\n",
       "      <td>-0.033902</td>\n",
       "      <td>0.010897</td>\n",
       "      <td>-0.006371</td>\n",
       "      <td>...</td>\n",
       "      <td>0.559448</td>\n",
       "      <td>-0.021912</td>\n",
       "      <td>0.067405</td>\n",
       "      <td>-0.021690</td>\n",
       "      <td>0.000144</td>\n",
       "      <td>0.007487</td>\n",
       "      <td>0.128203</td>\n",
       "      <td>-0.146404</td>\n",
       "      <td>0.111754</td>\n",
       "      <td>0.439802</td>\n",
       "    </tr>\n",
       "    <tr>\n",
       "      <th>1535</th>\n",
       "      <td>LEF1</td>\n",
       "      <td>0.757642</td>\n",
       "      <td>0.409183</td>\n",
       "      <td>0.489564</td>\n",
       "      <td>-0.257325</td>\n",
       "      <td>-0.228940</td>\n",
       "      <td>0.444693</td>\n",
       "      <td>0.024037</td>\n",
       "      <td>0.013811</td>\n",
       "      <td>0.029758</td>\n",
       "      <td>...</td>\n",
       "      <td>1.067780</td>\n",
       "      <td>0.156884</td>\n",
       "      <td>0.128128</td>\n",
       "      <td>-0.064193</td>\n",
       "      <td>0.042174</td>\n",
       "      <td>0.131908</td>\n",
       "      <td>0.014193</td>\n",
       "      <td>0.045039</td>\n",
       "      <td>0.037291</td>\n",
       "      <td>0.423915</td>\n",
       "    </tr>\n",
       "  </tbody>\n",
       "</table>\n",
       "<p>5 rows × 46 columns</p>\n",
       "</div>"
      ],
      "text/plain": [
       "     Protein  X0min_neg_effect-X0min_neg_cause  X15min_effect-X0min_neg_cause  \\\n",
       "1530    LEF1                          1.023241                       0.724441   \n",
       "1531    LEF1                          0.169366                       0.093080   \n",
       "1532    LEF1                          1.887236                       0.981507   \n",
       "1533    LEF1                          0.237701                      -0.071842   \n",
       "1535    LEF1                          0.757642                       0.409183   \n",
       "\n",
       "      X15min_effect-X15min_cause  X30min_effect-X0min_neg_cause  \\\n",
       "1530                    0.818558                       0.563618   \n",
       "1531                    0.621927                       0.102329   \n",
       "1532                    2.324589                       0.764263   \n",
       "1533                    0.166615                       0.123891   \n",
       "1535                    0.489564                      -0.257325   \n",
       "\n",
       "      X30min_effect-X15min_cause  X30min_effect-X30min_cause  \\\n",
       "1530                    0.484836                    0.672051   \n",
       "1531                    0.108679                    0.166695   \n",
       "1532                    0.324520                    1.247644   \n",
       "1533                   -0.070192                    0.429748   \n",
       "1535                   -0.228940                    0.444693   \n",
       "\n",
       "      X90min_effect-X0min_neg_cause  X90min_effect-X15min_cause  \\\n",
       "1530                      -0.033114                   -0.013766   \n",
       "1531                       0.022466                    0.021222   \n",
       "1532                      -0.241862                   -0.431564   \n",
       "1533                      -0.033902                    0.010897   \n",
       "1535                       0.024037                    0.013811   \n",
       "\n",
       "      X90min_effect-X30min_cause              ...               \\\n",
       "1530                    0.068516              ...                \n",
       "1531                    0.052001              ...                \n",
       "1532                   -0.149245              ...                \n",
       "1533                   -0.006371              ...                \n",
       "1535                    0.029758              ...                \n",
       "\n",
       "      X240min_effect-X240min_cause  X360min_effect-X0min_neg_cause  \\\n",
       "1530                      1.759207                        0.168689   \n",
       "1531                      0.422824                       -0.093931   \n",
       "1532                      0.462031                        0.728134   \n",
       "1533                      0.559448                       -0.021912   \n",
       "1535                      1.067780                        0.156884   \n",
       "\n",
       "      X360min_effect-X15min_cause  X360min_effect-X30min_cause  \\\n",
       "1530                     0.138546                     0.072377   \n",
       "1531                     0.017554                    -0.044028   \n",
       "1532                     0.877128                     0.352315   \n",
       "1533                     0.067405                    -0.021690   \n",
       "1535                     0.128128                    -0.064193   \n",
       "\n",
       "      X360min_effect-X90min_cause  X360min_effect-X120min_cause  \\\n",
       "1530                    -0.208468                      0.002047   \n",
       "1531                    -0.024721                     -0.009345   \n",
       "1532                    -0.127248                     -0.097222   \n",
       "1533                     0.000144                      0.007487   \n",
       "1535                     0.042174                      0.131908   \n",
       "\n",
       "      X360min_effect-X180min_cause  X360min_effect-X210min_cause  \\\n",
       "1530                     -0.033598                      0.196686   \n",
       "1531                      0.050461                     -0.073455   \n",
       "1532                     -0.054824                      0.538076   \n",
       "1533                      0.128203                     -0.146404   \n",
       "1535                      0.014193                      0.045039   \n",
       "\n",
       "      X360min_effect-X240min_cause  X360min_effect-X360min_cause  \n",
       "1530                     -0.146813                      0.336667  \n",
       "1531                     -0.042127                      0.806875  \n",
       "1532                      0.111132                      1.637100  \n",
       "1533                      0.111754                      0.439802  \n",
       "1535                      0.037291                      0.423915  \n",
       "\n",
       "[5 rows x 46 columns]"
      ]
     },
     "execution_count": 4,
     "metadata": {},
     "output_type": "execute_result"
    }
   ],
   "source": [
    "diTrain.head()"
   ]
  },
  {
   "cell_type": "code",
   "execution_count": 5,
   "metadata": {},
   "outputs": [],
   "source": [
    "lstn_clusters=range(2,30)"
   ]
  },
  {
   "cell_type": "code",
   "execution_count": 15,
   "metadata": {},
   "outputs": [],
   "source": [
    "from sklearn.cluster.bicluster import SpectralCoclustering\n",
    "from sklearn.metrics import consensus_score\n",
    "from sklearn.datasets import samples_generator as sg"
   ]
  },
  {
   "cell_type": "code",
   "execution_count": 18,
   "metadata": {},
   "outputs": [
    {
     "data": {
      "text/plain": [
       "SpectralCoclustering(init='k-means++', mini_batch=False, n_clusters=5,\n",
       "           n_init=10, n_jobs=1, n_svd_vecs=None, random_state=0,\n",
       "           svd_method='randomized')"
      ]
     },
     "execution_count": 18,
     "metadata": {},
     "output_type": "execute_result"
    }
   ],
   "source": [
    "spectralCC = SpectralCoclustering(n_clusters=5, random_state=0)\n",
    "spectralCC.fit(diTrain[diTrain.columns[1:]])"
   ]
  },
  {
   "cell_type": "code",
   "execution_count": 21,
   "metadata": {},
   "outputs": [
    {
     "data": {
      "text/plain": [
       "2"
      ]
     },
     "execution_count": 21,
     "metadata": {},
     "output_type": "execute_result"
    }
   ],
   "source": [
    "len(spectralCC.biclusters_)"
   ]
  },
  {
   "cell_type": "code",
   "execution_count": 29,
   "metadata": {},
   "outputs": [
    {
     "data": {
      "text/plain": [
       "45"
      ]
     },
     "execution_count": 29,
     "metadata": {},
     "output_type": "execute_result"
    }
   ],
   "source": [
    "len(spectralCC.biclusters_[1][1])"
   ]
  }
 ],
 "metadata": {
  "kernelspec": {
   "display_name": "Python 3",
   "language": "python",
   "name": "python3"
  },
  "language_info": {
   "codemirror_mode": {
    "name": "ipython",
    "version": 3
   },
   "file_extension": ".py",
   "mimetype": "text/x-python",
   "name": "python",
   "nbconvert_exporter": "python",
   "pygments_lexer": "ipython3",
   "version": "3.6.3"
  }
 },
 "nbformat": 4,
 "nbformat_minor": 2
}
