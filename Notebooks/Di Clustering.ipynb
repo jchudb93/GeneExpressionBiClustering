{
 "cells": [
  {
   "cell_type": "code",
   "execution_count": 1,
   "metadata": {},
   "outputs": [],
   "source": [
    "import gc\n",
    "import pandas as pd\n",
    "import glob\n",
    "import sklearn\n",
    "import numpy as np"
   ]
  },
  {
   "cell_type": "code",
   "execution_count": 2,
   "metadata": {},
   "outputs": [
    {
     "data": {
      "text/plain": [
       "['../Di/Jnk.csv',\n",
       " '../Di/IRF4.csv',\n",
       " '../Di/LEF1.csv',\n",
       " '../Di/Ikk2.csv',\n",
       " '../Di/CTNNB1.csv',\n",
       " '../Di/Erk.csv',\n",
       " '../Di/MYC.csv']"
      ]
     },
     "execution_count": 2,
     "metadata": {},
     "output_type": "execute_result"
    }
   ],
   "source": [
    "diFiles=glob.glob(\"../Di/*\")\n",
    "diFiles"
   ]
  },
  {
   "cell_type": "code",
   "execution_count": 3,
   "metadata": {},
   "outputs": [],
   "source": [
    "trainIndexFiles=glob.glob(\"../Train/*\")\n",
    "frames = list()\n",
    "for f in trainIndexFiles:\n",
    "    indexes = pd.read_csv(f,sep=\";\")\n",
    "    indexList=list(indexes['0'])\n",
    "    fpath = '../Di/'+f.split(\"/\")[-1].split(\".\")[0]+\".csv\"\n",
    "    dcRead = pd.read_csv(fpath,sep=\";\")\n",
    "    dcPartialTrain=dcRead[dcRead.columns[5:]].loc[indexList].copy()\n",
    "    del dcRead\n",
    "    gc.collect()\n",
    "    frames.append(dcPartialTrain)"
   ]
  },
  {
   "cell_type": "code",
   "execution_count": 4,
   "metadata": {},
   "outputs": [],
   "source": [
    "diTrain = pd.concat(frames)"
   ]
  },
  {
   "cell_type": "code",
   "execution_count": 7,
   "metadata": {
    "scrolled": true
   },
   "outputs": [],
   "source": [
    "diTrain.to_csv(\"../FullTrain/FullTrainDI/FullTrainDI.csv\")"
   ]
  },
  {
   "cell_type": "code",
   "execution_count": 8,
   "metadata": {},
   "outputs": [],
   "source": [
    "lstn_clusters=range(2,30)"
   ]
  },
  {
   "cell_type": "code",
   "execution_count": 9,
   "metadata": {},
   "outputs": [],
   "source": [
    "import time\n",
    "from sklearn.cluster import MiniBatchKMeans\n",
    "from sklearn.metrics import silhouette_score"
   ]
  },
  {
   "cell_type": "code",
   "execution_count": 10,
   "metadata": {},
   "outputs": [
    {
     "data": {
      "text/plain": [
       "19"
      ]
     },
     "execution_count": 10,
     "metadata": {},
     "output_type": "execute_result"
    }
   ],
   "source": [
    "file = open('../ClusteringOutputs/DI_Clustering/diMiniBatch.txt','w')  \n",
    "bestOut = open('../ClusteringOutputs/DI_Clustering/diBestMiniBatch.txt','w') \n",
    "file.write(\"n_clusters,s_score\\n\")"
   ]
  },
  {
   "cell_type": "code",
   "execution_count": null,
   "metadata": {},
   "outputs": [],
   "source": [
    "max_silhouette=0\n",
    "nClusters=2\n",
    "t0 = time.time()\n",
    "\n",
    "for n in lstn_clusters:\n",
    "    mbk=MiniBatchKMeans(init='k-means++', n_clusters=n\n",
    "                        , max_no_improvement=10, verbose=0)\n",
    "\n",
    "    mbk.fit(diTrain)\n",
    "    labels = mbk.labels_\n",
    "    s_score = silhouette_score(diTrain, labels, metric='euclidean')\n",
    "    \n",
    "    file.write(str(n)+\",\")\n",
    "    file.write(str(s_score)+\"\\n\")\n",
    "    if s_score>max_silhouette:\n",
    "        max_silhouette = s_score\n",
    "        nClusters=n\n",
    "t_mini_batch = time.time() - t0    \n",
    "#print(\"Num clusters \" + str(n))\n",
    "bestOut.write(\"Num clusters \" + str(n))\n",
    "#print(\"Silhouette score \" + str(max_silhouette))\n",
    "bestOut.write(\"Silhouette score \" + str(max_silhouette))\n",
    "#print(\"Running time \" + str(t_mini_batch))\n",
    "file.close()\n",
    "bestOut.close()"
   ]
  },
  {
   "cell_type": "code",
   "execution_count": null,
   "metadata": {},
   "outputs": [],
   "source": []
  }
 ],
 "metadata": {
  "kernelspec": {
   "display_name": "Python 3",
   "language": "python",
   "name": "python3"
  },
  "language_info": {
   "codemirror_mode": {
    "name": "ipython",
    "version": 3
   },
   "file_extension": ".py",
   "mimetype": "text/x-python",
   "name": "python",
   "nbconvert_exporter": "python",
   "pygments_lexer": "ipython3",
   "version": "3.6.3"
  }
 },
 "nbformat": 4,
 "nbformat_minor": 2
}
