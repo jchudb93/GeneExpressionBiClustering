{
 "cells": [
  {
   "cell_type": "code",
   "execution_count": 10,
   "metadata": {},
   "outputs": [],
   "source": [
    "%matplotlib inline\n",
    "import gc\n",
    "import pandas as pd\n",
    "import glob\n",
    "import sklearn\n",
    "import numpy as np\n",
    "import matplotlib"
   ]
  },
  {
   "cell_type": "code",
   "execution_count": 11,
   "metadata": {},
   "outputs": [
    {
     "data": {
      "text/plain": [
       "['../data/Dc/Jnk.csv',\n",
       " '../data/Dc/IRF4.csv',\n",
       " '../data/Dc/LEF1.csv',\n",
       " '../data/Dc/Ikk2.csv',\n",
       " '../data/Dc/CTNNB1.csv',\n",
       " '../data/Dc/Erk.csv',\n",
       " '../data/Dc/MYC.csv']"
      ]
     },
     "execution_count": 11,
     "metadata": {},
     "output_type": "execute_result"
    }
   ],
   "source": [
    "diFiles=glob.glob(\"../data/Dc/*\")\n",
    "diFiles"
   ]
  },
  {
   "cell_type": "code",
   "execution_count": 12,
   "metadata": {},
   "outputs": [],
   "source": [
    "trainIndexFiles=glob.glob(\"../Train/*\")\n",
    "frames = list()\n",
    "for f in trainIndexFiles:\n",
    "    indices = pd.read_csv(f,sep=\";\")\n",
    "    indexList=list(indices['0'])\n",
    "    protein = f.split(\"/\")[-1].split(\".\")[0]\n",
    "    fpath = '../data/Dc/'+f.split(\"/\")[-1].split(\".\")[0]+\".csv\"\n",
    "    diRead = pd.read_csv(fpath,sep=\";\")\n",
    "    diPartialTrain=diRead[diRead.columns[5:]].loc[indexList].copy()\n",
    "    diPartialTrain.insert(0,column='Protein',value =protein )\n",
    "    del diRead\n",
    "    gc.collect()\n",
    "    frames.append(diPartialTrain)"
   ]
  },
  {
   "cell_type": "code",
   "execution_count": 14,
   "metadata": {},
   "outputs": [],
   "source": [
    "dcTrain = pd.concat(frames)"
   ]
  },
  {
   "cell_type": "code",
   "execution_count": 16,
   "metadata": {
    "scrolled": true
   },
   "outputs": [
    {
     "ename": "FileNotFoundError",
     "evalue": "[Errno 2] No such file or directory: '../FullTrain/FullTraindc/FullTraindc.csv'",
     "output_type": "error",
     "traceback": [
      "\u001b[0;31m---------------------------------------------------------------------------\u001b[0m",
      "\u001b[0;31mFileNotFoundError\u001b[0m                         Traceback (most recent call last)",
      "\u001b[0;32m<ipython-input-16-af00f9de09ad>\u001b[0m in \u001b[0;36m<module>\u001b[0;34m()\u001b[0m\n\u001b[0;32m----> 1\u001b[0;31m \u001b[0mdcTrain\u001b[0m\u001b[0;34m.\u001b[0m\u001b[0mto_csv\u001b[0m\u001b[0;34m(\u001b[0m\u001b[0;34m\"../FullTrain/FullTraindc/FullTraindc.csv\"\u001b[0m\u001b[0;34m)\u001b[0m\u001b[0;34m\u001b[0m\u001b[0m\n\u001b[0m",
      "\u001b[0;32m~/anaconda3/envs/Biclustering/lib/python3.6/site-packages/pandas/core/frame.py\u001b[0m in \u001b[0;36mto_csv\u001b[0;34m(self, path_or_buf, sep, na_rep, float_format, columns, header, index, index_label, mode, encoding, compression, quoting, quotechar, line_terminator, chunksize, tupleize_cols, date_format, doublequote, escapechar, decimal)\u001b[0m\n\u001b[1;32m   1401\u001b[0m                                      \u001b[0mdoublequote\u001b[0m\u001b[0;34m=\u001b[0m\u001b[0mdoublequote\u001b[0m\u001b[0;34m,\u001b[0m\u001b[0;34m\u001b[0m\u001b[0m\n\u001b[1;32m   1402\u001b[0m                                      escapechar=escapechar, decimal=decimal)\n\u001b[0;32m-> 1403\u001b[0;31m         \u001b[0mformatter\u001b[0m\u001b[0;34m.\u001b[0m\u001b[0msave\u001b[0m\u001b[0;34m(\u001b[0m\u001b[0;34m)\u001b[0m\u001b[0;34m\u001b[0m\u001b[0m\n\u001b[0m\u001b[1;32m   1404\u001b[0m \u001b[0;34m\u001b[0m\u001b[0m\n\u001b[1;32m   1405\u001b[0m         \u001b[0;32mif\u001b[0m \u001b[0mpath_or_buf\u001b[0m \u001b[0;32mis\u001b[0m \u001b[0;32mNone\u001b[0m\u001b[0;34m:\u001b[0m\u001b[0;34m\u001b[0m\u001b[0m\n",
      "\u001b[0;32m~/anaconda3/envs/Biclustering/lib/python3.6/site-packages/pandas/io/formats/format.py\u001b[0m in \u001b[0;36msave\u001b[0;34m(self)\u001b[0m\n\u001b[1;32m   1575\u001b[0m             f, handles = _get_handle(self.path_or_buf, self.mode,\n\u001b[1;32m   1576\u001b[0m                                      \u001b[0mencoding\u001b[0m\u001b[0;34m=\u001b[0m\u001b[0mself\u001b[0m\u001b[0;34m.\u001b[0m\u001b[0mencoding\u001b[0m\u001b[0;34m,\u001b[0m\u001b[0;34m\u001b[0m\u001b[0m\n\u001b[0;32m-> 1577\u001b[0;31m                                      compression=self.compression)\n\u001b[0m\u001b[1;32m   1578\u001b[0m             \u001b[0mclose\u001b[0m \u001b[0;34m=\u001b[0m \u001b[0;32mTrue\u001b[0m\u001b[0;34m\u001b[0m\u001b[0m\n\u001b[1;32m   1579\u001b[0m \u001b[0;34m\u001b[0m\u001b[0m\n",
      "\u001b[0;32m~/anaconda3/envs/Biclustering/lib/python3.6/site-packages/pandas/io/common.py\u001b[0m in \u001b[0;36m_get_handle\u001b[0;34m(path_or_buf, mode, encoding, compression, memory_map, is_text)\u001b[0m\n\u001b[1;32m    383\u001b[0m         \u001b[0;32melif\u001b[0m \u001b[0mis_text\u001b[0m\u001b[0;34m:\u001b[0m\u001b[0;34m\u001b[0m\u001b[0m\n\u001b[1;32m    384\u001b[0m             \u001b[0;31m# Python 3 and no explicit encoding\u001b[0m\u001b[0;34m\u001b[0m\u001b[0;34m\u001b[0m\u001b[0m\n\u001b[0;32m--> 385\u001b[0;31m             \u001b[0mf\u001b[0m \u001b[0;34m=\u001b[0m \u001b[0mopen\u001b[0m\u001b[0;34m(\u001b[0m\u001b[0mpath_or_buf\u001b[0m\u001b[0;34m,\u001b[0m \u001b[0mmode\u001b[0m\u001b[0;34m,\u001b[0m \u001b[0merrors\u001b[0m\u001b[0;34m=\u001b[0m\u001b[0;34m'replace'\u001b[0m\u001b[0;34m)\u001b[0m\u001b[0;34m\u001b[0m\u001b[0m\n\u001b[0m\u001b[1;32m    386\u001b[0m         \u001b[0;32melse\u001b[0m\u001b[0;34m:\u001b[0m\u001b[0;34m\u001b[0m\u001b[0m\n\u001b[1;32m    387\u001b[0m             \u001b[0;31m# Python 3 and binary mode\u001b[0m\u001b[0;34m\u001b[0m\u001b[0;34m\u001b[0m\u001b[0m\n",
      "\u001b[0;31mFileNotFoundError\u001b[0m: [Errno 2] No such file or directory: '../FullTrain/FullTraindc/FullTraindc.csv'"
     ]
    }
   ],
   "source": [
    "dcTrain.to_csv(\"../FullTrain/FullTraindc/FullTraindc.csv\")"
   ]
  },
  {
   "cell_type": "code",
   "execution_count": 18,
   "metadata": {},
   "outputs": [
    {
     "data": {
      "text/html": [
       "<div>\n",
       "<style>\n",
       "    .dataframe thead tr:only-child th {\n",
       "        text-align: right;\n",
       "    }\n",
       "\n",
       "    .dataframe thead th {\n",
       "        text-align: left;\n",
       "    }\n",
       "\n",
       "    .dataframe tbody tr th {\n",
       "        vertical-align: top;\n",
       "    }\n",
       "</style>\n",
       "<table border=\"1\" class=\"dataframe\">\n",
       "  <thead>\n",
       "    <tr style=\"text-align: right;\">\n",
       "      <th></th>\n",
       "      <th>Protein</th>\n",
       "      <th>X0min_neg_effect-X0min_neg_cause</th>\n",
       "      <th>X15min_effect-X0min_neg_cause</th>\n",
       "      <th>X15min_effect-X15min_cause</th>\n",
       "      <th>X30min_effect-X0min_neg_cause</th>\n",
       "      <th>X30min_effect-X15min_cause</th>\n",
       "      <th>X30min_effect-X30min_cause</th>\n",
       "      <th>X90min_effect-X0min_neg_cause</th>\n",
       "      <th>X90min_effect-X15min_cause</th>\n",
       "      <th>X90min_effect-X30min_cause</th>\n",
       "      <th>...</th>\n",
       "      <th>X240min_effect-X240min_cause</th>\n",
       "      <th>X360min_effect-X0min_neg_cause</th>\n",
       "      <th>X360min_effect-X15min_cause</th>\n",
       "      <th>X360min_effect-X30min_cause</th>\n",
       "      <th>X360min_effect-X90min_cause</th>\n",
       "      <th>X360min_effect-X120min_cause</th>\n",
       "      <th>X360min_effect-X180min_cause</th>\n",
       "      <th>X360min_effect-X210min_cause</th>\n",
       "      <th>X360min_effect-X240min_cause</th>\n",
       "      <th>X360min_effect-X360min_cause</th>\n",
       "    </tr>\n",
       "  </thead>\n",
       "  <tbody>\n",
       "    <tr>\n",
       "      <th>1530</th>\n",
       "      <td>LEF1</td>\n",
       "      <td>1.023241</td>\n",
       "      <td>0.724441</td>\n",
       "      <td>0.818558</td>\n",
       "      <td>0.563618</td>\n",
       "      <td>0.484836</td>\n",
       "      <td>0.672051</td>\n",
       "      <td>-0.033114</td>\n",
       "      <td>-0.013766</td>\n",
       "      <td>0.068516</td>\n",
       "      <td>...</td>\n",
       "      <td>1.759207</td>\n",
       "      <td>0.168689</td>\n",
       "      <td>0.138546</td>\n",
       "      <td>0.072377</td>\n",
       "      <td>-0.208468</td>\n",
       "      <td>0.002047</td>\n",
       "      <td>-0.033598</td>\n",
       "      <td>0.196686</td>\n",
       "      <td>-0.146813</td>\n",
       "      <td>0.336667</td>\n",
       "    </tr>\n",
       "    <tr>\n",
       "      <th>1531</th>\n",
       "      <td>LEF1</td>\n",
       "      <td>0.169366</td>\n",
       "      <td>0.093080</td>\n",
       "      <td>0.621927</td>\n",
       "      <td>0.102329</td>\n",
       "      <td>0.108679</td>\n",
       "      <td>0.166695</td>\n",
       "      <td>0.022466</td>\n",
       "      <td>0.021222</td>\n",
       "      <td>0.052001</td>\n",
       "      <td>...</td>\n",
       "      <td>0.422824</td>\n",
       "      <td>-0.093931</td>\n",
       "      <td>0.017554</td>\n",
       "      <td>-0.044028</td>\n",
       "      <td>-0.024721</td>\n",
       "      <td>-0.009345</td>\n",
       "      <td>0.050461</td>\n",
       "      <td>-0.073455</td>\n",
       "      <td>-0.042127</td>\n",
       "      <td>0.806875</td>\n",
       "    </tr>\n",
       "    <tr>\n",
       "      <th>1532</th>\n",
       "      <td>LEF1</td>\n",
       "      <td>1.887236</td>\n",
       "      <td>0.981507</td>\n",
       "      <td>2.324589</td>\n",
       "      <td>0.764263</td>\n",
       "      <td>0.324520</td>\n",
       "      <td>1.247644</td>\n",
       "      <td>-0.241862</td>\n",
       "      <td>-0.431564</td>\n",
       "      <td>-0.149245</td>\n",
       "      <td>...</td>\n",
       "      <td>0.462031</td>\n",
       "      <td>0.728134</td>\n",
       "      <td>0.877128</td>\n",
       "      <td>0.352315</td>\n",
       "      <td>-0.127248</td>\n",
       "      <td>-0.097222</td>\n",
       "      <td>-0.054824</td>\n",
       "      <td>0.538076</td>\n",
       "      <td>0.111132</td>\n",
       "      <td>1.637100</td>\n",
       "    </tr>\n",
       "    <tr>\n",
       "      <th>1533</th>\n",
       "      <td>LEF1</td>\n",
       "      <td>0.237701</td>\n",
       "      <td>-0.071842</td>\n",
       "      <td>0.166615</td>\n",
       "      <td>0.123891</td>\n",
       "      <td>-0.070192</td>\n",
       "      <td>0.429748</td>\n",
       "      <td>-0.033902</td>\n",
       "      <td>0.010897</td>\n",
       "      <td>-0.006371</td>\n",
       "      <td>...</td>\n",
       "      <td>0.559448</td>\n",
       "      <td>-0.021912</td>\n",
       "      <td>0.067405</td>\n",
       "      <td>-0.021690</td>\n",
       "      <td>0.000144</td>\n",
       "      <td>0.007487</td>\n",
       "      <td>0.128203</td>\n",
       "      <td>-0.146404</td>\n",
       "      <td>0.111754</td>\n",
       "      <td>0.439802</td>\n",
       "    </tr>\n",
       "    <tr>\n",
       "      <th>1535</th>\n",
       "      <td>LEF1</td>\n",
       "      <td>0.757642</td>\n",
       "      <td>0.409183</td>\n",
       "      <td>0.489564</td>\n",
       "      <td>-0.257325</td>\n",
       "      <td>-0.228940</td>\n",
       "      <td>0.444693</td>\n",
       "      <td>0.024037</td>\n",
       "      <td>0.013811</td>\n",
       "      <td>0.029758</td>\n",
       "      <td>...</td>\n",
       "      <td>1.067780</td>\n",
       "      <td>0.156884</td>\n",
       "      <td>0.128128</td>\n",
       "      <td>-0.064193</td>\n",
       "      <td>0.042174</td>\n",
       "      <td>0.131908</td>\n",
       "      <td>0.014193</td>\n",
       "      <td>0.045039</td>\n",
       "      <td>0.037291</td>\n",
       "      <td>0.423915</td>\n",
       "    </tr>\n",
       "  </tbody>\n",
       "</table>\n",
       "<p>5 rows × 46 columns</p>\n",
       "</div>"
      ],
      "text/plain": [
       "     Protein  X0min_neg_effect-X0min_neg_cause  X15min_effect-X0min_neg_cause  \\\n",
       "1530    LEF1                          1.023241                       0.724441   \n",
       "1531    LEF1                          0.169366                       0.093080   \n",
       "1532    LEF1                          1.887236                       0.981507   \n",
       "1533    LEF1                          0.237701                      -0.071842   \n",
       "1535    LEF1                          0.757642                       0.409183   \n",
       "\n",
       "      X15min_effect-X15min_cause  X30min_effect-X0min_neg_cause  \\\n",
       "1530                    0.818558                       0.563618   \n",
       "1531                    0.621927                       0.102329   \n",
       "1532                    2.324589                       0.764263   \n",
       "1533                    0.166615                       0.123891   \n",
       "1535                    0.489564                      -0.257325   \n",
       "\n",
       "      X30min_effect-X15min_cause  X30min_effect-X30min_cause  \\\n",
       "1530                    0.484836                    0.672051   \n",
       "1531                    0.108679                    0.166695   \n",
       "1532                    0.324520                    1.247644   \n",
       "1533                   -0.070192                    0.429748   \n",
       "1535                   -0.228940                    0.444693   \n",
       "\n",
       "      X90min_effect-X0min_neg_cause  X90min_effect-X15min_cause  \\\n",
       "1530                      -0.033114                   -0.013766   \n",
       "1531                       0.022466                    0.021222   \n",
       "1532                      -0.241862                   -0.431564   \n",
       "1533                      -0.033902                    0.010897   \n",
       "1535                       0.024037                    0.013811   \n",
       "\n",
       "      X90min_effect-X30min_cause              ...               \\\n",
       "1530                    0.068516              ...                \n",
       "1531                    0.052001              ...                \n",
       "1532                   -0.149245              ...                \n",
       "1533                   -0.006371              ...                \n",
       "1535                    0.029758              ...                \n",
       "\n",
       "      X240min_effect-X240min_cause  X360min_effect-X0min_neg_cause  \\\n",
       "1530                      1.759207                        0.168689   \n",
       "1531                      0.422824                       -0.093931   \n",
       "1532                      0.462031                        0.728134   \n",
       "1533                      0.559448                       -0.021912   \n",
       "1535                      1.067780                        0.156884   \n",
       "\n",
       "      X360min_effect-X15min_cause  X360min_effect-X30min_cause  \\\n",
       "1530                     0.138546                     0.072377   \n",
       "1531                     0.017554                    -0.044028   \n",
       "1532                     0.877128                     0.352315   \n",
       "1533                     0.067405                    -0.021690   \n",
       "1535                     0.128128                    -0.064193   \n",
       "\n",
       "      X360min_effect-X90min_cause  X360min_effect-X120min_cause  \\\n",
       "1530                    -0.208468                      0.002047   \n",
       "1531                    -0.024721                     -0.009345   \n",
       "1532                    -0.127248                     -0.097222   \n",
       "1533                     0.000144                      0.007487   \n",
       "1535                     0.042174                      0.131908   \n",
       "\n",
       "      X360min_effect-X180min_cause  X360min_effect-X210min_cause  \\\n",
       "1530                     -0.033598                      0.196686   \n",
       "1531                      0.050461                     -0.073455   \n",
       "1532                     -0.054824                      0.538076   \n",
       "1533                      0.128203                     -0.146404   \n",
       "1535                      0.014193                      0.045039   \n",
       "\n",
       "      X360min_effect-X240min_cause  X360min_effect-X360min_cause  \n",
       "1530                     -0.146813                      0.336667  \n",
       "1531                     -0.042127                      0.806875  \n",
       "1532                      0.111132                      1.637100  \n",
       "1533                      0.111754                      0.439802  \n",
       "1535                      0.037291                      0.423915  \n",
       "\n",
       "[5 rows x 46 columns]"
      ]
     },
     "execution_count": 18,
     "metadata": {},
     "output_type": "execute_result"
    }
   ],
   "source": [
    "dcTrain.head()"
   ]
  },
  {
   "cell_type": "code",
   "execution_count": 10,
   "metadata": {},
   "outputs": [],
   "source": [
    "lstn_clusters=range(2,30)"
   ]
  },
  {
   "cell_type": "code",
   "execution_count": 19,
   "metadata": {},
   "outputs": [],
   "source": [
    "import time\n",
    "from sklearn.cluster import MiniBatchKMeans\n",
    "from sklearn.metrics import silhouette_score"
   ]
  },
  {
   "cell_type": "code",
   "execution_count": 12,
   "metadata": {},
   "outputs": [
    {
     "data": {
      "text/plain": [
       "19"
      ]
     },
     "execution_count": 12,
     "metadata": {},
     "output_type": "execute_result"
    }
   ],
   "source": [
    "file = open('../ClusteringOutputs/DI_Clustering/diMiniBatch.txt','w')  \n",
    "bestOut = open('../ClusteringOutputs/DI_Clustering/diBestMiniBatch.txt','w') \n",
    "file.write(\"n_clusters,s_score\\n\")"
   ]
  },
  {
   "cell_type": "code",
   "execution_count": 7,
   "metadata": {},
   "outputs": [],
   "source": [
    "dfLabels=pd.DataFrame()"
   ]
  },
  {
   "cell_type": "code",
   "execution_count": 20,
   "metadata": {},
   "outputs": [],
   "source": [
    "dfLabels['Protein'] = dcTrain['Protein'].tolist()"
   ]
  },
  {
   "cell_type": "code",
   "execution_count": 15,
   "metadata": {},
   "outputs": [
    {
     "ename": "KeyboardInterrupt",
     "evalue": "",
     "output_type": "error",
     "traceback": [
      "\u001b[0;31m---------------------------------------------------------------------------\u001b[0m",
      "\u001b[0;31mKeyboardInterrupt\u001b[0m                         Traceback (most recent call last)",
      "\u001b[0;32m<ipython-input-15-650fb030831a>\u001b[0m in \u001b[0;36m<module>\u001b[0;34m()\u001b[0m\n\u001b[1;32m      7\u001b[0m     \u001b[0mmbk\u001b[0m\u001b[0;34m.\u001b[0m\u001b[0mfit\u001b[0m\u001b[0;34m(\u001b[0m\u001b[0mdiTrain\u001b[0m\u001b[0;34m[\u001b[0m\u001b[0mdiTrain\u001b[0m\u001b[0;34m.\u001b[0m\u001b[0mcolumns\u001b[0m\u001b[0;34m[\u001b[0m\u001b[0;36m1\u001b[0m\u001b[0;34m:\u001b[0m\u001b[0;34m]\u001b[0m\u001b[0;34m]\u001b[0m\u001b[0;34m)\u001b[0m\u001b[0;34m\u001b[0m\u001b[0m\n\u001b[1;32m      8\u001b[0m     \u001b[0mlabels\u001b[0m \u001b[0;34m=\u001b[0m \u001b[0mmbk\u001b[0m\u001b[0;34m.\u001b[0m\u001b[0mlabels_\u001b[0m\u001b[0;34m\u001b[0m\u001b[0m\n\u001b[0;32m----> 9\u001b[0;31m     \u001b[0ms_score\u001b[0m \u001b[0;34m=\u001b[0m \u001b[0msilhouette_score\u001b[0m\u001b[0;34m(\u001b[0m\u001b[0mdiTrain\u001b[0m\u001b[0;34m[\u001b[0m\u001b[0mdiTrain\u001b[0m\u001b[0;34m.\u001b[0m\u001b[0mcolumns\u001b[0m\u001b[0;34m[\u001b[0m\u001b[0;36m1\u001b[0m\u001b[0;34m:\u001b[0m\u001b[0;34m]\u001b[0m\u001b[0;34m]\u001b[0m\u001b[0;34m,\u001b[0m \u001b[0mlabels\u001b[0m\u001b[0;34m,\u001b[0m \u001b[0mmetric\u001b[0m\u001b[0;34m=\u001b[0m\u001b[0;34m'euclidean'\u001b[0m\u001b[0;34m)\u001b[0m\u001b[0;34m\u001b[0m\u001b[0m\n\u001b[0m\u001b[1;32m     10\u001b[0m     \u001b[0mdfLabels\u001b[0m\u001b[0;34m[\u001b[0m\u001b[0;34m'NClusters'\u001b[0m\u001b[0;34m+\u001b[0m\u001b[0mstr\u001b[0m\u001b[0;34m(\u001b[0m\u001b[0mn\u001b[0m\u001b[0;34m)\u001b[0m\u001b[0;34m]\u001b[0m \u001b[0;34m=\u001b[0m \u001b[0mn\u001b[0m\u001b[0;34m\u001b[0m\u001b[0m\n\u001b[1;32m     11\u001b[0m     \u001b[0mdfLabels\u001b[0m\u001b[0;34m[\u001b[0m\u001b[0;34m'Labels_'\u001b[0m\u001b[0;34m+\u001b[0m\u001b[0mstr\u001b[0m\u001b[0;34m(\u001b[0m\u001b[0mn\u001b[0m\u001b[0;34m)\u001b[0m\u001b[0;34m]\u001b[0m \u001b[0;34m=\u001b[0m\u001b[0mlabels\u001b[0m\u001b[0;34m\u001b[0m\u001b[0m\n",
      "\u001b[0;32m~/anaconda3/envs/Biclustering/lib/python3.6/site-packages/sklearn/metrics/cluster/unsupervised.py\u001b[0m in \u001b[0;36msilhouette_score\u001b[0;34m(X, labels, metric, sample_size, random_state, **kwds)\u001b[0m\n\u001b[1;32m     99\u001b[0m         \u001b[0;32melse\u001b[0m\u001b[0;34m:\u001b[0m\u001b[0;34m\u001b[0m\u001b[0m\n\u001b[1;32m    100\u001b[0m             \u001b[0mX\u001b[0m\u001b[0;34m,\u001b[0m \u001b[0mlabels\u001b[0m \u001b[0;34m=\u001b[0m \u001b[0mX\u001b[0m\u001b[0;34m[\u001b[0m\u001b[0mindices\u001b[0m\u001b[0;34m]\u001b[0m\u001b[0;34m,\u001b[0m \u001b[0mlabels\u001b[0m\u001b[0;34m[\u001b[0m\u001b[0mindices\u001b[0m\u001b[0;34m]\u001b[0m\u001b[0;34m\u001b[0m\u001b[0m\n\u001b[0;32m--> 101\u001b[0;31m     \u001b[0;32mreturn\u001b[0m \u001b[0mnp\u001b[0m\u001b[0;34m.\u001b[0m\u001b[0mmean\u001b[0m\u001b[0;34m(\u001b[0m\u001b[0msilhouette_samples\u001b[0m\u001b[0;34m(\u001b[0m\u001b[0mX\u001b[0m\u001b[0;34m,\u001b[0m \u001b[0mlabels\u001b[0m\u001b[0;34m,\u001b[0m \u001b[0mmetric\u001b[0m\u001b[0;34m=\u001b[0m\u001b[0mmetric\u001b[0m\u001b[0;34m,\u001b[0m \u001b[0;34m**\u001b[0m\u001b[0mkwds\u001b[0m\u001b[0;34m)\u001b[0m\u001b[0;34m)\u001b[0m\u001b[0;34m\u001b[0m\u001b[0m\n\u001b[0m\u001b[1;32m    102\u001b[0m \u001b[0;34m\u001b[0m\u001b[0m\n\u001b[1;32m    103\u001b[0m \u001b[0;34m\u001b[0m\u001b[0m\n",
      "\u001b[0;32m~/anaconda3/envs/Biclustering/lib/python3.6/site-packages/sklearn/metrics/cluster/unsupervised.py\u001b[0m in \u001b[0;36msilhouette_samples\u001b[0;34m(X, labels, metric, **kwds)\u001b[0m\n\u001b[1;32m    184\u001b[0m         \u001b[0;31m# label.\u001b[0m\u001b[0;34m\u001b[0m\u001b[0;34m\u001b[0m\u001b[0m\n\u001b[1;32m    185\u001b[0m         \u001b[0mmask\u001b[0m \u001b[0;34m=\u001b[0m \u001b[0mlabels\u001b[0m \u001b[0;34m==\u001b[0m \u001b[0mcurr_label\u001b[0m\u001b[0;34m\u001b[0m\u001b[0m\n\u001b[0;32m--> 186\u001b[0;31m         \u001b[0mcurrent_distances\u001b[0m \u001b[0;34m=\u001b[0m \u001b[0mdistances\u001b[0m\u001b[0;34m[\u001b[0m\u001b[0mmask\u001b[0m\u001b[0;34m]\u001b[0m\u001b[0;34m\u001b[0m\u001b[0m\n\u001b[0m\u001b[1;32m    187\u001b[0m \u001b[0;34m\u001b[0m\u001b[0m\n\u001b[1;32m    188\u001b[0m         \u001b[0;31m# Leave out current sample.\u001b[0m\u001b[0;34m\u001b[0m\u001b[0;34m\u001b[0m\u001b[0m\n",
      "\u001b[0;31mKeyboardInterrupt\u001b[0m: "
     ]
    }
   ],
   "source": [
    "max_silhouette=0\n",
    "nClusters=2\n",
    "\n",
    "for n in lstn_clusters:\n",
    "    mbk=MiniBatchKMeans(init='k-means++', n_clusters=n\n",
    "                        , max_no_improvement=10, verbose=0)\n",
    "    mbk.fit(dcTrain[dcTrain.columns[1:]])\n",
    "    labels = mbk.labels_\n",
    "    s_score = silhouette_score(dcTrain[dcTrain.columns[1:]], labels, metric='euclidean')\n",
    "    dfLabels['NClusters'+str(n)] = n\n",
    "    dfLabels['Labels_'+str(n)] =labels\n",
    "    file.write(str(n)+\",\")\n",
    "    file.write(str(s_score)+\"\\n\")\n",
    "    if s_score>max_silhouette:\n",
    "        max_silhouette = s_score\n",
    "        nClusters=n\n",
    "#t_mini_batch = time.time() - t0    \n",
    "#print(\"Num clusters \" + str(n))\n",
    "bestOut.write(\"Num clusters \" + str(n))\n",
    "#print(\"Silhouette score \" + str(max_silhouette))\n",
    "bestOut.write(\"Silhouette score \" + str(max_silhouette))\n",
    "#print(\"Running time \" + str(t_mini_batch))\n",
    "file.close()\n",
    "bestOut.close()\n",
    "file.close()\n",
    "bestOut.close()"
   ]
  },
  {
   "cell_type": "code",
   "execution_count": 21,
   "metadata": {},
   "outputs": [
    {
     "data": {
      "text/plain": [
       "pandas.core.frame.DataFrame"
      ]
     },
     "execution_count": 21,
     "metadata": {},
     "output_type": "execute_result"
    }
   ],
   "source": [
    "type(dfLabels)"
   ]
  },
  {
   "cell_type": "code",
   "execution_count": 22,
   "metadata": {},
   "outputs": [
    {
     "data": {
      "text/html": [
       "<div>\n",
       "<style>\n",
       "    .dataframe thead tr:only-child th {\n",
       "        text-align: right;\n",
       "    }\n",
       "\n",
       "    .dataframe thead th {\n",
       "        text-align: left;\n",
       "    }\n",
       "\n",
       "    .dataframe tbody tr th {\n",
       "        vertical-align: top;\n",
       "    }\n",
       "</style>\n",
       "<table border=\"1\" class=\"dataframe\">\n",
       "  <thead>\n",
       "    <tr style=\"text-align: right;\">\n",
       "      <th></th>\n",
       "      <th>Protein</th>\n",
       "    </tr>\n",
       "  </thead>\n",
       "  <tbody>\n",
       "    <tr>\n",
       "      <th>0</th>\n",
       "      <td>LEF1</td>\n",
       "    </tr>\n",
       "    <tr>\n",
       "      <th>1</th>\n",
       "      <td>LEF1</td>\n",
       "    </tr>\n",
       "    <tr>\n",
       "      <th>2</th>\n",
       "      <td>LEF1</td>\n",
       "    </tr>\n",
       "    <tr>\n",
       "      <th>3</th>\n",
       "      <td>LEF1</td>\n",
       "    </tr>\n",
       "    <tr>\n",
       "      <th>4</th>\n",
       "      <td>LEF1</td>\n",
       "    </tr>\n",
       "  </tbody>\n",
       "</table>\n",
       "</div>"
      ],
      "text/plain": [
       "  Protein\n",
       "0    LEF1\n",
       "1    LEF1\n",
       "2    LEF1\n",
       "3    LEF1\n",
       "4    LEF1"
      ]
     },
     "execution_count": 22,
     "metadata": {},
     "output_type": "execute_result"
    }
   ],
   "source": [
    "dfLabels.head()"
   ]
  },
  {
   "cell_type": "code",
   "execution_count": null,
   "metadata": {},
   "outputs": [],
   "source": [
    "dfLabels.to_csv('../ClusteringOutputs/DI_Clustering/DILabelsKmeans.csv')"
   ]
  },
  {
   "cell_type": "code",
   "execution_count": 62,
   "metadata": {},
   "outputs": [],
   "source": [
    "mbk=MiniBatchKMeans(init='k-means++', n_clusters=4\n",
    "                        , max_no_improvement=10, verbose=0)\n",
    "mbk.fit(dcTrain[dcTrain.columns[1:]])\n",
    "labels = mbk.labels_\n",
    "s_score = silhouette_score(dcTrain[dcTrain.columns[1:]], labels, metric='euclidean')"
   ]
  },
  {
   "cell_type": "code",
   "execution_count": 63,
   "metadata": {},
   "outputs": [],
   "source": [
    "from sklearn.decomposition import PCA"
   ]
  },
  {
   "cell_type": "code",
   "execution_count": 64,
   "metadata": {},
   "outputs": [],
   "source": [
    "pca = PCA(n_components=3, svd_solver='full')"
   ]
  },
  {
   "cell_type": "code",
   "execution_count": 65,
   "metadata": {},
   "outputs": [
    {
     "data": {
      "text/plain": [
       "PCA(copy=True, iterated_power='auto', n_components=3, random_state=None,\n",
       "  svd_solver='full', tol=0.0, whiten=False)"
      ]
     },
     "execution_count": 65,
     "metadata": {},
     "output_type": "execute_result"
    }
   ],
   "source": [
    "pca.fit(dcTrain[dcTrain.columns[1:]])"
   ]
  },
  {
   "cell_type": "code",
   "execution_count": 66,
   "metadata": {},
   "outputs": [],
   "source": [
    "pca_3d = pca.transform(dcTrain[dcTrain.columns[1:]]).T"
   ]
  },
  {
   "cell_type": "code",
   "execution_count": 67,
   "metadata": {},
   "outputs": [
    {
     "data": {
      "text/plain": [
       "3"
      ]
     },
     "execution_count": 67,
     "metadata": {},
     "output_type": "execute_result"
    }
   ],
   "source": [
    "len(pca_3d)"
   ]
  },
  {
   "cell_type": "code",
   "execution_count": 68,
   "metadata": {},
   "outputs": [],
   "source": [
    "from matplotlib import pyplot\n",
    "from mpl_toolkits.mplot3d import Axes3D"
   ]
  },
  {
   "cell_type": "code",
   "execution_count": 69,
   "metadata": {},
   "outputs": [],
   "source": [
    "x=pca_3d[0]\n",
    "y=pca_3d[1]\n",
    "z=pca_3d[2]"
   ]
  },
  {
   "cell_type": "code",
   "execution_count": 70,
   "metadata": {},
   "outputs": [
    {
     "data": {
      "image/png": "[encoded data removed]",
      "text/plain": [
       "<matplotlib.figure.Figure at 0x7f2d7c67dd68>"
      ]
     },
     "metadata": {},
     "output_type": "display_data"
    }
   ],
   "source": [
    "fig = pyplot.figure()\n",
    "ax = Axes3D(fig)\n",
    "ax.scatter(x, y, z,c=labels)\n",
    "pyplot.show()"
   ]
  },
  {
   "cell_type": "code",
   "execution_count": 19,
   "metadata": {},
   "outputs": [],
   "source": []
  },
  {
   "cell_type": "code",
   "execution_count": null,
   "metadata": {},
   "outputs": [],
   "source": []
  }
 ],
 "metadata": {
  "kernelspec": {
   "display_name": "Python 3",
   "language": "python",
   "name": "python3"
  },
  "language_info": {
   "codemirror_mode": {
    "name": "ipython",
    "version": 3
   },
   "file_extension": ".py",
   "mimetype": "text/x-python",
   "name": "python",
   "nbconvert_exporter": "python",
   "pygments_lexer": "ipython3",
   "version": "3.6.3"
  }
 },
 "nbformat": 4,
 "nbformat_minor": 2
}
