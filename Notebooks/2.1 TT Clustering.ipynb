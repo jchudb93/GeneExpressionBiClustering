{
 "cells": [
  {
   "cell_type": "markdown",
   "metadata": {},
   "source": [
    "# TT Clustering"
   ]
  },
  {
   "cell_type": "markdown",
   "metadata": {},
   "source": [
    "Clustering over the TT datasets. These are categorical labels if two points in the time series interact as they should. If two points in cause and effect goes in the same direction, these are labeled as 1, if there is no relation, for example the cause has 1.5 and effect 0 implies no effect between them, so they are labeled as 0 and if its behaviour is opposite, these are labeled as -1"
   ]
  },
  {
   "cell_type": "markdown",
   "metadata": {},
   "source": [
    "## 1. Preprocessing"
   ]
  },
  {
   "cell_type": "code",
   "execution_count": 8,
   "metadata": {},
   "outputs": [],
   "source": [
    "import gc\n",
    "import pandas as pd\n",
    "import glob\n",
    "import sklearn\n",
    "import numpy as np"
   ]
  },
  {
   "cell_type": "code",
   "execution_count": 10,
   "metadata": {},
   "outputs": [],
   "source": [
    "files=glob.glob(\"../data/Tt/*\")\n",
    "posLabels = glob.glob(\"../LabelOutputs/*\")"
   ]
  },
  {
   "cell_type": "code",
   "execution_count": 25,
   "metadata": {},
   "outputs": [],
   "source": [
    "trainIndexFiles=glob.glob(\"../Train/*\")\n",
    "frames = list()\n",
    "for f in trainIndexFiles:\n",
    "    indices = pd.read_csv(f,sep=\";\")\n",
    "    indexList=list(indices['0'])\n",
    "    protein = f.split(\"/\")[-1].split(\".\")[0]\n",
    "    fpath = '../data/Tt/'+f.split(\"/\")[-1].split(\".\")[0]+\".csv\"\n",
    "    TtRead = pd.read_csv(fpath,sep=\";\")\n",
    "    TtPartialTrain=TtRead[TtRead.columns[5:]].loc[indexList].copy()\n",
    "    TtPartialTrain.insert(0,column='Protein',value =protein )\n",
    "    del TtRead\n",
    "    gc.collect()\n",
    "    frames.append(TtPartialTrain)"
   ]
  },
  {
   "cell_type": "code",
   "execution_count": 29,
   "metadata": {},
   "outputs": [],
   "source": [
    "ttTrain = pd.concat(frames)"
   ]
  },
  {
   "cell_type": "code",
   "execution_count": 30,
   "metadata": {},
   "outputs": [
    {
     "data": {
      "text/html": [
       "<div>\n",
       "<style>\n",
       "    .dataframe thead tr:only-child th {\n",
       "        text-align: right;\n",
       "    }\n",
       "\n",
       "    .dataframe thead th {\n",
       "        text-align: left;\n",
       "    }\n",
       "\n",
       "    .dataframe tbody tr th {\n",
       "        vertical-align: top;\n",
       "    }\n",
       "</style>\n",
       "<table border=\"1\" class=\"dataframe\">\n",
       "  <thead>\n",
       "    <tr style=\"text-align: right;\">\n",
       "      <th></th>\n",
       "      <th>Protein</th>\n",
       "      <th>C0_C15~E0_E15</th>\n",
       "      <th>C15_C30~E15_E30</th>\n",
       "      <th>C30_C90~E30_E90</th>\n",
       "      <th>C90_C120~E90_E120</th>\n",
       "      <th>C120_C180~E120_E180</th>\n",
       "      <th>C180_C210~E180_E210</th>\n",
       "      <th>C210_C240~E210_E240</th>\n",
       "      <th>C240_C360~E240_E360</th>\n",
       "      <th>C0_C15~E15_E30</th>\n",
       "      <th>...</th>\n",
       "      <th>C0_C240~E15_E360</th>\n",
       "      <th>C0_C240~E0_E360</th>\n",
       "      <th>C0_C360~E240_E360</th>\n",
       "      <th>C0_C360~E210_E360</th>\n",
       "      <th>C0_C360~E180_E360</th>\n",
       "      <th>C0_C360~E120_E360</th>\n",
       "      <th>C0_C360~E90_E360</th>\n",
       "      <th>C0_C360~E30_E360</th>\n",
       "      <th>C0_C360~E15_E360</th>\n",
       "      <th>C0_C360~E0_E360</th>\n",
       "    </tr>\n",
       "  </thead>\n",
       "  <tbody>\n",
       "    <tr>\n",
       "      <th>1530</th>\n",
       "      <td>LEF1</td>\n",
       "      <td>1</td>\n",
       "      <td>1</td>\n",
       "      <td>0</td>\n",
       "      <td>-1</td>\n",
       "      <td>0</td>\n",
       "      <td>0</td>\n",
       "      <td>-1</td>\n",
       "      <td>-1</td>\n",
       "      <td>1</td>\n",
       "      <td>...</td>\n",
       "      <td>-1</td>\n",
       "      <td>-1</td>\n",
       "      <td>1</td>\n",
       "      <td>0</td>\n",
       "      <td>1</td>\n",
       "      <td>1</td>\n",
       "      <td>0</td>\n",
       "      <td>-1</td>\n",
       "      <td>-1</td>\n",
       "      <td>-1</td>\n",
       "    </tr>\n",
       "    <tr>\n",
       "      <th>1531</th>\n",
       "      <td>LEF1</td>\n",
       "      <td>0</td>\n",
       "      <td>0</td>\n",
       "      <td>1</td>\n",
       "      <td>0</td>\n",
       "      <td>-1</td>\n",
       "      <td>1</td>\n",
       "      <td>0</td>\n",
       "      <td>1</td>\n",
       "      <td>0</td>\n",
       "      <td>...</td>\n",
       "      <td>-1</td>\n",
       "      <td>0</td>\n",
       "      <td>1</td>\n",
       "      <td>1</td>\n",
       "      <td>1</td>\n",
       "      <td>1</td>\n",
       "      <td>-1</td>\n",
       "      <td>-1</td>\n",
       "      <td>-1</td>\n",
       "      <td>0</td>\n",
       "    </tr>\n",
       "    <tr>\n",
       "      <th>1532</th>\n",
       "      <td>LEF1</td>\n",
       "      <td>1</td>\n",
       "      <td>1</td>\n",
       "      <td>-1</td>\n",
       "      <td>1</td>\n",
       "      <td>1</td>\n",
       "      <td>1</td>\n",
       "      <td>0</td>\n",
       "      <td>0</td>\n",
       "      <td>-1</td>\n",
       "      <td>...</td>\n",
       "      <td>-1</td>\n",
       "      <td>-1</td>\n",
       "      <td>0</td>\n",
       "      <td>0</td>\n",
       "      <td>1</td>\n",
       "      <td>0</td>\n",
       "      <td>1</td>\n",
       "      <td>-1</td>\n",
       "      <td>-1</td>\n",
       "      <td>-1</td>\n",
       "    </tr>\n",
       "    <tr>\n",
       "      <th>1533</th>\n",
       "      <td>LEF1</td>\n",
       "      <td>0</td>\n",
       "      <td>0</td>\n",
       "      <td>0</td>\n",
       "      <td>0</td>\n",
       "      <td>-1</td>\n",
       "      <td>0</td>\n",
       "      <td>1</td>\n",
       "      <td>-1</td>\n",
       "      <td>0</td>\n",
       "      <td>...</td>\n",
       "      <td>1</td>\n",
       "      <td>1</td>\n",
       "      <td>0</td>\n",
       "      <td>0</td>\n",
       "      <td>0</td>\n",
       "      <td>0</td>\n",
       "      <td>0</td>\n",
       "      <td>0</td>\n",
       "      <td>0</td>\n",
       "      <td>0</td>\n",
       "    </tr>\n",
       "    <tr>\n",
       "      <th>1535</th>\n",
       "      <td>LEF1</td>\n",
       "      <td>1</td>\n",
       "      <td>1</td>\n",
       "      <td>0</td>\n",
       "      <td>1</td>\n",
       "      <td>-1</td>\n",
       "      <td>1</td>\n",
       "      <td>0</td>\n",
       "      <td>-1</td>\n",
       "      <td>0</td>\n",
       "      <td>...</td>\n",
       "      <td>-1</td>\n",
       "      <td>-1</td>\n",
       "      <td>-1</td>\n",
       "      <td>-1</td>\n",
       "      <td>-1</td>\n",
       "      <td>0</td>\n",
       "      <td>0</td>\n",
       "      <td>1</td>\n",
       "      <td>1</td>\n",
       "      <td>1</td>\n",
       "    </tr>\n",
       "  </tbody>\n",
       "</table>\n",
       "<p>5 rows × 541 columns</p>\n",
       "</div>"
      ],
      "text/plain": [
       "     Protein  C0_C15~E0_E15  C15_C30~E15_E30  C30_C90~E30_E90  \\\n",
       "1530    LEF1              1                1                0   \n",
       "1531    LEF1              0                0                1   \n",
       "1532    LEF1              1                1               -1   \n",
       "1533    LEF1              0                0                0   \n",
       "1535    LEF1              1                1                0   \n",
       "\n",
       "      C90_C120~E90_E120  C120_C180~E120_E180  C180_C210~E180_E210  \\\n",
       "1530                 -1                    0                    0   \n",
       "1531                  0                   -1                    1   \n",
       "1532                  1                    1                    1   \n",
       "1533                  0                   -1                    0   \n",
       "1535                  1                   -1                    1   \n",
       "\n",
       "      C210_C240~E210_E240  C240_C360~E240_E360  C0_C15~E15_E30  \\\n",
       "1530                   -1                   -1               1   \n",
       "1531                    0                    1               0   \n",
       "1532                    0                    0              -1   \n",
       "1533                    1                   -1               0   \n",
       "1535                    0                   -1               0   \n",
       "\n",
       "           ...         C0_C240~E15_E360  C0_C240~E0_E360  C0_C360~E240_E360  \\\n",
       "1530       ...                       -1               -1                  1   \n",
       "1531       ...                       -1                0                  1   \n",
       "1532       ...                       -1               -1                  0   \n",
       "1533       ...                        1                1                  0   \n",
       "1535       ...                       -1               -1                 -1   \n",
       "\n",
       "      C0_C360~E210_E360  C0_C360~E180_E360  C0_C360~E120_E360  \\\n",
       "1530                  0                  1                  1   \n",
       "1531                  1                  1                  1   \n",
       "1532                  0                  1                  0   \n",
       "1533                  0                  0                  0   \n",
       "1535                 -1                 -1                  0   \n",
       "\n",
       "      C0_C360~E90_E360  C0_C360~E30_E360  C0_C360~E15_E360  C0_C360~E0_E360  \n",
       "1530                 0                -1                -1               -1  \n",
       "1531                -1                -1                -1                0  \n",
       "1532                 1                -1                -1               -1  \n",
       "1533                 0                 0                 0                0  \n",
       "1535                 0                 1                 1                1  \n",
       "\n",
       "[5 rows x 541 columns]"
      ]
     },
     "execution_count": 30,
     "metadata": {},
     "output_type": "execute_result"
    }
   ],
   "source": [
    "ttTrain.head()"
   ]
  },
  {
   "cell_type": "markdown",
   "metadata": {},
   "source": [
    "## 2. Clustering"
   ]
  },
  {
   "cell_type": "markdown",
   "metadata": {},
   "source": [
    "We will use simple clustering with Hamming distance"
   ]
  },
  {
   "cell_type": "code",
   "execution_count": 36,
   "metadata": {},
   "outputs": [
    {
     "name": "stdout",
     "output_type": "stream",
     "text": [
      "Collecting hdbscan\n",
      "  Downloading hdbscan-0.8.11.tar.gz (4.7MB)\n",
      "\u001b[K    100% |████████████████████████████████| 4.7MB 123kB/s ta 0:00:01\n",
      "\u001b[?25hRequirement already satisfied: scikit-learn>=0.16 in /home/a20125359/anaconda3/envs/Biclustering/lib/python3.6/site-packages (from hdbscan)\n",
      "Building wheels for collected packages: hdbscan\n",
      "  Running setup.py bdist_wheel for hdbscan ... \u001b[?25ldone\n",
      "\u001b[?25h  Stored in directory: /home/a20125359/.cache/pip/wheels/3c/66/6b/d47e0a5400f27f6cb22977e0e3c8826bc7e716c5b3f3ade0cb\n",
      "Successfully built hdbscan\n",
      "Installing collected packages: hdbscan\n",
      "Successfully installed hdbscan-0.8.11\n"
     ]
    }
   ],
   "source": [
    "!pip install hdbscan"
   ]
  },
  {
   "cell_type": "code",
   "execution_count": 37,
   "metadata": {},
   "outputs": [],
   "source": [
    "import hdbscan"
   ]
  },
  {
   "cell_type": "code",
   "execution_count": 41,
   "metadata": {},
   "outputs": [],
   "source": [
    "clusterer = hdbscan.HDBSCAN(algorithm='best', alpha=1.0, approx_min_span_tree=True,\n",
    "    gen_min_span_tree=False, leaf_size=40,\n",
    "    metric='hamming', min_cluster_size=5, min_samples=None, p=None)"
   ]
  },
  {
   "cell_type": "code",
   "execution_count": null,
   "metadata": {},
   "outputs": [],
   "source": [
    "clusterer.fit(ttTrain[ttTrain.columns[1:]])"
   ]
  },
  {
   "cell_type": "code",
   "execution_count": null,
   "metadata": {},
   "outputs": [],
   "source": []
  }
 ],
 "metadata": {
  "kernelspec": {
   "display_name": "Python 3",
   "language": "python",
   "name": "python3"
  },
  "language_info": {
   "codemirror_mode": {
    "name": "ipython",
    "version": 3
   },
   "file_extension": ".py",
   "mimetype": "text/x-python",
   "name": "python",
   "nbconvert_exporter": "python",
   "pygments_lexer": "ipython3",
   "version": "3.6.3"
  }
 },
 "nbformat": 4,
 "nbformat_minor": 2
}
