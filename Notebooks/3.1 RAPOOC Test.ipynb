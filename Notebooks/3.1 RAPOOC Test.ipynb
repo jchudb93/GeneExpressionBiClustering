{
 "cells": [
  {
   "cell_type": "markdown",
   "metadata": {},
   "source": [
    "# RAPOOC Algorithm"
   ]
  },
  {
   "cell_type": "code",
   "execution_count": 1,
   "metadata": {},
   "outputs": [],
   "source": [
    "%matplotlib inline\n",
    "import numpy as np\n",
    "import math\n",
    "from matplotlib import pyplot as plt\n",
    "from sklearn.metrics import consensus_score\n",
    "import multiprocessing as mp\n",
    "import pandas as pd\n",
    "import glob as glob\n",
    "from functools import reduce"
   ]
  },
  {
   "cell_type": "code",
   "execution_count": 2,
   "metadata": {},
   "outputs": [],
   "source": [
    "class PositiveNegativeCorrelation(object):\n",
    "    def __init__(self, x, y, J):\n",
    "        self._x = x\n",
    "        self._y = y\n",
    "        self._J = J\n",
    "        self._x_mean = np.mean(x)\n",
    "        self._y_mean = np.mean(y)\n",
    "        self._H_pos = None\n",
    "        self._H_neg = None\n",
    "\n",
    "    @property\n",
    "    def H_pos(self):\n",
    "        if self._H_pos is None:\n",
    "            # print(\"Computing H positive...\")\n",
    "            self._H_pos = self._compute_H_pos()\n",
    "            # print(\"H positive value: \" + str(self._H_pos))\n",
    "        return self._H_pos\n",
    "\n",
    "    @property\n",
    "    def H_neg(self):\n",
    "        if self._H_neg is None:\n",
    "            # print(\"Computing H negative...\")\n",
    "            self._H_neg = self._compute_H_neg()\n",
    "            # print(\"H negative value: \" + str(self._H_neg))\n",
    "        return self._H_neg\n",
    "\n",
    "    def _compute_H_pos(self):\n",
    "        H_pos = 0\n",
    "        for j in range(self._J):\n",
    "            aux = (((self._x[j] - self._x_mean) -\n",
    "                    (self._y[j] - self._y_mean))/2.0)**2\n",
    "            H_pos += aux\n",
    "        H_pos *= 1.0/math.fabs(self._J)\n",
    "        H_pos = 1 - H_pos\n",
    "        return H_pos\n",
    "\n",
    "    def _compute_H_neg(self):\n",
    "        H_neg = 0\n",
    "        for j in range(self._J):\n",
    "            aux = (((self._x[j] - self._x_mean) +\n",
    "                    (self._y[j] - self._y_mean))/2.0)**2\n",
    "            H_neg += aux\n",
    "        H_neg *= 1.0/math.fabs(self._J)\n",
    "        H_neg = 1 - H_neg\n",
    "        return H_neg"
   ]
  },
  {
   "cell_type": "code",
   "execution_count": 3,
   "metadata": {},
   "outputs": [],
   "source": [
    "class PairBasedCoherence(object):\n",
    "    def __init__(self, X):\n",
    "        self._X = np.array(X)\n",
    "        self._I, self._J = X.shape\n",
    "        self._HP = None\n",
    "\n",
    "    @property\n",
    "    def HP(self):\n",
    "        if self._HP is None:\n",
    "            # print(\"Calculating Pair based coherence..\")\n",
    "            self._HP = self._compute_HP_()\n",
    "            # print(\"Paired based coherence value: \" + str(self._HP))\n",
    "        return self._HP\n",
    "\n",
    "    def _compute_HP_(self):\n",
    "        HP = 0\n",
    "        for i in range(self._I):\n",
    "            for j in range(i+1, self._I):\n",
    "                if (i==j): \n",
    "                    break\n",
    "                x = self._X[i]\n",
    "                y = self._X[j]\n",
    "                correlation = PositiveNegativeCorrelation(x, y,self._J)\n",
    "                H0 = correlation.H_pos\n",
    "                # H0 = max(correlation.H_pos,correlation.H_neg)\n",
    "                HP += H0\n",
    "        HP *= math.fabs(2.0)/(math.fabs(self._I)*(math.fabs(self._I)-1)) if self._I > 1 else 0\n",
    "        \n",
    "        return HP"
   ]
  },
  {
   "cell_type": "code",
   "execution_count": 4,
   "metadata": {},
   "outputs": [
    {
     "data": {
      "text/latex": [
       "Define H for a new term 'z' in X\n",
       "$$\n",
       "H_{1}(I,J,X,z) =H_{0}(I,J,X) \\cdot \\frac{(I-1)}{(I+1)} + \\frac{|2|}{(I)(I+1)} \\cdot \\sum_{x \\epsilon X} {h(x,z,J)}\n",
       "$$"
      ],
      "text/plain": [
       "<IPython.core.display.Latex object>"
      ]
     },
     "metadata": {},
     "output_type": "display_data"
    }
   ],
   "source": [
    "%%latex\n",
    "Define H for a new term 'z' in X\n",
    "$$\n",
    "H_{1}(I,J,X,z) =H_{0}(I,J,X) \\cdot \\frac{(I-1)}{(I+1)} + \\frac{|2|}{(I)(I+1)} \\cdot \\sum_{x \\epsilon X} {h(x,z,J)}\n",
    "$$"
   ]
  },
  {
   "cell_type": "code",
   "execution_count": 341,
   "metadata": {},
   "outputs": [
    {
     "data": {
      "text/html": [
       "<div>\n",
       "<style>\n",
       "    .dataframe thead tr:only-child th {\n",
       "        text-align: right;\n",
       "    }\n",
       "\n",
       "    .dataframe thead th {\n",
       "        text-align: left;\n",
       "    }\n",
       "\n",
       "    .dataframe tbody tr th {\n",
       "        vertical-align: top;\n",
       "    }\n",
       "</style>\n",
       "<table border=\"1\" class=\"dataframe\">\n",
       "  <thead>\n",
       "    <tr style=\"text-align: right;\">\n",
       "      <th></th>\n",
       "      <th>0</th>\n",
       "      <th>1</th>\n",
       "      <th>2</th>\n",
       "      <th>3</th>\n",
       "      <th>4</th>\n",
       "      <th>5</th>\n",
       "      <th>6</th>\n",
       "    </tr>\n",
       "  </thead>\n",
       "  <tbody>\n",
       "    <tr>\n",
       "      <th>0</th>\n",
       "      <td>0.015521</td>\n",
       "      <td>0.013931</td>\n",
       "      <td>0.49935</td>\n",
       "      <td>0.98560</td>\n",
       "      <td>0.49268</td>\n",
       "      <td>0.006029</td>\n",
       "      <td>0.010850</td>\n",
       "    </tr>\n",
       "    <tr>\n",
       "      <th>1</th>\n",
       "      <td>0.007642</td>\n",
       "      <td>0.007915</td>\n",
       "      <td>0.49475</td>\n",
       "      <td>0.98089</td>\n",
       "      <td>0.49296</td>\n",
       "      <td>0.008737</td>\n",
       "      <td>0.007426</td>\n",
       "    </tr>\n",
       "    <tr>\n",
       "      <th>2</th>\n",
       "      <td>0.009314</td>\n",
       "      <td>0.000106</td>\n",
       "      <td>0.50717</td>\n",
       "      <td>0.98620</td>\n",
       "      <td>0.49783</td>\n",
       "      <td>0.007664</td>\n",
       "      <td>0.016632</td>\n",
       "    </tr>\n",
       "    <tr>\n",
       "      <th>3</th>\n",
       "      <td>0.003243</td>\n",
       "      <td>0.006791</td>\n",
       "      <td>0.50297</td>\n",
       "      <td>0.98170</td>\n",
       "      <td>0.50450</td>\n",
       "      <td>0.004663</td>\n",
       "      <td>0.018980</td>\n",
       "    </tr>\n",
       "    <tr>\n",
       "      <th>4</th>\n",
       "      <td>0.010901</td>\n",
       "      <td>0.011237</td>\n",
       "      <td>0.49306</td>\n",
       "      <td>0.98213</td>\n",
       "      <td>0.50162</td>\n",
       "      <td>0.017864</td>\n",
       "      <td>0.001509</td>\n",
       "    </tr>\n",
       "  </tbody>\n",
       "</table>\n",
       "</div>"
      ],
      "text/plain": [
       "          0         1        2        3        4         5         6\n",
       "0  0.015521  0.013931  0.49935  0.98560  0.49268  0.006029  0.010850\n",
       "1  0.007642  0.007915  0.49475  0.98089  0.49296  0.008737  0.007426\n",
       "2  0.009314  0.000106  0.50717  0.98620  0.49783  0.007664  0.016632\n",
       "3  0.003243  0.006791  0.50297  0.98170  0.50450  0.004663  0.018980\n",
       "4  0.010901  0.011237  0.49306  0.98213  0.50162  0.017864  0.001509"
      ]
     },
     "execution_count": 341,
     "metadata": {},
     "output_type": "execute_result"
    }
   ],
   "source": [
    "data = pd.read_csv('TestData/SimulatedDataCoherence/HighCoherenceMix.csv',header=None)\n",
    "data.head()"
   ]
  },
  {
   "cell_type": "code",
   "execution_count": 197,
   "metadata": {},
   "outputs": [],
   "source": [
    "\n",
    "class BisectingClusterer(object):\n",
    "    def __init__(self, data):\n",
    "        if data is not None:\n",
    "            self._data = np.array(data)\n",
    "            self._I, self._J = self._data.shape\n",
    "        else:\n",
    "            print(\"Empty data\")\n",
    "    \n",
    "    @property\n",
    "    def centroids(self):\n",
    "        return self._centroids\n",
    "\n",
    "    def fit(self):\n",
    "        self._centroids = self._compute_centroids_()\n",
    "        bisecting_indices = self._bisect_clusters_(self._centroids)\n",
    "        return bisecting_indices\n",
    "    \n",
    "    def _compute_centroids_(self):\n",
    "        max_correlation = 0\n",
    "        centroids = [0,0]\n",
    "        for i in range(self._I):\n",
    "            for j in range(i+1, self._I):\n",
    "                if (i == j):\n",
    "                    break\n",
    "                correlation = PositiveNegativeCorrelation(self._data[i],\n",
    "                                                          self._data[j],\n",
    "                                                          self._J).H_neg\n",
    "                if(correlation > max_correlation):\n",
    "                    max_correlation = correlation\n",
    "                    centroids[0] = i\n",
    "                    centroids[1] = j\n",
    "        return centroids\n",
    "\n",
    "    def _bisect_clusters_(self, centroids):\n",
    "        cluster_indices = np.zeros(self._I)\n",
    "        for i in range(self._I):\n",
    "            correlation0 = PositiveNegativeCorrelation(\n",
    "                self._data[centroids[0]], self._data[i],self._J).H_pos\n",
    "            correlation1 = PositiveNegativeCorrelation(\n",
    "                self._data[centroids[1]], self._data[i],self._J).H_pos\n",
    "            if(correlation0 <= correlation1):\n",
    "                cluster_indices[i] = 1\n",
    "        return cluster_indices"
   ]
  },
  {
   "cell_type": "code",
   "execution_count": 304,
   "metadata": {},
   "outputs": [],
   "source": [
    "class Rapooc_test(object):\n",
    "    def __init__(self, D, k, l, K):\n",
    "        self._D = np.array(D)\n",
    "        assert k>0 and l >0, \"invalid values, k>0 and l>0\"\n",
    "        self._k = k\n",
    "        self._l = l\n",
    "        assert K <= k*l and k>=1, \"invalid values, 1<= K <= k*l\"\n",
    "        self._K = K\n",
    "        self._rho = np.ones(D.shape[0])\n",
    "        self._gamma = np.ones(D.shape[1])\n",
    "        self._M, self._N = self._D.shape\n",
    "        self._rows_h_score = None\n",
    "        self._cols_h_score = None\n",
    "            \n",
    "    @property\n",
    "    def rho(self):\n",
    "        return self._rho\n",
    "    \n",
    "    @property\n",
    "    def gamma(self):\n",
    "        return self._gamma\n",
    "    \n",
    "    @property\n",
    "    def bicluster_h_values(self):\n",
    "        assert not self._cluster_H_values is None, \"H values have not yet been calculated\"\n",
    "        return self._cluster_H_values\n",
    "\n",
    "    def initialize(self):\n",
    "        i = 1\n",
    "        j = 1\n",
    "        while (i < self._k or j < self._l):\n",
    "            if i < self._k:\n",
    "                i += 1\n",
    "                alpha = self._argmin_H_(self._rho, self._gamma,'row')\n",
    "                self._bisect_partitions_(self._D[np.where(self._rho==alpha)], self._rho, alpha, i,'row')\n",
    "            if j < self._l:\n",
    "                j += 1\n",
    "                beta = self._argmin_H_(self._rho,self._gamma, 'column')\n",
    "                self._bisect_partitions_((self._D.T)[np.where(self._gamma==beta)], self._gamma, beta, j,'column')   \n",
    "\n",
    "    def _argmin_H_(self, row_co_cluster, col_co_cluster,option='row'):\n",
    "        if (option=='row'):\n",
    "            data = self._D\n",
    "        else:\n",
    "            data = self._D.T\n",
    "        h_min = math.inf\n",
    "        min_cocluster = 1\n",
    "        map_array = np.int64(row_co_cluster if option == 'row' else col_co_cluster)\n",
    "        max_index_in_map = np.max(map_array) + 1\n",
    "        for i in range(1,max_index_in_map):\n",
    "            if (list(map_array).count(i) < 2):\n",
    "                pass\n",
    "            else:\n",
    "                coherence = PairBasedCoherence(\n",
    "                    data[np.where((row_co_cluster if option == 'row' else col_co_cluster) == i)]).HP \n",
    "                if (coherence <= h_min):\n",
    "                    h_min = coherence\n",
    "                    min_cocluster = i\n",
    "        return min_cocluster\n",
    "\n",
    "    def _bisect_partitions_ (self, data, mapping_array, cluster_to_replace, new_cluster_index,option='row'):\n",
    "        clusterer = BisectingClusterer(data)\n",
    "        bisected_map = clusterer.fit()\n",
    "        bisected_map_index = 0\n",
    "        for i in range(0,len(mapping_array)):\n",
    "            if ((self._rho if option == 'row' else self._gamma)[i] == cluster_to_replace):\n",
    "                if (bisected_map[bisected_map_index] == 1.0):\n",
    "                    (self._rho if option == 'row' else self._gamma)[i] = new_cluster_index\n",
    "                bisected_map_index += 1\n",
    "    \n",
    "    def _compute_objective_function_(self):\n",
    "        \n",
    "        self._cluster_H_values = np.array([ [0.0] * int(max(self._rho) + 2)  \n",
    "                                           for _ in range(int(max(self._gamma) + 2))])\n",
    "    \n",
    "        for i in range(1,int(max(self._rho) + 1)):\n",
    "            for j in range (1, int(max(self._gamma) + 1)):\n",
    "                coherence = PairBasedCoherence(self._D[np.ix_(np.where(self._rho == i)[0],\n",
    "                                                              np.where(self._gamma == j)[0])]).HP\n",
    "                self._cluster_H_values[i][j] = coherence\n",
    "        \n",
    "        h_values_1d = self._cluster_H_values.flatten()\n",
    "        \n",
    "        idx_1d = h_values_1d.argsort()[-self._K:]\n",
    "        \n",
    "        x_idx, y_idx = np.unravel_index(idx_1d, self._cluster_H_values.shape)\n",
    "        \n",
    "        acc=0\n",
    "        for x, y, in zip(x_idx, y_idx):\n",
    "            acc += self._cluster_H_values[x][y]\n",
    "            \n",
    "        return acc/(self._k * self._l)\n",
    "    \n",
    "    def core_co_clustering(self):\n",
    "        \n",
    "        n_iterations = 0\n",
    "        n_repetitions = 0\n",
    "        of_last_value = 0\n",
    "        best_OF = 0\n",
    "        while(n_iterations < (self._k * self._l) and n_repetitions < int((self._k * self._l) * 0.3)):\n",
    "            \n",
    "            objective_function = self._compute_objective_function_() \n",
    "     \n",
    "            temp_rows = self._update_maps_(option = 'rows')\n",
    "            temp_columns = self._update_maps_(option = 'columns')\n",
    "            \n",
    "            if (objective_function > best_OF):\n",
    "                best_iter = n_iterations\n",
    "                best_OF = objective_function\n",
    "                best_rows = temp_rows\n",
    "                best_columns = temp_columns\n",
    "            # break conditions\n",
    "            if (math.fabs(1 - objective_function) < 0.2):\n",
    "                break\n",
    "            \n",
    "            if(math.fabs(objective_function - of_last_value) > 0.001):\n",
    "                of_last_value = objective_function\n",
    "                n_repetitions = 0\n",
    "            else:\n",
    "                n_repetitions += 1\n",
    "                \n",
    "            n_iterations += 1\n",
    "        \n",
    "        self._rho = best_rows\n",
    "        self._gamma = best_columns\n",
    "        print(\"Finishing core-coclustering\")\n",
    "        print(\"Number of iterations \" + str(n_iterations))\n",
    "        print(\"Objective function \" + str(math.fabs(best_OF)) + \" at iter \" +str(best_iter))\n",
    "        print(\"Number of repetitions \" + str(n_repetitions))\n",
    "        \n",
    "    def _update_maps_(self,option = 'rows'):\n",
    "        \n",
    "        if(option == 'rows'):\n",
    "            mapping_array = self._rho\n",
    "            data = self._D\n",
    "        elif (option == 'columns'):\n",
    "            mapping_array = self._gamma\n",
    "            data = self._D.T\n",
    "            \n",
    "        for i in range(0,len(data)):\n",
    "            self._compute_arg_max_(data,mapping_array,i)\n",
    "            \n",
    "        return np.copy(mapping_array)\n",
    "    \n",
    "    def _compute_arg_max_(self,data,mapping_array,index):\n",
    "        \n",
    "        actual_coherence = 0\n",
    "        previous_cluster = mapping_array[index]\n",
    "        if (list(mapping_array).count(previous_cluster) <= 2):\n",
    "            return\n",
    "        prev_coherence = PairBasedCoherence(data[np.where(mapping_array == previous_cluster)]).HP\n",
    "        \n",
    "        mapping_array[index] = 0\n",
    "        \n",
    "        local_coherence = PairBasedCoherence(data[np.where(mapping_array == previous_cluster)]).HP\n",
    "        \n",
    "        if (prev_coherence >= local_coherence):\n",
    "            mapping_array[index] = previous_cluster\n",
    "            actual_coherence = prev_coherence\n",
    "        else:\n",
    "            actual_coherence = local_coherence\n",
    "            \n",
    "        best_cluster,best_coherence = self._iter_maps_(data, mapping_array, index, previous_cluster)\n",
    "        \n",
    "        if (best_coherence > local_coherence):\n",
    "            mapping_array[index] = best_cluster\n",
    "    \n",
    "    def _iter_maps_(self, data, mapping_array, index, previous_cluster):\n",
    "        \n",
    "        best_coherence = 0\n",
    "        best_cluster = 0\n",
    "        \n",
    "        for actual_cluster in range(1,int(max(mapping_array))):\n",
    "            if actual_cluster == previous_cluster:\n",
    "                pass\n",
    "            else:\n",
    "                mapping_array[index] = actual_cluster\n",
    "                coherence = PairBasedCoherence(data[np.where(mapping_array == actual_cluster)]).HP\n",
    "                if(coherence >= best_coherence):\n",
    "                    best_coherence = coherence\n",
    "                    best_cluster = actual_cluster\n",
    "                    \n",
    "        return best_cluster, best_coherence"
   ]
  },
  {
   "cell_type": "code",
   "execution_count": 342,
   "metadata": {},
   "outputs": [],
   "source": [
    "rapooc = Rapooc_test(data,2,2,1)"
   ]
  },
  {
   "cell_type": "code",
   "execution_count": 343,
   "metadata": {},
   "outputs": [],
   "source": [
    "rapooc.initialize()"
   ]
  },
  {
   "cell_type": "code",
   "execution_count": 344,
   "metadata": {},
   "outputs": [
    {
     "data": {
      "text/plain": [
       "array([ 1.,  1.,  1.,  1.,  1.,  1.,  1.,  1.,  1.,  1.,  1.,  1.,  1.,\n",
       "        1.,  1.,  1.,  1.,  1.,  1.,  1.,  1.,  1.,  1.,  1.,  1.,  1.,\n",
       "        1.,  1.,  1.,  1.,  1.,  1.,  1.,  1.,  1.,  1.,  1.,  1.,  1.,\n",
       "        1.,  1.,  1.,  1.,  1.,  1.,  1.,  1.,  1.,  1.,  1.,  1.,  1.,\n",
       "        1.,  1.,  1.,  1.,  1.,  1.,  1.,  1.,  1.,  1.,  1.,  1.,  1.,\n",
       "        1.,  1.,  1.,  1.,  1.,  1.,  1.,  1.,  1.,  1.,  1.,  1.,  1.,\n",
       "        1.,  1.,  1.,  1.,  1.,  1.,  1.,  1.,  1.,  1.,  1.,  1.,  1.,\n",
       "        1.,  1.,  1.,  1.,  1.,  1.,  1.,  1.,  1.,  2.,  2.,  2.,  2.,\n",
       "        2.,  2.,  2.,  2.,  2.,  2.,  2.,  2.,  2.,  2.,  2.,  2.,  2.,\n",
       "        2.,  2.,  2.,  2.,  2.,  2.,  2.,  2.,  2.,  2.,  2.,  2.,  2.,\n",
       "        2.,  2.,  2.,  2.,  2.,  2.,  2.,  2.,  2.,  2.,  2.,  2.,  2.,\n",
       "        2.,  2.,  2.,  2.,  2.,  2.,  2.,  2.,  2.,  2.,  2.,  2.,  2.,\n",
       "        2.,  2.,  2.,  2.,  2.,  2.,  2.,  2.,  2.,  2.,  2.,  2.,  2.,\n",
       "        2.,  2.,  2.,  2.,  2.,  2.,  2.,  2.,  2.,  2.,  2.,  2.,  2.,\n",
       "        2.,  2.,  2.,  2.,  2.,  2.,  2.,  2.,  2.,  2.,  2.,  2.,  2.,\n",
       "        2.,  2.,  2.,  2.,  2.])"
      ]
     },
     "execution_count": 344,
     "metadata": {},
     "output_type": "execute_result"
    }
   ],
   "source": [
    "rapooc.rho"
   ]
  },
  {
   "cell_type": "code",
   "execution_count": 345,
   "metadata": {},
   "outputs": [
    {
     "data": {
      "text/plain": [
       "array([ 1.,  1.,  1.,  2.,  2.,  1.,  1.])"
      ]
     },
     "execution_count": 345,
     "metadata": {},
     "output_type": "execute_result"
    }
   ],
   "source": [
    "rapooc.gamma"
   ]
  },
  {
   "cell_type": "code",
   "execution_count": 347,
   "metadata": {},
   "outputs": [
    {
     "name": "stdout",
     "output_type": "stream",
     "text": [
      "Finishing core-coclustering\n",
      "Number of iterations 2\n",
      "Objective function 0.24999813437769877 at iter 1\n",
      "Number of repetitions 1\n"
     ]
    }
   ],
   "source": [
    "rapooc.core_co_clustering()"
   ]
  },
  {
   "cell_type": "code",
   "execution_count": 348,
   "metadata": {},
   "outputs": [
    {
     "data": {
      "text/plain": [
       "array([ 1.,  1.,  1.,  2.,  2.,  0.,  0.])"
      ]
     },
     "execution_count": 348,
     "metadata": {},
     "output_type": "execute_result"
    }
   ],
   "source": [
    "rapooc.gamma"
   ]
  },
  {
   "cell_type": "code",
   "execution_count": 349,
   "metadata": {},
   "outputs": [
    {
     "data": {
      "text/plain": [
       "array([ 0.,  0.,  0.,  1.,  1.,  1.,  0.,  1.,  0.,  1.,  1.,  0.,  1.,\n",
       "        1.,  0.,  0.,  1.,  1.,  0.,  0.,  1.,  1.,  0.,  0.,  0.,  1.,\n",
       "        0.,  0.,  1.,  1.,  0.,  1.,  1.,  1.,  0.,  1.,  1.,  0.,  1.,\n",
       "        1.,  0.,  1.,  0.,  1.,  1.,  0.,  0.,  0.,  1.,  1.,  0.,  1.,\n",
       "        1.,  0.,  1.,  1.,  1.,  1.,  1.,  0.,  1.,  0.,  1.,  0.,  1.,\n",
       "        0.,  1.,  1.,  1.,  1.,  0.,  1.,  0.,  0.,  1.,  1.,  1.,  1.,\n",
       "        1.,  1.,  1.,  1.,  1.,  1.,  0.,  1.,  1.,  0.,  1.,  1.,  1.,\n",
       "        0.,  1.,  0.,  0.,  0.,  1.,  1.,  1.,  1.,  1.,  1.,  1.,  1.,\n",
       "        1.,  1.,  1.,  1.,  1.,  1.,  1.,  1.,  1.,  1.,  1.,  1.,  1.,\n",
       "        1.,  1.,  1.,  1.,  1.,  1.,  1.,  1.,  1.,  1.,  1.,  1.,  1.,\n",
       "        1.,  1.,  1.,  1.,  1.,  1.,  1.,  1.,  1.,  1.,  1.,  1.,  1.,\n",
       "        1.,  1.,  1.,  1.,  1.,  1.,  1.,  1.,  1.,  1.,  1.,  1.,  1.,\n",
       "        1.,  1.,  1.,  1.,  1.,  1.,  1.,  1.,  1.,  1.,  1.,  1.,  1.,\n",
       "        1.,  1.,  1.,  1.,  1.,  1.,  1.,  1.,  1.,  1.,  1.,  1.,  1.,\n",
       "        1.,  1.,  1.,  1.,  1.,  1.,  1.,  1.,  1.,  1.,  1.,  1.,  1.,\n",
       "        1.,  1.,  1.,  2.,  2.])"
      ]
     },
     "execution_count": 349,
     "metadata": {},
     "output_type": "execute_result"
    }
   ],
   "source": [
    "rapooc.rho"
   ]
  },
  {
   "cell_type": "markdown",
   "metadata": {},
   "source": [
    "# Testing"
   ]
  },
  {
   "cell_type": "code",
   "execution_count": 324,
   "metadata": {},
   "outputs": [],
   "source": [
    "import seaborn as sns"
   ]
  },
  {
   "cell_type": "code",
   "execution_count": 346,
   "metadata": {},
   "outputs": [
    {
     "name": "stderr",
     "output_type": "stream",
     "text": [
      "/home/a20125359/anaconda3/envs/Biclustering/lib/python3.6/site-packages/seaborn/timeseries.py:183: UserWarning: The tsplot function is deprecated and will be removed or replaced (in a substantially altered version) in a future release.\n",
      "  warnings.warn(msg, UserWarning)\n"
     ]
    },
    {
     "data": {
      "image/png": "[encoded data removed]",
      "text/plain": [
       "<matplotlib.figure.Figure at 0x7fa4f1b72da0>"
      ]
     },
     "metadata": {},
     "output_type": "display_data"
    }
   ],
   "source": [
    "ax = sns.tsplot(data=np.array(data), err_style=\"unit_traces\")"
   ]
  },
  {
   "cell_type": "code",
   "execution_count": 351,
   "metadata": {},
   "outputs": [
    {
     "data": {
      "image/png": "[encoded data removed]",
      "text/plain": [
       "<matplotlib.figure.Figure at 0x7fa4ec2f9c50>"
      ]
     },
     "metadata": {},
     "output_type": "display_data"
    }
   ],
   "source": [
    "fit_data = np.array(data)[np.argsort(rapooc.rho)]\n",
    "fit_data = fit_data[:, np.argsort(rapooc.gamma)]\n",
    "plt.matshow(fit_data, cmap=plt.cm.Blues)\n",
    "plt.title(\"After biclustering; rearranged to show biclusters\")\n",
    "\n",
    "plt.show()"
   ]
  },
  {
   "cell_type": "code",
   "execution_count": 352,
   "metadata": {},
   "outputs": [
    {
     "data": {
      "text/plain": [
       "Text(0.5,1.05,'Original dataset')"
      ]
     },
     "execution_count": 352,
     "metadata": {},
     "output_type": "execute_result"
    },
    {
     "data": {
      "image/png": "[encoded data removed]",
      "text/plain": [
       "<matplotlib.figure.Figure at 0x7fa4eca46e80>"
      ]
     },
     "metadata": {},
     "output_type": "display_data"
    }
   ],
   "source": [
    "plt.matshow(data, cmap=plt.cm.Blues)\n",
    "plt.title(\"Original dataset\")"
   ]
  },
  {
   "cell_type": "code",
   "execution_count": 277,
   "metadata": {},
   "outputs": [],
   "source": [
    "from sklearn.datasets import make_biclusters\n",
    "from sklearn.datasets import samples_generator as sg\n",
    "from sklearn.preprocessing import MinMaxScaler\n",
    "test_data, rows, columns = make_biclusters(\n",
    "    shape=(100, 7), n_clusters=5, noise=0,\n",
    "    shuffle=False, random_state=0)"
   ]
  },
  {
   "cell_type": "code",
   "execution_count": 278,
   "metadata": {},
   "outputs": [
    {
     "data": {
      "text/plain": [
       "Text(0.5,1.05,'Shuffled dataset')"
      ]
     },
     "execution_count": 278,
     "metadata": {},
     "output_type": "execute_result"
    },
    {
     "data": {
      "image/png": "[encoded data removed]",
      "text/plain": [
       "<matplotlib.figure.Figure at 0x7fa4edaadd68>"
      ]
     },
     "metadata": {},
     "output_type": "display_data"
    },
    {
     "data": {
      "image/png": "[encoded data removed]",
      "text/plain": [
       "<matplotlib.figure.Figure at 0x7fa4ef397860>"
      ]
     },
     "metadata": {},
     "output_type": "display_data"
    }
   ],
   "source": [
    "plt.matshow(test_data, cmap=plt.cm.Blues)\n",
    "plt.title(\"Original dataset\")\n",
    "\n",
    "scaler = MinMaxScaler()\n",
    "scaler.fit(test_data)\n",
    "test_data = scaler.transform(test_data)\n",
    "\n",
    "test_data, row_idx, col_idx = sg._shuffle(test_data, random_state=0)\n",
    "plt.matshow(test_data, cmap=plt.cm.Blues)\n",
    "plt.title(\"Shuffled dataset\")"
   ]
  },
  {
   "cell_type": "code",
   "execution_count": 279,
   "metadata": {},
   "outputs": [
    {
     "name": "stderr",
     "output_type": "stream",
     "text": [
      "/home/a20125359/anaconda3/envs/Biclustering/lib/python3.6/site-packages/seaborn/timeseries.py:183: UserWarning: The tsplot function is deprecated and will be removed or replaced (in a substantially altered version) in a future release.\n",
      "  warnings.warn(msg, UserWarning)\n"
     ]
    },
    {
     "data": {
      "image/png": "[encoded data removed]",
      "text/plain": [
       "<matplotlib.figure.Figure at 0x7fa4ec9b4438>"
      ]
     },
     "metadata": {},
     "output_type": "display_data"
    }
   ],
   "source": [
    "ax = sns.tsplot(data=np.array(test_data), err_style=\"unit_traces\")"
   ]
  },
  {
   "cell_type": "code",
   "execution_count": 280,
   "metadata": {},
   "outputs": [],
   "source": [
    "rapooc_test = Rapooc_test(test_data,5,5,20)\n",
    "rapooc_test.initialize()"
   ]
  },
  {
   "cell_type": "code",
   "execution_count": 281,
   "metadata": {},
   "outputs": [
    {
     "data": {
      "text/plain": [
       "array([ 2.,  1.,  2.,  4.,  5.,  3.,  1.])"
      ]
     },
     "execution_count": 281,
     "metadata": {},
     "output_type": "execute_result"
    }
   ],
   "source": [
    "rapooc_test.gamma"
   ]
  },
  {
   "cell_type": "code",
   "execution_count": 282,
   "metadata": {},
   "outputs": [
    {
     "data": {
      "text/plain": [
       "array([ 3.,  4.,  1.,  2.,  4.,  5.,  1.,  4.,  2.,  5.,  2.,  5.,  4.,\n",
       "        1.,  1.,  3.,  3.,  3.,  3.,  1.,  2.,  2.,  1.,  4.,  2.,  2.,\n",
       "        1.,  5.,  4.,  4.,  2.,  4.,  5.,  4.,  2.,  3.,  1.,  2.,  2.,\n",
       "        4.,  1.,  2.,  2.,  2.,  1.,  1.,  1.,  2.,  3.,  1.,  5.,  2.,\n",
       "        1.,  3.,  3.,  2.,  1.,  3.,  3.,  2.,  1.,  3.,  4.,  2.,  4.,\n",
       "        4.,  3.,  4.,  1.,  5.,  1.,  3.,  2.,  5.,  5.,  4.,  1.,  5.,\n",
       "        4.,  4.,  3.,  3.,  4.,  2.,  3.,  4.,  2.,  1.,  5.,  4.,  4.,\n",
       "        3.,  3.,  4.,  1.,  5.,  4.,  2.,  2.,  2.])"
      ]
     },
     "execution_count": 282,
     "metadata": {},
     "output_type": "execute_result"
    }
   ],
   "source": [
    "rapooc_test.rho"
   ]
  },
  {
   "cell_type": "code",
   "execution_count": 283,
   "metadata": {},
   "outputs": [
    {
     "name": "stdout",
     "output_type": "stream",
     "text": [
      "Finishing core-coclustering\n",
      "Number of iterations 0\n",
      "Objective function 0.8\n",
      "Number of repetitions 0\n"
     ]
    }
   ],
   "source": [
    "rapooc_test.core_co_clustering()"
   ]
  },
  {
   "cell_type": "code",
   "execution_count": 284,
   "metadata": {},
   "outputs": [
    {
     "data": {
      "image/png": "[encoded data removed]",
      "text/plain": [
       "<matplotlib.figure.Figure at 0x7fa4ec70eb70>"
      ]
     },
     "metadata": {},
     "output_type": "display_data"
    }
   ],
   "source": [
    "fit_data = np.array(test_data)[np.argsort(rapooc_test.rho)]\n",
    "fit_data = fit_data[:, np.argsort(rapooc_test.gamma)]\n",
    "plt.matshow(fit_data, cmap=plt.cm.Blues)\n",
    "plt.title(\"After biclustering; rearranged to show biclusters\")\n",
    "\n",
    "plt.show()"
   ]
  },
  {
   "cell_type": "code",
   "execution_count": 285,
   "metadata": {},
   "outputs": [],
   "source": [
    "model_rows = list()\n",
    "for i in range(1,int(max(rapooc_test.rho)) + 1):\n",
    "    r = list()\n",
    "    for j in range(0,len(rapooc_test.rho)):\n",
    "        r.append(i==rapooc_test.rho[j])\n",
    "    model_rows.append(r)"
   ]
  },
  {
   "cell_type": "code",
   "execution_count": 286,
   "metadata": {},
   "outputs": [],
   "source": [
    "model_columns = list()\n",
    "for i in range(1,int(max(rapooc_test.gamma)) + 1):\n",
    "    r = list()\n",
    "    for j in range(0,len(rapooc_test.gamma)):\n",
    "        r.append(i==rapooc_test.gamma[j])\n",
    "    model_columns.append(r)\n",
    "\n",
    "model = (np.array(model_rows),np.array(model_columns))"
   ]
  },
  {
   "cell_type": "code",
   "execution_count": 287,
   "metadata": {},
   "outputs": [],
   "source": [
    "from sklearn.metrics import consensus_score\n",
    "\n",
    "score = consensus_score(model,\n",
    "                        (rows[:, row_idx], columns[:, col_idx]))"
   ]
  },
  {
   "cell_type": "code",
   "execution_count": 288,
   "metadata": {},
   "outputs": [
    {
     "data": {
      "text/plain": [
       "0.20224489795918368"
      ]
     },
     "execution_count": 288,
     "metadata": {},
     "output_type": "execute_result"
    }
   ],
   "source": [
    "score"
   ]
  },
  {
   "cell_type": "code",
   "execution_count": null,
   "metadata": {},
   "outputs": [],
   "source": []
  }
 ],
 "metadata": {
  "kernelspec": {
   "display_name": "Python 3",
   "language": "python",
   "name": "python3"
  },
  "language_info": {
   "codemirror_mode": {
    "name": "ipython",
    "version": 3
   },
   "file_extension": ".py",
   "mimetype": "text/x-python",
   "name": "python",
   "nbconvert_exporter": "python",
   "pygments_lexer": "ipython3",
   "version": "3.6.3"
  }
 },
 "nbformat": 4,
 "nbformat_minor": 2
}
