{
 "cells": [
  {
   "cell_type": "markdown",
   "metadata": {},
   "source": [
    "# Short Time Series Biclustering"
   ]
  },
  {
   "cell_type": "code",
   "execution_count": 1,
   "metadata": {},
   "outputs": [],
   "source": [
    "%matplotlib inline\n",
    "import pandas as pd\n",
    "import numpy as np\n",
    "import matplotlib.pyplot as plt\n",
    "import seaborn as sns\n",
    "import math\n",
    "import glob\n",
    "import multiprocessing\n",
    "from operator import attrgetter\n",
    "from sklearn.datasets import make_biclusters\n",
    "from sklearn.datasets import samples_generator as sg\n",
    "from sklearn.preprocessing import MinMaxScaler"
   ]
  },
  {
   "cell_type": "code",
   "execution_count": 32,
   "metadata": {},
   "outputs": [],
   "source": [
    "class BisectingClusterer(object):\n",
    "    def __init__(self, data):\n",
    "        if data is not None:\n",
    "            self._data = np.array(data)\n",
    "            self._I, self._J = self._data.shape\n",
    "        else:\n",
    "            print(\"Empty data\")\n",
    "    \n",
    "    @property\n",
    "    def centroids(self):\n",
    "        return self._centroids\n",
    "\n",
    "    def fit(self):\n",
    "        self._centroids = self._compute_centroids_()\n",
    "        bisecting_indices = self._bisect_clusters_(self._centroids)\n",
    "        return bisecting_indices\n",
    "    \n",
    "    def fit_rows(self):\n",
    "        return self.fit()\n",
    "    \n",
    "    def fit_cols(self):\n",
    "        data = self._data.T\n",
    "        aux_I, aux_J = data.shape\n",
    "        assert aux_I >= 3, \"bicluster not large enough\"\n",
    "        aux_indices = np.zeros(aux_I)\n",
    "        print(len(data))\n",
    "        for i in range (1, aux_I-1):\n",
    "            print(i)\n",
    "            print(data[i:len(data)-2])\n",
    "        \n",
    "    def _compute_centroids_(self):\n",
    "        max_correlation = 0\n",
    "        centroids = [0,0]\n",
    "        for i in range(self._I):\n",
    "            for j in range(i+1, self._I):\n",
    "                if (i == j):\n",
    "                    break\n",
    "                correlation = PositiveNegativeCorrelation(self._data[i],\n",
    "                                                          self._data[j],\n",
    "                                                          self._J).H_neg\n",
    "                if(correlation > max_correlation):\n",
    "                    max_correlation = correlation\n",
    "                    centroids[0] = i\n",
    "                    centroids[1] = j\n",
    "        return centroids\n",
    "\n",
    "    def _bisect_clusters_(self, centroids):\n",
    "        cluster_indices = np.zeros(self._I)\n",
    "        for i in range(self._I):\n",
    "            correlation0 = PositiveNegativeCorrelation(\n",
    "                self._data[centroids[0]], self._data[i],self._J).H_pos\n",
    "            correlation1 = PositiveNegativeCorrelation(\n",
    "                self._data[centroids[1]], self._data[i],self._J).H_pos\n",
    "            if(correlation0 <= correlation1):\n",
    "                cluster_indices[i] = 1\n",
    "        return cluster_indices"
   ]
  },
  {
   "cell_type": "code",
   "execution_count": 2,
   "metadata": {},
   "outputs": [
    {
     "data": {
      "text/latex": [
       "Define H for a new term 'z' in X\n",
       "$$\n",
       "H_{1}(I,J,X,z) =H_{0}(I,J,X) \\cdot \\frac{(I-1)}{(I+1)} + \\frac{|2|}{(I)(I+1)} \\cdot \\sum_{x \\epsilon X} {h(x,z,J)}\n",
       "$$"
      ],
      "text/plain": [
       "<IPython.core.display.Latex object>"
      ]
     },
     "metadata": {},
     "output_type": "display_data"
    }
   ],
   "source": [
    "%%latex\n",
    "Define H for a new term 'z' in X\n",
    "$$\n",
    "H_{1}(I,J,X,z) =H_{0}(I,J,X) \\cdot \\frac{(I-1)}{(I+1)} + \\frac{|2|}{(I)(I+1)} \\cdot \\sum_{x \\epsilon X} {h(x,z,J)}\n",
    "$$"
   ]
  },
  {
   "cell_type": "code",
   "execution_count": 3,
   "metadata": {},
   "outputs": [],
   "source": [
    "class ClusterMaps(object):\n",
    "    def __init__(self, rho=None, gamma=None, H = 0):\n",
    "        self.gamma = gamma\n",
    "        self.rho = rho\n",
    "        self.H = H\n",
    "    \n",
    "    def __str__(self):\n",
    "        return (\"rho: \\n\"+ str(self.rho) + \"\\ngamma: \\n\" + str(self.gamma) + \"\\nH: \\n \" + str(self.H))"
   ]
  },
  {
   "cell_type": "code",
   "execution_count": 38,
   "metadata": {},
   "outputs": [
    {
     "data": {
      "text/plain": [
       "array([[ 0.50095512,  0.21679472,  0.77068066,  0.6415653 ,  0.88970651],\n",
       "       [ 0.32320885,  0.57973748,  0.83682875,  0.14483868,  0.16475132],\n",
       "       [ 0.94263798,  0.13595588,  0.99100005,  0.2959615 ,  0.87292524],\n",
       "       [ 0.52516041,  0.31402082,  0.07313222,  0.08408673,  0.64547762],\n",
       "       [ 0.04454499,  0.75482119,  0.0262751 ,  0.16758357,  0.11956992]])"
      ]
     },
     "execution_count": 38,
     "metadata": {},
     "output_type": "execute_result"
    }
   ],
   "source": [
    "test_arr = np.random.rand(5,5)\n",
    "test_arr"
   ]
  },
  {
   "cell_type": "code",
   "execution_count": 39,
   "metadata": {},
   "outputs": [
    {
     "data": {
      "text/plain": [
       "array([[ 0.6415653 ,  0.14483868,  0.2959615 ,  0.08408673,  0.16758357]])"
      ]
     },
     "execution_count": 39,
     "metadata": {},
     "output_type": "execute_result"
    }
   ],
   "source": [
    "test_arr.T[3:4]"
   ]
  },
  {
   "cell_type": "code",
   "execution_count": 34,
   "metadata": {},
   "outputs": [],
   "source": [
    "cl_test = BisectingClusterer(test_arr)"
   ]
  },
  {
   "cell_type": "code",
   "execution_count": 35,
   "metadata": {},
   "outputs": [
    {
     "name": "stdout",
     "output_type": "stream",
     "text": [
      "5\n",
      "1\n",
      "[[ 0.32596224  0.44816576  0.24778532  0.76785447  0.45158472]\n",
      " [ 0.5376395   0.59762419  0.72751057  0.9863876   0.24581147]]\n",
      "2\n",
      "[[ 0.5376395   0.59762419  0.72751057  0.9863876   0.24581147]]\n",
      "3\n",
      "[]\n"
     ]
    }
   ],
   "source": [
    "cl_test.fit_cols()"
   ]
  },
  {
   "cell_type": "code",
   "execution_count": null,
   "metadata": {},
   "outputs": [],
   "source": [
    "class TsRapooc(object):\n",
    "    def __init__(self, data, n_clusters = 5):\n",
    "        self._D = np.array(data)\n",
    "        self._n_clusters = n_clusters\n",
    "        self._labels = list()\n",
    "        self._I, self._J = data.shape\n",
    "        \n",
    "    @property\n",
    "    def n_clusters(self):\n",
    "        return self._n_clusters\n",
    "    \n",
    "    @property\n",
    "    def data(self):\n",
    "        return self._D\n",
    "    \n",
    "    @property\n",
    "    def labels(self):\n",
    "        return _labels"
   ]
  }
 ],
 "metadata": {
  "kernelspec": {
   "display_name": "Python 3",
   "language": "python",
   "name": "python3"
  },
  "language_info": {
   "codemirror_mode": {
    "name": "ipython",
    "version": 3
   },
   "file_extension": ".py",
   "mimetype": "text/x-python",
   "name": "python",
   "nbconvert_exporter": "python",
   "pygments_lexer": "ipython3",
   "version": "3.6.3"
  }
 },
 "nbformat": 4,
 "nbformat_minor": 2
}
