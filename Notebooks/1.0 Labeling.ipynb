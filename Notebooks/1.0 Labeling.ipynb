{
 "cells": [
  {
   "cell_type": "markdown",
   "metadata": {},
   "source": [
    "# Labeling p-values"
   ]
  },
  {
   "cell_type": "code",
   "execution_count": 4,
   "metadata": {},
   "outputs": [],
   "source": [
    "##Importing libraries\n",
    "import pandas as pd\n",
    "import glob \n",
    "import numpy as np\n",
    "import gc"
   ]
  },
  {
   "cell_type": "markdown",
   "metadata": {},
   "source": [
    "We have to label all columns with p-value < 0.01 with 1 and p-value >0.5 "
   ]
  },
  {
   "cell_type": "code",
   "execution_count": 5,
   "metadata": {},
   "outputs": [
    {
     "name": "stdout",
     "output_type": "stream",
     "text": [
      "{\n",
      "  \"shell_port\": 53434,\n",
      "  \"iopub_port\": 48991,\n",
      "  \"stdin_port\": 51897,\n",
      "  \"control_port\": 40438,\n",
      "  \"hb_port\": 42798,\n",
      "  \"ip\": \"127.0.0.1\",\n",
      "  \"key\": \"19d350bc-0a5885c9b32bd5bd2c7c5dc8\",\n",
      "  \"transport\": \"tcp\",\n",
      "  \"signature_scheme\": \"hmac-sha256\",\n",
      "  \"kernel_name\": \"\"\n",
      "}\n",
      "\n",
      "Paste the above JSON into a file, and connect with:\n",
      "    $> jupyter <app> --existing <file>\n",
      "or, if you are local, you can connect with just:\n",
      "    $> jupyter <app> --existing kernel-556b3373-58ad-4870-bc73-e0a94434ad0a.json\n",
      "or even just:\n",
      "    $> jupyter <app> --existing\n",
      "if this is the most recent Jupyter kernel you have started.\n"
     ]
    }
   ],
   "source": [
    "%connect_info"
   ]
  },
  {
   "cell_type": "code",
   "execution_count": 6,
   "metadata": {},
   "outputs": [],
   "source": [
    "files = glob.glob(\"../Raw/*.csv\")"
   ]
  },
  {
   "cell_type": "code",
   "execution_count": 7,
   "metadata": {},
   "outputs": [
    {
     "data": {
      "text/plain": [
       "['../Raw/CTNNB1.csv',\n",
       " '../Raw/IRF4.csv',\n",
       " '../Raw/Erk.csv',\n",
       " '../Raw/Jnk.csv',\n",
       " '../Raw/MYC.csv',\n",
       " '../Raw/Ikk2.csv',\n",
       " '../Raw/LEF1.csv']"
      ]
     },
     "execution_count": 7,
     "metadata": {},
     "output_type": "execute_result"
    }
   ],
   "source": [
    "glob.glob(\"../Raw/*.csv\")"
   ]
  },
  {
   "cell_type": "code",
   "execution_count": 8,
   "metadata": {},
   "outputs": [
    {
     "name": "stdout",
     "output_type": "stream",
     "text": [
      "['../Raw/CTNNB1.csv', '../Raw/IRF4.csv', '../Raw/Erk.csv', '../Raw/Jnk.csv', '../Raw/MYC.csv', '../Raw/Ikk2.csv', '../Raw/LEF1.csv']\n"
     ]
    }
   ],
   "source": [
    "print (files)"
   ]
  },
  {
   "cell_type": "code",
   "execution_count": 9,
   "metadata": {},
   "outputs": [],
   "source": [
    "filenames = [f.split('/') for f in files]"
   ]
  },
  {
   "cell_type": "code",
   "execution_count": 10,
   "metadata": {},
   "outputs": [
    {
     "data": {
      "text/plain": [
       "[['..', 'Raw', 'CTNNB1.csv'],\n",
       " ['..', 'Raw', 'IRF4.csv'],\n",
       " ['..', 'Raw', 'Erk.csv'],\n",
       " ['..', 'Raw', 'Jnk.csv'],\n",
       " ['..', 'Raw', 'MYC.csv'],\n",
       " ['..', 'Raw', 'Ikk2.csv'],\n",
       " ['..', 'Raw', 'LEF1.csv']]"
      ]
     },
     "execution_count": 10,
     "metadata": {},
     "output_type": "execute_result"
    }
   ],
   "source": [
    "filenames"
   ]
  },
  {
   "cell_type": "code",
   "execution_count": 11,
   "metadata": {},
   "outputs": [],
   "source": [
    "filenames=[f[2] for f in filenames]"
   ]
  },
  {
   "cell_type": "code",
   "execution_count": 12,
   "metadata": {},
   "outputs": [
    {
     "data": {
      "text/plain": [
       "['CTNNB1.csv',\n",
       " 'IRF4.csv',\n",
       " 'Erk.csv',\n",
       " 'Jnk.csv',\n",
       " 'MYC.csv',\n",
       " 'Ikk2.csv',\n",
       " 'LEF1.csv']"
      ]
     },
     "execution_count": 12,
     "metadata": {},
     "output_type": "execute_result"
    }
   ],
   "source": [
    "filenames"
   ]
  },
  {
   "cell_type": "code",
   "execution_count": 13,
   "metadata": {},
   "outputs": [],
   "source": [
    "filenames = ['../LabelOutputs/'+f.split('.')[0]+'out.'+f.split('.')[1] for f in filenames]"
   ]
  },
  {
   "cell_type": "code",
   "execution_count": 14,
   "metadata": {},
   "outputs": [
    {
     "data": {
      "text/plain": [
       "['../LabelOutputs/CTNNB1out.csv',\n",
       " '../LabelOutputs/IRF4out.csv',\n",
       " '../LabelOutputs/Erkout.csv',\n",
       " '../LabelOutputs/Jnkout.csv',\n",
       " '../LabelOutputs/MYCout.csv',\n",
       " '../LabelOutputs/Ikk2out.csv',\n",
       " '../LabelOutputs/LEF1out.csv']"
      ]
     },
     "execution_count": 14,
     "metadata": {},
     "output_type": "execute_result"
    }
   ],
   "source": [
    "filenames"
   ]
  },
  {
   "cell_type": "code",
   "execution_count": 15,
   "metadata": {},
   "outputs": [],
   "source": [
    "df = pd.read_csv('../Raw/CTNNB1.csv',sep=';')"
   ]
  },
  {
   "cell_type": "code",
   "execution_count": 16,
   "metadata": {},
   "outputs": [
    {
     "data": {
      "text/html": [
       "<div>\n",
       "<style>\n",
       "    .dataframe thead tr:only-child th {\n",
       "        text-align: right;\n",
       "    }\n",
       "\n",
       "    .dataframe thead th {\n",
       "        text-align: left;\n",
       "    }\n",
       "\n",
       "    .dataframe tbody tr th {\n",
       "        vertical-align: top;\n",
       "    }\n",
       "</style>\n",
       "<table border=\"1\" class=\"dataframe\">\n",
       "  <thead>\n",
       "    <tr style=\"text-align: right;\">\n",
       "      <th></th>\n",
       "      <th>CauseGene</th>\n",
       "      <th>EffectGene</th>\n",
       "      <th>Replicate</th>\n",
       "      <th>Treatment</th>\n",
       "      <th>Pvalue</th>\n",
       "      <th>0min_neg_cause</th>\n",
       "      <th>15min_cause</th>\n",
       "      <th>30min_cause</th>\n",
       "      <th>90min_cause</th>\n",
       "      <th>120min_cause</th>\n",
       "      <th>...</th>\n",
       "      <th>360min_cause</th>\n",
       "      <th>0min_neg_effect</th>\n",
       "      <th>15min_effect</th>\n",
       "      <th>30min_effect</th>\n",
       "      <th>90min_effect</th>\n",
       "      <th>120min_effect</th>\n",
       "      <th>180min_effect</th>\n",
       "      <th>210min_effect</th>\n",
       "      <th>240min_effect</th>\n",
       "      <th>360min_effect</th>\n",
       "    </tr>\n",
       "  </thead>\n",
       "  <tbody>\n",
       "    <tr>\n",
       "      <th>0</th>\n",
       "      <td>CTNNB1</td>\n",
       "      <td>A1BG</td>\n",
       "      <td>1</td>\n",
       "      <td>BCR</td>\n",
       "      <td>0.709</td>\n",
       "      <td>-0.105283</td>\n",
       "      <td>-0.541612</td>\n",
       "      <td>-0.393067</td>\n",
       "      <td>-1.174035</td>\n",
       "      <td>-0.107926</td>\n",
       "      <td>...</td>\n",
       "      <td>1.070744</td>\n",
       "      <td>0.077473</td>\n",
       "      <td>-0.044090</td>\n",
       "      <td>-0.349988</td>\n",
       "      <td>-0.122733</td>\n",
       "      <td>-0.027860</td>\n",
       "      <td>1.066276</td>\n",
       "      <td>0.106499</td>\n",
       "      <td>-1.334779</td>\n",
       "      <td>0.580358</td>\n",
       "    </tr>\n",
       "    <tr>\n",
       "      <th>1</th>\n",
       "      <td>CTNNB1</td>\n",
       "      <td>A1BG</td>\n",
       "      <td>1</td>\n",
       "      <td>CD40</td>\n",
       "      <td>0.709</td>\n",
       "      <td>-0.105283</td>\n",
       "      <td>-0.347395</td>\n",
       "      <td>-0.950074</td>\n",
       "      <td>-1.130433</td>\n",
       "      <td>-0.297189</td>\n",
       "      <td>...</td>\n",
       "      <td>0.285729</td>\n",
       "      <td>0.077473</td>\n",
       "      <td>0.255573</td>\n",
       "      <td>0.825101</td>\n",
       "      <td>-2.091418</td>\n",
       "      <td>0.986115</td>\n",
       "      <td>0.020539</td>\n",
       "      <td>0.666451</td>\n",
       "      <td>-0.667305</td>\n",
       "      <td>0.313519</td>\n",
       "    </tr>\n",
       "    <tr>\n",
       "      <th>2</th>\n",
       "      <td>CTNNB1</td>\n",
       "      <td>A1BG</td>\n",
       "      <td>2</td>\n",
       "      <td>BCR</td>\n",
       "      <td>0.709</td>\n",
       "      <td>-0.461648</td>\n",
       "      <td>-1.277333</td>\n",
       "      <td>-0.407660</td>\n",
       "      <td>1.186022</td>\n",
       "      <td>0.871369</td>\n",
       "      <td>...</td>\n",
       "      <td>2.737891</td>\n",
       "      <td>-0.670996</td>\n",
       "      <td>0.537398</td>\n",
       "      <td>0.592462</td>\n",
       "      <td>0.456636</td>\n",
       "      <td>-0.244272</td>\n",
       "      <td>-1.993159</td>\n",
       "      <td>0.945375</td>\n",
       "      <td>0.301992</td>\n",
       "      <td>1.030175</td>\n",
       "    </tr>\n",
       "    <tr>\n",
       "      <th>3</th>\n",
       "      <td>CTNNB1</td>\n",
       "      <td>A1BG</td>\n",
       "      <td>2</td>\n",
       "      <td>CD40</td>\n",
       "      <td>0.709</td>\n",
       "      <td>-0.461648</td>\n",
       "      <td>-1.710065</td>\n",
       "      <td>-0.950477</td>\n",
       "      <td>-0.845131</td>\n",
       "      <td>-0.700774</td>\n",
       "      <td>...</td>\n",
       "      <td>-0.249866</td>\n",
       "      <td>-0.670996</td>\n",
       "      <td>1.808573</td>\n",
       "      <td>-1.767904</td>\n",
       "      <td>-0.623801</td>\n",
       "      <td>-0.330098</td>\n",
       "      <td>1.473550</td>\n",
       "      <td>-0.284614</td>\n",
       "      <td>-1.346430</td>\n",
       "      <td>0.232617</td>\n",
       "    </tr>\n",
       "    <tr>\n",
       "      <th>4</th>\n",
       "      <td>CTNNB1</td>\n",
       "      <td>A1BG</td>\n",
       "      <td>3</td>\n",
       "      <td>BCR</td>\n",
       "      <td>0.709</td>\n",
       "      <td>-1.374423</td>\n",
       "      <td>-0.282157</td>\n",
       "      <td>0.046609</td>\n",
       "      <td>0.002050</td>\n",
       "      <td>-0.075820</td>\n",
       "      <td>...</td>\n",
       "      <td>1.174037</td>\n",
       "      <td>1.650800</td>\n",
       "      <td>0.196474</td>\n",
       "      <td>-0.110119</td>\n",
       "      <td>-1.663191</td>\n",
       "      <td>0.131282</td>\n",
       "      <td>-0.023995</td>\n",
       "      <td>-0.201010</td>\n",
       "      <td>1.363202</td>\n",
       "      <td>1.410923</td>\n",
       "    </tr>\n",
       "  </tbody>\n",
       "</table>\n",
       "<p>5 rows × 23 columns</p>\n",
       "</div>"
      ],
      "text/plain": [
       "  CauseGene EffectGene  Replicate Treatment  Pvalue  0min_neg_cause  \\\n",
       "0    CTNNB1       A1BG          1       BCR   0.709       -0.105283   \n",
       "1    CTNNB1       A1BG          1      CD40   0.709       -0.105283   \n",
       "2    CTNNB1       A1BG          2       BCR   0.709       -0.461648   \n",
       "3    CTNNB1       A1BG          2      CD40   0.709       -0.461648   \n",
       "4    CTNNB1       A1BG          3       BCR   0.709       -1.374423   \n",
       "\n",
       "   15min_cause  30min_cause  90min_cause  120min_cause      ...        \\\n",
       "0    -0.541612    -0.393067    -1.174035     -0.107926      ...         \n",
       "1    -0.347395    -0.950074    -1.130433     -0.297189      ...         \n",
       "2    -1.277333    -0.407660     1.186022      0.871369      ...         \n",
       "3    -1.710065    -0.950477    -0.845131     -0.700774      ...         \n",
       "4    -0.282157     0.046609     0.002050     -0.075820      ...         \n",
       "\n",
       "   360min_cause  0min_neg_effect  15min_effect  30min_effect  90min_effect  \\\n",
       "0      1.070744         0.077473     -0.044090     -0.349988     -0.122733   \n",
       "1      0.285729         0.077473      0.255573      0.825101     -2.091418   \n",
       "2      2.737891        -0.670996      0.537398      0.592462      0.456636   \n",
       "3     -0.249866        -0.670996      1.808573     -1.767904     -0.623801   \n",
       "4      1.174037         1.650800      0.196474     -0.110119     -1.663191   \n",
       "\n",
       "   120min_effect  180min_effect  210min_effect  240min_effect  360min_effect  \n",
       "0      -0.027860       1.066276       0.106499      -1.334779       0.580358  \n",
       "1       0.986115       0.020539       0.666451      -0.667305       0.313519  \n",
       "2      -0.244272      -1.993159       0.945375       0.301992       1.030175  \n",
       "3      -0.330098       1.473550      -0.284614      -1.346430       0.232617  \n",
       "4       0.131282      -0.023995      -0.201010       1.363202       1.410923  \n",
       "\n",
       "[5 rows x 23 columns]"
      ]
     },
     "execution_count": 16,
     "metadata": {},
     "output_type": "execute_result"
    }
   ],
   "source": [
    "df.head()"
   ]
  },
  {
   "cell_type": "code",
   "execution_count": 17,
   "metadata": {},
   "outputs": [
    {
     "data": {
      "text/html": [
       "<div>\n",
       "<style>\n",
       "    .dataframe thead tr:only-child th {\n",
       "        text-align: right;\n",
       "    }\n",
       "\n",
       "    .dataframe thead th {\n",
       "        text-align: left;\n",
       "    }\n",
       "\n",
       "    .dataframe tbody tr th {\n",
       "        vertical-align: top;\n",
       "    }\n",
       "</style>\n",
       "<table border=\"1\" class=\"dataframe\">\n",
       "  <thead>\n",
       "    <tr style=\"text-align: right;\">\n",
       "      <th></th>\n",
       "      <th>Replicate</th>\n",
       "      <th>Pvalue</th>\n",
       "      <th>0min_neg_cause</th>\n",
       "      <th>15min_cause</th>\n",
       "      <th>30min_cause</th>\n",
       "      <th>90min_cause</th>\n",
       "      <th>120min_cause</th>\n",
       "      <th>180min_cause</th>\n",
       "      <th>210min_cause</th>\n",
       "      <th>240min_cause</th>\n",
       "      <th>360min_cause</th>\n",
       "      <th>0min_neg_effect</th>\n",
       "      <th>15min_effect</th>\n",
       "      <th>30min_effect</th>\n",
       "      <th>90min_effect</th>\n",
       "      <th>120min_effect</th>\n",
       "      <th>180min_effect</th>\n",
       "      <th>210min_effect</th>\n",
       "      <th>240min_effect</th>\n",
       "      <th>360min_effect</th>\n",
       "    </tr>\n",
       "  </thead>\n",
       "  <tbody>\n",
       "    <tr>\n",
       "      <th>count</th>\n",
       "      <td>100146.000000</td>\n",
       "      <td>100146.000000</td>\n",
       "      <td>100146.000000</td>\n",
       "      <td>100146.000000</td>\n",
       "      <td>100146.000000</td>\n",
       "      <td>100146.000000</td>\n",
       "      <td>100146.000000</td>\n",
       "      <td>100146.000000</td>\n",
       "      <td>100146.000000</td>\n",
       "      <td>100146.000000</td>\n",
       "      <td>100146.000000</td>\n",
       "      <td>100146.000000</td>\n",
       "      <td>100146.000000</td>\n",
       "      <td>100146.000000</td>\n",
       "      <td>100146.000000</td>\n",
       "      <td>100146.000000</td>\n",
       "      <td>100146.000000</td>\n",
       "      <td>100146.000000</td>\n",
       "      <td>100146.000000</td>\n",
       "      <td>100146.000000</td>\n",
       "    </tr>\n",
       "    <tr>\n",
       "      <th>mean</th>\n",
       "      <td>2.000000</td>\n",
       "      <td>0.720896</td>\n",
       "      <td>-0.647118</td>\n",
       "      <td>-1.113596</td>\n",
       "      <td>-0.556583</td>\n",
       "      <td>-0.426650</td>\n",
       "      <td>-0.040368</td>\n",
       "      <td>0.264053</td>\n",
       "      <td>0.511564</td>\n",
       "      <td>0.717309</td>\n",
       "      <td>0.856876</td>\n",
       "      <td>-0.010101</td>\n",
       "      <td>0.048647</td>\n",
       "      <td>0.031112</td>\n",
       "      <td>-0.050254</td>\n",
       "      <td>-0.056593</td>\n",
       "      <td>-0.085797</td>\n",
       "      <td>0.013353</td>\n",
       "      <td>-0.023819</td>\n",
       "      <td>0.058676</td>\n",
       "    </tr>\n",
       "    <tr>\n",
       "      <th>std</th>\n",
       "      <td>0.816501</td>\n",
       "      <td>0.213404</td>\n",
       "      <td>0.534467</td>\n",
       "      <td>0.813901</td>\n",
       "      <td>0.350998</td>\n",
       "      <td>0.820878</td>\n",
       "      <td>0.474511</td>\n",
       "      <td>0.846185</td>\n",
       "      <td>0.640973</td>\n",
       "      <td>1.361393</td>\n",
       "      <td>0.981044</td>\n",
       "      <td>0.928247</td>\n",
       "      <td>1.155244</td>\n",
       "      <td>0.744942</td>\n",
       "      <td>1.004502</td>\n",
       "      <td>0.889833</td>\n",
       "      <td>0.848201</td>\n",
       "      <td>1.048628</td>\n",
       "      <td>1.076580</td>\n",
       "      <td>1.060802</td>\n",
       "    </tr>\n",
       "    <tr>\n",
       "      <th>min</th>\n",
       "      <td>1.000000</td>\n",
       "      <td>0.000000</td>\n",
       "      <td>-1.374423</td>\n",
       "      <td>-2.523015</td>\n",
       "      <td>-0.950477</td>\n",
       "      <td>-1.174035</td>\n",
       "      <td>-0.700774</td>\n",
       "      <td>-1.151904</td>\n",
       "      <td>-0.101001</td>\n",
       "      <td>-1.402778</td>\n",
       "      <td>-0.249866</td>\n",
       "      <td>-3.503078</td>\n",
       "      <td>-5.929185</td>\n",
       "      <td>-3.459456</td>\n",
       "      <td>-5.000662</td>\n",
       "      <td>-3.744604</td>\n",
       "      <td>-3.714958</td>\n",
       "      <td>-4.662230</td>\n",
       "      <td>-4.882397</td>\n",
       "      <td>-4.246056</td>\n",
       "    </tr>\n",
       "    <tr>\n",
       "      <th>25%</th>\n",
       "      <td>1.000000</td>\n",
       "      <td>0.566000</td>\n",
       "      <td>-1.374423</td>\n",
       "      <td>-1.710065</td>\n",
       "      <td>-0.950074</td>\n",
       "      <td>-1.130433</td>\n",
       "      <td>-0.297189</td>\n",
       "      <td>-0.221320</td>\n",
       "      <td>-0.057594</td>\n",
       "      <td>-0.362975</td>\n",
       "      <td>0.122718</td>\n",
       "      <td>-0.638302</td>\n",
       "      <td>-0.710056</td>\n",
       "      <td>-0.469987</td>\n",
       "      <td>-0.699621</td>\n",
       "      <td>-0.649969</td>\n",
       "      <td>-0.665315</td>\n",
       "      <td>-0.586286</td>\n",
       "      <td>-0.685528</td>\n",
       "      <td>-0.624152</td>\n",
       "    </tr>\n",
       "    <tr>\n",
       "      <th>50%</th>\n",
       "      <td>2.000000</td>\n",
       "      <td>0.763000</td>\n",
       "      <td>-0.461648</td>\n",
       "      <td>-0.909473</td>\n",
       "      <td>-0.546243</td>\n",
       "      <td>-0.721753</td>\n",
       "      <td>-0.091873</td>\n",
       "      <td>0.377244</td>\n",
       "      <td>0.223119</td>\n",
       "      <td>0.887871</td>\n",
       "      <td>0.678237</td>\n",
       "      <td>-0.010861</td>\n",
       "      <td>-0.013350</td>\n",
       "      <td>0.039920</td>\n",
       "      <td>-0.069583</td>\n",
       "      <td>-0.048703</td>\n",
       "      <td>-0.094233</td>\n",
       "      <td>0.026645</td>\n",
       "      <td>-0.013353</td>\n",
       "      <td>0.062193</td>\n",
       "    </tr>\n",
       "    <tr>\n",
       "      <th>75%</th>\n",
       "      <td>3.000000</td>\n",
       "      <td>0.907000</td>\n",
       "      <td>-0.105283</td>\n",
       "      <td>-0.347395</td>\n",
       "      <td>-0.393067</td>\n",
       "      <td>0.002050</td>\n",
       "      <td>0.068134</td>\n",
       "      <td>0.960793</td>\n",
       "      <td>1.270292</td>\n",
       "      <td>1.650236</td>\n",
       "      <td>1.174037</td>\n",
       "      <td>0.618415</td>\n",
       "      <td>0.713982</td>\n",
       "      <td>0.551062</td>\n",
       "      <td>0.576469</td>\n",
       "      <td>0.537384</td>\n",
       "      <td>0.488391</td>\n",
       "      <td>0.642149</td>\n",
       "      <td>0.676465</td>\n",
       "      <td>0.762359</td>\n",
       "    </tr>\n",
       "    <tr>\n",
       "      <th>max</th>\n",
       "      <td>3.000000</td>\n",
       "      <td>1.000000</td>\n",
       "      <td>-0.105283</td>\n",
       "      <td>-0.282157</td>\n",
       "      <td>0.046609</td>\n",
       "      <td>1.186022</td>\n",
       "      <td>0.871369</td>\n",
       "      <td>1.242260</td>\n",
       "      <td>1.511452</td>\n",
       "      <td>2.643628</td>\n",
       "      <td>2.737891</td>\n",
       "      <td>3.722801</td>\n",
       "      <td>5.558763</td>\n",
       "      <td>3.636107</td>\n",
       "      <td>4.744695</td>\n",
       "      <td>4.119485</td>\n",
       "      <td>3.755805</td>\n",
       "      <td>5.130988</td>\n",
       "      <td>4.466281</td>\n",
       "      <td>4.002814</td>\n",
       "    </tr>\n",
       "  </tbody>\n",
       "</table>\n",
       "</div>"
      ],
      "text/plain": [
       "           Replicate         Pvalue  0min_neg_cause    15min_cause  \\\n",
       "count  100146.000000  100146.000000   100146.000000  100146.000000   \n",
       "mean        2.000000       0.720896       -0.647118      -1.113596   \n",
       "std         0.816501       0.213404        0.534467       0.813901   \n",
       "min         1.000000       0.000000       -1.374423      -2.523015   \n",
       "25%         1.000000       0.566000       -1.374423      -1.710065   \n",
       "50%         2.000000       0.763000       -0.461648      -0.909473   \n",
       "75%         3.000000       0.907000       -0.105283      -0.347395   \n",
       "max         3.000000       1.000000       -0.105283      -0.282157   \n",
       "\n",
       "         30min_cause    90min_cause   120min_cause   180min_cause  \\\n",
       "count  100146.000000  100146.000000  100146.000000  100146.000000   \n",
       "mean       -0.556583      -0.426650      -0.040368       0.264053   \n",
       "std         0.350998       0.820878       0.474511       0.846185   \n",
       "min        -0.950477      -1.174035      -0.700774      -1.151904   \n",
       "25%        -0.950074      -1.130433      -0.297189      -0.221320   \n",
       "50%        -0.546243      -0.721753      -0.091873       0.377244   \n",
       "75%        -0.393067       0.002050       0.068134       0.960793   \n",
       "max         0.046609       1.186022       0.871369       1.242260   \n",
       "\n",
       "        210min_cause   240min_cause   360min_cause  0min_neg_effect  \\\n",
       "count  100146.000000  100146.000000  100146.000000    100146.000000   \n",
       "mean        0.511564       0.717309       0.856876        -0.010101   \n",
       "std         0.640973       1.361393       0.981044         0.928247   \n",
       "min        -0.101001      -1.402778      -0.249866        -3.503078   \n",
       "25%        -0.057594      -0.362975       0.122718        -0.638302   \n",
       "50%         0.223119       0.887871       0.678237        -0.010861   \n",
       "75%         1.270292       1.650236       1.174037         0.618415   \n",
       "max         1.511452       2.643628       2.737891         3.722801   \n",
       "\n",
       "        15min_effect   30min_effect   90min_effect  120min_effect  \\\n",
       "count  100146.000000  100146.000000  100146.000000  100146.000000   \n",
       "mean        0.048647       0.031112      -0.050254      -0.056593   \n",
       "std         1.155244       0.744942       1.004502       0.889833   \n",
       "min        -5.929185      -3.459456      -5.000662      -3.744604   \n",
       "25%        -0.710056      -0.469987      -0.699621      -0.649969   \n",
       "50%        -0.013350       0.039920      -0.069583      -0.048703   \n",
       "75%         0.713982       0.551062       0.576469       0.537384   \n",
       "max         5.558763       3.636107       4.744695       4.119485   \n",
       "\n",
       "       180min_effect  210min_effect  240min_effect  360min_effect  \n",
       "count  100146.000000  100146.000000  100146.000000  100146.000000  \n",
       "mean       -0.085797       0.013353      -0.023819       0.058676  \n",
       "std         0.848201       1.048628       1.076580       1.060802  \n",
       "min        -3.714958      -4.662230      -4.882397      -4.246056  \n",
       "25%        -0.665315      -0.586286      -0.685528      -0.624152  \n",
       "50%        -0.094233       0.026645      -0.013353       0.062193  \n",
       "75%         0.488391       0.642149       0.676465       0.762359  \n",
       "max         3.755805       5.130988       4.466281       4.002814  "
      ]
     },
     "execution_count": 17,
     "metadata": {},
     "output_type": "execute_result"
    }
   ],
   "source": [
    "df.describe()"
   ]
  },
  {
   "cell_type": "code",
   "execution_count": 18,
   "metadata": {},
   "outputs": [],
   "source": [
    "df['Target']=df.apply(lambda row : 1 if row['Pvalue']<=0.01 else (0 if row['Pvalue']>= 0.5 else np.nan),axis=1)"
   ]
  },
  {
   "cell_type": "code",
   "execution_count": 19,
   "metadata": {},
   "outputs": [
    {
     "data": {
      "text/plain": [
       "483"
      ]
     },
     "execution_count": 19,
     "metadata": {},
     "output_type": "execute_result"
    }
   ],
   "source": [
    "gc.collect()"
   ]
  },
  {
   "cell_type": "code",
   "execution_count": 21,
   "metadata": {},
   "outputs": [
    {
     "data": {
      "text/plain": [
       "0"
      ]
     },
     "execution_count": 21,
     "metadata": {},
     "output_type": "execute_result"
    }
   ],
   "source": [
    "del df\n",
    "gc.collect()"
   ]
  },
  {
   "cell_type": "code",
   "execution_count": 25,
   "metadata": {},
   "outputs": [
    {
     "name": "stdout",
     "output_type": "stream",
     "text": [
      "../LabelOutputs/CTNNB1out.csv\n",
      "\n",
      "Pos\n",
      "60\n",
      "Neg\n",
      "81978\n",
      "\n",
      "\n",
      "../LabelOutputs/IRF4out.csv\n",
      "\n",
      "Pos\n",
      "66\n",
      "Neg\n",
      "96588\n",
      "\n",
      "\n",
      "../LabelOutputs/Erkout.csv\n",
      "\n",
      "Pos\n",
      "264\n",
      "Neg\n",
      "140466\n",
      "\n",
      "\n",
      "../LabelOutputs/Jnkout.csv\n",
      "\n",
      "Pos\n",
      "7110\n",
      "Neg\n",
      "205992\n",
      "\n",
      "\n",
      "../LabelOutputs/MYCout.csv\n",
      "\n",
      "Pos\n",
      "5598\n",
      "Neg\n",
      "58404\n",
      "\n",
      "\n",
      "../LabelOutputs/Ikk2out.csv\n",
      "\n",
      "Pos\n",
      "4548\n",
      "Neg\n",
      "104436\n",
      "\n",
      "\n",
      "../LabelOutputs/LEF1out.csv\n",
      "\n",
      "Pos\n",
      "132\n",
      "Neg\n",
      "67938\n",
      "\n",
      "\n"
     ]
    }
   ],
   "source": [
    "i=0\n",
    "for file in files:\n",
    "    frame = pd.read_csv(file,sep=';')\n",
    "    frame['Target'] = frame.apply(lambda row : 1 if row['Pvalue']<=0.01 else (0 if row['Pvalue']>= 0.5 else np.nan),axis=1)\n",
    "    print(filenames[i] + '\\n')\n",
    "    print('Pos')\n",
    "    print(frame[frame[\"Target\"]==1][\"Target\"].count())\n",
    "    print('Neg')\n",
    "    print(frame[frame[\"Target\"]==0][\"Target\"].count())\n",
    "    print('\\n')\n",
    "    frame['Target'].loc[frame['Target']==1].to_csv(filenames[i],sep=';',index=True)\n",
    "    i+=1\n",
    "    "
   ]
  },
  {
   "cell_type": "code",
   "execution_count": null,
   "metadata": {},
   "outputs": [],
   "source": []
  }
 ],
 "metadata": {
  "kernelspec": {
   "display_name": "Python 3",
   "language": "python",
   "name": "python3"
  },
  "language_info": {
   "codemirror_mode": {
    "name": "ipython",
    "version": 3
   },
   "file_extension": ".py",
   "mimetype": "text/x-python",
   "name": "python",
   "nbconvert_exporter": "python",
   "pygments_lexer": "ipython3",
   "version": "3.6.3"
  }
 },
 "nbformat": 4,
 "nbformat_minor": 2
}
