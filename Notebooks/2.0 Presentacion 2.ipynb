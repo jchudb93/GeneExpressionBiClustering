{
 "cells": [
  {
   "cell_type": "markdown",
   "metadata": {},
   "source": [
    "# Presentacion 2"
   ]
  },
  {
   "cell_type": "code",
   "execution_count": 22,
   "metadata": {},
   "outputs": [],
   "source": [
    "%matplotlib inline\n",
    "import gc\n",
    "import pandas as pd\n",
    "import glob\n",
    "import sklearn\n",
    "import numpy as np\n",
    "import matplotlib"
   ]
  },
  {
   "cell_type": "markdown",
   "metadata": {},
   "source": [
    "## 1. Archivos de lectura"
   ]
  },
  {
   "cell_type": "code",
   "execution_count": 2,
   "metadata": {},
   "outputs": [
    {
     "data": {
      "text/plain": [
       "['../data/Dc/Jnk.csv',\n",
       " '../data/Dc/CTNNB1.csv',\n",
       " '../data/Dc/LEF1.csv',\n",
       " '../data/Dc/Ikk2.csv',\n",
       " '../data/Dc/Erk.csv',\n",
       " '../data/Dc/MYC.csv',\n",
       " '../data/Dc/IRF4.csv']"
      ]
     },
     "execution_count": 2,
     "metadata": {},
     "output_type": "execute_result"
    }
   ],
   "source": [
    "dcFiles=glob.glob(\"../data/Dc/*\")\n",
    "dcFiles"
   ]
  },
  {
   "cell_type": "code",
   "execution_count": 3,
   "metadata": {},
   "outputs": [],
   "source": [
    "trainIndexFiles=glob.glob(\"../Train/*\")\n",
    "frames = list()\n",
    "for f in trainIndexFiles:\n",
    "    indices = pd.read_csv(f,sep=\";\")\n",
    "    indexList=list(indices['0'])\n",
    "    protein = f.split(\"/\")[-1].split(\".\")[0]\n",
    "    fpath = '../data/Dc/'+f.split(\"/\")[-1].split(\".\")[0]+\".csv\"\n",
    "    dcRead = pd.read_csv(fpath,sep=\";\")\n",
    "    dcPartialTrain=dcRead[dcRead.columns[5:]].loc[indexList].copy()\n",
    "    dcPartialTrain.insert(0,column='Protein',value =protein )\n",
    "    del dcRead\n",
    "    gc.collect()\n",
    "    frames.append(dcPartialTrain)"
   ]
  },
  {
   "cell_type": "code",
   "execution_count": 4,
   "metadata": {},
   "outputs": [],
   "source": [
    "dcTrain = pd.concat(frames)"
   ]
  },
  {
   "cell_type": "code",
   "execution_count": 5,
   "metadata": {},
   "outputs": [],
   "source": [
    "lstn_clusters=range(2,5)"
   ]
  },
  {
   "cell_type": "markdown",
   "metadata": {},
   "source": [
    "## 2. Clustering"
   ]
  },
  {
   "cell_type": "code",
   "execution_count": 25,
   "metadata": {},
   "outputs": [],
   "source": [
    "import time\n",
    "from sklearn.cluster import MiniBatchKMeans\n",
    "from sklearn.metrics import silhouette_score"
   ]
  },
  {
   "cell_type": "code",
   "execution_count": 26,
   "metadata": {},
   "outputs": [
    {
     "data": {
      "text/plain": [
       "19"
      ]
     },
     "execution_count": 26,
     "metadata": {},
     "output_type": "execute_result"
    }
   ],
   "source": [
    "file = open('../ClusteringOutputs/DC_Clustering/dcMiniBatch.txt','w')  \n",
    "bestOut = open('../ClusteringOutputs/DC_Clustering/dcBestMiniBatch.txt','w') \n",
    "file.write(\"n_clusters,s_score\\n\")"
   ]
  },
  {
   "cell_type": "code",
   "execution_count": 27,
   "metadata": {},
   "outputs": [],
   "source": [
    "dfLabels=pd.DataFrame()"
   ]
  },
  {
   "cell_type": "code",
   "execution_count": 28,
   "metadata": {},
   "outputs": [],
   "source": [
    "dfLabels['Protein'] = dcTrain['Protein'].tolist()"
   ]
  },
  {
   "cell_type": "markdown",
   "metadata": {},
   "source": [
    "### 2.1 Aplicando MiniBatch"
   ]
  },
  {
   "cell_type": "code",
   "execution_count": 40,
   "metadata": {},
   "outputs": [
    {
     "data": {
      "text/latex": [
       "Silhouette Score $S(i)$:\n",
       "    \n",
       "$$S(i) = \\frac{b(i)-a(i)}{max{(a(i),b(i))}} $$"
      ],
      "text/plain": [
       "<IPython.core.display.Latex object>"
      ]
     },
     "metadata": {},
     "output_type": "display_data"
    }
   ],
   "source": [
    "%%latex\n",
    "Silhouette Score $S(i)$:\n",
    "    \n",
    "$$S(i) = \\frac{b(i)-a(i)}{max{(a(i),b(i))}} $$"
   ]
  },
  {
   "cell_type": "code",
   "execution_count": 29,
   "metadata": {},
   "outputs": [],
   "source": [
    "max_silhouette=0\n",
    "nClusters=2\n",
    "\n",
    "for n in lstn_clusters:\n",
    "    mbk=MiniBatchKMeans(init='k-means++', n_clusters=n\n",
    "                        , max_no_improvement=10, verbose=0)\n",
    "    mbk.fit(dcTrain[dcTrain.columns[1:]])\n",
    "    labels = mbk.labels_\n",
    "    s_score = silhouette_score(dcTrain[dcTrain.columns[1:]], labels, metric='euclidean')\n",
    "    dfLabels['NClusters'+str(n)] = n\n",
    "    dfLabels['Labels_'+str(n)] =labels\n",
    "    file.write(str(n)+\",\")\n",
    "    file.write(str(s_score)+\"\\n\")\n",
    "    if s_score>max_silhouette:\n",
    "        max_silhouette = s_score\n",
    "        nClusters=n\n",
    "#t_mini_batch = time.time() - t0    \n",
    "#print(\"Num clusters \" + str(n))\n",
    "bestOut.write(\"Num clusters \" + str(n))\n",
    "#print(\"Silhouette score \" + str(max_silhouette))\n",
    "bestOut.write(\"Silhouette score \" + str(max_silhouette))\n",
    "#print(\"Running time \" + str(t_mini_batch))\n",
    "file.close()\n",
    "bestOut.close()\n",
    "file.close()\n",
    "bestOut.close()"
   ]
  },
  {
   "cell_type": "code",
   "execution_count": 30,
   "metadata": {},
   "outputs": [
    {
     "data": {
      "text/html": [
       "<div>\n",
       "<style>\n",
       "    .dataframe thead tr:only-child th {\n",
       "        text-align: right;\n",
       "    }\n",
       "\n",
       "    .dataframe thead th {\n",
       "        text-align: left;\n",
       "    }\n",
       "\n",
       "    .dataframe tbody tr th {\n",
       "        vertical-align: top;\n",
       "    }\n",
       "</style>\n",
       "<table border=\"1\" class=\"dataframe\">\n",
       "  <thead>\n",
       "    <tr style=\"text-align: right;\">\n",
       "      <th></th>\n",
       "      <th>Protein</th>\n",
       "      <th>NClusters2</th>\n",
       "      <th>Labels_2</th>\n",
       "      <th>NClusters3</th>\n",
       "      <th>Labels_3</th>\n",
       "      <th>NClusters4</th>\n",
       "      <th>Labels_4</th>\n",
       "    </tr>\n",
       "  </thead>\n",
       "  <tbody>\n",
       "    <tr>\n",
       "      <th>0</th>\n",
       "      <td>CTNNB1</td>\n",
       "      <td>2</td>\n",
       "      <td>0</td>\n",
       "      <td>3</td>\n",
       "      <td>1</td>\n",
       "      <td>4</td>\n",
       "      <td>1</td>\n",
       "    </tr>\n",
       "    <tr>\n",
       "      <th>1</th>\n",
       "      <td>CTNNB1</td>\n",
       "      <td>2</td>\n",
       "      <td>0</td>\n",
       "      <td>3</td>\n",
       "      <td>1</td>\n",
       "      <td>4</td>\n",
       "      <td>1</td>\n",
       "    </tr>\n",
       "    <tr>\n",
       "      <th>2</th>\n",
       "      <td>CTNNB1</td>\n",
       "      <td>2</td>\n",
       "      <td>0</td>\n",
       "      <td>3</td>\n",
       "      <td>1</td>\n",
       "      <td>4</td>\n",
       "      <td>0</td>\n",
       "    </tr>\n",
       "    <tr>\n",
       "      <th>3</th>\n",
       "      <td>CTNNB1</td>\n",
       "      <td>2</td>\n",
       "      <td>0</td>\n",
       "      <td>3</td>\n",
       "      <td>1</td>\n",
       "      <td>4</td>\n",
       "      <td>1</td>\n",
       "    </tr>\n",
       "    <tr>\n",
       "      <th>4</th>\n",
       "      <td>CTNNB1</td>\n",
       "      <td>2</td>\n",
       "      <td>0</td>\n",
       "      <td>3</td>\n",
       "      <td>0</td>\n",
       "      <td>4</td>\n",
       "      <td>3</td>\n",
       "    </tr>\n",
       "  </tbody>\n",
       "</table>\n",
       "</div>"
      ],
      "text/plain": [
       "  Protein  NClusters2  Labels_2  NClusters3  Labels_3  NClusters4  Labels_4\n",
       "0  CTNNB1           2         0           3         1           4         1\n",
       "1  CTNNB1           2         0           3         1           4         1\n",
       "2  CTNNB1           2         0           3         1           4         0\n",
       "3  CTNNB1           2         0           3         1           4         1\n",
       "4  CTNNB1           2         0           3         0           4         3"
      ]
     },
     "execution_count": 30,
     "metadata": {},
     "output_type": "execute_result"
    }
   ],
   "source": [
    "dfLabels.head()"
   ]
  },
  {
   "cell_type": "code",
   "execution_count": 13,
   "metadata": {},
   "outputs": [],
   "source": [
    "mbk=MiniBatchKMeans(init='k-means++', n_clusters=4\n",
    "                        , max_no_improvement=10, verbose=0)\n",
    "mbk.fit(dcTrain[dcTrain.columns[1:]])\n",
    "labels = mbk.labels_\n",
    "s_score = silhouette_score(dcTrain[dcTrain.columns[1:]], labels, metric='euclidean')"
   ]
  },
  {
   "cell_type": "code",
   "execution_count": 14,
   "metadata": {},
   "outputs": [],
   "source": [
    "from sklearn.decomposition import PCA"
   ]
  },
  {
   "cell_type": "code",
   "execution_count": 15,
   "metadata": {},
   "outputs": [],
   "source": [
    "pca = PCA(n_components=3, svd_solver='full')"
   ]
  },
  {
   "cell_type": "code",
   "execution_count": 17,
   "metadata": {},
   "outputs": [
    {
     "data": {
      "text/plain": [
       "PCA(copy=True, iterated_power='auto', n_components=3, random_state=None,\n",
       "  svd_solver='full', tol=0.0, whiten=False)"
      ]
     },
     "execution_count": 17,
     "metadata": {},
     "output_type": "execute_result"
    }
   ],
   "source": [
    "pca.fit(dcTrain[dcTrain.columns[1:]])"
   ]
  },
  {
   "cell_type": "code",
   "execution_count": 18,
   "metadata": {},
   "outputs": [],
   "source": [
    "pca_3d = pca.transform(dcTrain[dcTrain.columns[1:]]).T"
   ]
  },
  {
   "cell_type": "markdown",
   "metadata": {},
   "source": [
    "## 3. Plot de DC"
   ]
  },
  {
   "cell_type": "code",
   "execution_count": 19,
   "metadata": {},
   "outputs": [],
   "source": [
    "from matplotlib import pyplot\n",
    "from mpl_toolkits.mplot3d import Axes3D"
   ]
  },
  {
   "cell_type": "code",
   "execution_count": 20,
   "metadata": {},
   "outputs": [],
   "source": [
    "x=pca_3d[0]\n",
    "y=pca_3d[1]\n",
    "z=pca_3d[2]"
   ]
  },
  {
   "cell_type": "code",
   "execution_count": 21,
   "metadata": {},
   "outputs": [
    {
     "data": {
      "image/png": "[encoded data removed]",
      "text/plain": [
       "<matplotlib.figure.Figure at 0x7f6138929080>"
      ]
     },
     "metadata": {},
     "output_type": "display_data"
    }
   ],
   "source": [
    "fig = pyplot.figure()\n",
    "ax = Axes3D(fig)\n",
    "ax.scatter(x, y, z,c=labels)\n",
    "pyplot.show()"
   ]
  },
  {
   "cell_type": "code",
   "execution_count": null,
   "metadata": {},
   "outputs": [],
   "source": []
  }
 ],
 "metadata": {
  "kernelspec": {
   "display_name": "Python 3",
   "language": "python",
   "name": "python3"
  },
  "language_info": {
   "codemirror_mode": {
    "name": "ipython",
    "version": 3
   },
   "file_extension": ".py",
   "mimetype": "text/x-python",
   "name": "python",
   "nbconvert_exporter": "python",
   "pygments_lexer": "ipython3",
   "version": "3.6.3"
  }
 },
 "nbformat": 4,
 "nbformat_minor": 2
}
