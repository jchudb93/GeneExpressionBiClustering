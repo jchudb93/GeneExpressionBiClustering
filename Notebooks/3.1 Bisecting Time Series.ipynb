{
 "cells": [
  {
   "cell_type": "code",
   "execution_count": 51,
   "metadata": {},
   "outputs": [],
   "source": [
    "%matplotlib inline\n",
    "from matplotlib import pyplot as plt\n",
    "import seaborn as sns\n",
    "import pandas as pd\n",
    "import numpy as np\n",
    "import math\n",
    "from metrics import *"
   ]
  },
  {
   "cell_type": "code",
   "execution_count": 277,
   "metadata": {},
   "outputs": [],
   "source": [
    "data = pd.read_csv('TestData/SimulatedDataCoherence/BiclusterA_high.csv',header=None)\n",
    "data = ((data) * 2.0)-1"
   ]
  },
  {
   "cell_type": "code",
   "execution_count": 278,
   "metadata": {},
   "outputs": [
    {
     "name": "stderr",
     "output_type": "stream",
     "text": [
      "/home/a20125359/anaconda3/envs/Biclustering/lib/python3.6/site-packages/seaborn/timeseries.py:183: UserWarning: The tsplot function is deprecated and will be removed or replaced (in a substantially altered version) in a future release.\n",
      "  warnings.warn(msg, UserWarning)\n"
     ]
    },
    {
     "data": {
      "text/plain": [
       "<matplotlib.axes._subplots.AxesSubplot at 0x7f78f476ba20>"
      ]
     },
     "execution_count": 278,
     "metadata": {},
     "output_type": "execute_result"
    },
    {
     "data": {
      "image/png": "[encoded data removed]",
      "text/plain": [
       "<matplotlib.figure.Figure at 0x7f78f477cf60>"
      ]
     },
     "metadata": {},
     "output_type": "display_data"
    }
   ],
   "source": [
    "sns.tsplot(np.array(data))"
   ]
  },
  {
   "cell_type": "code",
   "execution_count": 311,
   "metadata": {},
   "outputs": [],
   "source": [
    "class Rapooc_test(object):\n",
    "    def __init__(self, D, k, l, K):\n",
    "        self._D = np.array(D)\n",
    "        assert k>0 and l >0, \"invalid values, k>0 and l>0\"\n",
    "        self._k = k\n",
    "        self._l = l\n",
    "        assert K <= k*l and k>=1, \"invalid values, 1<= K <= k*l\"\n",
    "        self._K = K\n",
    "        self._rho = np.ones(D.shape[0])\n",
    "        self._gamma = np.ones(D.shape[1])\n",
    "        self._M, self._N = self._D.shape\n",
    "        self._rows_h_score = None\n",
    "        self._cols_h_score = None\n",
    "        self._cluster_H_values = np.array([ [0.0] * (int(self._l) + 1)  \n",
    "                                    for _ in range(int(self._k + 1))])\n",
    "    \n",
    "    @property\n",
    "    def rho(self):\n",
    "        return self._rho\n",
    "    \n",
    "    @property\n",
    "    def gamma(self):\n",
    "        return self._gamma\n",
    "    \n",
    "    @property\n",
    "    def bicluster_h_values(self):\n",
    "        assert not self._cluster_H_values is None, \"H values have not yet been calculated\"\n",
    "        return self._cluster_H_values\n",
    "\n",
    "    def initialize(self):\n",
    "        i = 1\n",
    "        j = 1\n",
    "        while (i < self._k or j < self._l):\n",
    "            if i < self._k:\n",
    "                i += 1\n",
    "                alpha = self._argmin_H_(self._rho, self._gamma,'row')\n",
    "                self._bisect_partitions_(self._D[np.where(self._rho ==alpha)], self._rho, alpha, i,'row')\n",
    "            if j < self._l:\n",
    "                j += 1\n",
    "                least_coherent_column, lowest_cluster  = self._argmin_H_(self._rho,self._gamma, 'column',j)\n",
    "                print(self._gamma)\n",
    "                # self._bisect_partitions_(self._D.T, self._gamma, beta, j,'column')   \n",
    "                self._bisect_columns_(lowest_cluster, least_coherent_column, j)\n",
    "\n",
    "    def _argmin_H_(self, row_co_cluster, col_co_cluster,option='row',n_col_iterations = 1):\n",
    "        if (option=='row'):\n",
    "            data = self._D\n",
    "            h_min = math.inf\n",
    "            min_cocluster = 1\n",
    "            map_array = np.int64(row_co_cluster if option == 'row' else col_co_cluster)\n",
    "            max_index_in_map = np.max(map_array)\n",
    "            for i in range(1,max_index_in_map + 1):\n",
    "                if (list(map_array).count(i) < 2):\n",
    "                    pass\n",
    "                else:\n",
    "                    coherence = PairBasedCoherence(\n",
    "                        data[np.where((row_co_cluster if option == 'row' else col_co_cluster) == i)]).HP \n",
    "                    if (coherence <= h_min):\n",
    "                        h_min = coherence\n",
    "                        min_cocluster = i\n",
    "            return min_cocluster\n",
    "        else:\n",
    "            data = self._D.T\n",
    "            least_coherent_item = -1\n",
    "            lowest_coherence = 1 # max coherence\n",
    "            lowest_cluster= 0\n",
    "            i = 1\n",
    "            for i in range(1,n_col_iterations):\n",
    "                #Iter for each cluster\n",
    "                clusterer = BisectingClusterer(data[np.where(self._gamma == i)])\n",
    "                aux_least_coherent_item, aux_lowest_coherence = clusterer.least_coherent_item()\n",
    "                if(aux_lowest_coherence <= lowest_coherence):\n",
    "                    lowest_coherence, least_coherent_item = aux_lowest_coherence, aux_least_coherent_item\n",
    "                    lowest_cluster = i\n",
    "            return least_coherent_item, lowest_cluster\n",
    "    \n",
    "    def _bisect_partitions_ (self, data, mapping_array, cluster_to_replace, new_cluster_index,option='row'):\n",
    "        clusterer = BisectingClusterer(data)\n",
    "        bisected_map = clusterer.fit()\n",
    "        bisected_map_index = 0\n",
    "        for i in range(0,len(mapping_array)):\n",
    "            if ((self._rho if option == 'row' else self._gamma)[i] == cluster_to_replace):\n",
    "                if (bisected_map[bisected_map_index] == 1.0):\n",
    "                    (self._rho if option == 'row' else self._gamma)[i] = new_cluster_index\n",
    "                bisected_map_index += 1\n",
    "                \n",
    "    def _bisect_columns_(self, cluster_to_replace, least_coherent_column, next_cluster):\n",
    "        last_occurrence = (np.where(self._gamma == cluster_to_replace)[0][-1] + 1)\n",
    "        offset_occurrence = (np.where(self._gamma == cluster_to_replace)[0][0])\n",
    "        least_coherent_column += offset_occurrence\n",
    "        print(\"% debug % to replace \" + str(cluster_to_replace) + \" least coherent \" + str(least_coherent_column))\n",
    "        self._gamma[least_coherent_column:last_occurrence] = next_cluster\n",
    "       \n",
    "    def _compute_objective_function_(self):\n",
    "        \n",
    "        self._cluster_H_values = np.array([ [0.0] * (int(self._l) + 1)  \n",
    "                                    for _ in range(int(self._k + 1))])\n",
    "\n",
    "        for i in range(1,int(max(self._rho) + 1)):\n",
    "            for j in range (1, int(max(self._gamma) + 1)):\n",
    "                # print(\"% debug % cluster i \" + str(i) + \" cluster j \" + str(j))\n",
    "                coherence = PairBasedCoherence(self._D[np.ix_(np.where(self._rho == i)[0],\n",
    "                                                              np.where(self._gamma == j)[0])]).HP\n",
    "                \n",
    "                # print(self._D[np.ix_(np.where(self._rho == i)[0],\n",
    "                                                              # np.where(self._gamma == j)[0])])\n",
    "                try:\n",
    "                    self._cluster_H_values[i][j] = coherence\n",
    "                except IndexError:\n",
    "                    print(\" i \" + str(i) + \" j \" +str(j) +\" shape 0 \"+ str(self._cluster_H_values.shape[0]) \\\n",
    "                          + \" shape 1 \"\\\n",
    "                          + str(self._cluster_H_values.shape[1]))\n",
    "            \n",
    "        print(self._cluster_H_values)\n",
    "        \n",
    "        h_values_1d = self._cluster_H_values.flatten()\n",
    "        \n",
    "        idx_1d = h_values_1d.argsort()[-self._K:]\n",
    "        \n",
    "        x_idx, y_idx = np.unravel_index(idx_1d, self._cluster_H_values.shape)\n",
    "        \n",
    "        acc=0\n",
    "        for x, y, in zip(x_idx, y_idx):\n",
    "            print(\"% debug % x_idx \" + str(x) +\" y_idx \" +str(y) + \" H value \"+ str(self._cluster_H_values[x][y]))\n",
    "            acc += self._cluster_H_values[x][y]\n",
    "        \n",
    "        print(\"%debug % FO value \" + str(acc/self._K) + \" accumulator \"+str(acc))\n",
    "        return (acc/(self._K))\n",
    "    \n",
    "    def core_co_clustering(self):\n",
    "        \n",
    "        n_iterations = 0\n",
    "        n_repetitions = 0\n",
    "        of_last_value = 0\n",
    "        best_iter = 0\n",
    "        best_OF = 0\n",
    "        best_rows = self._rho\n",
    "        best_columns = self._gamma\n",
    "        while(n_iterations < (self._k * self._l) and n_repetitions < int((self._k * self._l) * 0.3)):\n",
    "            \n",
    "            if(n_iterations == 0): \n",
    "                objective_function = 0 \n",
    "            else: \n",
    "                objective_function=self._compute_objective_function_() \n",
    "            temp_rows = self._update_maps_(option = 'rows')\n",
    "            temp_columns = self._update_maps_(option = 'columns')\n",
    "            \n",
    "            if (objective_function > best_OF):\n",
    "                best_iter = n_iterations\n",
    "                best_OF = objective_function\n",
    "                best_rows = temp_rows\n",
    "                best_columns = temp_columns\n",
    "            # break conditions\n",
    "            if (math.fabs(1 - objective_function) < 0.3):\n",
    "                break\n",
    "            \"\"\" \n",
    "            if(math.fabs(objective_function - of_last_value) > 0.001):\n",
    "                of_last_value = objective_function\n",
    "                n_repetitions = 0\n",
    "            else:\n",
    "                n_repetitions += 1\n",
    "            \"\"\"     \n",
    "            n_iterations += 1\n",
    "        \n",
    "        self._rho = best_rows\n",
    "        self._gamma = best_columns\n",
    "        print(\"Finishing core-coclustering\")\n",
    "        print(\"Number of iterations \" + str(n_iterations))\n",
    "        print(\"Objective function \" + str(math.fabs(best_OF)) + \" at iter \" +str(best_iter))\n",
    "        print(\"Number of repetitions \" + str(n_repetitions))\n",
    "        '''\n",
    "        for i in range(1,int(max(self._rho) + 1)):\n",
    "            for j in range (1, int(max(self._gamma) + 1)):\n",
    "                print(\"% debug % cluster i \" + str(i) + \" cluster j \" + str(j))\n",
    "                print(self._D[np.ix_(np.where(self._rho == i)[0],\n",
    "                                                              np.where(self._gamma == j)[0])])\n",
    "        '''\n",
    "    \n",
    "        # ax = sns.tsplot(data= self._D[np.ix_(np.where(self._rho == 1)[0],np.where(self._gamma == 2)[0])] \n",
    "                                # , err_style=\"unit_traces\")\n",
    "    def _update_maps_(self,option = 'rows'):\n",
    "        \n",
    "        if(option == 'rows'):\n",
    "            mapping_array = self._rho\n",
    "            data = self._D\n",
    "        elif (option == 'columns'):\n",
    "            mapping_array = self._gamma\n",
    "            data = self._D.T\n",
    "            \n",
    "        for i in range(0,len(data)):\n",
    "            self._compute_arg_max_(data,mapping_array,i)\n",
    "            \n",
    "        return np.copy(mapping_array)\n",
    "    \n",
    "    def _compute_arg_max_(self,data,mapping_array,index):\n",
    "        \n",
    "        actual_coherence = 0\n",
    "        previous_cluster = mapping_array[index]\n",
    "        if (list(mapping_array).count(previous_cluster) <= 2):\n",
    "            return\n",
    "        prev_coherence = PairBasedCoherence(data[np.where(mapping_array == previous_cluster)]).HP\n",
    "        \n",
    "        mapping_array[index] = 0\n",
    "        \n",
    "        local_coherence = PairBasedCoherence(data[np.where(mapping_array == previous_cluster)]).HP\n",
    "        \n",
    "        if (prev_coherence >= local_coherence):\n",
    "            mapping_array[index] = previous_cluster\n",
    "            actual_coherence = prev_coherence\n",
    "        else:\n",
    "            actual_coherence = local_coherence\n",
    "            \n",
    "        best_cluster,best_coherence = self._iter_maps_(data, mapping_array, index, previous_cluster)\n",
    "        \n",
    "        if (best_coherence > local_coherence):\n",
    "            mapping_array[index] = best_cluster\n",
    "    \n",
    "    def _iter_maps_(self, data, mapping_array, index, previous_cluster):\n",
    "        \n",
    "        best_coherence = 0\n",
    "        best_cluster = 0\n",
    "        \n",
    "        for actual_cluster in range(1,int(max(mapping_array))+1):\n",
    "            if actual_cluster == previous_cluster:\n",
    "                pass\n",
    "            else:\n",
    "                mapping_array[index] = actual_cluster\n",
    "                coherence = PairBasedCoherence(data[np.where(mapping_array == actual_cluster)]).HP\n",
    "                if(coherence >= best_coherence):\n",
    "                    best_coherence = coherence\n",
    "                    best_cluster = actual_cluster\n",
    "                    # print(\"% debug %\" + str(coherence))\n",
    "                    \n",
    "        return best_cluster, best_coherence"
   ]
  },
  {
   "cell_type": "code",
   "execution_count": 312,
   "metadata": {},
   "outputs": [],
   "source": [
    "rapooc = Rapooc_test(data,2,5,3)"
   ]
  },
  {
   "cell_type": "code",
   "execution_count": null,
   "metadata": {},
   "outputs": [
    {
     "name": "stdout",
     "output_type": "stream",
     "text": [
      "[ 1.  1.  1.  1.  1.  1.  1.  1.  1.  1.  1.]\n",
      "% debug % to replace 1 least coherent 7\n",
      "[ 1.  1.  1.  1.  1.  1.  1.  2.  2.  2.  2.]\n",
      "% debug % to replace 2 least coherent 7\n",
      "[ 1.  1.  1.  1.  1.  1.  1.  3.  3.  3.  3.]\n",
      "% debug % to replace 3 least coherent 7\n",
      "[ 1.  1.  1.  1.  1.  1.  1.  4.  4.  4.  4.]\n",
      "% debug % to replace 4 least coherent 7\n"
     ]
    }
   ],
   "source": [
    "rapooc.initialize()"
   ]
  },
  {
   "cell_type": "code",
   "execution_count": null,
   "metadata": {},
   "outputs": [
    {
     "name": "stderr",
     "output_type": "stream",
     "text": [
      "/home/a20125359/anaconda3/envs/Biclustering/lib/python3.6/site-packages/numpy/core/fromnumeric.py:2909: RuntimeWarning: Mean of empty slice.\n",
      "  out=out, **kwargs)\n",
      "/home/a20125359/anaconda3/envs/Biclustering/lib/python3.6/site-packages/numpy/core/_methods.py:80: RuntimeWarning: invalid value encountered in double_scalars\n",
      "  ret = ret.dtype.type(ret / rcount)\n"
     ]
    },
    {
     "name": "stdout",
     "output_type": "stream",
     "text": [
      "[[ 0.          0.          0.          0.          0.          0.        ]\n",
      " [ 0.          0.64295733  0.          0.          0.51924951  0.80636121]\n",
      " [ 0.          0.70345732  0.          0.          0.54508503  0.81282267]]\n",
      "% debug % x_idx 2 y_idx 1 H value 0.703457318338\n",
      "% debug % x_idx 1 y_idx 5 H value 0.806361214936\n",
      "% debug % x_idx 2 y_idx 5 H value 0.812822668493\n",
      "%debug % FO value 0.774213733922 accumulator 2.32264120177\n"
     ]
    }
   ],
   "source": [
    "rapooc.core_co_clustering()"
   ]
  },
  {
   "cell_type": "code",
   "execution_count": 303,
   "metadata": {},
   "outputs": [
    {
     "name": "stderr",
     "output_type": "stream",
     "text": [
      "/home/a20125359/anaconda3/envs/Biclustering/lib/python3.6/site-packages/seaborn/timeseries.py:183: UserWarning: The tsplot function is deprecated and will be removed or replaced (in a substantially altered version) in a future release.\n",
      "  warnings.warn(msg, UserWarning)\n"
     ]
    },
    {
     "ename": "RuntimeError",
     "evalue": "Invalid input data for tsplot.",
     "output_type": "error",
     "traceback": [
      "\u001b[0;31m---------------------------------------------------------------------------\u001b[0m",
      "\u001b[0;31mRuntimeError\u001b[0m                              Traceback (most recent call last)",
      "\u001b[0;32m<ipython-input-303-3d35cece04f3>\u001b[0m in \u001b[0;36m<module>\u001b[0;34m()\u001b[0m\n\u001b[0;32m----> 1\u001b[0;31m \u001b[0msns\u001b[0m\u001b[0;34m.\u001b[0m\u001b[0mtsplot\u001b[0m\u001b[0;34m(\u001b[0m\u001b[0mdata\u001b[0m\u001b[0;34m=\u001b[0m \u001b[0mrapooc\u001b[0m\u001b[0;34m.\u001b[0m\u001b[0m_D\u001b[0m\u001b[0;34m[\u001b[0m\u001b[0mnp\u001b[0m\u001b[0;34m.\u001b[0m\u001b[0mix_\u001b[0m\u001b[0;34m(\u001b[0m\u001b[0mnp\u001b[0m\u001b[0;34m.\u001b[0m\u001b[0mwhere\u001b[0m\u001b[0;34m(\u001b[0m\u001b[0mrapooc\u001b[0m\u001b[0;34m.\u001b[0m\u001b[0m_rho\u001b[0m \u001b[0;34m==\u001b[0m \u001b[0;36m1\u001b[0m\u001b[0;34m)\u001b[0m\u001b[0;34m[\u001b[0m\u001b[0;36m0\u001b[0m\u001b[0;34m]\u001b[0m\u001b[0;34m,\u001b[0m\u001b[0mnp\u001b[0m\u001b[0;34m.\u001b[0m\u001b[0mwhere\u001b[0m\u001b[0;34m(\u001b[0m\u001b[0mrapooc\u001b[0m\u001b[0;34m.\u001b[0m\u001b[0m_gamma\u001b[0m \u001b[0;34m==\u001b[0m \u001b[0;36m3\u001b[0m\u001b[0;34m)\u001b[0m\u001b[0;34m[\u001b[0m\u001b[0;36m0\u001b[0m\u001b[0;34m]\u001b[0m\u001b[0;34m)\u001b[0m\u001b[0;34m]\u001b[0m\u001b[0;34m,\u001b[0m\u001b[0merr_style\u001b[0m\u001b[0;34m=\u001b[0m\u001b[0;34m\"unit_traces\"\u001b[0m\u001b[0;34m)\u001b[0m\u001b[0;34m\u001b[0m\u001b[0m\n\u001b[0m",
      "\u001b[0;32m~/anaconda3/envs/Biclustering/lib/python3.6/site-packages/seaborn/timeseries.py\u001b[0m in \u001b[0;36mtsplot\u001b[0;34m(data, time, unit, condition, value, err_style, ci, interpolate, color, estimator, n_boot, err_palette, err_kws, legend, ax, **kwargs)\u001b[0m\n\u001b[1;32m    352\u001b[0m \u001b[0;34m\u001b[0m\u001b[0m\n\u001b[1;32m    353\u001b[0m     \u001b[0;32mif\u001b[0m \u001b[0mc\u001b[0m \u001b[0;32mis\u001b[0m \u001b[0;32mNone\u001b[0m\u001b[0;34m:\u001b[0m\u001b[0;34m\u001b[0m\u001b[0m\n\u001b[0;32m--> 354\u001b[0;31m         \u001b[0;32mraise\u001b[0m \u001b[0mRuntimeError\u001b[0m\u001b[0;34m(\u001b[0m\u001b[0;34m\"Invalid input data for tsplot.\"\u001b[0m\u001b[0;34m)\u001b[0m\u001b[0;34m\u001b[0m\u001b[0m\n\u001b[0m\u001b[1;32m    355\u001b[0m \u001b[0;34m\u001b[0m\u001b[0m\n\u001b[1;32m    356\u001b[0m     \u001b[0;31m# Pad the sides of the plot only when not interpolating\u001b[0m\u001b[0;34m\u001b[0m\u001b[0;34m\u001b[0m\u001b[0m\n",
      "\u001b[0;31mRuntimeError\u001b[0m: Invalid input data for tsplot."
     ]
    },
    {
     "data": {
      "image/png": "[encoded data removed]",
      "text/plain": [
       "<matplotlib.figure.Figure at 0x7f78f47ef5c0>"
      ]
     },
     "metadata": {},
     "output_type": "display_data"
    }
   ],
   "source": [
    "sns.tsplot(data= rapooc._D[np.ix_(np.where(rapooc._rho == 2)[0],np.where(rapooc._gamma == 3)[0])],err_style=\"unit_traces\")"
   ]
  },
  {
   "cell_type": "code",
   "execution_count": 236,
   "metadata": {},
   "outputs": [],
   "source": [
    "class BisectingClusterer(object):\n",
    "    def __init__(self, data):\n",
    "        \n",
    "        if data is not None:\n",
    "            self._data = np.array(data)\n",
    "            self._I, self._J = self._data.shape\n",
    "        else:\n",
    "            print(\"Empty data\")\n",
    "    \n",
    "    @property\n",
    "    def centroids(self):\n",
    "        if self._centroids is not None:\n",
    "            return self._centroids\n",
    "        else:\n",
    "            print (\"centroids not computed yet\")\n",
    "            return [0,0]\n",
    "    \n",
    "    def least_coherent_item(self):        \n",
    "        #this correlation refers the maximum least correlated pair of columns\n",
    "        max_correlation = 1\n",
    "        least_coherent = 0\n",
    "        i = 0\n",
    "        for i in range(self._I - 1):\n",
    "            correlation = PositiveNegativeCorrelation(self._data[i],\n",
    "                                                      self._data[i+1],\n",
    "                                                      self._J).H_pos\n",
    "            if(correlation < max_correlation):\n",
    "                max_correlation = correlation\n",
    "                least_coherent = i\n",
    "        # returns index of least coherent intem and its correlation\n",
    "        return least_coherent, max_correlation\n",
    "\n",
    "    def fit(self):\n",
    "        self._centroids = self._compute_centroids_()\n",
    "        bisecting_indices = self._bisect_clusters_(self._centroids)\n",
    "        return bisecting_indices\n",
    "    \n",
    "    def _compute_centroids_(self):\n",
    "        max_correlation = 0\n",
    "        centroids = [0,0]\n",
    "        for i in range(self._I):\n",
    "            for j in range(i+1, self._I):\n",
    "                if (i == j):\n",
    "                    break\n",
    "                correlation = PositiveNegativeCorrelation(self._data[i],\n",
    "                                                          self._data[j],\n",
    "                                                          self._J).H_neg\n",
    "                if(correlation > max_correlation):\n",
    "                    max_correlation = correlation\n",
    "                    centroids[0] = i\n",
    "                    centroids[1] = j\n",
    "        return centroids\n",
    "\n",
    "    def _bisect_clusters_(self, centroids):\n",
    "        cluster_indices = np.zeros(self._I)\n",
    "        for i in range(self._I):\n",
    "            correlation0 = PositiveNegativeCorrelation(\n",
    "                self._data[centroids[0]], self._data[i],self._J).H_pos\n",
    "            correlation1 = PositiveNegativeCorrelation(\n",
    "                self._data[centroids[1]], self._data[i],self._J).H_pos\n",
    "            if(correlation0 <= correlation1):\n",
    "                cluster_indices[i] = 1\n",
    "        return cluster_indices"
   ]
  },
  {
   "cell_type": "code",
   "execution_count": 306,
   "metadata": {},
   "outputs": [],
   "source": [
    "class PositiveNegativeCorrelation(object):\n",
    "    def __init__(self, x, y, J):\n",
    "        self._x = x\n",
    "        self._y = y\n",
    "        self._J = J\n",
    "        self._x_mean = np.mean(x)\n",
    "        self._y_mean = np.mean(y)\n",
    "        self._H_pos = None\n",
    "        self._H_neg = None\n",
    "\n",
    "    @property\n",
    "    def H_pos(self):\n",
    "        if self._H_pos is None:\n",
    "            # print(\"Computing H positive...\")\n",
    "            self._H_pos = self._compute_H_pos()\n",
    "            # print(\"H positive value: \" + str(self._H_pos))\n",
    "        return self._H_pos\n",
    "\n",
    "    @property\n",
    "    def H_neg(self):\n",
    "        if self._H_neg is None:\n",
    "            # print(\"Computing H negative...\")\n",
    "            self._H_neg = self._compute_H_neg()\n",
    "            # print(\"H negative value: \" + str(self._H_neg))\n",
    "        return self._H_neg\n",
    "\n",
    "    def _compute_H_pos(self):\n",
    "        H_pos = 0\n",
    "        for j in range(self._J):\n",
    "            aux = (((self._x[j] - self._x_mean) -\n",
    "                    (self._y[j] - self._y_mean))/2.0)**2\n",
    "            H_pos += aux\n",
    "        if (self._J>0):\n",
    "            H_pos *= 1.0/(math.fabs(self._J))\n",
    "            H_pos = 1 - H_pos\n",
    "        else:\n",
    "            H_pos = 0\n",
    "        return H_pos\n",
    "\n",
    "    def _compute_H_neg(self):\n",
    "        H_neg = 0\n",
    "        for j in range(self._J):\n",
    "            aux = (((self._x[j] - self._x_mean) +\n",
    "                    (self._y[j] - self._y_mean))/2.0)**2\n",
    "            H_neg += aux\n",
    "        H_neg *= 1.0/math.fabs(self._J)\n",
    "        H_neg = 1 - H_neg\n",
    "        return H_neg\n",
    "    \n",
    "class PairBasedCoherence(object):\n",
    "    def __init__(self, X):\n",
    "        self._X = np.array(X)\n",
    "        self._I, self._J = X.shape\n",
    "        self._HP = None\n",
    "\n",
    "    @property\n",
    "    def HP(self):\n",
    "        if self._HP is None:\n",
    "            # print(\"Calculating Pair based coherence..\")\n",
    "            self._HP = self._compute_HP_()\n",
    "            # print(\"Paired based coherence value: \" + str(self._HP))\n",
    "        return self._HP\n",
    "\n",
    "    def _compute_HP_(self):\n",
    "        HP = 0\n",
    "        for i in range(self._I):\n",
    "            for j in range(i+1, self._I):\n",
    "                if (i==j): \n",
    "                    break\n",
    "                x = self._X[i]\n",
    "                y = self._X[j]\n",
    "                correlation = PositiveNegativeCorrelation(x, y,self._J)\n",
    "                H0 = correlation.H_pos\n",
    "                # H0 = max(correlation.H_pos,correlation.H_neg)\n",
    "                HP += H0\n",
    "        HP *= math.fabs(2.0)/(math.fabs(self._I)*(math.fabs(self._I)-1))  if self._I > 1 else 0\n",
    "        \n",
    "        return HP"
   ]
  },
  {
   "cell_type": "code",
   "execution_count": 114,
   "metadata": {},
   "outputs": [
    {
     "data": {
      "text/plain": [
       "(array([2, 3, 4, 5]),)"
      ]
     },
     "execution_count": 114,
     "metadata": {},
     "output_type": "execute_result"
    }
   ],
   "source": [
    "y = np.array([1,2,3,3,3,3,4,5,])\n",
    "np.where(y==3)"
   ]
  },
  {
   "cell_type": "code",
   "execution_count": 109,
   "metadata": {},
   "outputs": [
    {
     "data": {
      "text/plain": [
       "array([3, 3, 3, 3])"
      ]
     },
     "execution_count": 109,
     "metadata": {},
     "output_type": "execute_result"
    }
   ],
   "source": [
    "x = y[np.where(y==3)]\n",
    "x"
   ]
  },
  {
   "cell_type": "code",
   "execution_count": 110,
   "metadata": {},
   "outputs": [
    {
     "name": "stdout",
     "output_type": "stream",
     "text": [
      "5\n"
     ]
    }
   ],
   "source": [
    "for i in np.where(y==3)[0].tolist()[3:]:\n",
    "    print(i)"
   ]
  },
  {
   "cell_type": "code",
   "execution_count": 111,
   "metadata": {},
   "outputs": [
    {
     "data": {
      "text/plain": [
       "<numpy.nditer at 0x7f78f472da30>"
      ]
     },
     "execution_count": 111,
     "metadata": {},
     "output_type": "execute_result"
    }
   ],
   "source": [
    "np.nditer(np.where(y==3))"
   ]
  },
  {
   "cell_type": "code",
   "execution_count": 112,
   "metadata": {},
   "outputs": [],
   "source": [
    "y[3:] = -1"
   ]
  },
  {
   "cell_type": "code",
   "execution_count": 115,
   "metadata": {},
   "outputs": [
    {
     "data": {
      "text/plain": [
       "array([1, 2, 3, 3, 3, 3, 4, 5])"
      ]
     },
     "execution_count": 115,
     "metadata": {},
     "output_type": "execute_result"
    }
   ],
   "source": [
    "y"
   ]
  },
  {
   "cell_type": "code",
   "execution_count": 119,
   "metadata": {},
   "outputs": [
    {
     "data": {
      "text/plain": [
       "5"
      ]
     },
     "execution_count": 119,
     "metadata": {},
     "output_type": "execute_result"
    }
   ],
   "source": [
    " np.where(y==3)[0][-1]"
   ]
  },
  {
   "cell_type": "code",
   "execution_count": 220,
   "metadata": {},
   "outputs": [
    {
     "data": {
      "text/plain": [
       "array([1, 2, 3, 3, 3, 3, 4, 5])"
      ]
     },
     "execution_count": 220,
     "metadata": {},
     "output_type": "execute_result"
    }
   ],
   "source": [
    "y"
   ]
  },
  {
   "cell_type": "code",
   "execution_count": 222,
   "metadata": {},
   "outputs": [
    {
     "data": {
      "text/plain": [
       "array([3, 3, 3, 3, 4])"
      ]
     },
     "execution_count": 222,
     "metadata": {},
     "output_type": "execute_result"
    }
   ],
   "source": [
    "y[2:7]"
   ]
  },
  {
   "cell_type": "code",
   "execution_count": null,
   "metadata": {},
   "outputs": [],
   "source": []
  }
 ],
 "metadata": {
  "kernelspec": {
   "display_name": "Python 3",
   "language": "python",
   "name": "python3"
  },
  "language_info": {
   "codemirror_mode": {
    "name": "ipython",
    "version": 3
   },
   "file_extension": ".py",
   "mimetype": "text/x-python",
   "name": "python",
   "nbconvert_exporter": "python",
   "pygments_lexer": "ipython3",
   "version": "3.6.3"
  }
 },
 "nbformat": 4,
 "nbformat_minor": 2
}
