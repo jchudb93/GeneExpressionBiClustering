{
 "cells": [
  {
   "cell_type": "code",
   "execution_count": 51,
   "metadata": {},
   "outputs": [],
   "source": [
    "%matplotlib inline\n",
    "from matplotlib import pyplot as plt\n",
    "import seaborn as sns\n",
    "import pandas as pd\n",
    "import numpy as np\n",
    "import math\n",
    "from metrics import *"
   ]
  },
  {
   "cell_type": "code",
   "execution_count": 10,
   "metadata": {},
   "outputs": [],
   "source": [
    "data = pd.read_csv('TestData/SimulatedDataCoherence/HighCoherence.csv',header=None)\n",
    "data = ((data) * 2.0)-1"
   ]
  },
  {
   "cell_type": "code",
   "execution_count": 11,
   "metadata": {},
   "outputs": [
    {
     "name": "stderr",
     "output_type": "stream",
     "text": [
      "/home/a20125359/anaconda3/envs/Biclustering/lib/python3.6/site-packages/seaborn/timeseries.py:183: UserWarning: The tsplot function is deprecated and will be removed or replaced (in a substantially altered version) in a future release.\n",
      "  warnings.warn(msg, UserWarning)\n"
     ]
    },
    {
     "data": {
      "text/plain": [
       "<matplotlib.axes._subplots.AxesSubplot at 0x7f78f4822588>"
      ]
     },
     "execution_count": 11,
     "metadata": {},
     "output_type": "execute_result"
    },
    {
     "data": {
      "image/png": "[encoded data removed]",
      "text/plain": [
       "<matplotlib.figure.Figure at 0x7f78f482d908>"
      ]
     },
     "metadata": {},
     "output_type": "display_data"
    }
   ],
   "source": [
    "sns.tsplot(np.array(data))"
   ]
  },
  {
   "cell_type": "code",
   "execution_count": 233,
   "metadata": {},
   "outputs": [],
   "source": [
    "class Rapooc_test(object):\n",
    "    def __init__(self, D, k, l, K):\n",
    "        self._D = np.array(D)\n",
    "        assert k>0 and l >0, \"invalid values, k>0 and l>0\"\n",
    "        self._k = k\n",
    "        self._l = l\n",
    "        assert K <= k*l and k>=1, \"invalid values, 1<= K <= k*l\"\n",
    "        self._K = K\n",
    "        self._rho = np.ones(D.shape[0])\n",
    "        self._gamma = np.ones(D.shape[1])\n",
    "        self._M, self._N = self._D.shape\n",
    "        self._rows_h_score = None\n",
    "        self._cols_h_score = None\n",
    "        self._cluster_H_values = np.array([ [0.0] * (int(self._l) + 1)  \n",
    "                                    for _ in range(int(self._k + 1))])\n",
    "    \n",
    "    @property\n",
    "    def rho(self):\n",
    "        return self._rho\n",
    "    \n",
    "    @property\n",
    "    def gamma(self):\n",
    "        return self._gamma\n",
    "    \n",
    "    @property\n",
    "    def bicluster_h_values(self):\n",
    "        assert not self._cluster_H_values is None, \"H values have not yet been calculated\"\n",
    "        return self._cluster_H_values\n",
    "\n",
    "    def initialize(self):\n",
    "        i = 1\n",
    "        j = 1\n",
    "        while (i < self._k or j < self._l):\n",
    "            if i < self._k:\n",
    "                i += 1\n",
    "                alpha = self._argmin_H_(self._rho, self._gamma,'row')\n",
    "                self._bisect_partitions_(self._D[np.where(self._rho ==alpha)], self._rho, alpha, i,'row')\n",
    "            if j < self._l:\n",
    "                j += 1\n",
    "                print(self._gamma)\n",
    "                least_coherent_column, lowest_cluster  = self._argmin_H_(self._rho,self._gamma, 'column',j)\n",
    "                # self._bisect_partitions_(self._D.T, self._gamma, beta, j,'column')   \n",
    "                self._bisect_columns_(lowest_cluster, least_coherent_column, j)\n",
    "\n",
    "    def _argmin_H_(self, row_co_cluster, col_co_cluster,option='row',n_col_iterations = 1):\n",
    "        if (option=='row'):\n",
    "            data = self._D\n",
    "            h_min = math.inf\n",
    "            min_cocluster = 1\n",
    "            map_array = np.int64(row_co_cluster if option == 'row' else col_co_cluster)\n",
    "            max_index_in_map = np.max(map_array)\n",
    "            for i in range(1,max_index_in_map + 1):\n",
    "                if (list(map_array).count(i) < 2):\n",
    "                    pass\n",
    "                else:\n",
    "                    coherence = PairBasedCoherence(\n",
    "                        data[np.where((row_co_cluster if option == 'row' else col_co_cluster) == i)]).HP \n",
    "                    if (coherence <= h_min):\n",
    "                        h_min = coherence\n",
    "                        min_cocluster = i\n",
    "            return min_cocluster\n",
    "        else:\n",
    "            data = self._D.T\n",
    "            least_coherent_item = -1\n",
    "            lowest_coherence = 1 # max coherence\n",
    "            lowest_cluster= 0\n",
    "            i = 1\n",
    "            for i in range(1,n_col_iterations):\n",
    "                #Iter for each cluster\n",
    "                clusterer = BisectingClusterer(data[np.where(self._gamma == i)])\n",
    "                aux_least_coherent_item, aux_lowest_coherence = clusterer.least_coherent_item()\n",
    "                print(\"% debug % aux \" + str(aux_least_coherent_item))\n",
    "                if(aux_lowest_coherence <= lowest_coherence):\n",
    "                    lowest_coherence, least_coherent_item = aux_lowest_coherence, aux_least_coherent_item\n",
    "                    lowest_cluster = i\n",
    "            print(\"% debug % item \" + str(least_coherent_item) + \" cluster \"+ str(lowest_cluster))\n",
    "            return least_coherent_item, lowest_cluster\n",
    "    \n",
    "    def _bisect_partitions_ (self, data, mapping_array, cluster_to_replace, new_cluster_index,option='row'):\n",
    "        clusterer = BisectingClusterer(data)\n",
    "        bisected_map = clusterer.fit()\n",
    "        bisected_map_index = 0\n",
    "        for i in range(0,len(mapping_array)):\n",
    "            if ((self._rho if option == 'row' else self._gamma)[i] == cluster_to_replace):\n",
    "                if (bisected_map[bisected_map_index] == 1.0):\n",
    "                    (self._rho if option == 'row' else self._gamma)[i] = new_cluster_index\n",
    "                bisected_map_index += 1\n",
    "                \n",
    "    def _bisect_columns_(self, cluster_to_replace, least_coherent_column, next_cluster):\n",
    "        last_occurrence = (np.where(self._gamma == cluster_to_replace)[0][-1] + 1)\n",
    "        print(last_occurrence)\n",
    "        self._gamma[least_coherent_column:last_occurrence] = next_cluster"
   ]
  },
  {
   "cell_type": "code",
   "execution_count": 234,
   "metadata": {},
   "outputs": [],
   "source": [
    "rapooc = Rapooc_test(data,2,3,3)"
   ]
  },
  {
   "cell_type": "code",
   "execution_count": 235,
   "metadata": {},
   "outputs": [
    {
     "name": "stdout",
     "output_type": "stream",
     "text": [
      "[ 1.  1.  1.  1.  1.  1.  1.]\n",
      "[[ -9.68958000e-01  -9.84715400e-01  -9.81372200e-01  -9.93514600e-01\n",
      "   -9.78198000e-01  -9.98052920e-01  -9.73312000e-01  -9.63082000e-01\n",
      "   -9.74058000e-01  -9.95520400e-01  -9.93977200e-01  -9.88521800e-01\n",
      "   -9.63684000e-01  -9.68342000e-01  -9.77476000e-01  -9.77932000e-01\n",
      "   -9.78350000e-01  -9.63172000e-01  -9.74208000e-01  -9.87364200e-01\n",
      "   -9.98620300e-01  -9.61906000e-01  -9.81838400e-01  -9.76854000e-01\n",
      "   -9.71770000e-01  -9.99581640e-01  -9.67470000e-01  -9.75428000e-01\n",
      "   -9.60934000e-01  -9.97860400e-01  -9.87398600e-01  -9.61396000e-01\n",
      "   -9.69480000e-01  -9.71764000e-01  -9.71166000e-01  -9.95829400e-01\n",
      "   -9.65702000e-01  -9.66004000e-01  -9.97635000e-01  -9.69626000e-01\n",
      "   -9.96083800e-01  -9.69788000e-01  -9.69406000e-01  -9.98736720e-01\n",
      "   -9.84215200e-01  -9.92356400e-01  -9.76634000e-01  -9.74300000e-01\n",
      "   -9.80402400e-01  -9.90020600e-01  -9.90992000e-01  -9.90270000e-01\n",
      "   -9.83312800e-01  -9.88318600e-01  -9.96946400e-01  -9.92245800e-01\n",
      "   -9.93117000e-01  -9.96832400e-01  -9.74914000e-01  -9.91125200e-01\n",
      "   -9.62816000e-01  -9.94221600e-01  -9.84323600e-01  -9.83973800e-01\n",
      "   -9.76714000e-01  -9.83436800e-01  -9.64602000e-01  -9.99689840e-01\n",
      "   -9.73530000e-01  -9.63218000e-01  -9.75102000e-01  -9.77524000e-01\n",
      "   -9.80047000e-01  -9.85000400e-01  -9.65966000e-01  -9.75942000e-01\n",
      "   -9.72538000e-01  -9.62576000e-01  -9.91083000e-01  -9.71496000e-01\n",
      "   -9.92232600e-01  -9.82721000e-01  -9.86742400e-01  -9.73796000e-01\n",
      "   -9.61502000e-01  -9.73768000e-01  -9.94538000e-01  -9.81964400e-01\n",
      "   -9.99149100e-01  -9.85727800e-01  -9.86974800e-01  -9.63670000e-01\n",
      "   -9.87558000e-01  -9.75146000e-01  -9.71404000e-01  -9.91798600e-01\n",
      "   -9.84971200e-01  -9.95440000e-01  -9.94978800e-01  -9.73214000e-01]\n",
      " [ -9.72138000e-01  -9.84169800e-01  -9.99787900e-01  -9.86418400e-01\n",
      "   -9.77526000e-01  -9.79152000e-01  -9.91088600e-01  -9.61588000e-01\n",
      "   -9.90631000e-01  -9.81738800e-01  -9.75186000e-01  -9.61022000e-01\n",
      "   -9.67136000e-01  -9.80441200e-01  -9.92282400e-01  -9.98485400e-01\n",
      "   -9.77436000e-01  -9.90885600e-01  -9.83092000e-01  -9.96933200e-01\n",
      "   -9.65378000e-01  -9.81613200e-01  -9.78828000e-01  -9.95493000e-01\n",
      "   -9.68160000e-01  -9.81497400e-01  -9.75462000e-01  -9.77550000e-01\n",
      "   -9.78920000e-01  -9.76048000e-01  -9.93833200e-01  -9.69030000e-01\n",
      "   -9.94317400e-01  -9.75746000e-01  -9.87360200e-01  -9.72768000e-01\n",
      "   -9.76046000e-01  -9.85972400e-01  -9.93912600e-01  -9.89932600e-01\n",
      "   -9.81656400e-01  -9.90927400e-01  -9.97852600e-01  -9.79488000e-01\n",
      "   -9.63958000e-01  -9.82166000e-01  -9.81629200e-01  -9.84751400e-01\n",
      "   -9.61422000e-01  -9.97695200e-01  -9.69166000e-01  -9.85052200e-01\n",
      "   -9.76224000e-01  -9.78474000e-01  -9.79012000e-01  -9.87866600e-01\n",
      "   -9.65104000e-01  -9.92460000e-01  -9.92080400e-01  -9.71242000e-01\n",
      "   -9.93883000e-01  -9.69482000e-01  -9.98791260e-01  -9.83481400e-01\n",
      "   -9.93992000e-01  -9.80125000e-01  -9.93165400e-01  -9.84286800e-01\n",
      "   -9.63314000e-01  -9.88610600e-01  -9.94394400e-01  -9.64212000e-01\n",
      "   -9.63772000e-01  -9.93109400e-01  -9.98553020e-01  -9.84969400e-01\n",
      "   -9.70186000e-01  -9.80069600e-01  -9.80480800e-01  -9.74164000e-01\n",
      "   -9.93898200e-01  -9.72278000e-01  -9.77828000e-01  -9.67306000e-01\n",
      "   -9.68896000e-01  -9.99054880e-01  -9.82488000e-01  -9.88417000e-01\n",
      "   -9.98378180e-01  -9.68384000e-01  -9.73422000e-01  -9.81525800e-01\n",
      "   -9.91333000e-01  -9.88287600e-01  -9.78976000e-01  -9.90072400e-01\n",
      "   -9.90116200e-01  -9.70536000e-01  -9.89877800e-01  -9.99580240e-01]\n",
      " [ -1.30000000e-03  -1.05000000e-02   1.43400000e-02   5.94000000e-03\n",
      "   -1.38800000e-02   1.17000000e-02   3.06000000e-03  -1.45000000e-02\n",
      "    3.52000000e-03  -8.14000000e-03   1.71800000e-02  -4.72000000e-03\n",
      "   -1.80600000e-02   1.64000000e-02  -1.27600000e-02  -2.80000000e-03\n",
      "   -5.50000000e-03   7.00000000e-04  -1.81600000e-02  -1.06200000e-02\n",
      "    7.68000000e-03   7.62000000e-03   6.60000000e-04  -1.83800000e-02\n",
      "    8.56000000e-03  -1.54600000e-02  -1.06000000e-02   1.66000000e-03\n",
      "    5.00000000e-03  -2.28000000e-03   1.98000000e-03   1.64000000e-02\n",
      "   -1.63800000e-02  -1.22800000e-02   1.11800000e-02   5.66000000e-03\n",
      "   -1.37200000e-02   5.28000000e-03  -1.56200000e-02   1.11200000e-02\n",
      "    1.17600000e-02  -8.36000000e-03   3.24000000e-03   1.70600000e-02\n",
      "   -5.90000000e-03   3.02000000e-03   9.92000000e-03   1.26600000e-02\n",
      "    1.62200000e-02   1.53800000e-02   1.18600000e-02   1.85600000e-02\n",
      "    1.84800000e-02  -7.92000000e-03   1.53400000e-02  -1.38000000e-02\n",
      "    1.15400000e-02  -1.68400000e-02  -1.92800000e-02  -7.28000000e-03\n",
      "   -1.00600000e-02  -1.08000000e-03  -8.70000000e-03  -1.67800000e-02\n",
      "    1.33000000e-02   1.57600000e-02  -1.58800000e-02   1.11000000e-02\n",
      "    1.22600000e-02   1.78000000e-02  -1.26400000e-02   1.64000000e-02\n",
      "    1.57000000e-02   8.46000000e-03  -1.58000000e-03  -1.92600000e-02\n",
      "   -1.74200000e-02  -1.09200000e-02  -6.20000000e-04  -1.74000000e-02\n",
      "    8.04000000e-03   1.22200000e-02  -8.80000000e-04  -3.68000000e-03\n",
      "    4.10000000e-03   4.64000000e-03  -1.37400000e-02   1.08400000e-02\n",
      "    1.17800000e-02  -1.78000000e-02   1.02200000e-02  -4.18000000e-03\n",
      "   -2.88000000e-03  -4.96000000e-03  -6.80000000e-03  -1.64000000e-03\n",
      "   -1.89600000e-02  -3.76000000e-03   8.80000000e-04   1.31000000e-02]\n",
      " [  9.71200000e-01   9.61780000e-01   9.72400000e-01   9.63400000e-01\n",
      "    9.64260000e-01   9.65000000e-01   9.85760000e-01   9.88060000e-01\n",
      "    9.73460000e-01   9.97660000e-01   9.61900000e-01   9.68360000e-01\n",
      "    9.92880000e-01   9.94900000e-01   9.93340000e-01   9.93960000e-01\n",
      "    1.00000000e+00   9.73660000e-01   9.70480000e-01   9.80740000e-01\n",
      "    9.89140000e-01   9.78120000e-01   9.67040000e-01   9.82340000e-01\n",
      "    9.97460000e-01   9.65720000e-01   9.70380000e-01   9.97240000e-01\n",
      "    9.62520000e-01   9.88860000e-01   9.68180000e-01   9.84380000e-01\n",
      "    9.95360000e-01   9.94120000e-01   9.76220000e-01   9.85820000e-01\n",
      "    9.73080000e-01   9.80340000e-01   9.81760000e-01   9.67720000e-01\n",
      "    9.80580000e-01   9.94500000e-01   9.87500000e-01   9.76980000e-01\n",
      "    9.66760000e-01   9.77140000e-01   9.69740000e-01   9.73900000e-01\n",
      "    9.94140000e-01   9.82740000e-01   9.67720000e-01   9.66680000e-01\n",
      "    9.91080000e-01   9.86380000e-01   9.88900000e-01   9.99640000e-01\n",
      "    9.77680000e-01   9.70680000e-01   9.67760000e-01   9.66840000e-01\n",
      "    9.66480000e-01   9.85160000e-01   9.99320000e-01   9.68420000e-01\n",
      "    9.63700000e-01   9.88880000e-01   9.65960000e-01   9.71840000e-01\n",
      "    9.62040000e-01   9.64760000e-01   9.76540000e-01   9.96180000e-01\n",
      "    9.98080000e-01   9.68760000e-01   9.81180000e-01   9.66720000e-01\n",
      "    9.74780000e-01   9.84340000e-01   9.69800000e-01   9.75720000e-01\n",
      "    9.93220000e-01   9.62920000e-01   9.99700000e-01   9.93760000e-01\n",
      "    9.73300000e-01   9.84040000e-01   9.80720000e-01   9.77260000e-01\n",
      "    9.61560000e-01   9.74200000e-01   9.75620000e-01   9.89240000e-01\n",
      "    9.98400000e-01   9.71260000e-01   9.84320000e-01   9.91360000e-01\n",
      "    9.99340000e-01   9.90540000e-01   9.61660000e-01   9.72300000e-01]\n",
      " [ -1.46400000e-02  -1.40800000e-02  -4.34000000e-03   9.00000000e-03\n",
      "    3.24000000e-03   1.65800000e-02   6.92000000e-03  -2.18000000e-03\n",
      "    1.94800000e-02  -1.01400000e-02  -1.04000000e-02  -2.86000000e-03\n",
      "   -1.16000000e-02  -1.38600000e-02  -9.20000000e-03  -8.04000000e-03\n",
      "   -3.12000000e-03  -1.12400000e-02  -5.96000000e-03   4.60000000e-04\n",
      "    1.68400000e-02   1.69800000e-02  -2.46000000e-03  -3.22000000e-03\n",
      "    1.97800000e-02   1.84800000e-02   1.28600000e-02   6.54000000e-03\n",
      "   -1.87000000e-02  -4.18000000e-03  -3.78000000e-03  -1.59200000e-02\n",
      "    1.98000000e-02  -3.52000000e-03  -2.48000000e-03   1.62600000e-02\n",
      "    1.87200000e-02   9.30000000e-03   9.00000000e-04   5.60000000e-04\n",
      "    1.41800000e-02  -3.16000000e-03   3.12000000e-03  -9.38000000e-03\n",
      "   -1.73600000e-02  -4.04000000e-03   4.80000000e-03   1.46400000e-02\n",
      "    2.50000000e-03  -9.62000000e-03   5.46000000e-03   4.20000000e-04\n",
      "   -1.40200000e-02  -1.08400000e-02  -1.18000000e-02   2.66000000e-03\n",
      "    1.04400000e-02   6.70000000e-03   8.60000000e-03   2.10000000e-03\n",
      "    2.68000000e-03  -6.52000000e-03   1.86200000e-02  -1.48400000e-02\n",
      "    6.98000000e-03   1.53000000e-02   9.66000000e-03   1.75200000e-02\n",
      "   -1.00000000e-03  -8.36000000e-03  -5.20000000e-04   1.54600000e-02\n",
      "    9.94000000e-03  -5.96000000e-03  -1.68000000e-02   5.72000000e-03\n",
      "    1.74800000e-02   1.09400000e-02   1.59400000e-02   8.44000000e-03\n",
      "   -1.52000000e-02  -6.42000000e-03   2.88000000e-03  -1.04400000e-02\n",
      "    2.22000000e-03  -1.24800000e-02   8.10000000e-03   1.23600000e-02\n",
      "   -1.33800000e-02   7.78000000e-03   7.94000000e-03  -2.74000000e-03\n",
      "   -7.56000000e-03  -1.35800000e-02  -7.80000000e-04  -7.44000000e-03\n",
      "    5.44000000e-03  -1.71400000e-02  -1.87200000e-02   1.64800000e-02]\n",
      " [ -9.87942200e-01  -9.82526400e-01  -9.84673000e-01  -9.90674600e-01\n",
      "   -9.64272000e-01  -9.72220000e-01  -9.94911000e-01  -9.71008000e-01\n",
      "   -9.66984000e-01  -9.99670620e-01  -9.65054000e-01  -9.73614000e-01\n",
      "   -9.65500000e-01  -9.78116000e-01  -9.70512000e-01  -9.92322800e-01\n",
      "   -9.62522000e-01  -9.99199120e-01  -9.96667800e-01  -9.77954000e-01\n",
      "   -9.98937900e-01  -9.76990000e-01  -9.65822000e-01  -9.64738000e-01\n",
      "   -9.76506000e-01  -9.64432000e-01  -9.71060000e-01  -9.73022000e-01\n",
      "   -9.70412000e-01  -9.69070000e-01  -9.68174000e-01  -9.74348000e-01\n",
      "   -9.78314000e-01  -9.79946000e-01  -9.79284000e-01  -1.00000000e+00\n",
      "   -9.87586200e-01  -9.85182200e-01  -9.65422000e-01  -9.62248000e-01\n",
      "   -9.90007800e-01  -9.64494000e-01  -9.85435400e-01  -9.84365000e-01\n",
      "   -9.64822000e-01  -9.63258000e-01  -9.64164000e-01  -9.92883200e-01\n",
      "   -9.94319200e-01  -9.66334000e-01  -9.82962200e-01  -9.61824000e-01\n",
      "   -9.67052000e-01  -9.84575400e-01  -9.90107200e-01  -9.82473000e-01\n",
      "   -9.84103400e-01  -9.64930000e-01  -9.90072400e-01  -9.90224400e-01\n",
      "   -9.72602000e-01  -9.81176200e-01  -9.95916800e-01  -9.81129600e-01\n",
      "   -9.66552000e-01  -9.82020800e-01  -9.62140000e-01  -9.90172800e-01\n",
      "   -9.62172000e-01  -9.79924000e-01  -9.64854000e-01  -9.69612000e-01\n",
      "   -9.67618000e-01  -9.83389000e-01  -9.73996000e-01  -9.68210000e-01\n",
      "   -9.68274000e-01  -9.99552060e-01  -9.96084200e-01  -9.66176000e-01\n",
      "   -9.98026880e-01  -9.99680380e-01  -9.92914600e-01  -9.97237400e-01\n",
      "   -9.72240000e-01  -9.92715000e-01  -9.68544000e-01  -9.79942000e-01\n",
      "   -9.70748000e-01  -9.78476000e-01  -9.99697540e-01  -9.88293200e-01\n",
      "   -9.95164600e-01  -9.75618000e-01  -9.76336000e-01  -9.73240000e-01\n",
      "   -9.97600800e-01  -9.63744000e-01  -9.74830000e-01  -9.68944000e-01]\n",
      " [ -9.78300000e-01  -9.85148600e-01  -9.66736000e-01  -9.62040000e-01\n",
      "   -9.96982400e-01  -9.73770000e-01  -9.83089400e-01  -9.75678000e-01\n",
      "   -9.77042000e-01  -9.94389600e-01  -9.71356000e-01  -9.85176600e-01\n",
      "   -9.87284600e-01  -9.99333340e-01  -9.76538000e-01  -9.86916000e-01\n",
      "   -9.90405400e-01  -9.66398000e-01  -9.71350000e-01  -9.85121600e-01\n",
      "   -9.81895600e-01  -9.95040200e-01  -9.76094000e-01  -9.75820000e-01\n",
      "   -9.79054000e-01  -9.62974000e-01  -9.80564600e-01  -9.71000000e-01\n",
      "   -9.70820000e-01  -9.60852000e-01  -9.80955400e-01  -9.84325400e-01\n",
      "   -9.95617000e-01  -9.97929600e-01  -9.86020400e-01  -9.75318000e-01\n",
      "   -9.78722000e-01  -9.97038200e-01  -9.62910000e-01  -9.99677780e-01\n",
      "   -9.75078000e-01  -9.63370000e-01  -9.79988000e-01  -9.69808000e-01\n",
      "   -9.78532000e-01  -9.90846400e-01  -9.85624400e-01  -9.84284000e-01\n",
      "   -9.69852000e-01  -9.91891000e-01  -9.89894000e-01  -9.64292000e-01\n",
      "   -9.73872000e-01  -9.69932000e-01  -9.94410600e-01  -9.79662000e-01\n",
      "   -9.90982000e-01  -9.85427200e-01  -9.63354000e-01  -9.76578000e-01\n",
      "   -9.93778800e-01  -9.82343800e-01  -9.87518400e-01  -9.86341600e-01\n",
      "   -9.69764000e-01  -9.73100000e-01  -9.91343200e-01  -9.61802000e-01\n",
      "   -9.92086800e-01  -9.82900400e-01  -9.81892600e-01  -9.97376800e-01\n",
      "   -9.62130000e-01  -9.67474000e-01  -9.89551200e-01  -9.64276000e-01\n",
      "   -9.73878000e-01  -9.93557000e-01  -9.69262000e-01  -9.93125200e-01\n",
      "   -9.84528600e-01  -9.83742200e-01  -9.91632000e-01  -9.78714000e-01\n",
      "   -9.85986200e-01  -9.97415800e-01  -9.98463920e-01  -9.90045000e-01\n",
      "   -9.71654000e-01  -9.66880000e-01  -9.69632000e-01  -9.68274000e-01\n",
      "   -9.62882000e-01  -9.90594000e-01  -9.96821400e-01  -9.91402000e-01\n",
      "   -9.61716000e-01  -9.64284000e-01  -9.75262000e-01  -9.61114000e-01]]\n",
      "% debug % aux 2\n",
      "% debug % item 2 cluster 1\n",
      "7\n",
      "[ 1.  1.  2.  2.  2.  2.  2.]\n",
      "[[-0.968958   -0.9847154  -0.9813722  -0.9935146  -0.978198   -0.99805292\n",
      "  -0.973312   -0.963082   -0.974058   -0.9955204  -0.9939772  -0.9885218\n",
      "  -0.963684   -0.968342   -0.977476   -0.977932   -0.97835    -0.963172\n",
      "  -0.974208   -0.9873642  -0.9986203  -0.961906   -0.9818384  -0.976854\n",
      "  -0.97177    -0.99958164 -0.96747    -0.975428   -0.960934   -0.9978604\n",
      "  -0.9873986  -0.961396   -0.96948    -0.971764   -0.971166   -0.9958294\n",
      "  -0.965702   -0.966004   -0.997635   -0.969626   -0.9960838  -0.969788\n",
      "  -0.969406   -0.99873672 -0.9842152  -0.9923564  -0.976634   -0.9743\n",
      "  -0.9804024  -0.9900206  -0.990992   -0.99027    -0.9833128  -0.9883186\n",
      "  -0.9969464  -0.9922458  -0.993117   -0.9968324  -0.974914   -0.9911252\n",
      "  -0.962816   -0.9942216  -0.9843236  -0.9839738  -0.976714   -0.9834368\n",
      "  -0.964602   -0.99968984 -0.97353    -0.963218   -0.975102   -0.977524\n",
      "  -0.980047   -0.9850004  -0.965966   -0.975942   -0.972538   -0.962576\n",
      "  -0.991083   -0.971496   -0.9922326  -0.982721   -0.9867424  -0.973796\n",
      "  -0.961502   -0.973768   -0.994538   -0.9819644  -0.9991491  -0.9857278\n",
      "  -0.9869748  -0.96367    -0.987558   -0.975146   -0.971404   -0.9917986\n",
      "  -0.9849712  -0.99544    -0.9949788  -0.973214  ]\n",
      " [-0.972138   -0.9841698  -0.9997879  -0.9864184  -0.977526   -0.979152\n",
      "  -0.9910886  -0.961588   -0.990631   -0.9817388  -0.975186   -0.961022\n",
      "  -0.967136   -0.9804412  -0.9922824  -0.9984854  -0.977436   -0.9908856\n",
      "  -0.983092   -0.9969332  -0.965378   -0.9816132  -0.978828   -0.995493\n",
      "  -0.96816    -0.9814974  -0.975462   -0.97755    -0.97892    -0.976048\n",
      "  -0.9938332  -0.96903    -0.9943174  -0.975746   -0.9873602  -0.972768\n",
      "  -0.976046   -0.9859724  -0.9939126  -0.9899326  -0.9816564  -0.9909274\n",
      "  -0.9978526  -0.979488   -0.963958   -0.982166   -0.9816292  -0.9847514\n",
      "  -0.961422   -0.9976952  -0.969166   -0.9850522  -0.976224   -0.978474\n",
      "  -0.979012   -0.9878666  -0.965104   -0.99246    -0.9920804  -0.971242\n",
      "  -0.993883   -0.969482   -0.99879126 -0.9834814  -0.993992   -0.980125\n",
      "  -0.9931654  -0.9842868  -0.963314   -0.9886106  -0.9943944  -0.964212\n",
      "  -0.963772   -0.9931094  -0.99855302 -0.9849694  -0.970186   -0.9800696\n",
      "  -0.9804808  -0.974164   -0.9938982  -0.972278   -0.977828   -0.967306\n",
      "  -0.968896   -0.99905488 -0.982488   -0.988417   -0.99837818 -0.968384\n",
      "  -0.973422   -0.9815258  -0.991333   -0.9882876  -0.978976   -0.9900724\n",
      "  -0.9901162  -0.970536   -0.9898778  -0.99958024]]\n"
     ]
    },
    {
     "ename": "TypeError",
     "evalue": "'int' object is not iterable",
     "output_type": "error",
     "traceback": [
      "\u001b[0;31m---------------------------------------------------------------------------\u001b[0m",
      "\u001b[0;31mTypeError\u001b[0m                                 Traceback (most recent call last)",
      "\u001b[0;32m<ipython-input-235-81b1303eb3c5>\u001b[0m in \u001b[0;36m<module>\u001b[0;34m()\u001b[0m\n\u001b[0;32m----> 1\u001b[0;31m \u001b[0mrapooc\u001b[0m\u001b[0;34m.\u001b[0m\u001b[0minitialize\u001b[0m\u001b[0;34m(\u001b[0m\u001b[0;34m)\u001b[0m\u001b[0;34m\u001b[0m\u001b[0m\n\u001b[0m",
      "\u001b[0;32m<ipython-input-233-334d84db2c31>\u001b[0m in \u001b[0;36minitialize\u001b[0;34m(self)\u001b[0m\n\u001b[1;32m     39\u001b[0m                 \u001b[0mj\u001b[0m \u001b[0;34m+=\u001b[0m \u001b[0;36m1\u001b[0m\u001b[0;34m\u001b[0m\u001b[0m\n\u001b[1;32m     40\u001b[0m                 \u001b[0mprint\u001b[0m\u001b[0;34m(\u001b[0m\u001b[0mself\u001b[0m\u001b[0;34m.\u001b[0m\u001b[0m_gamma\u001b[0m\u001b[0;34m)\u001b[0m\u001b[0;34m\u001b[0m\u001b[0m\n\u001b[0;32m---> 41\u001b[0;31m                 \u001b[0mleast_coherent_column\u001b[0m\u001b[0;34m,\u001b[0m \u001b[0mlowest_cluster\u001b[0m  \u001b[0;34m=\u001b[0m \u001b[0mself\u001b[0m\u001b[0;34m.\u001b[0m\u001b[0m_argmin_H_\u001b[0m\u001b[0;34m(\u001b[0m\u001b[0mself\u001b[0m\u001b[0;34m.\u001b[0m\u001b[0m_rho\u001b[0m\u001b[0;34m,\u001b[0m\u001b[0mself\u001b[0m\u001b[0;34m.\u001b[0m\u001b[0m_gamma\u001b[0m\u001b[0;34m,\u001b[0m \u001b[0;34m'column'\u001b[0m\u001b[0;34m,\u001b[0m\u001b[0mj\u001b[0m\u001b[0;34m)\u001b[0m\u001b[0;34m\u001b[0m\u001b[0m\n\u001b[0m\u001b[1;32m     42\u001b[0m                 \u001b[0;31m# self._bisect_partitions_(self._D.T, self._gamma, beta, j,'column')\u001b[0m\u001b[0;34m\u001b[0m\u001b[0;34m\u001b[0m\u001b[0m\n\u001b[1;32m     43\u001b[0m                 \u001b[0mself\u001b[0m\u001b[0;34m.\u001b[0m\u001b[0m_bisect_columns_\u001b[0m\u001b[0;34m(\u001b[0m\u001b[0mlowest_cluster\u001b[0m\u001b[0;34m,\u001b[0m \u001b[0mleast_coherent_column\u001b[0m\u001b[0;34m,\u001b[0m \u001b[0mj\u001b[0m\u001b[0;34m)\u001b[0m\u001b[0;34m\u001b[0m\u001b[0m\n",
      "\u001b[0;32m<ipython-input-233-334d84db2c31>\u001b[0m in \u001b[0;36m_argmin_H_\u001b[0;34m(self, row_co_cluster, col_co_cluster, option, n_col_iterations)\u001b[0m\n\u001b[1;32m     69\u001b[0m                 \u001b[0;31m#Iter for each cluster\u001b[0m\u001b[0;34m\u001b[0m\u001b[0;34m\u001b[0m\u001b[0m\n\u001b[1;32m     70\u001b[0m                 \u001b[0mclusterer\u001b[0m \u001b[0;34m=\u001b[0m \u001b[0mBisectingClusterer\u001b[0m\u001b[0;34m(\u001b[0m\u001b[0mdata\u001b[0m\u001b[0;34m[\u001b[0m\u001b[0mnp\u001b[0m\u001b[0;34m.\u001b[0m\u001b[0mwhere\u001b[0m\u001b[0;34m(\u001b[0m\u001b[0mself\u001b[0m\u001b[0;34m.\u001b[0m\u001b[0m_gamma\u001b[0m \u001b[0;34m==\u001b[0m \u001b[0mi\u001b[0m\u001b[0;34m)\u001b[0m\u001b[0;34m]\u001b[0m\u001b[0;34m)\u001b[0m\u001b[0;34m\u001b[0m\u001b[0m\n\u001b[0;32m---> 71\u001b[0;31m                 \u001b[0maux_least_coherent_item\u001b[0m\u001b[0;34m,\u001b[0m \u001b[0maux_lowest_coherence\u001b[0m \u001b[0;34m=\u001b[0m \u001b[0mclusterer\u001b[0m\u001b[0;34m.\u001b[0m\u001b[0mleast_coherent_item\u001b[0m\u001b[0;34m(\u001b[0m\u001b[0;34m)\u001b[0m\u001b[0;34m\u001b[0m\u001b[0m\n\u001b[0m\u001b[1;32m     72\u001b[0m                 \u001b[0mprint\u001b[0m\u001b[0;34m(\u001b[0m\u001b[0;34m\"% debug % aux \"\u001b[0m \u001b[0;34m+\u001b[0m \u001b[0mstr\u001b[0m\u001b[0;34m(\u001b[0m\u001b[0maux_least_coherent_item\u001b[0m\u001b[0;34m)\u001b[0m\u001b[0;34m)\u001b[0m\u001b[0;34m\u001b[0m\u001b[0m\n\u001b[1;32m     73\u001b[0m                 \u001b[0;32mif\u001b[0m\u001b[0;34m(\u001b[0m\u001b[0maux_lowest_coherence\u001b[0m \u001b[0;34m<=\u001b[0m \u001b[0mlowest_coherence\u001b[0m\u001b[0;34m)\u001b[0m\u001b[0;34m:\u001b[0m\u001b[0;34m\u001b[0m\u001b[0m\n",
      "\u001b[0;31mTypeError\u001b[0m: 'int' object is not iterable"
     ]
    }
   ],
   "source": [
    "rapooc.initialize()"
   ]
  },
  {
   "cell_type": "code",
   "execution_count": 207,
   "metadata": {},
   "outputs": [
    {
     "data": {
      "text/plain": [
       "array([ 3.,  3.,  3.,  3.,  3.,  2.,  1.])"
      ]
     },
     "execution_count": 207,
     "metadata": {},
     "output_type": "execute_result"
    }
   ],
   "source": [
    "rapooc.gamma"
   ]
  },
  {
   "cell_type": "code",
   "execution_count": 232,
   "metadata": {},
   "outputs": [],
   "source": [
    "class BisectingClusterer(object):\n",
    "    def __init__(self, data):\n",
    "        \n",
    "        if data is not None:\n",
    "            self._data = np.array(data)\n",
    "            self._I, self._J = self._data.shape\n",
    "        else:\n",
    "            print(\"Empty data\")\n",
    "    \n",
    "    @property\n",
    "    def centroids(self):\n",
    "        if self._centroids is not None:\n",
    "            return self._centroids\n",
    "        else:\n",
    "            print (\"centroids not computed yet\")\n",
    "            return [0,0]\n",
    "    \n",
    "    def least_coherent_item(self):        \n",
    "        #this correlation refers the maximum least correlated pair of columns\n",
    "        print(self._data)\n",
    "        max_correlation = 1\n",
    "        least_coherent = 0\n",
    "        if self._I == 2:\n",
    "            return -1\n",
    "\n",
    "        i = 0\n",
    "        for i in range(self._I - 1):\n",
    "            correlation = PositiveNegativeCorrelation(self._data[i],\n",
    "                                                      self._data[i+1],\n",
    "                                                      self._J).H_pos\n",
    "            if(correlation < max_correlation):\n",
    "                max_correlation = correlation\n",
    "                least_coherent = i\n",
    "        # returns index of least coherent intem and its correlation\n",
    "        return least_coherent, max_correlation\n",
    "\n",
    "    def fit(self):\n",
    "        self._centroids = self._compute_centroids_()\n",
    "        bisecting_indices = self._bisect_clusters_(self._centroids)\n",
    "        return bisecting_indices\n",
    "    \n",
    "    def _compute_centroids_(self):\n",
    "        max_correlation = 0\n",
    "        centroids = [0,0]\n",
    "        for i in range(self._I):\n",
    "            for j in range(i+1, self._I):\n",
    "                if (i == j):\n",
    "                    break\n",
    "                correlation = PositiveNegativeCorrelation(self._data[i],\n",
    "                                                          self._data[j],\n",
    "                                                          self._J).H_neg\n",
    "                if(correlation > max_correlation):\n",
    "                    max_correlation = correlation\n",
    "                    centroids[0] = i\n",
    "                    centroids[1] = j\n",
    "        return centroids\n",
    "\n",
    "    def _bisect_clusters_(self, centroids):\n",
    "        cluster_indices = np.zeros(self._I)\n",
    "        for i in range(self._I):\n",
    "            correlation0 = PositiveNegativeCorrelation(\n",
    "                self._data[centroids[0]], self._data[i],self._J).H_pos\n",
    "            correlation1 = PositiveNegativeCorrelation(\n",
    "                self._data[centroids[1]], self._data[i],self._J).H_pos\n",
    "            if(correlation0 <= correlation1):\n",
    "                cluster_indices[i] = 1\n",
    "        return cluster_indices"
   ]
  },
  {
   "cell_type": "code",
   "execution_count": 152,
   "metadata": {},
   "outputs": [],
   "source": [
    "class PositiveNegativeCorrelation(object):\n",
    "    def __init__(self, x, y, J):\n",
    "        self._x = x\n",
    "        self._y = y\n",
    "        self._J = J\n",
    "        self._x_mean = np.mean(x)\n",
    "        self._y_mean = np.mean(y)\n",
    "        self._H_pos = None\n",
    "        self._H_neg = None\n",
    "\n",
    "    @property\n",
    "    def H_pos(self):\n",
    "        if self._H_pos is None:\n",
    "            # print(\"Computing H positive...\")\n",
    "            self._H_pos = self._compute_H_pos()\n",
    "            # print(\"H positive value: \" + str(self._H_pos))\n",
    "        return self._H_pos\n",
    "\n",
    "    @property\n",
    "    def H_neg(self):\n",
    "        if self._H_neg is None:\n",
    "            # print(\"Computing H negative...\")\n",
    "            self._H_neg = self._compute_H_neg()\n",
    "            # print(\"H negative value: \" + str(self._H_neg))\n",
    "        return self._H_neg\n",
    "\n",
    "    def _compute_H_pos(self):\n",
    "        H_pos = 0\n",
    "        for j in range(self._J):\n",
    "            aux = (((self._x[j] - self._x_mean) -\n",
    "                    (self._y[j] - self._y_mean))/2.0)**2\n",
    "            H_pos += aux\n",
    "        H_pos *= 1.0/math.fabs(self._J)\n",
    "        H_pos = 1 - H_pos\n",
    "        return H_pos\n",
    "\n",
    "    def _compute_H_neg(self):\n",
    "        H_neg = 0\n",
    "        for j in range(self._J):\n",
    "            aux = (((self._x[j] - self._x_mean) +\n",
    "                    (self._y[j] - self._y_mean))/2.0)**2\n",
    "            H_neg += aux\n",
    "        H_neg *= 1.0/math.fabs(self._J)\n",
    "        H_neg = 1 - H_neg\n",
    "        return H_neg\n",
    "    \n",
    "class PairBasedCoherence(object):\n",
    "    def __init__(self, X):\n",
    "        self._X = np.array(X)\n",
    "        self._I, self._J = X.shape\n",
    "        self._HP = None\n",
    "\n",
    "    @property\n",
    "    def HP(self):\n",
    "        if self._HP is None:\n",
    "            # print(\"Calculating Pair based coherence..\")\n",
    "            self._HP = self._compute_HP_()\n",
    "            # print(\"Paired based coherence value: \" + str(self._HP))\n",
    "        return self._HP\n",
    "\n",
    "    def _compute_HP_(self):\n",
    "        HP = 0\n",
    "        for i in range(self._I):\n",
    "            for j in range(i+1, self._I):\n",
    "                if (i==j): \n",
    "                    break\n",
    "                x = self._X[i]\n",
    "                y = self._X[j]\n",
    "                correlation = PositiveNegativeCorrelation(x, y,self._J)\n",
    "                H0 = correlation.H_pos\n",
    "                # H0 = max(correlation.H_pos,correlation.H_neg)\n",
    "                HP += H0\n",
    "        HP *= math.fabs(2.0)/(math.fabs(self._I)*(math.fabs(self._I)-1)) # if self._I > 1 else 0\n",
    "        \n",
    "        return HP"
   ]
  },
  {
   "cell_type": "code",
   "execution_count": 114,
   "metadata": {},
   "outputs": [
    {
     "data": {
      "text/plain": [
       "(array([2, 3, 4, 5]),)"
      ]
     },
     "execution_count": 114,
     "metadata": {},
     "output_type": "execute_result"
    }
   ],
   "source": [
    "y = np.array([1,2,3,3,3,3,4,5,])\n",
    "np.where(y==3)"
   ]
  },
  {
   "cell_type": "code",
   "execution_count": 109,
   "metadata": {},
   "outputs": [
    {
     "data": {
      "text/plain": [
       "array([3, 3, 3, 3])"
      ]
     },
     "execution_count": 109,
     "metadata": {},
     "output_type": "execute_result"
    }
   ],
   "source": [
    "x = y[np.where(y==3)]\n",
    "x"
   ]
  },
  {
   "cell_type": "code",
   "execution_count": 110,
   "metadata": {},
   "outputs": [
    {
     "name": "stdout",
     "output_type": "stream",
     "text": [
      "5\n"
     ]
    }
   ],
   "source": [
    "for i in np.where(y==3)[0].tolist()[3:]:\n",
    "    print(i)"
   ]
  },
  {
   "cell_type": "code",
   "execution_count": 111,
   "metadata": {},
   "outputs": [
    {
     "data": {
      "text/plain": [
       "<numpy.nditer at 0x7f78f472da30>"
      ]
     },
     "execution_count": 111,
     "metadata": {},
     "output_type": "execute_result"
    }
   ],
   "source": [
    "np.nditer(np.where(y==3))"
   ]
  },
  {
   "cell_type": "code",
   "execution_count": 112,
   "metadata": {},
   "outputs": [],
   "source": [
    "y[3:] = -1"
   ]
  },
  {
   "cell_type": "code",
   "execution_count": 115,
   "metadata": {},
   "outputs": [
    {
     "data": {
      "text/plain": [
       "array([1, 2, 3, 3, 3, 3, 4, 5])"
      ]
     },
     "execution_count": 115,
     "metadata": {},
     "output_type": "execute_result"
    }
   ],
   "source": [
    "y"
   ]
  },
  {
   "cell_type": "code",
   "execution_count": 119,
   "metadata": {},
   "outputs": [
    {
     "data": {
      "text/plain": [
       "5"
      ]
     },
     "execution_count": 119,
     "metadata": {},
     "output_type": "execute_result"
    }
   ],
   "source": [
    " np.where(y==3)[0][-1]"
   ]
  },
  {
   "cell_type": "code",
   "execution_count": 220,
   "metadata": {},
   "outputs": [
    {
     "data": {
      "text/plain": [
       "array([1, 2, 3, 3, 3, 3, 4, 5])"
      ]
     },
     "execution_count": 220,
     "metadata": {},
     "output_type": "execute_result"
    }
   ],
   "source": [
    "y"
   ]
  },
  {
   "cell_type": "code",
   "execution_count": 222,
   "metadata": {},
   "outputs": [
    {
     "data": {
      "text/plain": [
       "array([3, 3, 3, 3, 4])"
      ]
     },
     "execution_count": 222,
     "metadata": {},
     "output_type": "execute_result"
    }
   ],
   "source": [
    "y[2:7]"
   ]
  },
  {
   "cell_type": "code",
   "execution_count": null,
   "metadata": {},
   "outputs": [],
   "source": []
  }
 ],
 "metadata": {
  "kernelspec": {
   "display_name": "Python 3",
   "language": "python",
   "name": "python3"
  },
  "language_info": {
   "codemirror_mode": {
    "name": "ipython",
    "version": 3
   },
   "file_extension": ".py",
   "mimetype": "text/x-python",
   "name": "python",
   "nbconvert_exporter": "python",
   "pygments_lexer": "ipython3",
   "version": "3.6.3"
  }
 },
 "nbformat": 4,
 "nbformat_minor": 2
}
