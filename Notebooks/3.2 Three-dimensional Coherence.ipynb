{
 "cells": [
  {
   "cell_type": "markdown",
   "metadata": {},
   "source": [
    "# Tridimensional Coherence"
   ]
  },
  {
   "cell_type": "code",
   "execution_count": 110,
   "metadata": {},
   "outputs": [
    {
     "data": {
      "text/latex": [
       "Define H for a tridimensional space given two trajectories x and y in J temporary points.\n",
       "$$\n",
       "H_{+}(x,y,J) = 1 - \\frac{1}{|J|} \\cdot \\sum \\limits_{i \\in J } (\\frac {(d(x_{j},\\bar{x}) - d(y_{j},\\bar{y}))}{2})^2\n",
       "$$"
      ],
      "text/plain": [
       "<IPython.core.display.Latex object>"
      ]
     },
     "metadata": {},
     "output_type": "display_data"
    }
   ],
   "source": [
    "%%latex\n",
    "Define H for a tridimensional space given two trajectories x and y in J temporary points.\n",
    "$$\n",
    "H_{+}(x,y,J) = 1 - \\frac{1}{|J|} \\cdot \\sum \\limits_{i \\in J } (\\frac {(d(x_{j},\\bar{x}) - d(y_{j},\\bar{y}))}{2})^2\n",
    "$$"
   ]
  },
  {
   "cell_type": "code",
   "execution_count": 3,
   "metadata": {},
   "outputs": [
    {
     "data": {
      "text/latex": [
       "Define H for a new term 'z' in X\n",
       "$$\n",
       "H_{1}(I,J,X,z) =H_{0}(I,J,X) \\cdot \\frac{(I-1)}{(I+1)} + \\frac{|2|}{(I)(I+1)} \\cdot \\sum_{x \\epsilon X} {h(x,z,J)}\n",
       "$$"
      ],
      "text/plain": [
       "<IPython.core.display.Latex object>"
      ]
     },
     "metadata": {},
     "output_type": "display_data"
    }
   ],
   "source": [
    "%%latex\n",
    "Define H for a new term 'z' in X\n",
    "$$\n",
    "H_{1}(I,J,X,z) =H_{0}(I,J,X) \\cdot \\frac{(I-1)}{(I+1)} + \\frac{|2|}{(I)(I+1)} \\cdot \\sum_{x \\epsilon X} {h(x,z,J)}\n",
    "$$"
   ]
  },
  {
   "cell_type": "code",
   "execution_count": 101,
   "metadata": {},
   "outputs": [],
   "source": [
    "%matplotlib inline\n",
    "import numpy as np\n",
    "import matplotlib.pyplot as plt\n",
    "import math\n",
    "\n",
    "from mpl_toolkits.mplot3d import Axes3D"
   ]
  },
  {
   "cell_type": "code",
   "execution_count": 108,
   "metadata": {},
   "outputs": [
    {
     "data": {
      "text/plain": [
       "6"
      ]
     },
     "execution_count": 108,
     "metadata": {},
     "output_type": "execute_result"
    }
   ],
   "source": [
    "_x = np.array([[0.0,0.0],[0.25,0.25],[0.5,0.5],[0.25,0.25],[0.0,0.0],[-0.25,-0.25]])\n",
    "_y = np.array([[0.0,0.0],[-0.25,-0.25],[-0.5,-0.5],[0.25,0.25],[0.0,0.0],[0.0,0.25]])\n",
    "len(_x)"
   ]
  },
  {
   "cell_type": "code",
   "execution_count": 103,
   "metadata": {},
   "outputs": [
    {
     "data": {
      "text/plain": [
       "array([ 0.125,  0.125])"
      ]
     },
     "execution_count": 103,
     "metadata": {},
     "output_type": "execute_result"
    }
   ],
   "source": [
    "np.mean(_x,axis=0)"
   ]
  },
  {
   "cell_type": "code",
   "execution_count": 104,
   "metadata": {},
   "outputs": [
    {
     "data": {
      "text/plain": [
       "array([-0.08333333, -0.04166667])"
      ]
     },
     "execution_count": 104,
     "metadata": {},
     "output_type": "execute_result"
    }
   ],
   "source": [
    "np.mean(_y, axis=0)"
   ]
  },
  {
   "cell_type": "code",
   "execution_count": 106,
   "metadata": {},
   "outputs": [
    {
     "data": {
      "text/plain": [
       "0.1767766952966369"
      ]
     },
     "execution_count": 106,
     "metadata": {},
     "output_type": "execute_result"
    }
   ],
   "source": [
    "math.hypot(_x[0][0]-np.mean(_x,axis=0)[0],_x[0][1]-np.mean(_x,axis=0)[1])"
   ]
  },
  {
   "cell_type": "code",
   "execution_count": 107,
   "metadata": {},
   "outputs": [
    {
     "data": {
      "text/plain": [
       "0.09316949906249122"
      ]
     },
     "execution_count": 107,
     "metadata": {},
     "output_type": "execute_result"
    }
   ],
   "source": [
    "math.hypot(_y[0][0]-np.mean(_y,axis=0)[0],_y[0][1]-np.mean(_y,axis=0)[1])"
   ]
  },
  {
   "cell_type": "code",
   "execution_count": 111,
   "metadata": {},
   "outputs": [],
   "source": [
    "def three_dimensional_pair_coherence(_x, _y):\n",
    "    \n",
    "    mean_point_x = np.mean(_x, axis=0)\n",
    "    mean_point_y = np.mean(_y, axis=0)\n",
    "    \n",
    "    _J = len(_x)\n",
    "    \n",
    "    acc = 0\n",
    "    \n",
    "    for j in range(0,_J):\n",
    "        \n",
    "        x_axis_diff = _x[j][0] - mean_point_x[0]\n",
    "        y_axis_diff = _x[j][1] - mean_point_x[1]\n",
    "        \n",
    "        x_distance = math.hypot(x_axis_diff, y_axis_diff)\n",
    "        \n",
    "        x_axis_diff = _y[j][0] - mean_point_y[0]\n",
    "        y_axis_diff = _y[j][1] - mean_point_y[1]\n",
    "        \n",
    "        y_distance = math.hypot(x_axis_diff, y_axis_diff)\n",
    "        \n",
    "        diff_term = (x_distance - y_distance) / 2.0\n",
    "        \n",
    "        diff_term = diff_term ** 2.0\n",
    "        \n",
    "        acc += diff_term\n",
    "        \n",
    "    return (1-acc/abs(_J))"
   ]
  },
  {
   "cell_type": "code",
   "execution_count": 112,
   "metadata": {},
   "outputs": [
    {
     "data": {
      "text/plain": [
       "0.9936508313301623"
      ]
     },
     "execution_count": 112,
     "metadata": {},
     "output_type": "execute_result"
    }
   ],
   "source": [
    "three_dimensional_pair_coherence(_x, _y)"
   ]
  },
  {
   "cell_type": "code",
   "execution_count": 121,
   "metadata": {},
   "outputs": [],
   "source": [
    "_x_test = np.array([[1,1],[1,1],[-1,-1],[1,1],[1,1],[-1,-1]])\n",
    "_y_test = np.array([[-1,-1],[-1,-1],[1,1],[-1,-1],[-1,-1],[1,1]])"
   ]
  },
  {
   "cell_type": "code",
   "execution_count": 123,
   "metadata": {},
   "outputs": [
    {
     "data": {
      "text/plain": [
       "0.7392698824122184"
      ]
     },
     "execution_count": 123,
     "metadata": {},
     "output_type": "execute_result"
    }
   ],
   "source": [
    "three_dimensional_pair_coherence(_x_test, _y)"
   ]
  },
  {
   "cell_type": "code",
   "execution_count": null,
   "metadata": {},
   "outputs": [],
   "source": []
  }
 ],
 "metadata": {
  "kernelspec": {
   "display_name": "Python 3",
   "language": "python",
   "name": "python3"
  },
  "language_info": {
   "codemirror_mode": {
    "name": "ipython",
    "version": 3
   },
   "file_extension": ".py",
   "mimetype": "text/x-python",
   "name": "python",
   "nbconvert_exporter": "python",
   "pygments_lexer": "ipython3",
   "version": "3.6.3"
  }
 },
 "nbformat": 4,
 "nbformat_minor": 2
}
