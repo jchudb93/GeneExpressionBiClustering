{
 "cells": [
  {
   "cell_type": "markdown",
   "metadata": {},
   "source": [
    "# Journal\n",
    "\n",
    "- Entry 30/11/2017\n",
    "  - Refactoring: With the purpose of keeping the notebooks order, I decided to rename them with a number according to the research plan, this is: 1 for preprocessing, 2 for traditional clustering, 3 for biclustering and so on. "
   ]
  }
 ],
 "metadata": {
  "kernelspec": {
   "display_name": "Python 3",
   "language": "python",
   "name": "python3"
  },
  "language_info": {
   "codemirror_mode": {
    "name": "ipython",
    "version": 3
   },
   "file_extension": ".py",
   "mimetype": "text/x-python",
   "name": "python",
   "nbconvert_exporter": "python",
   "pygments_lexer": "ipython3",
   "version": "3.6.3"
  }
 },
 "nbformat": 4,
 "nbformat_minor": 2
}
