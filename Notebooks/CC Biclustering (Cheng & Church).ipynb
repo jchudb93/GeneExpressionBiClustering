{
 "cells": [
  {
   "cell_type": "markdown",
   "metadata": {},
   "source": [
    "# Biclustering CC\n",
    "Implementation proposed by Cheng & Church in Biclustering of Expression Data"
   ]
  },
  {
   "cell_type": "code",
   "execution_count": 1,
   "metadata": {},
   "outputs": [],
   "source": [
    "%matplotlib inline\n",
    "import numpy as np\n",
    "from matplotlib import pyplot as plt\n",
    "\n",
    "from sklearn.metrics import consensus_score\n"
   ]
  },
  {
   "cell_type": "code",
   "execution_count": 4,
   "metadata": {},
   "outputs": [
    {
     "data": {
      "text/latex": [
       "Define Mean Squeae Residue (MSR)$H(I,J)$:\n",
       "$$H(I,J) = \\frac{1}{|I||J|} \\sum_{i \\in I} \\sum_{j \\in J} (a_{ij} - a_{Ij} - a_{iJ} + a_{IJ})^2$$\n",
       "where:\n",
       "$$a_{iJ} = \\frac{1}{|J|} \\sum_{j \\in J} a_{ij}$$\n",
       "$$a_{Ij} = \\frac{1}{|I|} \\sum_{i \\in I} a_{ij}$$\n",
       "$$a_{IJ} = \\frac{1}{|I||J|} \\sum_{i \\in I, j \\in J} a_{ij}$$"
      ],
      "text/plain": [
       "<IPython.core.display.Latex object>"
      ]
     },
     "metadata": {},
     "output_type": "display_data"
    }
   ],
   "source": [
    "%%latex\n",
    "Define Mean Squeae Residue (MSR)$H(I,J)$:\n",
    "$$H(I,J) = \\frac{1}{|I||J|} \\sum_{i \\in I} \\sum_{j \\in J} (a_{ij} - a_{Ij} - a_{iJ} + a_{IJ})^2$$\n",
    "where:\n",
    "$$a_{iJ} = \\frac{1}{|J|} \\sum_{j \\in J} a_{ij}$$\n",
    "$$a_{Ij} = \\frac{1}{|I|} \\sum_{i \\in I} a_{ij}$$\n",
    "$$a_{IJ} = \\frac{1}{|I||J|} \\sum_{i \\in I, j \\in J} a_{ij}$$\n"
   ]
  },
  {
   "cell_type": "code",
   "execution_count": null,
   "metadata": {},
   "outputs": [],
   "source": [
    "class MSR(object):\n",
    "    def __init__(self,data):\n",
    "        self.data=data\n",
    "        self.n, self.m = data.shape\n",
    "        self.aiJ = np.mean(data,axis=1)\n",
    "        self.aIj = np.mean(data,axis=0)\n",
    "        self.aIJ = mp.mean(data)\n",
    "        self._H = None\n",
    "        self._HiJ = None\n",
    "        self._HIj = None\n",
    "        \n",
    "        "
   ]
  }
 ],
 "metadata": {
  "kernelspec": {
   "display_name": "Python 3",
   "language": "python",
   "name": "python3"
  },
  "language_info": {
   "codemirror_mode": {
    "name": "ipython",
    "version": 3
   },
   "file_extension": ".py",
   "mimetype": "text/x-python",
   "name": "python",
   "nbconvert_exporter": "python",
   "pygments_lexer": "ipython3",
   "version": "3.6.3"
  }
 },
 "nbformat": 4,
 "nbformat_minor": 2
}
