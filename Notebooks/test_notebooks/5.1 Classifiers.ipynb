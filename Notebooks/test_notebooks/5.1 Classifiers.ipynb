{
 "cells": [
  {
   "cell_type": "markdown",
   "metadata": {},
   "source": [
    "# Classifiers"
   ]
  },
  {
   "cell_type": "code",
   "execution_count": 12,
   "metadata": {},
   "outputs": [
    {
     "data": {
      "text/latex": [
       "Define H for a tridimensional space given two trajectories x and y in J temporary points.\n",
       "$$\n",
       "member(T_{c},T_{0}) = 1 - \\frac{1}{|J|} \\cdot min(\\frac{|T_{c} - T_{0}|}{\\sigma_{0}},0)\n",
       "$$"
      ],
      "text/plain": [
       "<IPython.core.display.Latex object>"
      ]
     },
     "metadata": {},
     "output_type": "display_data"
    }
   ],
   "source": [
    "%%latex\n",
    "Define H for a tridimensional space given two trajectories x and y in J temporary points.\n",
    "$$\n",
    "member(T_{c},T_{0}) = 1 - \\frac{1}{|J|} \\cdot min(\\frac{|T_{c} - T_{0}|}{\\sigma_{0}},0)\n",
    "$$"
   ]
  },
  {
   "cell_type": "code",
   "execution_count": 40,
   "metadata": {},
   "outputs": [],
   "source": [
    "from sklearn.metrics.pairwise import euclidean_distances\n",
    "import numpy as np\n",
    "from scipy.spatial import distance"
   ]
  },
  {
   "cell_type": "code",
   "execution_count": 41,
   "metadata": {},
   "outputs": [
    {
     "data": {
      "text/plain": [
       "2.2360679774997898"
      ]
     },
     "execution_count": 41,
     "metadata": {},
     "output_type": "execute_result"
    }
   ],
   "source": [
    "distance.euclidean([1,2,2],[3,2,1])"
   ]
  },
  {
   "cell_type": "code",
   "execution_count": 22,
   "metadata": {},
   "outputs": [],
   "source": [
    "_x = np.array([[1,1],[1,1],[-1,-1],[1,1],[1,1],[-1,-1]])\n",
    "test_data = []\n",
    "\n",
    "for i in range(0,3):\n",
    "    \n",
    "    test_data.append(np.random.random((len(_x),2)) * 2 - 1)\n",
    "    \n",
    "test_data = np.array(test_data)"
   ]
  },
  {
   "cell_type": "code",
   "execution_count": 24,
   "metadata": {},
   "outputs": [
    {
     "data": {
      "text/plain": [
       "array([[ 0.45173611, -0.25257566],\n",
       "       [ 0.11680142, -0.42235576],\n",
       "       [ 0.10642228,  0.41481876],\n",
       "       [-0.08311998, -0.54734952],\n",
       "       [-0.03740297,  0.17773099],\n",
       "       [ 0.25159152, -0.0275533 ]])"
      ]
     },
     "execution_count": 24,
     "metadata": {},
     "output_type": "execute_result"
    }
   ],
   "source": [
    "test_data.mean(axis=0)"
   ]
  },
  {
   "cell_type": "code",
   "execution_count": 27,
   "metadata": {},
   "outputs": [
    {
     "name": "stdout",
     "output_type": "stream",
     "text": [
      "[[ 0.86418777  0.50144658]\n",
      " [ 0.68054859 -0.24998229]\n",
      " [ 0.11298603  0.86449592]\n",
      " [-0.86813666 -0.66782287]\n",
      " [-0.6463117   0.56121652]\n",
      " [ 0.10360538  0.35077476]]\n",
      "[[-0.50252068 -0.7847433 ]\n",
      " [ 0.0803107  -0.06340696]\n",
      " [ 0.96185706 -0.01336043]\n",
      " [ 0.33656893 -0.53380602]\n",
      " [ 0.49320943  0.8752443 ]\n",
      " [ 0.6997608  -0.48873646]]\n",
      "[[ 0.99354123 -0.47443026]\n",
      " [-0.41045504 -0.95367803]\n",
      " [-0.75557624  0.3933208 ]\n",
      " [ 0.28220778 -0.44041967]\n",
      " [ 0.04089337 -0.90326786]\n",
      " [-0.04859162  0.05530179]]\n"
     ]
    }
   ],
   "source": [
    "for i in range(len(test_data)):\n",
    "    print(test_data[i])"
   ]
  },
  {
   "cell_type": "code",
   "execution_count": 30,
   "metadata": {},
   "outputs": [],
   "source": [
    "avg = test_data.mean(axis=0)"
   ]
  },
  {
   "cell_type": "code",
   "execution_count": 37,
   "metadata": {},
   "outputs": [
    {
     "data": {
      "text/plain": [
       "(3, 2)"
      ]
     },
     "execution_count": 37,
     "metadata": {},
     "output_type": "execute_result"
    }
   ],
   "source": [
    "np.transpose(test_data,[1,0,2])[0]"
   ]
  },
  {
   "cell_type": "code",
   "execution_count": 52,
   "metadata": {},
   "outputs": [],
   "source": [
    "def compute_membership_scores(trajectory, bicluster, mean_trajectory):\n",
    "    \n",
    "    def compute_deviation(column, mean_coord):\n",
    "        \n",
    "        distances = np.array([distance.euclidean(row, mean_coord) for row in column])\n",
    "        \n",
    "        return np.std(distances)\n",
    "        \n",
    "        \n",
    "    scores = list()\n",
    "    j=0\n",
    "    biclusterT = np.transpose(bicluster,[1,0,2])\n",
    "    \n",
    "    for column in biclusterT:\n",
    "        \n",
    "        deviation = compute_deviation(column, mean_trajectory[j])\n",
    "        norm = np.linalg.norm(trajectory[j] - mean_trajectory[j])\n",
    "        score = min(deviation/norm, 1)\n",
    "        scores.append(score)\n",
    "        j += 1\n",
    "        \n",
    "    return np.array(scores)"
   ]
  },
  {
   "cell_type": "code",
   "execution_count": 53,
   "metadata": {},
   "outputs": [],
   "source": [
    "def member(tc, bicluster):\n",
    "    \n",
    "    _tc = tc\n",
    "    _bicluster = bicluster\n",
    "    mean_trajectory = bicluster.mean(axis=0)\n",
    "    scores = compute_membership_scores(_tc, bicluster, mean_trajectory)\n",
    "    total_membership_score = 1.0 - ((1 / len(tc)) *sum(scores))\n",
    "    \n",
    "    return total_membership_score"
   ]
  },
  {
   "cell_type": "code",
   "execution_count": 54,
   "metadata": {},
   "outputs": [
    {
     "data": {
      "text/plain": [
       "0.8885733295886411"
      ]
     },
     "execution_count": 54,
     "metadata": {},
     "output_type": "execute_result"
    }
   ],
   "source": [
    "member(_x,test_data)"
   ]
  },
  {
   "cell_type": "code",
   "execution_count": null,
   "metadata": {},
   "outputs": [],
   "source": []
  }
 ],
 "metadata": {
  "kernelspec": {
   "display_name": "Python 3",
   "language": "python",
   "name": "python3"
  },
  "language_info": {
   "codemirror_mode": {
    "name": "ipython",
    "version": 3
   },
   "file_extension": ".py",
   "mimetype": "text/x-python",
   "name": "python",
   "nbconvert_exporter": "python",
   "pygments_lexer": "ipython3",
   "version": "3.6.3"
  }
 },
 "nbformat": 4,
 "nbformat_minor": 2
}
