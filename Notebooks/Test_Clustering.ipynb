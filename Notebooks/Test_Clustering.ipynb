{
 "cells": [
  {
   "cell_type": "markdown",
   "metadata": {},
   "source": [
    "# Cluestering"
   ]
  },
  {
   "cell_type": "code",
   "execution_count": 1,
   "metadata": {},
   "outputs": [],
   "source": [
    "import gc\n",
    "import pandas as pd\n",
    "import glob\n",
    "import sklearn\n",
    "import numpy as np"
   ]
  },
  {
   "cell_type": "code",
   "execution_count": 2,
   "metadata": {},
   "outputs": [],
   "source": [
    "dcFiles=glob.glob(\"../Dc/*\")\n",
    "diFiles=glob.glob(\"../Di/*\")"
   ]
  },
  {
   "cell_type": "code",
   "execution_count": 3,
   "metadata": {},
   "outputs": [],
   "source": [
    "trainIndexFiles=glob.glob(\"../Train/*\")\n",
    "testIndexFiles=glob.glob(\"../Test/*\")"
   ]
  },
  {
   "cell_type": "code",
   "execution_count": 8,
   "metadata": {},
   "outputs": [
    {
     "data": {
      "text/plain": [
       "['../Dc/Jnk.csv',\n",
       " '../Dc/IRF4.csv',\n",
       " '../Dc/LEF1.csv',\n",
       " '../Dc/Ikk2.csv',\n",
       " '../Dc/CTNNB1.csv',\n",
       " '../Dc/Erk.csv',\n",
       " '../Dc/MYC.csv']"
      ]
     },
     "execution_count": 8,
     "metadata": {},
     "output_type": "execute_result"
    }
   ],
   "source": [
    "dcFiles"
   ]
  },
  {
   "cell_type": "code",
   "execution_count": 10,
   "metadata": {},
   "outputs": [
    {
     "data": {
      "text/plain": [
       "['../Train/LEF1.index.csv',\n",
       " '../Train/MYC.index.csv',\n",
       " '../Train/IRF4.index.csv',\n",
       " '../Train/Jnk.index.csv',\n",
       " '../Train/Ikk2.index.csv',\n",
       " '../Train/Erk.index.csv',\n",
       " '../Train/CTNNB1.index.csv']"
      ]
     },
     "execution_count": 10,
     "metadata": {},
     "output_type": "execute_result"
    }
   ],
   "source": [
    "trainIndexFiles"
   ]
  },
  {
   "cell_type": "markdown",
   "metadata": {},
   "source": [
    "# Setting indexes to read"
   ]
  },
  {
   "cell_type": "code",
   "execution_count": 27,
   "metadata": {},
   "outputs": [
    {
     "data": {
      "text/html": [
       "<div>\n",
       "<style>\n",
       "    .dataframe thead tr:only-child th {\n",
       "        text-align: right;\n",
       "    }\n",
       "\n",
       "    .dataframe thead th {\n",
       "        text-align: left;\n",
       "    }\n",
       "\n",
       "    .dataframe tbody tr th {\n",
       "        vertical-align: top;\n",
       "    }\n",
       "</style>\n",
       "<table border=\"1\" class=\"dataframe\">\n",
       "  <thead>\n",
       "    <tr style=\"text-align: right;\">\n",
       "      <th></th>\n",
       "      <th>0</th>\n",
       "      <th>1</th>\n",
       "    </tr>\n",
       "  </thead>\n",
       "  <tbody>\n",
       "    <tr>\n",
       "      <th>0</th>\n",
       "      <td>102</td>\n",
       "      <td>1.0</td>\n",
       "    </tr>\n",
       "    <tr>\n",
       "      <th>1</th>\n",
       "      <td>103</td>\n",
       "      <td>1.0</td>\n",
       "    </tr>\n",
       "    <tr>\n",
       "      <th>2</th>\n",
       "      <td>104</td>\n",
       "      <td>1.0</td>\n",
       "    </tr>\n",
       "    <tr>\n",
       "      <th>3</th>\n",
       "      <td>105</td>\n",
       "      <td>1.0</td>\n",
       "    </tr>\n",
       "    <tr>\n",
       "      <th>4</th>\n",
       "      <td>106</td>\n",
       "      <td>1.0</td>\n",
       "    </tr>\n",
       "  </tbody>\n",
       "</table>\n",
       "</div>"
      ],
      "text/plain": [
       "     0    1\n",
       "0  102  1.0\n",
       "1  103  1.0\n",
       "2  104  1.0\n",
       "3  105  1.0\n",
       "4  106  1.0"
      ]
     },
     "execution_count": 27,
     "metadata": {},
     "output_type": "execute_result"
    }
   ],
   "source": [
    "irf4Indexes=pd.read_csv('../Train/MYC.index.csv',sep=\";\")\n",
    "irf4Indexes.head()"
   ]
  },
  {
   "cell_type": "code",
   "execution_count": 29,
   "metadata": {},
   "outputs": [
    {
     "data": {
      "text/plain": [
       "pandas.core.series.Series"
      ]
     },
     "execution_count": 29,
     "metadata": {},
     "output_type": "execute_result"
    }
   ],
   "source": [
    "type(irf4Indexes['0'])"
   ]
  },
  {
   "cell_type": "code",
   "execution_count": 31,
   "metadata": {},
   "outputs": [],
   "source": [
    "irf4IndesxList=list(irf4Indexes['0'])"
   ]
  },
  {
   "cell_type": "code",
   "execution_count": 43,
   "metadata": {},
   "outputs": [
    {
     "data": {
      "text/plain": [
       "5038"
      ]
     },
     "execution_count": 43,
     "metadata": {},
     "output_type": "execute_result"
    }
   ],
   "source": [
    "len(irf4IndesxList)"
   ]
  },
  {
   "cell_type": "code",
   "execution_count": 37,
   "metadata": {},
   "outputs": [
    {
     "ename": "SyntaxError",
     "evalue": "invalid syntax (<ipython-input-37-0486bb77b520>, line 1)",
     "output_type": "error",
     "traceback": [
      "\u001b[0;36m  File \u001b[0;32m\"<ipython-input-37-0486bb77b520>\"\u001b[0;36m, line \u001b[0;32m1\u001b[0m\n\u001b[0;31m    irf4Dc=pd.read_csv('../Dc/IRF4.csv',sep=\";\",usecols=[5:-1])\u001b[0m\n\u001b[0m                                                          ^\u001b[0m\n\u001b[0;31mSyntaxError\u001b[0m\u001b[0;31m:\u001b[0m invalid syntax\n"
     ]
    }
   ],
   "source": [
    "irf4Dc=pd.read_csv('../Dc/IRF4.csv',sep=\";\""
   ]
  },
  {
   "cell_type": "code",
   "execution_count": 45,
   "metadata": {},
   "outputs": [
    {
     "data": {
      "text/html": [
       "<div>\n",
       "<style>\n",
       "    .dataframe thead tr:only-child th {\n",
       "        text-align: right;\n",
       "    }\n",
       "\n",
       "    .dataframe thead th {\n",
       "        text-align: left;\n",
       "    }\n",
       "\n",
       "    .dataframe tbody tr th {\n",
       "        vertical-align: top;\n",
       "    }\n",
       "</style>\n",
       "<table border=\"1\" class=\"dataframe\">\n",
       "  <thead>\n",
       "    <tr style=\"text-align: right;\">\n",
       "      <th></th>\n",
       "      <th>X0min_neg_effect-X0min_neg_cause</th>\n",
       "      <th>X15min_effect-X0min_neg_cause</th>\n",
       "      <th>X15min_effect-X15min_cause</th>\n",
       "      <th>X30min_effect-X0min_neg_cause</th>\n",
       "      <th>X30min_effect-X15min_cause</th>\n",
       "      <th>X30min_effect-X30min_cause</th>\n",
       "      <th>X90min_effect-X0min_neg_cause</th>\n",
       "      <th>X90min_effect-X15min_cause</th>\n",
       "      <th>X90min_effect-X30min_cause</th>\n",
       "      <th>X90min_effect-X90min_cause</th>\n",
       "      <th>...</th>\n",
       "      <th>X240min_effect-X240min_cause</th>\n",
       "      <th>X360min_effect-X0min_neg_cause</th>\n",
       "      <th>X360min_effect-X15min_cause</th>\n",
       "      <th>X360min_effect-X30min_cause</th>\n",
       "      <th>X360min_effect-X90min_cause</th>\n",
       "      <th>X360min_effect-X120min_cause</th>\n",
       "      <th>X360min_effect-X180min_cause</th>\n",
       "      <th>X360min_effect-X210min_cause</th>\n",
       "      <th>X360min_effect-X240min_cause</th>\n",
       "      <th>X360min_effect-X360min_cause</th>\n",
       "    </tr>\n",
       "  </thead>\n",
       "  <tbody>\n",
       "    <tr>\n",
       "      <th>102</th>\n",
       "      <td>0.586861</td>\n",
       "      <td>0.229680</td>\n",
       "      <td>0.699956</td>\n",
       "      <td>0.442469</td>\n",
       "      <td>0.234291</td>\n",
       "      <td>0.480270</td>\n",
       "      <td>-0.113705</td>\n",
       "      <td>0.021928</td>\n",
       "      <td>-0.093741</td>\n",
       "      <td>0.429678</td>\n",
       "      <td>...</td>\n",
       "      <td>2.388120</td>\n",
       "      <td>-0.245855</td>\n",
       "      <td>-0.065930</td>\n",
       "      <td>-0.264162</td>\n",
       "      <td>0.177189</td>\n",
       "      <td>0.772294</td>\n",
       "      <td>0.640198</td>\n",
       "      <td>0.274996</td>\n",
       "      <td>-0.348037</td>\n",
       "      <td>1.969472</td>\n",
       "    </tr>\n",
       "    <tr>\n",
       "      <th>103</th>\n",
       "      <td>0.799353</td>\n",
       "      <td>0.761610</td>\n",
       "      <td>1.062872</td>\n",
       "      <td>-0.149231</td>\n",
       "      <td>-0.140814</td>\n",
       "      <td>0.268250</td>\n",
       "      <td>0.109091</td>\n",
       "      <td>0.121278</td>\n",
       "      <td>-0.086808</td>\n",
       "      <td>0.148070</td>\n",
       "      <td>...</td>\n",
       "      <td>0.380632</td>\n",
       "      <td>0.328329</td>\n",
       "      <td>0.292574</td>\n",
       "      <td>-0.103212</td>\n",
       "      <td>0.051283</td>\n",
       "      <td>0.316917</td>\n",
       "      <td>0.272946</td>\n",
       "      <td>0.198828</td>\n",
       "      <td>0.115947</td>\n",
       "      <td>0.692113</td>\n",
       "    </tr>\n",
       "    <tr>\n",
       "      <th>104</th>\n",
       "      <td>0.753384</td>\n",
       "      <td>-0.349794</td>\n",
       "      <td>1.318468</td>\n",
       "      <td>0.211955</td>\n",
       "      <td>-0.134256</td>\n",
       "      <td>0.461882</td>\n",
       "      <td>0.439737</td>\n",
       "      <td>-0.665943</td>\n",
       "      <td>0.172277</td>\n",
       "      <td>1.037117</td>\n",
       "      <td>...</td>\n",
       "      <td>1.134065</td>\n",
       "      <td>0.288913</td>\n",
       "      <td>-1.337756</td>\n",
       "      <td>-0.014677</td>\n",
       "      <td>1.004365</td>\n",
       "      <td>1.180434</td>\n",
       "      <td>0.860087</td>\n",
       "      <td>-0.003583</td>\n",
       "      <td>-0.943614</td>\n",
       "      <td>5.211742</td>\n",
       "    </tr>\n",
       "    <tr>\n",
       "      <th>105</th>\n",
       "      <td>0.959816</td>\n",
       "      <td>-0.160661</td>\n",
       "      <td>0.771176</td>\n",
       "      <td>0.170137</td>\n",
       "      <td>-0.244917</td>\n",
       "      <td>0.490405</td>\n",
       "      <td>-0.039809</td>\n",
       "      <td>0.120091</td>\n",
       "      <td>-0.129944</td>\n",
       "      <td>0.164500</td>\n",
       "      <td>...</td>\n",
       "      <td>0.418782</td>\n",
       "      <td>0.105937</td>\n",
       "      <td>-0.077353</td>\n",
       "      <td>0.145458</td>\n",
       "      <td>-0.104564</td>\n",
       "      <td>0.089727</td>\n",
       "      <td>0.196824</td>\n",
       "      <td>-0.061701</td>\n",
       "      <td>0.084830</td>\n",
       "      <td>0.228580</td>\n",
       "    </tr>\n",
       "    <tr>\n",
       "      <th>106</th>\n",
       "      <td>1.860231</td>\n",
       "      <td>0.957223</td>\n",
       "      <td>1.715041</td>\n",
       "      <td>-0.797369</td>\n",
       "      <td>-0.135379</td>\n",
       "      <td>1.626477</td>\n",
       "      <td>-0.979722</td>\n",
       "      <td>-0.422200</td>\n",
       "      <td>0.551456</td>\n",
       "      <td>1.199750</td>\n",
       "      <td>...</td>\n",
       "      <td>0.655804</td>\n",
       "      <td>-1.276193</td>\n",
       "      <td>-1.189938</td>\n",
       "      <td>0.286627</td>\n",
       "      <td>1.079101</td>\n",
       "      <td>0.935438</td>\n",
       "      <td>0.778107</td>\n",
       "      <td>-0.648928</td>\n",
       "      <td>-0.411956</td>\n",
       "      <td>2.801222</td>\n",
       "    </tr>\n",
       "  </tbody>\n",
       "</table>\n",
       "<p>5 rows × 45 columns</p>\n",
       "</div>"
      ],
      "text/plain": [
       "     X0min_neg_effect-X0min_neg_cause  X15min_effect-X0min_neg_cause  \\\n",
       "102                          0.586861                       0.229680   \n",
       "103                          0.799353                       0.761610   \n",
       "104                          0.753384                      -0.349794   \n",
       "105                          0.959816                      -0.160661   \n",
       "106                          1.860231                       0.957223   \n",
       "\n",
       "     X15min_effect-X15min_cause  X30min_effect-X0min_neg_cause  \\\n",
       "102                    0.699956                       0.442469   \n",
       "103                    1.062872                      -0.149231   \n",
       "104                    1.318468                       0.211955   \n",
       "105                    0.771176                       0.170137   \n",
       "106                    1.715041                      -0.797369   \n",
       "\n",
       "     X30min_effect-X15min_cause  X30min_effect-X30min_cause  \\\n",
       "102                    0.234291                    0.480270   \n",
       "103                   -0.140814                    0.268250   \n",
       "104                   -0.134256                    0.461882   \n",
       "105                   -0.244917                    0.490405   \n",
       "106                   -0.135379                    1.626477   \n",
       "\n",
       "     X90min_effect-X0min_neg_cause  X90min_effect-X15min_cause  \\\n",
       "102                      -0.113705                    0.021928   \n",
       "103                       0.109091                    0.121278   \n",
       "104                       0.439737                   -0.665943   \n",
       "105                      -0.039809                    0.120091   \n",
       "106                      -0.979722                   -0.422200   \n",
       "\n",
       "     X90min_effect-X30min_cause  X90min_effect-X90min_cause  \\\n",
       "102                   -0.093741                    0.429678   \n",
       "103                   -0.086808                    0.148070   \n",
       "104                    0.172277                    1.037117   \n",
       "105                   -0.129944                    0.164500   \n",
       "106                    0.551456                    1.199750   \n",
       "\n",
       "                 ...               X240min_effect-X240min_cause  \\\n",
       "102              ...                                   2.388120   \n",
       "103              ...                                   0.380632   \n",
       "104              ...                                   1.134065   \n",
       "105              ...                                   0.418782   \n",
       "106              ...                                   0.655804   \n",
       "\n",
       "     X360min_effect-X0min_neg_cause  X360min_effect-X15min_cause  \\\n",
       "102                       -0.245855                    -0.065930   \n",
       "103                        0.328329                     0.292574   \n",
       "104                        0.288913                    -1.337756   \n",
       "105                        0.105937                    -0.077353   \n",
       "106                       -1.276193                    -1.189938   \n",
       "\n",
       "     X360min_effect-X30min_cause  X360min_effect-X90min_cause  \\\n",
       "102                    -0.264162                     0.177189   \n",
       "103                    -0.103212                     0.051283   \n",
       "104                    -0.014677                     1.004365   \n",
       "105                     0.145458                    -0.104564   \n",
       "106                     0.286627                     1.079101   \n",
       "\n",
       "     X360min_effect-X120min_cause  X360min_effect-X180min_cause  \\\n",
       "102                      0.772294                      0.640198   \n",
       "103                      0.316917                      0.272946   \n",
       "104                      1.180434                      0.860087   \n",
       "105                      0.089727                      0.196824   \n",
       "106                      0.935438                      0.778107   \n",
       "\n",
       "     X360min_effect-X210min_cause  X360min_effect-X240min_cause  \\\n",
       "102                      0.274996                     -0.348037   \n",
       "103                      0.198828                      0.115947   \n",
       "104                     -0.003583                     -0.943614   \n",
       "105                     -0.061701                      0.084830   \n",
       "106                     -0.648928                     -0.411956   \n",
       "\n",
       "     X360min_effect-X360min_cause  \n",
       "102                      1.969472  \n",
       "103                      0.692113  \n",
       "104                      5.211742  \n",
       "105                      0.228580  \n",
       "106                      2.801222  \n",
       "\n",
       "[5 rows x 45 columns]"
      ]
     },
     "execution_count": 45,
     "metadata": {},
     "output_type": "execute_result"
    }
   ],
   "source": [
    "irf4Dc[irf4Dc.columns[5:]].loc[irf4IndesxList].head()"
   ]
  },
  {
   "cell_type": "code",
   "execution_count": null,
   "metadata": {},
   "outputs": [],
   "source": []
  }
 ],
 "metadata": {
  "kernelspec": {
   "display_name": "Python 3",
   "language": "python",
   "name": "python3"
  },
  "language_info": {
   "codemirror_mode": {
    "name": "ipython",
    "version": 3
   },
   "file_extension": ".py",
   "mimetype": "text/x-python",
   "name": "python",
   "nbconvert_exporter": "python",
   "pygments_lexer": "ipython3",
   "version": "3.6.3"
  }
 },
 "nbformat": 4,
 "nbformat_minor": 2
}
