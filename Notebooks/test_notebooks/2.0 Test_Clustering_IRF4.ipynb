{
 "cells": [
  {
   "cell_type": "markdown",
   "metadata": {},
   "source": [
    "# Clustering"
   ]
  },
  {
   "cell_type": "code",
   "execution_count": 1,
   "metadata": {
    "collapsed": true
   },
   "outputs": [],
   "source": [
    "import gc\n",
    "import pandas as pd\n",
    "import glob\n",
    "import sklearn\n",
    "import numpy as np"
   ]
  },
  {
   "cell_type": "code",
   "execution_count": 2,
   "metadata": {
    "collapsed": true
   },
   "outputs": [],
   "source": [
    "dcFiles=glob.glob(\"../Dc/*\")\n",
    "diFiles=glob.glob(\"../Di/*\")"
   ]
  },
  {
   "cell_type": "code",
   "execution_count": 3,
   "metadata": {
    "collapsed": true
   },
   "outputs": [],
   "source": [
    "trainIndexFiles=glob.glob(\"../Train/*\")\n",
    "testIndexFiles=glob.glob(\"../Test/*\")"
   ]
  },
  {
   "cell_type": "code",
   "execution_count": 4,
   "metadata": {},
   "outputs": [
    {
     "data": {
      "text/plain": [
       "['../Dc/Jnk.csv',\n",
       " '../Dc/IRF4.csv',\n",
       " '../Dc/LEF1.csv',\n",
       " '../Dc/Ikk2.csv',\n",
       " '../Dc/CTNNB1.csv',\n",
       " '../Dc/Erk.csv',\n",
       " '../Dc/MYC.csv']"
      ]
     },
     "execution_count": 4,
     "metadata": {},
     "output_type": "execute_result"
    }
   ],
   "source": [
    "dcFiles"
   ]
  },
  {
   "cell_type": "code",
   "execution_count": 5,
   "metadata": {},
   "outputs": [
    {
     "data": {
      "text/plain": [
       "['../Train/LEF1.index.csv',\n",
       " '../Train/MYC.index.csv',\n",
       " '../Train/IRF4.index.csv',\n",
       " '../Train/Jnk.index.csv',\n",
       " '../Train/Ikk2.index.csv',\n",
       " '../Train/Erk.index.csv',\n",
       " '../Train/CTNNB1.index.csv']"
      ]
     },
     "execution_count": 5,
     "metadata": {},
     "output_type": "execute_result"
    }
   ],
   "source": [
    "trainIndexFiles"
   ]
  },
  {
   "cell_type": "markdown",
   "metadata": {},
   "source": [
    "# Setting indexes to read"
   ]
  },
  {
   "cell_type": "code",
   "execution_count": 6,
   "metadata": {},
   "outputs": [
    {
     "data": {
      "text/html": [
       "<div>\n",
       "<style>\n",
       "    .dataframe thead tr:only-child th {\n",
       "        text-align: right;\n",
       "    }\n",
       "\n",
       "    .dataframe thead th {\n",
       "        text-align: left;\n",
       "    }\n",
       "\n",
       "    .dataframe tbody tr th {\n",
       "        vertical-align: top;\n",
       "    }\n",
       "</style>\n",
       "<table border=\"1\" class=\"dataframe\">\n",
       "  <thead>\n",
       "    <tr style=\"text-align: right;\">\n",
       "      <th></th>\n",
       "      <th>0</th>\n",
       "      <th>1</th>\n",
       "    </tr>\n",
       "  </thead>\n",
       "  <tbody>\n",
       "    <tr>\n",
       "      <th>0</th>\n",
       "      <td>102</td>\n",
       "      <td>1.0</td>\n",
       "    </tr>\n",
       "    <tr>\n",
       "      <th>1</th>\n",
       "      <td>103</td>\n",
       "      <td>1.0</td>\n",
       "    </tr>\n",
       "    <tr>\n",
       "      <th>2</th>\n",
       "      <td>104</td>\n",
       "      <td>1.0</td>\n",
       "    </tr>\n",
       "    <tr>\n",
       "      <th>3</th>\n",
       "      <td>105</td>\n",
       "      <td>1.0</td>\n",
       "    </tr>\n",
       "    <tr>\n",
       "      <th>4</th>\n",
       "      <td>106</td>\n",
       "      <td>1.0</td>\n",
       "    </tr>\n",
       "  </tbody>\n",
       "</table>\n",
       "</div>"
      ],
      "text/plain": [
       "     0    1\n",
       "0  102  1.0\n",
       "1  103  1.0\n",
       "2  104  1.0\n",
       "3  105  1.0\n",
       "4  106  1.0"
      ]
     },
     "execution_count": 6,
     "metadata": {},
     "output_type": "execute_result"
    }
   ],
   "source": [
    "irf4Indexes=pd.read_csv('../Train/MYC.index.csv',sep=\";\")\n",
    "irf4Indexes.head()"
   ]
  },
  {
   "cell_type": "code",
   "execution_count": 7,
   "metadata": {},
   "outputs": [
    {
     "data": {
      "text/plain": [
       "pandas.core.series.Series"
      ]
     },
     "execution_count": 7,
     "metadata": {},
     "output_type": "execute_result"
    }
   ],
   "source": [
    "type(irf4Indexes['0'])"
   ]
  },
  {
   "cell_type": "code",
   "execution_count": 8,
   "metadata": {
    "collapsed": true
   },
   "outputs": [],
   "source": [
    "irf4IndesxList=list(irf4Indexes['0'])"
   ]
  },
  {
   "cell_type": "code",
   "execution_count": 9,
   "metadata": {},
   "outputs": [
    {
     "data": {
      "text/plain": [
       "5038"
      ]
     },
     "execution_count": 9,
     "metadata": {},
     "output_type": "execute_result"
    }
   ],
   "source": [
    "len(irf4IndesxList)"
   ]
  },
  {
   "cell_type": "code",
   "execution_count": 11,
   "metadata": {},
   "outputs": [],
   "source": [
    "irf4Dc=pd.read_csv('../Dc/IRF4.csv',sep=\";\")"
   ]
  },
  {
   "cell_type": "code",
   "execution_count": 12,
   "metadata": {},
   "outputs": [
    {
     "data": {
      "text/html": [
       "<div>\n",
       "<style>\n",
       "    .dataframe thead tr:only-child th {\n",
       "        text-align: right;\n",
       "    }\n",
       "\n",
       "    .dataframe thead th {\n",
       "        text-align: left;\n",
       "    }\n",
       "\n",
       "    .dataframe tbody tr th {\n",
       "        vertical-align: top;\n",
       "    }\n",
       "</style>\n",
       "<table border=\"1\" class=\"dataframe\">\n",
       "  <thead>\n",
       "    <tr style=\"text-align: right;\">\n",
       "      <th></th>\n",
       "      <th>X0min_neg_effect-X0min_neg_cause</th>\n",
       "      <th>X15min_effect-X0min_neg_cause</th>\n",
       "      <th>X15min_effect-X15min_cause</th>\n",
       "      <th>X30min_effect-X0min_neg_cause</th>\n",
       "      <th>X30min_effect-X15min_cause</th>\n",
       "      <th>X30min_effect-X30min_cause</th>\n",
       "      <th>X90min_effect-X0min_neg_cause</th>\n",
       "      <th>X90min_effect-X15min_cause</th>\n",
       "      <th>X90min_effect-X30min_cause</th>\n",
       "      <th>X90min_effect-X90min_cause</th>\n",
       "      <th>...</th>\n",
       "      <th>X240min_effect-X240min_cause</th>\n",
       "      <th>X360min_effect-X0min_neg_cause</th>\n",
       "      <th>X360min_effect-X15min_cause</th>\n",
       "      <th>X360min_effect-X30min_cause</th>\n",
       "      <th>X360min_effect-X90min_cause</th>\n",
       "      <th>X360min_effect-X120min_cause</th>\n",
       "      <th>X360min_effect-X180min_cause</th>\n",
       "      <th>X360min_effect-X210min_cause</th>\n",
       "      <th>X360min_effect-X240min_cause</th>\n",
       "      <th>X360min_effect-X360min_cause</th>\n",
       "    </tr>\n",
       "  </thead>\n",
       "  <tbody>\n",
       "    <tr>\n",
       "      <th>102</th>\n",
       "      <td>0.586861</td>\n",
       "      <td>0.229680</td>\n",
       "      <td>0.699956</td>\n",
       "      <td>0.442469</td>\n",
       "      <td>0.234291</td>\n",
       "      <td>0.480270</td>\n",
       "      <td>-0.113705</td>\n",
       "      <td>0.021928</td>\n",
       "      <td>-0.093741</td>\n",
       "      <td>0.429678</td>\n",
       "      <td>...</td>\n",
       "      <td>2.388120</td>\n",
       "      <td>-0.245855</td>\n",
       "      <td>-0.065930</td>\n",
       "      <td>-0.264162</td>\n",
       "      <td>0.177189</td>\n",
       "      <td>0.772294</td>\n",
       "      <td>0.640198</td>\n",
       "      <td>0.274996</td>\n",
       "      <td>-0.348037</td>\n",
       "      <td>1.969472</td>\n",
       "    </tr>\n",
       "    <tr>\n",
       "      <th>103</th>\n",
       "      <td>0.799353</td>\n",
       "      <td>0.761610</td>\n",
       "      <td>1.062872</td>\n",
       "      <td>-0.149231</td>\n",
       "      <td>-0.140814</td>\n",
       "      <td>0.268250</td>\n",
       "      <td>0.109091</td>\n",
       "      <td>0.121278</td>\n",
       "      <td>-0.086808</td>\n",
       "      <td>0.148070</td>\n",
       "      <td>...</td>\n",
       "      <td>0.380632</td>\n",
       "      <td>0.328329</td>\n",
       "      <td>0.292574</td>\n",
       "      <td>-0.103212</td>\n",
       "      <td>0.051283</td>\n",
       "      <td>0.316917</td>\n",
       "      <td>0.272946</td>\n",
       "      <td>0.198828</td>\n",
       "      <td>0.115947</td>\n",
       "      <td>0.692113</td>\n",
       "    </tr>\n",
       "    <tr>\n",
       "      <th>104</th>\n",
       "      <td>0.753384</td>\n",
       "      <td>-0.349794</td>\n",
       "      <td>1.318468</td>\n",
       "      <td>0.211955</td>\n",
       "      <td>-0.134256</td>\n",
       "      <td>0.461882</td>\n",
       "      <td>0.439737</td>\n",
       "      <td>-0.665943</td>\n",
       "      <td>0.172277</td>\n",
       "      <td>1.037117</td>\n",
       "      <td>...</td>\n",
       "      <td>1.134065</td>\n",
       "      <td>0.288913</td>\n",
       "      <td>-1.337756</td>\n",
       "      <td>-0.014677</td>\n",
       "      <td>1.004365</td>\n",
       "      <td>1.180434</td>\n",
       "      <td>0.860087</td>\n",
       "      <td>-0.003583</td>\n",
       "      <td>-0.943614</td>\n",
       "      <td>5.211742</td>\n",
       "    </tr>\n",
       "    <tr>\n",
       "      <th>105</th>\n",
       "      <td>0.959816</td>\n",
       "      <td>-0.160661</td>\n",
       "      <td>0.771176</td>\n",
       "      <td>0.170137</td>\n",
       "      <td>-0.244917</td>\n",
       "      <td>0.490405</td>\n",
       "      <td>-0.039809</td>\n",
       "      <td>0.120091</td>\n",
       "      <td>-0.129944</td>\n",
       "      <td>0.164500</td>\n",
       "      <td>...</td>\n",
       "      <td>0.418782</td>\n",
       "      <td>0.105937</td>\n",
       "      <td>-0.077353</td>\n",
       "      <td>0.145458</td>\n",
       "      <td>-0.104564</td>\n",
       "      <td>0.089727</td>\n",
       "      <td>0.196824</td>\n",
       "      <td>-0.061701</td>\n",
       "      <td>0.084830</td>\n",
       "      <td>0.228580</td>\n",
       "    </tr>\n",
       "    <tr>\n",
       "      <th>106</th>\n",
       "      <td>1.860231</td>\n",
       "      <td>0.957223</td>\n",
       "      <td>1.715041</td>\n",
       "      <td>-0.797369</td>\n",
       "      <td>-0.135379</td>\n",
       "      <td>1.626477</td>\n",
       "      <td>-0.979722</td>\n",
       "      <td>-0.422200</td>\n",
       "      <td>0.551456</td>\n",
       "      <td>1.199750</td>\n",
       "      <td>...</td>\n",
       "      <td>0.655804</td>\n",
       "      <td>-1.276193</td>\n",
       "      <td>-1.189938</td>\n",
       "      <td>0.286627</td>\n",
       "      <td>1.079101</td>\n",
       "      <td>0.935438</td>\n",
       "      <td>0.778107</td>\n",
       "      <td>-0.648928</td>\n",
       "      <td>-0.411956</td>\n",
       "      <td>2.801222</td>\n",
       "    </tr>\n",
       "  </tbody>\n",
       "</table>\n",
       "<p>5 rows × 45 columns</p>\n",
       "</div>"
      ],
      "text/plain": [
       "     X0min_neg_effect-X0min_neg_cause  X15min_effect-X0min_neg_cause  \\\n",
       "102                          0.586861                       0.229680   \n",
       "103                          0.799353                       0.761610   \n",
       "104                          0.753384                      -0.349794   \n",
       "105                          0.959816                      -0.160661   \n",
       "106                          1.860231                       0.957223   \n",
       "\n",
       "     X15min_effect-X15min_cause  X30min_effect-X0min_neg_cause  \\\n",
       "102                    0.699956                       0.442469   \n",
       "103                    1.062872                      -0.149231   \n",
       "104                    1.318468                       0.211955   \n",
       "105                    0.771176                       0.170137   \n",
       "106                    1.715041                      -0.797369   \n",
       "\n",
       "     X30min_effect-X15min_cause  X30min_effect-X30min_cause  \\\n",
       "102                    0.234291                    0.480270   \n",
       "103                   -0.140814                    0.268250   \n",
       "104                   -0.134256                    0.461882   \n",
       "105                   -0.244917                    0.490405   \n",
       "106                   -0.135379                    1.626477   \n",
       "\n",
       "     X90min_effect-X0min_neg_cause  X90min_effect-X15min_cause  \\\n",
       "102                      -0.113705                    0.021928   \n",
       "103                       0.109091                    0.121278   \n",
       "104                       0.439737                   -0.665943   \n",
       "105                      -0.039809                    0.120091   \n",
       "106                      -0.979722                   -0.422200   \n",
       "\n",
       "     X90min_effect-X30min_cause  X90min_effect-X90min_cause  \\\n",
       "102                   -0.093741                    0.429678   \n",
       "103                   -0.086808                    0.148070   \n",
       "104                    0.172277                    1.037117   \n",
       "105                   -0.129944                    0.164500   \n",
       "106                    0.551456                    1.199750   \n",
       "\n",
       "                 ...               X240min_effect-X240min_cause  \\\n",
       "102              ...                                   2.388120   \n",
       "103              ...                                   0.380632   \n",
       "104              ...                                   1.134065   \n",
       "105              ...                                   0.418782   \n",
       "106              ...                                   0.655804   \n",
       "\n",
       "     X360min_effect-X0min_neg_cause  X360min_effect-X15min_cause  \\\n",
       "102                       -0.245855                    -0.065930   \n",
       "103                        0.328329                     0.292574   \n",
       "104                        0.288913                    -1.337756   \n",
       "105                        0.105937                    -0.077353   \n",
       "106                       -1.276193                    -1.189938   \n",
       "\n",
       "     X360min_effect-X30min_cause  X360min_effect-X90min_cause  \\\n",
       "102                    -0.264162                     0.177189   \n",
       "103                    -0.103212                     0.051283   \n",
       "104                    -0.014677                     1.004365   \n",
       "105                     0.145458                    -0.104564   \n",
       "106                     0.286627                     1.079101   \n",
       "\n",
       "     X360min_effect-X120min_cause  X360min_effect-X180min_cause  \\\n",
       "102                      0.772294                      0.640198   \n",
       "103                      0.316917                      0.272946   \n",
       "104                      1.180434                      0.860087   \n",
       "105                      0.089727                      0.196824   \n",
       "106                      0.935438                      0.778107   \n",
       "\n",
       "     X360min_effect-X210min_cause  X360min_effect-X240min_cause  \\\n",
       "102                      0.274996                     -0.348037   \n",
       "103                      0.198828                      0.115947   \n",
       "104                     -0.003583                     -0.943614   \n",
       "105                     -0.061701                      0.084830   \n",
       "106                     -0.648928                     -0.411956   \n",
       "\n",
       "     X360min_effect-X360min_cause  \n",
       "102                      1.969472  \n",
       "103                      0.692113  \n",
       "104                      5.211742  \n",
       "105                      0.228580  \n",
       "106                      2.801222  \n",
       "\n",
       "[5 rows x 45 columns]"
      ]
     },
     "execution_count": 12,
     "metadata": {},
     "output_type": "execute_result"
    }
   ],
   "source": [
    "irf4Dc[irf4Dc.columns[5:]].loc[irf4IndesxList].head()"
   ]
  },
  {
   "cell_type": "code",
   "execution_count": 19,
   "metadata": {
    "collapsed": true
   },
   "outputs": [],
   "source": [
    "g = irf4Dc.columns.to_series().groupby(irf4Dc.dtypes).groups"
   ]
  },
  {
   "cell_type": "code",
   "execution_count": 25,
   "metadata": {},
   "outputs": [],
   "source": [
    "irf4DcTrain=irf4Dc[irf4Dc.columns[5:]].loc[irf4IndesxList]"
   ]
  },
  {
   "cell_type": "code",
   "execution_count": 45,
   "metadata": {},
   "outputs": [],
   "source": [
    "from sklearn.cluster import MiniBatchKMeans\n",
    "from sklearn.metrics import pairwise_distances_argmin,silhouette_score\n",
    "mbk=MiniBatchKMeans(init='k-means++', n_clusters=10,\n",
    "                      n_init=10, max_no_improvement=10, verbose=0)\n",
    "\n",
    "mbk.fit(irf4DcTrain)\n",
    "labels = mbk.labels_"
   ]
  },
  {
   "cell_type": "code",
   "execution_count": 46,
   "metadata": {},
   "outputs": [],
   "source": [
    "mbk_means_labels = pairwise_distances_argmin(irf4DcTrain, np.sort(mbk\n",
    "                                                        .cluster_centers_, axis=0))"
   ]
  },
  {
   "cell_type": "code",
   "execution_count": 47,
   "metadata": {},
   "outputs": [
    {
     "data": {
      "text/plain": [
       "array([4, 2, 6, ..., 2, 5, 2])"
      ]
     },
     "execution_count": 47,
     "metadata": {},
     "output_type": "execute_result"
    }
   ],
   "source": [
    "mbk_means_labels"
   ]
  },
  {
   "cell_type": "code",
   "execution_count": 48,
   "metadata": {},
   "outputs": [
    {
     "data": {
      "text/plain": [
       "0.17972625248531049"
      ]
     },
     "execution_count": 48,
     "metadata": {},
     "output_type": "execute_result"
    }
   ],
   "source": [
    "silhouette_score(irf4DcTrain, labels, metric='euclidean')"
   ]
  },
  {
   "cell_type": "markdown",
   "metadata": {},
   "source": [
    "# Testing for irf4"
   ]
  },
  {
   "cell_type": "code",
   "execution_count": 49,
   "metadata": {
    "collapsed": true
   },
   "outputs": [],
   "source": [
    "lstn_clusters=range(2,51)"
   ]
  },
  {
   "cell_type": "code",
   "execution_count": 52,
   "metadata": {
    "scrolled": true
   },
   "outputs": [
    {
     "name": "stdout",
     "output_type": "stream",
     "text": [
      "n clusters 2\n",
      "0.315394078758\n",
      "n clusters 3\n",
      "0.314077762815\n",
      "n clusters 4\n",
      "0.2485019823\n",
      "n clusters 5\n",
      "0.194611061018\n",
      "n clusters 6\n",
      "0.193666072231\n",
      "n clusters 7\n",
      "0.210140001819\n",
      "n clusters 8\n",
      "0.154602929803\n",
      "n clusters 9\n",
      "0.190191010473\n",
      "n clusters 10\n",
      "0.176930433468\n",
      "n clusters 11\n",
      "0.108403163949\n",
      "n clusters 12\n",
      "0.138745336106\n",
      "n clusters 13\n",
      "0.0678031679945\n",
      "n clusters 14\n",
      "0.145713512117\n",
      "n clusters 15\n",
      "0.11925880629\n",
      "n clusters 16\n",
      "0.0853775026651\n",
      "n clusters 17\n",
      "0.111437243508\n",
      "n clusters 18\n",
      "0.0813902027617\n",
      "n clusters 19\n",
      "0.0973853958203\n",
      "n clusters 20\n",
      "0.0824602133179\n",
      "n clusters 21\n",
      "0.103153167575\n",
      "n clusters 22\n",
      "0.0813482550815\n",
      "n clusters 23\n",
      "0.0653624371515\n",
      "n clusters 24\n",
      "0.0915362057445\n",
      "n clusters 25\n",
      "0.0911195160189\n",
      "n clusters 26\n",
      "0.0682922917494\n",
      "n clusters 27\n",
      "0.10193143281\n",
      "n clusters 28\n",
      "0.100996732656\n",
      "n clusters 29\n",
      "0.0994679415846\n",
      "n clusters 30\n",
      "0.0769834767387\n",
      "n clusters 31\n",
      "0.0849709472643\n",
      "n clusters 32\n",
      "0.0948930448616\n",
      "n clusters 33\n",
      "0.0433289649433\n",
      "n clusters 34\n",
      "0.0805455197027\n",
      "n clusters 35\n",
      "0.0750815633104\n",
      "n clusters 36\n",
      "0.0900356422652\n",
      "n clusters 37\n",
      "0.0890738895399\n",
      "n clusters 38\n",
      "0.0613062881866\n",
      "n clusters 39\n",
      "0.076240599251\n",
      "n clusters 40\n",
      "0.0743602498452\n",
      "n clusters 41\n",
      "0.071217843023\n",
      "n clusters 42\n",
      "0.0501604041911\n",
      "n clusters 43\n",
      "0.0434548526771\n",
      "n clusters 44\n",
      "0.0625920769433\n",
      "n clusters 45\n",
      "0.0763883361768\n",
      "n clusters 46\n",
      "0.0766891066419\n",
      "n clusters 47\n",
      "0.0751443812863\n",
      "n clusters 48\n",
      "0.0618308138439\n",
      "n clusters 49\n",
      "0.0500175981266\n"
     ]
    }
   ],
   "source": [
    "for n in lstn_clusters:\n",
    "    mbk=MiniBatchKMeans(init='k-means++', n_clusters=n,\n",
    "                      n_init=10, max_no_improvement=10, verbose=0)\n",
    "\n",
    "    mbk.fit(irf4DcTrain)\n",
    "    labels = mbk.labels_\n",
    "    print(\"n clusters: \" + str(n))\n",
    "    print(\"silhouette score: \"str(silhouette_score(irf4DcTrain, labels, metric='euclidean')))\n",
    "    "
   ]
  },
  {
   "cell_type": "code",
   "execution_count": 53,
   "metadata": {},
   "outputs": [
    {
     "data": {
      "text/plain": [
       "159"
      ]
     },
     "execution_count": 53,
     "metadata": {},
     "output_type": "execute_result"
    }
   ],
   "source": [
    "gc.collect()"
   ]
  },
  {
   "cell_type": "code",
   "execution_count": 83,
   "metadata": {},
   "outputs": [
    {
     "name": "stdout",
     "output_type": "stream",
     "text": [
      "n clusters 2\n",
      "silhouette score: 0.345643248915\n",
      "n clusters 3\n",
      "silhouette score: 0.345980720105\n",
      "n clusters 4\n",
      "silhouette score: 0.173407760457\n",
      "n clusters 5\n",
      "silhouette score: 0.178583397321\n",
      "n clusters 6\n",
      "silhouette score: 0.113955327253\n",
      "n clusters 7\n",
      "silhouette score: 0.124487023648\n",
      "n clusters 8\n",
      "silhouette score: 0.130550304649\n",
      "n clusters 9\n",
      "silhouette score: 0.128944903998\n",
      "n clusters 10\n",
      "silhouette score: 0.132910094816\n",
      "n clusters 11\n",
      "silhouette score: 0.13459206439\n",
      "n clusters 12\n",
      "silhouette score: 0.113268770049\n",
      "n clusters 13\n",
      "silhouette score: 0.119402500664\n",
      "n clusters 14\n",
      "silhouette score: 0.113752394865\n",
      "n clusters 15\n",
      "silhouette score: 0.118613653057\n",
      "n clusters 16\n",
      "silhouette score: 0.117984526653\n",
      "n clusters 17\n",
      "silhouette score: 0.059101364108\n",
      "n clusters 18\n",
      "silhouette score: 0.0618059043887\n",
      "n clusters 19\n",
      "silhouette score: 0.0628743638572\n",
      "n clusters 20\n",
      "silhouette score: 0.0641001399339\n",
      "n clusters 21\n",
      "silhouette score: 0.065389446301\n",
      "n clusters 22\n",
      "silhouette score: 0.0668350608321\n",
      "n clusters 23\n",
      "silhouette score: 0.0666854177107\n",
      "n clusters 24\n",
      "silhouette score: 0.0686842099294\n",
      "n clusters 25\n",
      "silhouette score: 0.0706280500651\n",
      "n clusters 26\n",
      "silhouette score: 0.044112168709\n",
      "n clusters 27\n",
      "silhouette score: 0.0443262788156\n",
      "n clusters 28\n",
      "silhouette score: 0.0453508437803\n",
      "n clusters 29\n",
      "silhouette score: 0.0466193397675\n",
      "n clusters 30\n",
      "silhouette score: 0.0489137156993\n",
      "n clusters 31\n",
      "silhouette score: 0.0482582965749\n",
      "n clusters 32\n",
      "silhouette score: 0.0490955173588\n",
      "n clusters 33\n",
      "silhouette score: 0.0501283945484\n",
      "n clusters 34\n",
      "silhouette score: 0.0515938616352\n",
      "n clusters 35\n",
      "silhouette score: 0.0521917052227\n",
      "n clusters 36\n",
      "silhouette score: 0.0533883966176\n",
      "n clusters 37\n",
      "silhouette score: 0.05264199062\n",
      "n clusters 38\n",
      "silhouette score: 0.023533249517\n",
      "n clusters 39\n",
      "silhouette score: 0.0234329726696\n",
      "n clusters 40\n",
      "silhouette score: 0.0227748014654\n",
      "n clusters 41\n",
      "silhouette score: 0.0216236744865\n",
      "n clusters 42\n",
      "silhouette score: 0.0229180982825\n",
      "n clusters 43\n",
      "silhouette score: 0.0242863124629\n",
      "n clusters 44\n",
      "silhouette score: 0.0241847425556\n",
      "n clusters 45\n",
      "silhouette score: 0.024170202351\n",
      "n clusters 46\n",
      "silhouette score: 0.0248497895497\n",
      "n clusters 47\n",
      "silhouette score: 0.0233032023806\n",
      "n clusters 48\n",
      "silhouette score: 0.0238139205107\n",
      "n clusters 49\n",
      "silhouette score: 0.0239545547752\n"
     ]
    }
   ],
   "source": [
    "from sklearn.cluster import AgglomerativeClustering\n",
    "for n in lstn_clusters:\n",
    "    ac=AgglomerativeClustering(n_clusters=n).fit(irf4DcTrain)\n",
    "    labels = ac.labels_\n",
    "    print(\"n clusters \" + str(n))\n",
    "    print(\"silhouette score: \" +str(silhouette_score(irf4DcTrain, labels, metric='euclidean')))"
   ]
  },
  {
   "cell_type": "code",
   "execution_count": null,
   "metadata": {
    "collapsed": true
   },
   "outputs": [],
   "source": []
  },
  {
   "cell_type": "code",
   "execution_count": null,
   "metadata": {
    "collapsed": true
   },
   "outputs": [],
   "source": []
  }
 ],
 "metadata": {
  "kernelspec": {
   "display_name": "Python 3",
   "language": "python",
   "name": "python3"
  },
  "language_info": {
   "codemirror_mode": {
    "name": "ipython",
    "version": 3
   },
   "file_extension": ".py",
   "mimetype": "text/x-python",
   "name": "python",
   "nbconvert_exporter": "python",
   "pygments_lexer": "ipython3",
   "version": "3.6.3"
  }
 },
 "nbformat": 4,
 "nbformat_minor": 2
}
