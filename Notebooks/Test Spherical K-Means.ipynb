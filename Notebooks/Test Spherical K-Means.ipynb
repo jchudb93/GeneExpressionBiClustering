{
 "cells": [
  {
   "cell_type": "code",
   "execution_count": 3,
   "metadata": {},
   "outputs": [
    {
     "ename": "ModuleNotFoundError",
     "evalue": "No module named 'tabulate'",
     "output_type": "error",
     "traceback": [
      "\u001b[0;31m---------------------------------------------------------------------------\u001b[0m",
      "\u001b[0;31mModuleNotFoundError\u001b[0m                       Traceback (most recent call last)",
      "\u001b[0;32m<ipython-input-3-a907bf30522d>\u001b[0m in \u001b[0;36m<module>\u001b[0;34m()\u001b[0m\n\u001b[1;32m      4\u001b[0m \u001b[0;34m\u001b[0m\u001b[0m\n\u001b[1;32m      5\u001b[0m \u001b[0;32mimport\u001b[0m \u001b[0mnumpy\u001b[0m \u001b[0;32mas\u001b[0m \u001b[0mnp\u001b[0m\u001b[0;34m\u001b[0m\u001b[0m\n\u001b[0;32m----> 6\u001b[0;31m \u001b[0;32mfrom\u001b[0m \u001b[0mtabulate\u001b[0m \u001b[0;32mimport\u001b[0m \u001b[0mtabulate\u001b[0m\u001b[0;34m\u001b[0m\u001b[0m\n\u001b[0m\u001b[1;32m      7\u001b[0m \u001b[0;34m\u001b[0m\u001b[0m\n\u001b[1;32m      8\u001b[0m \u001b[0;32mimport\u001b[0m \u001b[0mlogging\u001b[0m\u001b[0;34m\u001b[0m\u001b[0m\n",
      "\u001b[0;31mModuleNotFoundError\u001b[0m: No module named 'tabulate'"
     ]
    }
   ],
   "source": [
    "import pandas as pd\n",
    "import numpy as np\n",
    "import spherecluster\n",
    "\n",
    "import numpy as np\n",
    "from tabulate import tabulate\n",
    "\n",
    "import logging\n",
    "from sklearn.cluster import KMeans\n",
    "\n",
    "from spherecluster import SphericalKMeans\n",
    "from spherecluster import VonMisesFisherMixture"
   ]
  },
  {
   "cell_type": "code",
   "execution_count": 2,
   "metadata": {},
   "outputs": [
    {
     "name": "stdout",
     "output_type": "stream",
     "text": [
      "Collecting spherecluster\n",
      "  Downloading spherecluster-0.1.5.tar.gz\n",
      "Requirement already satisfied: scikit-learn==0.19.0 in /home/a20125359/anaconda3/envs/Biclustering/lib/python3.6/site-packages (from spherecluster)\n",
      "Collecting pytest==3.2.1 (from spherecluster)\n",
      "  Downloading pytest-3.2.1-py2.py3-none-any.whl (186kB)\n",
      "\u001b[K    100% |████████████████████████████████| 194kB 117kB/s ta 0:00:01\n",
      "\u001b[?25hRequirement already satisfied: numpy in /home/a20125359/anaconda3/envs/Biclustering/lib/python3.6/site-packages (from spherecluster)\n",
      "Requirement already satisfied: scipy in /home/a20125359/anaconda3/envs/Biclustering/lib/python3.6/site-packages (from spherecluster)\n",
      "Collecting py>=1.4.33 (from pytest==3.2.1->spherecluster)\n",
      "  Downloading py-1.5.2-py2.py3-none-any.whl (88kB)\n",
      "\u001b[K    100% |████████████████████████████████| 92kB 121kB/s ta 0:00:011\n",
      "\u001b[?25hRequirement already satisfied: setuptools in /home/a20125359/anaconda3/envs/Biclustering/lib/python3.6/site-packages (from pytest==3.2.1->spherecluster)\n",
      "Building wheels for collected packages: spherecluster\n",
      "  Running setup.py bdist_wheel for spherecluster ... \u001b[?25ldone\n",
      "\u001b[?25h  Stored in directory: /home/a20125359/.cache/pip/wheels/23/0d/08/b52427c12aadac98bbf490f6314faecb1dc95f3a1ffc714bc8\n",
      "Successfully built spherecluster\n",
      "Installing collected packages: py, pytest, spherecluster\n",
      "Successfully installed py-1.5.2 pytest-3.2.1 spherecluster-0.1.5\n"
     ]
    }
   ],
   "source": [
    "!pip install spherecluster"
   ]
  },
  {
   "cell_type": "code",
   "execution_count": null,
   "metadata": {},
   "outputs": [],
   "source": []
  }
 ],
 "metadata": {
  "kernelspec": {
   "display_name": "Python 3",
   "language": "python",
   "name": "python3"
  },
  "language_info": {
   "codemirror_mode": {
    "name": "ipython",
    "version": 3
   },
   "file_extension": ".py",
   "mimetype": "text/x-python",
   "name": "python",
   "nbconvert_exporter": "python",
   "pygments_lexer": "ipython3",
   "version": "3.6.3"
  }
 },
 "nbformat": 4,
 "nbformat_minor": 2
}
