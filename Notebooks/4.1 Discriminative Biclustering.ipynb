{
 "cells": [
  {
   "cell_type": "markdown",
   "metadata": {},
   "source": [
    "# Discrminitive Biclustering"
   ]
  },
  {
   "cell_type": "code",
   "execution_count": 4,
   "metadata": {},
   "outputs": [],
   "source": [
    "%matplotlib inline\n",
    "import numpy as np\n",
    "import matplotlib.pyplot as plt\n",
    "import math\n",
    "\n",
    "from mpl_toolkits.mplot3d import Axes3D"
   ]
  },
  {
   "cell_type": "code",
   "execution_count": 5,
   "metadata": {},
   "outputs": [],
   "source": [
    "def three_dimensional_correlation(x, y):\n",
    "    \n",
    "    _x = x\n",
    "    _y = y\n",
    "    mean_point_x = np.mean(_x, axis=0)\n",
    "    mean_point_y = np.mean(_y, axis=0)\n",
    "    _J = len(_x)\n",
    "    \n",
    "    acc = 0\n",
    "    \n",
    "    for j in range(0,_J):\n",
    "        \n",
    "        x_axis_diff = _x[j][0] - mean_point_x[0]\n",
    "        y_axis_diff = _x[j][1] - mean_point_x[1]\n",
    "        \n",
    "        x_distance = math.hypot(x_axis_diff, y_axis_diff)\n",
    "        \n",
    "        x_axis_diff = _y[j][0] - mean_point_y[0]\n",
    "        y_axis_diff = _y[j][1] - mean_point_y[1]\n",
    "        \n",
    "        y_distance = math.hypot(x_axis_diff, y_axis_diff)\n",
    "        \n",
    "        diff_term = (x_distance - y_distance) / 2.0\n",
    "        \n",
    "        diff_term = diff_term ** 2.0\n",
    "        \n",
    "        acc += diff_term\n",
    "        \n",
    "    return (1-acc/abs(_J))"
   ]
  },
  {
   "cell_type": "code",
   "execution_count": 6,
   "metadata": {},
   "outputs": [],
   "source": [
    "def three_dimensional_pair_coherence(X):\n",
    "    \n",
    "    _I = len(X)\n",
    "    HP = 0\n",
    "    \n",
    "    for i in range(0, len(X)):\n",
    "    \n",
    "        for j in range(i+1, len(X)):\n",
    "            \n",
    "            if i == j:\n",
    "                \n",
    "                break\n",
    "                \n",
    "            x = X[i]\n",
    "            y = X[j]\n",
    "            correlation = three_dimensional_correlation(x,y)\n",
    "            HP += correlation\n",
    "            \n",
    "    HP *= math.fabs(2.0)/(math.fabs(_I)*(math.fabs(_I)-1.0)) if _I > 1 else 0\n",
    "    \n",
    "    return HP"
   ]
  },
  {
   "cell_type": "code",
   "execution_count": 7,
   "metadata": {},
   "outputs": [],
   "source": [
    "_x = np.array([[0.0,0.0],[0.25,0.25],[0.5,0.5],[0.25,0.25],[0.0,0.0],[-0.25,-0.25]])\n",
    "test_vectors = np.array([_x]*150)\n",
    "test_data = []\n",
    "\n",
    "for i in range(0,100):\n",
    "    \n",
    "    test_data.append(np.random.random((len(_x),2)) * 2 - 1)\n",
    "\n",
    "final_test = np.concatenate([np.array(test_data),test_vectors])"
   ]
  },
  {
   "cell_type": "code",
   "execution_count": 29,
   "metadata": {},
   "outputs": [
    {
     "data": {
      "text/plain": [
       "array([[-0.49963579, -0.42893064],\n",
       "       [-0.15995957, -0.63801621],\n",
       "       [ 0.94478079,  0.05470254],\n",
       "       [ 0.14218919, -0.32757727],\n",
       "       [-0.5289001 ,  0.9881997 ],\n",
       "       [-0.17946867,  0.84200183]])"
      ]
     },
     "execution_count": 29,
     "metadata": {},
     "output_type": "execute_result"
    }
   ],
   "source": [
    "final_test[0]"
   ]
  },
  {
   "cell_type": "code",
   "execution_count": 27,
   "metadata": {},
   "outputs": [
    {
     "data": {
      "text/plain": [
       "array([[ 0.00595623,  0.02869055],\n",
       "       [ 0.16032397,  0.15246542],\n",
       "       [ 0.32841348,  0.30318653],\n",
       "       [ 0.13409034,  0.15495344],\n",
       "       [-0.01318911,  0.0206617 ],\n",
       "       [-0.14092852, -0.14330522]])"
      ]
     },
     "execution_count": 27,
     "metadata": {},
     "output_type": "execute_result"
    }
   ],
   "source": [
    "avg_trajectory = np.array([np.mean(final_test[:,i], axis = 0) for i in range(final_test.shape[1])])\n",
    "avg_trajectory"
   ]
  },
  {
   "cell_type": "code",
   "execution_count": 28,
   "metadata": {},
   "outputs": [],
   "source": [
    "def compute_average_trajectory(bicluster):\n",
    "    \n",
    "    average_trajectory = np.array([np.mean(bicluster.data[:,i], axis = 0) \n",
    "                                   for i in range(bicluster.data.shape[1])])\n",
    "    \n",
    "    return average_trajectory"
   ]
  },
  {
   "cell_type": "code",
   "execution_count": 30,
   "metadata": {},
   "outputs": [],
   "source": [
    "def avg_coherence(avg_trajectory, bicluster):\n",
    "    \n",
    "    acc = 0.0\n",
    "    data = bicluster.data\n",
    "    for i in range(data.shape[0]):\n",
    "        \n",
    "        acc += three_dimensional_correlation(avg_trajectory, data[i])\n",
    "        \n",
    "    return acc/(data.shape[0]*1.0)"
   ]
  },
  {
   "cell_type": "code",
   "execution_count": 31,
   "metadata": {},
   "outputs": [],
   "source": [
    "def discriminative_score(bicluster, neg_data):\n",
    "    \n",
    "    avg_trajectory = compute_average_trajectory(bicluster)\n",
    "    avg_coherence = compute_average_coherence(avg_trajectory, bicluster)\n",
    "    test_data = neg_data[:,bicluster.gamma]\n",
    "    \n",
    "    "
   ]
  },
  {
   "cell_type": "code",
   "execution_count": 37,
   "metadata": {},
   "outputs": [
    {
     "data": {
      "text/plain": [
       "(250, 3, 2)"
      ]
     },
     "execution_count": 37,
     "metadata": {},
     "output_type": "execute_result"
    }
   ],
   "source": [
    "final_test[:,np.array([1,2,3])].shape"
   ]
  },
  {
   "cell_type": "code",
   "execution_count": null,
   "metadata": {},
   "outputs": [],
   "source": []
  }
 ],
 "metadata": {
  "kernelspec": {
   "display_name": "Python 3",
   "language": "python",
   "name": "python3"
  },
  "language_info": {
   "codemirror_mode": {
    "name": "ipython",
    "version": 3
   },
   "file_extension": ".py",
   "mimetype": "text/x-python",
   "name": "python",
   "nbconvert_exporter": "python",
   "pygments_lexer": "ipython3",
   "version": "3.6.3"
  }
 },
 "nbformat": 4,
 "nbformat_minor": 2
}
