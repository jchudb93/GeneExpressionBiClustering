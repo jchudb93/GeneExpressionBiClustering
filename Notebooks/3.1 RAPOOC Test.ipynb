{
 "cells": [
  {
   "cell_type": "markdown",
   "metadata": {},
   "source": [
    "# RAPOOC Algorithm"
   ]
  },
  {
   "cell_type": "code",
   "execution_count": 20,
   "metadata": {},
   "outputs": [],
   "source": [
    "%matplotlib inline\n",
    "import numpy as np\n",
    "import math\n",
    "from matplotlib import pyplot as plt\n",
    "from sklearn.metrics import consensus_score\n",
    "import multiprocessing as mp\n",
    "import pandas as pd\n",
    "import glob as glob\n",
    "from functools import reduce\n",
    "import seaborn as sns"
   ]
  },
  {
   "cell_type": "code",
   "execution_count": 3,
   "metadata": {},
   "outputs": [],
   "source": [
    "class PositiveNegativeCorrelation(object):\n",
    "    def __init__(self, x, y, J):\n",
    "        self._x = x\n",
    "        self._y = y\n",
    "        self._J = J\n",
    "        self._x_mean = np.mean(x)\n",
    "        self._y_mean = np.mean(y)\n",
    "        self._H_pos = None\n",
    "        self._H_neg = None\n",
    " \n",
    "    @property\n",
    "    def H_pos(self):\n",
    "        if self._H_pos is None:\n",
    "            # print(\"Computing H positive...\")\n",
    "            self._H_pos = self._compute_H_pos()\n",
    "            # print(\"H positive value: \" + str(self._H_pos))\n",
    "        return self._H_pos\n",
    "\n",
    "    @property\n",
    "    def H_neg(self):\n",
    "        if self._H_neg is None:\n",
    "            # print(\"Computing H negative...\")\n",
    "            self._H_neg = self._compute_H_neg()\n",
    "            # print(\"H negative value: \" + str(self._H_neg))\n",
    "        return self._H_neg\n",
    "\n",
    "    def _compute_H_pos(self):\n",
    "        H_pos = 0\n",
    "        for j in range(self._J):\n",
    "            aux = (((self._x[j] - self._x_mean) -\n",
    "                    (self._y[j] - self._y_mean))/2.0)**2\n",
    "            H_pos += aux\n",
    "        H_pos *= 1.0/math.fabs(self._J)\n",
    "        H_pos = 1 - H_pos\n",
    "        return H_pos\n",
    "\n",
    "    def _compute_H_neg(self):\n",
    "        H_neg = 0\n",
    "        for j in range(self._J):\n",
    "            aux = (((self._x[j] - self._x_mean) +\n",
    "                    (self._y[j] - self._y_mean))/2.0)**2\n",
    "            H_neg += aux\n",
    "        H_neg *= 1.0/math.fabs(self._J)\n",
    "        H_neg = 1 - H_neg\n",
    "        return H_neg"
   ]
  },
  {
   "cell_type": "code",
   "execution_count": 4,
   "metadata": {},
   "outputs": [],
   "source": [
    "class PairBasedCoherence(object):\n",
    "    def __init__(self, X):\n",
    "        self._X = np.array(X)\n",
    "        self._I, self._J = X.shape\n",
    "        self._HP = None\n",
    "\n",
    "    @property\n",
    "    def HP(self):\n",
    "        if self._HP is None and self._J>1:\n",
    "            # print(\"Calculating Pair based coherence..\")\n",
    "            self._HP = self._compute_HP_()\n",
    "            # print(\"Paired based coherence value: \" + str(self._HP))\n",
    "            return self._HP\n",
    "        else: \n",
    "            return 0\n",
    "\n",
    "    def _compute_HP_(self):\n",
    "        HP = 0\n",
    "        for i in range(self._I):\n",
    "            for j in range(i+1, self._I):\n",
    "                if (i==j): \n",
    "                    break\n",
    "                x = self._X[i]\n",
    "                y = self._X[j]\n",
    "                correlation = PositiveNegativeCorrelation(x, y,self._J)\n",
    "                H0 = correlation.H_pos\n",
    "                # H0 = max(correlation.H_pos,correlation.H_neg)\n",
    "                HP += H0\n",
    "        HP *= math.fabs(2.0)/(math.fabs(self._I)*(math.fabs(self._I)-1)) # if self._I > 1 else 0\n",
    "        \n",
    "        return HP"
   ]
  },
  {
   "cell_type": "code",
   "execution_count": 5,
   "metadata": {},
   "outputs": [
    {
     "data": {
      "text/latex": [
       "Define H for a new term 'z' in X\n",
       "$$\n",
       "H_{1}(I,J,X,z) =H_{0}(I,J,X) \\cdot \\frac{(I-1)}{(I+1)} + \\frac{|2|}{(I)(I+1)} \\cdot \\sum_{x \\epsilon X} {h(x,z,J)}\n",
       "$$"
      ],
      "text/plain": [
       "<IPython.core.display.Latex object>"
      ]
     },
     "metadata": {},
     "output_type": "display_data"
    }
   ],
   "source": [
    "%%latex\n",
    "Define H for a new term 'z' in X\n",
    "$$\n",
    "H_{1}(I,J,X,z) =H_{0}(I,J,X) \\cdot \\frac{(I-1)}{(I+1)} + \\frac{|2|}{(I)(I+1)} \\cdot \\sum_{x \\epsilon X} {h(x,z,J)}\n",
    "$$"
   ]
  },
  {
   "cell_type": "code",
   "execution_count": 63,
   "metadata": {},
   "outputs": [
    {
     "data": {
      "text/html": [
       "<div>\n",
       "<style>\n",
       "    .dataframe thead tr:only-child th {\n",
       "        text-align: right;\n",
       "    }\n",
       "\n",
       "    .dataframe thead th {\n",
       "        text-align: left;\n",
       "    }\n",
       "\n",
       "    .dataframe tbody tr th {\n",
       "        vertical-align: top;\n",
       "    }\n",
       "</style>\n",
       "<table border=\"1\" class=\"dataframe\">\n",
       "  <thead>\n",
       "    <tr style=\"text-align: right;\">\n",
       "      <th></th>\n",
       "      <th>0</th>\n",
       "      <th>1</th>\n",
       "      <th>2</th>\n",
       "      <th>3</th>\n",
       "      <th>4</th>\n",
       "      <th>5</th>\n",
       "      <th>6</th>\n",
       "      <th>7</th>\n",
       "      <th>8</th>\n",
       "      <th>9</th>\n",
       "      <th>10</th>\n",
       "    </tr>\n",
       "  </thead>\n",
       "  <tbody>\n",
       "    <tr>\n",
       "      <th>count</th>\n",
       "      <td>100.000000</td>\n",
       "      <td>100.000000</td>\n",
       "      <td>100.000000</td>\n",
       "      <td>100.000000</td>\n",
       "      <td>100.000000</td>\n",
       "      <td>100.000000</td>\n",
       "      <td>100.000000</td>\n",
       "      <td>100.000000</td>\n",
       "      <td>100.000000</td>\n",
       "      <td>100.000000</td>\n",
       "      <td>100.000000</td>\n",
       "    </tr>\n",
       "    <tr>\n",
       "      <th>mean</th>\n",
       "      <td>-0.068005</td>\n",
       "      <td>0.065682</td>\n",
       "      <td>0.113507</td>\n",
       "      <td>-0.499907</td>\n",
       "      <td>-0.504314</td>\n",
       "      <td>0.502125</td>\n",
       "      <td>0.499769</td>\n",
       "      <td>0.497044</td>\n",
       "      <td>-0.502565</td>\n",
       "      <td>-0.502122</td>\n",
       "      <td>-0.056398</td>\n",
       "    </tr>\n",
       "    <tr>\n",
       "      <th>std</th>\n",
       "      <td>0.580116</td>\n",
       "      <td>0.591335</td>\n",
       "      <td>0.539451</td>\n",
       "      <td>0.029932</td>\n",
       "      <td>0.030777</td>\n",
       "      <td>0.027537</td>\n",
       "      <td>0.028558</td>\n",
       "      <td>0.029276</td>\n",
       "      <td>0.027810</td>\n",
       "      <td>0.030245</td>\n",
       "      <td>0.572709</td>\n",
       "    </tr>\n",
       "    <tr>\n",
       "      <th>min</th>\n",
       "      <td>-0.989650</td>\n",
       "      <td>-0.997180</td>\n",
       "      <td>-0.870920</td>\n",
       "      <td>-0.548960</td>\n",
       "      <td>-0.549920</td>\n",
       "      <td>0.451360</td>\n",
       "      <td>0.450350</td>\n",
       "      <td>0.450690</td>\n",
       "      <td>-0.549620</td>\n",
       "      <td>-0.549560</td>\n",
       "      <td>-0.997380</td>\n",
       "    </tr>\n",
       "    <tr>\n",
       "      <th>25%</th>\n",
       "      <td>-0.599285</td>\n",
       "      <td>-0.418610</td>\n",
       "      <td>-0.336002</td>\n",
       "      <td>-0.526127</td>\n",
       "      <td>-0.532130</td>\n",
       "      <td>0.483750</td>\n",
       "      <td>0.476475</td>\n",
       "      <td>0.471350</td>\n",
       "      <td>-0.526717</td>\n",
       "      <td>-0.529845</td>\n",
       "      <td>-0.520587</td>\n",
       "    </tr>\n",
       "    <tr>\n",
       "      <th>50%</th>\n",
       "      <td>-0.035948</td>\n",
       "      <td>0.173700</td>\n",
       "      <td>0.203420</td>\n",
       "      <td>-0.502735</td>\n",
       "      <td>-0.505900</td>\n",
       "      <td>0.500180</td>\n",
       "      <td>0.499560</td>\n",
       "      <td>0.492195</td>\n",
       "      <td>-0.504630</td>\n",
       "      <td>-0.500970</td>\n",
       "      <td>-0.157200</td>\n",
       "    </tr>\n",
       "    <tr>\n",
       "      <th>75%</th>\n",
       "      <td>0.461690</td>\n",
       "      <td>0.551060</td>\n",
       "      <td>0.546965</td>\n",
       "      <td>-0.473747</td>\n",
       "      <td>-0.478725</td>\n",
       "      <td>0.525003</td>\n",
       "      <td>0.523953</td>\n",
       "      <td>0.523225</td>\n",
       "      <td>-0.478417</td>\n",
       "      <td>-0.477315</td>\n",
       "      <td>0.373465</td>\n",
       "    </tr>\n",
       "    <tr>\n",
       "      <th>max</th>\n",
       "      <td>0.996700</td>\n",
       "      <td>0.979270</td>\n",
       "      <td>0.995520</td>\n",
       "      <td>-0.451260</td>\n",
       "      <td>-0.452240</td>\n",
       "      <td>0.549080</td>\n",
       "      <td>0.548910</td>\n",
       "      <td>0.548700</td>\n",
       "      <td>-0.450840</td>\n",
       "      <td>-0.450290</td>\n",
       "      <td>0.987970</td>\n",
       "    </tr>\n",
       "  </tbody>\n",
       "</table>\n",
       "</div>"
      ],
      "text/plain": [
       "               0           1           2           3           4           5   \\\n",
       "count  100.000000  100.000000  100.000000  100.000000  100.000000  100.000000   \n",
       "mean    -0.068005    0.065682    0.113507   -0.499907   -0.504314    0.502125   \n",
       "std      0.580116    0.591335    0.539451    0.029932    0.030777    0.027537   \n",
       "min     -0.989650   -0.997180   -0.870920   -0.548960   -0.549920    0.451360   \n",
       "25%     -0.599285   -0.418610   -0.336002   -0.526127   -0.532130    0.483750   \n",
       "50%     -0.035948    0.173700    0.203420   -0.502735   -0.505900    0.500180   \n",
       "75%      0.461690    0.551060    0.546965   -0.473747   -0.478725    0.525003   \n",
       "max      0.996700    0.979270    0.995520   -0.451260   -0.452240    0.549080   \n",
       "\n",
       "               6           7           8           9           10  \n",
       "count  100.000000  100.000000  100.000000  100.000000  100.000000  \n",
       "mean     0.499769    0.497044   -0.502565   -0.502122   -0.056398  \n",
       "std      0.028558    0.029276    0.027810    0.030245    0.572709  \n",
       "min      0.450350    0.450690   -0.549620   -0.549560   -0.997380  \n",
       "25%      0.476475    0.471350   -0.526717   -0.529845   -0.520587  \n",
       "50%      0.499560    0.492195   -0.504630   -0.500970   -0.157200  \n",
       "75%      0.523953    0.523225   -0.478417   -0.477315    0.373465  \n",
       "max      0.548910    0.548700   -0.450840   -0.450290    0.987970  "
      ]
     },
     "execution_count": 63,
     "metadata": {},
     "output_type": "execute_result"
    }
   ],
   "source": [
    "data = pd.read_csv('TestData/SimulatedDataCoherence/BiclusterC_high.csv',header=None)\n",
    "# data = (data - 0.5) * 2.0\n",
    "data.describe()"
   ]
  },
  {
   "cell_type": "code",
   "execution_count": 64,
   "metadata": {},
   "outputs": [
    {
     "data": {
      "text/plain": [
       "0.94834765433096846"
      ]
     },
     "execution_count": 64,
     "metadata": {},
     "output_type": "execute_result"
    }
   ],
   "source": [
    "PairBasedCoherence(data).HP"
   ]
  },
  {
   "cell_type": "code",
   "execution_count": 50,
   "metadata": {},
   "outputs": [],
   "source": [
    "\n",
    "class BisectingClusterer(object):\n",
    "    def __init__(self, data):\n",
    "        if data is not None:\n",
    "            self._data = np.array(data)\n",
    "            self._I, self._J = self._data.shape\n",
    "        else:\n",
    "            print(\"Empty data\")\n",
    "    \n",
    "    @property\n",
    "    def centroids(self):\n",
    "        return self._centroids\n",
    "\n",
    "    def fit(self):\n",
    "        self._centroids = self._compute_centroids_()\n",
    "        bisecting_indices = self._bisect_clusters_(self._centroids)\n",
    "        return bisecting_indices\n",
    "    \n",
    "    def _compute_centroids_(self):\n",
    "        max_correlation = 0\n",
    "        centroids = [0,0]\n",
    "        for i in range(self._I):\n",
    "            for j in range(i+1, self._I):\n",
    "                if (i == j):\n",
    "                    break\n",
    "                correlation = PositiveNegativeCorrelation(self._data[i],\n",
    "                                                          self._data[j],\n",
    "                                                          self._J).H_neg\n",
    "                if(correlation > max_correlation):\n",
    "                    max_correlation = correlation\n",
    "                    centroids[0] = i\n",
    "                    centroids[1] = j\n",
    "        return centroids\n",
    "\n",
    "    def _bisect_clusters_(self, centroids):\n",
    "        cluster_indices = np.zeros(self._I)\n",
    "        for i in range(self._I):\n",
    "            correlation0 = PositiveNegativeCorrelation(\n",
    "                self._data[centroids[0]], self._data[i],self._J).H_pos\n",
    "            correlation1 = PositiveNegativeCorrelation(\n",
    "                self._data[centroids[1]], self._data[i],self._J).H_pos\n",
    "            if(correlation0 <= correlation1):\n",
    "                cluster_indices[i] = 1\n",
    "        return cluster_indices"
   ]
  },
  {
   "cell_type": "code",
   "execution_count": 173,
   "metadata": {},
   "outputs": [],
   "source": [
    "class Rapooc_test(object):\n",
    "    def __init__(self, D, k, l, K):\n",
    "        self._D = np.array(D)\n",
    "        assert k>0 and l >0, \"invalid values, k>0 and l>0\"\n",
    "        self._k = k\n",
    "        self._l = l\n",
    "        assert K <= k*l and k>=1, \"invalid values, 1<= K <= k*l\"\n",
    "        self._K = K\n",
    "        self._rho = np.ones(D.shape[0])\n",
    "        self._gamma = np.ones(D.shape[1])\n",
    "        self._M, self._N = self._D.shape\n",
    "        self._rows_h_score = None\n",
    "        self._cols_h_score = None\n",
    "        self._cluster_H_values = np.array([ [0.0] * (int(self._l) + 1)  \n",
    "                                    for _ in range(int(self._k + 1))])\n",
    "    \n",
    "            \n",
    "    @property\n",
    "    def rho(self):\n",
    "        return self._rho\n",
    "    \n",
    "    @property\n",
    "    def gamma(self):\n",
    "        return self._gamma\n",
    "    \n",
    "    @property\n",
    "    def bicluster_h_values(self):\n",
    "        assert not self._cluster_H_values is None, \"H values have not yet been calculated\"\n",
    "        return self._cluster_H_values\n",
    "\n",
    "    def initialize(self):\n",
    "        i = 1\n",
    "        j = 1\n",
    "        while (i < self._k or j < self._l):\n",
    "            if i < self._k:\n",
    "                i += 1\n",
    "                alpha = self._argmin_H_(self._rho, self._gamma,'row')\n",
    "                self._bisect_partitions_(self._D[np.where(self._rho ==alpha)], self._rho, alpha, i,'row')\n",
    "            if j < self._l:\n",
    "                j += 1\n",
    "                beta = self._argmin_H_(self._rho,self._gamma, 'column')\n",
    "                self._bisect_partitions_((self._D.T)[np.where(self._gamma==beta)], self._gamma, beta, j,'column')   \n",
    "\n",
    "    def _argmin_H_(self, row_co_cluster, col_co_cluster,option='row'):\n",
    "        if (option=='row'):\n",
    "            data = self._D\n",
    "        else:\n",
    "            data = self._D.T\n",
    "        h_min = math.inf\n",
    "        min_cocluster = 1\n",
    "        map_array = np.int64(row_co_cluster if option == 'row' else col_co_cluster)\n",
    "        max_index_in_map = np.max(map_array) + 1\n",
    "        for i in range(1,max_index_in_map):\n",
    "            if (list(map_array).count(i) < 2):\n",
    "                pass\n",
    "            else:\n",
    "                coherence = PairBasedCoherence(\n",
    "                    data[np.where((row_co_cluster if option == 'row' else col_co_cluster) == i)]).HP \n",
    "                if (coherence <= h_min):\n",
    "                    h_min = coherence\n",
    "                    min_cocluster = i\n",
    "        return min_cocluster\n",
    "\n",
    "    def _bisect_partitions_ (self, data, mapping_array, cluster_to_replace, new_cluster_index,option='row'):\n",
    "        clusterer = BisectingClusterer(data)\n",
    "        bisected_map = clusterer.fit()\n",
    "        bisected_map_index = 0\n",
    "        for i in range(0,len(mapping_array)):\n",
    "            if ((self._rho if option == 'row' else self._gamma)[i] == cluster_to_replace):\n",
    "                if (bisected_map[bisected_map_index] == 1.0):\n",
    "                    (self._rho if option == 'row' else self._gamma)[i] = new_cluster_index\n",
    "                bisected_map_index += 1\n",
    "    \n",
    "    def _compute_objective_function_(self):\n",
    "        \n",
    "\n",
    "        for i in range(1,int(max(self._rho) + 1)):\n",
    "            for j in range (1, int(max(self._gamma) + 1)):\n",
    "                # print(\"% debug % cluster i \" + str(i) + \" cluster j \" + str(j))\n",
    "                coherence = PairBasedCoherence(self._D[np.ix_(np.where(self._rho == i)[0],\n",
    "                                                              np.where(self._gamma == j)[0])]).HP\n",
    "                \n",
    "                # print(self._D[np.ix_(np.where(self._rho == i)[0],\n",
    "                                                              # np.where(self._gamma == j)[0])])\n",
    "                self._cluster_H_values[i][j] = coherence\n",
    "            \n",
    "        print(self._cluster_H_values)\n",
    "        \n",
    "        h_values_1d = self._cluster_H_values.flatten()\n",
    "        \n",
    "        idx_1d = h_values_1d.argsort()[-self._K:]\n",
    "        \n",
    "        x_idx, y_idx = np.unravel_index(idx_1d, self._cluster_H_values.shape)\n",
    "        \n",
    "        acc=0\n",
    "        for x, y, in zip(x_idx, y_idx):\n",
    "            print(\"% debug % x_idx \" + str(x) +\" y_idx \" +str(y) + \" H value \"+ str(self._cluster_H_values[x][y]))\n",
    "            acc += self._cluster_H_values[x][y]\n",
    "        \n",
    "        print(\"%debug % FO value \" + str(acc/self._K) + \" accumulator \"+str(acc))\n",
    "        return (acc/(self._K))\n",
    "    \n",
    "    def core_co_clustering(self):\n",
    "        \n",
    "        n_iterations = 0\n",
    "        n_repetitions = 0\n",
    "        of_last_value = 0\n",
    "        best_iter = 0\n",
    "        best_OF = 0\n",
    "        best_rows = self._rho\n",
    "        best_columns = self._gamma\n",
    "        while(n_iterations < (self._k * self._l) and n_repetitions < int((self._k * self._l) * 0.3)):\n",
    "            \n",
    "            if(n_iterations == 0): \n",
    "                objective_function = 0 \n",
    "            else: \n",
    "                objective_function=self._compute_objective_function_() \n",
    "            temp_rows = self._update_maps_(option = 'rows')\n",
    "            temp_columns = self._update_maps_(option = 'columns')\n",
    "            \n",
    "            if (objective_function > best_OF):\n",
    "                best_iter = n_iterations\n",
    "                best_OF = objective_function\n",
    "                best_rows = temp_rows\n",
    "                best_columns = temp_columns\n",
    "            # break conditions\n",
    "            if (math.fabs(1 - objective_function) < 0.2):\n",
    "                break\n",
    "            \"\"\" \n",
    "            if(math.fabs(objective_function - of_last_value) > 0.001):\n",
    "                of_last_value = objective_function\n",
    "                n_repetitions = 0\n",
    "            else:\n",
    "                n_repetitions += 1\n",
    "            \"\"\"     \n",
    "            n_iterations += 1\n",
    "        \n",
    "        self._rho = best_rows\n",
    "        self._gamma = best_columns\n",
    "        print(\"Finishing core-coclustering\")\n",
    "        print(\"Number of iterations \" + str(n_iterations))\n",
    "        print(\"Objective function \" + str(math.fabs(best_OF)) + \" at iter \" +str(best_iter))\n",
    "        print(\"Number of repetitions \" + str(n_repetitions))\n",
    "        '''\n",
    "        for i in range(1,int(max(self._rho) + 1)):\n",
    "            for j in range (1, int(max(self._gamma) + 1)):\n",
    "                print(\"% debug % cluster i \" + str(i) + \" cluster j \" + str(j))\n",
    "                print(self._D[np.ix_(np.where(self._rho == i)[0],\n",
    "                                                              np.where(self._gamma == j)[0])])\n",
    "        '''\n",
    "    \n",
    "        # ax = sns.tsplot(data= self._D[np.ix_(np.where(self._rho == 1)[0],np.where(self._gamma == 2)[0])] \n",
    "                                # , err_style=\"unit_traces\")\n",
    "    def _update_maps_(self,option = 'rows'):\n",
    "        \n",
    "        if(option == 'rows'):\n",
    "            mapping_array = self._rho\n",
    "            data = self._D\n",
    "        elif (option == 'columns'):\n",
    "            mapping_array = self._gamma\n",
    "            data = self._D.T\n",
    "            \n",
    "        for i in range(0,len(data)):\n",
    "            self._compute_arg_max_(data,mapping_array,i)\n",
    "            \n",
    "        return np.copy(mapping_array)\n",
    "    \n",
    "    def _compute_arg_max_(self,data,mapping_array,index):\n",
    "        \n",
    "        actual_coherence = 0\n",
    "        previous_cluster = mapping_array[index]\n",
    "        if (list(mapping_array).count(previous_cluster) <= 2):\n",
    "            return\n",
    "        prev_coherence = PairBasedCoherence(data[np.where(mapping_array == previous_cluster)]).HP\n",
    "        \n",
    "        mapping_array[index] = 0\n",
    "        \n",
    "        local_coherence = PairBasedCoherence(data[np.where(mapping_array == previous_cluster)]).HP\n",
    "        \n",
    "        if (prev_coherence >= local_coherence):\n",
    "            mapping_array[index] = previous_cluster\n",
    "            actual_coherence = prev_coherence\n",
    "        else:\n",
    "            actual_coherence = local_coherence\n",
    "            \n",
    "        best_cluster,best_coherence = self._iter_maps_(data, mapping_array, index, previous_cluster)\n",
    "        \n",
    "        if (best_coherence > local_coherence):\n",
    "            mapping_array[index] = best_cluster\n",
    "    \n",
    "    def _iter_maps_(self, data, mapping_array, index, previous_cluster):\n",
    "        \n",
    "        best_coherence = 0\n",
    "        best_cluster = 0\n",
    "        \n",
    "        for actual_cluster in range(1,int(max(mapping_array))+1):\n",
    "            if actual_cluster == previous_cluster:\n",
    "                pass\n",
    "            else:\n",
    "                mapping_array[index] = actual_cluster\n",
    "                coherence = PairBasedCoherence(data[np.where(mapping_array == actual_cluster)]).HP\n",
    "                if(coherence >= best_coherence):\n",
    "                    best_coherence = coherence\n",
    "                    best_cluster = actual_cluster\n",
    "                    # print(\"% debug %\" + str(coherence))\n",
    "                    \n",
    "        return best_cluster, best_coherence"
   ]
  },
  {
   "cell_type": "code",
   "execution_count": 174,
   "metadata": {},
   "outputs": [],
   "source": [
    "rapooc = Rapooc_test(data,3,5,5)"
   ]
  },
  {
   "cell_type": "code",
   "execution_count": 175,
   "metadata": {},
   "outputs": [],
   "source": [
    "rapooc.initialize()"
   ]
  },
  {
   "cell_type": "code",
   "execution_count": 176,
   "metadata": {
    "scrolled": true
   },
   "outputs": [
    {
     "data": {
      "text/plain": [
       "array([ 2.,  1.,  2.,  3.,  3.,  2.,  3.,  2.,  1.,  2.,  1.,  2.,  2.,\n",
       "        2.,  3.,  1.,  2.,  1.,  1.,  1.,  1.,  1.,  1.,  2.,  1.,  1.,\n",
       "        3.,  1.,  2.,  1.,  1.,  2.,  2.,  2.,  3.,  1.,  1.,  1.,  2.,\n",
       "        3.,  1.,  2.,  1.,  1.,  1.,  2.,  2.,  2.,  1.,  1.,  1.,  1.,\n",
       "        1.,  2.,  2.,  3.,  2.,  1.,  1.,  1.,  2.,  3.,  1.,  2.,  2.,\n",
       "        1.,  2.,  2.,  1.,  3.,  3.,  1.,  3.,  3.,  3.,  2.,  2.,  2.,\n",
       "        3.,  2.,  2.,  2.,  1.,  2.,  1.,  2.,  3.,  2.,  1.,  1.,  3.,\n",
       "        2.,  1.,  1.,  1.,  2.,  1.,  1.,  2.,  2.])"
      ]
     },
     "execution_count": 176,
     "metadata": {},
     "output_type": "execute_result"
    }
   ],
   "source": [
    "rapooc.rho"
   ]
  },
  {
   "cell_type": "code",
   "execution_count": null,
   "metadata": {},
   "outputs": [
    {
     "data": {
      "text/plain": [
       "array([ 2.,  1.,  2.,  4.,  2.,  2.,  2.,  2.,  5.,  5.,  3.])"
      ]
     },
     "execution_count": 177,
     "metadata": {},
     "output_type": "execute_result"
    }
   ],
   "source": [
    "rapooc.gamma"
   ]
  },
  {
   "cell_type": "code",
   "execution_count": null,
   "metadata": {},
   "outputs": [
    {
     "name": "stdout",
     "output_type": "stream",
     "text": [
      "[[ 0.          0.          0.          0.          0.          0.        ]\n",
      " [ 0.          0.          0.99980995  0.          0.99977062  0.95527427]\n",
      " [ 0.          0.          0.99980732  0.          0.9997318   0.9514645 ]\n",
      " [ 0.          0.          0.99980593  0.          0.99969939  0.945159  ]]\n",
      "% debug % x_idx 2 y_idx 4 H value 0.999731798346\n",
      "% debug % x_idx 1 y_idx 4 H value 0.999770621098\n",
      "% debug % x_idx 3 y_idx 2 H value 0.999805931786\n",
      "% debug % x_idx 2 y_idx 2 H value 0.999807319515\n",
      "% debug % x_idx 1 y_idx 2 H value 0.999809946197\n",
      "%debug % FO value 0.999785123388 accumulator 4.99892561694\n"
     ]
    }
   ],
   "source": [
    "rapooc.core_co_clustering()"
   ]
  },
  {
   "cell_type": "code",
   "execution_count": null,
   "metadata": {},
   "outputs": [],
   "source": [
    "sns.tsplot(data= rapooc._D[np.ix_(np.where(rapooc._rho == 2)[0],np.where(rapooc._gamma == 2)[0])],err_style=\"unit_traces\")"
   ]
  },
  {
   "cell_type": "code",
   "execution_count": 106,
   "metadata": {},
   "outputs": [
    {
     "name": "stderr",
     "output_type": "stream",
     "text": [
      "/home/a20125359/anaconda3/envs/Biclustering/lib/python3.6/site-packages/seaborn/timeseries.py:183: UserWarning: The tsplot function is deprecated and will be removed or replaced (in a substantially altered version) in a future release.\n",
      "  warnings.warn(msg, UserWarning)\n"
     ]
    },
    {
     "data": {
      "text/plain": [
       "<matplotlib.axes._subplots.AxesSubplot at 0x7f46984d3f98>"
      ]
     },
     "execution_count": 106,
     "metadata": {},
     "output_type": "execute_result"
    },
    {
     "data": {
      "image/png": "[encoded data removed]",
      "text/plain": [
       "<matplotlib.figure.Figure at 0x7f469b705e10>"
      ]
     },
     "metadata": {},
     "output_type": "display_data"
    }
   ],
   "source": [
    "sns.tsplot(np.array(data),err_style=\"unit_traces\")"
   ]
  },
  {
   "cell_type": "code",
   "execution_count": 102,
   "metadata": {},
   "outputs": [
    {
     "data": {
      "text/plain": [
       "array([ 4.,  1.,  4.,  2.,  5.,  5.,  5.,  2.,  2.,  2.,  3.])"
      ]
     },
     "execution_count": 102,
     "metadata": {},
     "output_type": "execute_result"
    }
   ],
   "source": [
    "rapooc.gamma"
   ]
  },
  {
   "cell_type": "code",
   "execution_count": 103,
   "metadata": {},
   "outputs": [
    {
     "data": {
      "text/plain": [
       "array([ 2.,  2.,  2.,  2.,  3.,  3.,  3.,  3.,  5.,  3.,  3.,  5.,  5.,\n",
       "        2.,  3.,  3.,  3.,  3.,  5.,  2.,  2.,  5.,  2.,  2.,  2.,  2.,\n",
       "        4.,  4.,  2.,  2.,  5.,  5.,  4.,  4.,  5.,  4.,  2.,  5.,  2.,\n",
       "        3.,  3.,  3.,  5.,  2.,  3.,  4.,  4.,  3.,  3.,  5.,  3.,  3.,\n",
       "        3.,  3.,  3.,  1.,  3.,  5.,  5.,  5.,  1.,  5.,  1.,  3.,  3.,\n",
       "        5.,  5.,  3.,  3.,  5.,  1.,  1.,  5.,  1.,  1.,  1.,  5.,  1.,\n",
       "        2.,  5.,  1.,  2.,  5.,  1.,  1.,  3.,  1.,  1.,  1.,  1.,  1.,\n",
       "        5.,  2.,  3.,  3.,  3.,  4.,  3.,  4.,  4.])"
      ]
     },
     "execution_count": 103,
     "metadata": {},
     "output_type": "execute_result"
    }
   ],
   "source": [
    "rapooc.rho"
   ]
  },
  {
   "cell_type": "markdown",
   "metadata": {},
   "source": [
    "# Testing"
   ]
  },
  {
   "cell_type": "code",
   "execution_count": 744,
   "metadata": {},
   "outputs": [],
   "source": [
    "import seaborn as sns"
   ]
  },
  {
   "cell_type": "code",
   "execution_count": 878,
   "metadata": {},
   "outputs": [
    {
     "name": "stderr",
     "output_type": "stream",
     "text": [
      "/home/a20125359/anaconda3/envs/Biclustering/lib/python3.6/site-packages/seaborn/timeseries.py:183: UserWarning: The tsplot function is deprecated and will be removed or replaced (in a substantially altered version) in a future release.\n",
      "  warnings.warn(msg, UserWarning)\n"
     ]
    },
    {
     "data": {
      "image/png": "[encoded data removed]",
      "text/plain": [
       "<matplotlib.figure.Figure at 0x7fa4e6ef44a8>"
      ]
     },
     "metadata": {},
     "output_type": "display_data"
    }
   ],
   "source": [
    "ax = sns.tsplot(data=np.array(data), err_style=\"unit_traces\")"
   ]
  },
  {
   "cell_type": "code",
   "execution_count": 746,
   "metadata": {},
   "outputs": [
    {
     "data": {
      "text/html": [
       "<div>\n",
       "<style>\n",
       "    .dataframe thead tr:only-child th {\n",
       "        text-align: right;\n",
       "    }\n",
       "\n",
       "    .dataframe thead th {\n",
       "        text-align: left;\n",
       "    }\n",
       "\n",
       "    .dataframe tbody tr th {\n",
       "        vertical-align: top;\n",
       "    }\n",
       "</style>\n",
       "<table border=\"1\" class=\"dataframe\">\n",
       "  <thead>\n",
       "    <tr style=\"text-align: right;\">\n",
       "      <th></th>\n",
       "      <th>0</th>\n",
       "      <th>1</th>\n",
       "      <th>2</th>\n",
       "      <th>3</th>\n",
       "      <th>4</th>\n",
       "      <th>5</th>\n",
       "      <th>6</th>\n",
       "    </tr>\n",
       "  </thead>\n",
       "  <tbody>\n",
       "    <tr>\n",
       "      <th>0</th>\n",
       "      <td>-0.328500</td>\n",
       "      <td>-0.824558</td>\n",
       "      <td>-0.03132</td>\n",
       "      <td>0.40778</td>\n",
       "      <td>-0.42616</td>\n",
       "      <td>-0.365000</td>\n",
       "      <td>-0.42370</td>\n",
       "    </tr>\n",
       "    <tr>\n",
       "      <th>1</th>\n",
       "      <td>-0.362280</td>\n",
       "      <td>-0.734220</td>\n",
       "      <td>0.45380</td>\n",
       "      <td>0.09060</td>\n",
       "      <td>-0.03060</td>\n",
       "      <td>-0.746820</td>\n",
       "      <td>-0.03512</td>\n",
       "    </tr>\n",
       "    <tr>\n",
       "      <th>2</th>\n",
       "      <td>-0.702940</td>\n",
       "      <td>-0.737160</td>\n",
       "      <td>0.39322</td>\n",
       "      <td>0.22716</td>\n",
       "      <td>-0.46024</td>\n",
       "      <td>-0.851982</td>\n",
       "      <td>-0.03118</td>\n",
       "    </tr>\n",
       "    <tr>\n",
       "      <th>3</th>\n",
       "      <td>-0.721220</td>\n",
       "      <td>-0.967224</td>\n",
       "      <td>-0.22162</td>\n",
       "      <td>0.85422</td>\n",
       "      <td>0.15794</td>\n",
       "      <td>-0.997235</td>\n",
       "      <td>-0.01522</td>\n",
       "    </tr>\n",
       "    <tr>\n",
       "      <th>4</th>\n",
       "      <td>-0.829484</td>\n",
       "      <td>-0.614420</td>\n",
       "      <td>-0.19632</td>\n",
       "      <td>0.60592</td>\n",
       "      <td>0.20586</td>\n",
       "      <td>-0.991202</td>\n",
       "      <td>-0.56098</td>\n",
       "    </tr>\n",
       "  </tbody>\n",
       "</table>\n",
       "</div>"
      ],
      "text/plain": [
       "          0         1        2        3        4         5        6\n",
       "0 -0.328500 -0.824558 -0.03132  0.40778 -0.42616 -0.365000 -0.42370\n",
       "1 -0.362280 -0.734220  0.45380  0.09060 -0.03060 -0.746820 -0.03512\n",
       "2 -0.702940 -0.737160  0.39322  0.22716 -0.46024 -0.851982 -0.03118\n",
       "3 -0.721220 -0.967224 -0.22162  0.85422  0.15794 -0.997235 -0.01522\n",
       "4 -0.829484 -0.614420 -0.19632  0.60592  0.20586 -0.991202 -0.56098"
      ]
     },
     "execution_count": 746,
     "metadata": {},
     "output_type": "execute_result"
    }
   ],
   "source": [
    "data.head()"
   ]
  },
  {
   "cell_type": "code",
   "execution_count": 896,
   "metadata": {},
   "outputs": [
    {
     "data": {
      "image/png": "[encoded data removed]",
      "text/plain": [
       "<matplotlib.figure.Figure at 0x7fa4e6b78eb8>"
      ]
     },
     "metadata": {},
     "output_type": "display_data"
    }
   ],
   "source": [
    "fit_data = np.array(data)[np.argsort(rapooc.rho)]\n",
    "fit_data = fit_data[:, np.argsort(rapooc.gamma)]\n",
    "plt.matshow(fit_data, cmap=plt.cm.Blues)\n",
    "plt.title(\"After biclustering; rearranged to show biclusters\")\n",
    "\n",
    "plt.show()"
   ]
  },
  {
   "cell_type": "code",
   "execution_count": 748,
   "metadata": {},
   "outputs": [
    {
     "data": {
      "text/plain": [
       "Text(0.5,1.05,'Original dataset')"
      ]
     },
     "execution_count": 748,
     "metadata": {},
     "output_type": "execute_result"
    },
    {
     "data": {
      "image/png": "[encoded data removed]",
      "text/plain": [
       "<matplotlib.figure.Figure at 0x7fa4e77244e0>"
      ]
     },
     "metadata": {},
     "output_type": "display_data"
    }
   ],
   "source": [
    "plt.matshow(data, cmap=plt.cm.Blues)\n",
    "plt.title(\"Original dataset\")"
   ]
  },
  {
   "cell_type": "code",
   "execution_count": 749,
   "metadata": {},
   "outputs": [],
   "source": [
    "from sklearn.datasets import make_biclusters\n",
    "from sklearn.datasets import samples_generator as sg\n",
    "from sklearn.preprocessing import MinMaxScaler\n",
    "test_data, rows, columns = make_biclusters(\n",
    "    shape=(100, 7), n_clusters=5, noise=5,\n",
    "    shuffle=False, random_state=0)"
   ]
  },
  {
   "cell_type": "code",
   "execution_count": 879,
   "metadata": {},
   "outputs": [
    {
     "data": {
      "text/plain": [
       "Text(0.5,1.05,'Shuffled dataset')"
      ]
     },
     "execution_count": 879,
     "metadata": {},
     "output_type": "execute_result"
    },
    {
     "data": {
      "image/png": "[encoded data removed]",
      "text/plain": [
       "<matplotlib.figure.Figure at 0x7fa4e7119710>"
      ]
     },
     "metadata": {},
     "output_type": "display_data"
    },
    {
     "data": {
      "image/png": "[encoded data removed]",
      "text/plain": [
       "<matplotlib.figure.Figure at 0x7fa4e7bffa90>"
      ]
     },
     "metadata": {},
     "output_type": "display_data"
    }
   ],
   "source": [
    "plt.matshow(test_data, cmap=plt.cm.Blues)\n",
    "plt.title(\"Original dataset\")\n",
    "\n",
    "scaler = MinMaxScaler()\n",
    "scaler.fit(test_data)\n",
    "test_data = scaler.transform(test_data)\n",
    "\n",
    "test_data, row_idx, col_idx = sg._shuffle(test_data, random_state=0)\n",
    "plt.matshow(test_data, cmap=plt.cm.Blues)\n",
    "plt.title(\"Shuffled dataset\")"
   ]
  },
  {
   "cell_type": "code",
   "execution_count": 766,
   "metadata": {},
   "outputs": [
    {
     "name": "stderr",
     "output_type": "stream",
     "text": [
      "/home/a20125359/anaconda3/envs/Biclustering/lib/python3.6/site-packages/seaborn/timeseries.py:183: UserWarning: The tsplot function is deprecated and will be removed or replaced (in a substantially altered version) in a future release.\n",
      "  warnings.warn(msg, UserWarning)\n"
     ]
    },
    {
     "data": {
      "image/png": "[encoded data removed]",
      "text/plain": [
       "<matplotlib.figure.Figure at 0x7fa4e7384d68>"
      ]
     },
     "metadata": {},
     "output_type": "display_data"
    }
   ],
   "source": [
    "ax = sns.tsplot(data=np.array(test_data), err_style=\"unit_traces\")"
   ]
  },
  {
   "cell_type": "code",
   "execution_count": 767,
   "metadata": {},
   "outputs": [],
   "source": [
    "rapooc_test = Rapooc_test(test_data,5,5,5)\n",
    "rapooc_test.initialize()"
   ]
  },
  {
   "cell_type": "code",
   "execution_count": 768,
   "metadata": {},
   "outputs": [
    {
     "data": {
      "text/plain": [
       "array([ 1.,  3.,  1.,  4.,  5.,  2.,  3.])"
      ]
     },
     "execution_count": 768,
     "metadata": {},
     "output_type": "execute_result"
    }
   ],
   "source": [
    "rapooc_test.gamma"
   ]
  },
  {
   "cell_type": "code",
   "execution_count": 769,
   "metadata": {},
   "outputs": [
    {
     "data": {
      "text/plain": [
       "array([ 1.,  4.,  3.,  3.,  3.,  4.,  2.,  3.,  3.,  4.,  3.,  4.,  4.,\n",
       "        2.,  2.,  1.,  1.,  1.,  1.,  2.,  3.,  3.,  2.,  4.,  3.,  3.,\n",
       "        2.,  4.,  3.,  3.,  3.,  3.,  4.,  4.,  3.,  1.,  2.,  3.,  3.,\n",
       "        4.,  2.,  3.,  3.,  3.,  2.,  3.,  2.,  3.,  1.,  2.,  4.,  3.,\n",
       "        3.,  1.,  1.,  3.,  2.,  1.,  1.,  3.,  2.,  1.,  3.,  3.,  3.,\n",
       "        4.,  1.,  4.,  2.,  4.,  2.,  1.,  3.,  4.,  4.,  4.,  2.,  4.,\n",
       "        3.,  4.,  5.,  1.,  2.,  3.,  1.,  3.,  3.,  2.,  4.,  4.,  2.,\n",
       "        5.,  5.,  4.,  2.,  4.,  3.,  3.,  3.,  3.])"
      ]
     },
     "execution_count": 769,
     "metadata": {},
     "output_type": "execute_result"
    }
   ],
   "source": [
    "rapooc_test.rho"
   ]
  },
  {
   "cell_type": "code",
   "execution_count": 770,
   "metadata": {},
   "outputs": [
    {
     "name": "stdout",
     "output_type": "stream",
     "text": [
      "[[ 0.          0.          0.          0.          0.          0.        ]\n",
      " [ 0.          0.99914268  1.          0.99936525  1.          1.        ]\n",
      " [ 0.          0.99918455  1.          0.99931345  1.          1.        ]\n",
      " [ 0.          0.99945972  1.          0.99920655  1.          1.        ]\n",
      " [ 0.          0.99854242  1.          0.99871287  1.          1.        ]\n",
      " [ 0.          0.99907916  1.          0.99895451  1.          1.        ]]\n",
      "% debug % x_idx, y_idx 1.0\n",
      "% debug % x_idx, y_idx 1.0\n",
      "% debug % x_idx, y_idx 1.0\n",
      "% debug % x_idx, y_idx 1.0\n",
      "% debug % x_idx, y_idx 1.0\n",
      "%debug % FO value 1.0 accumulator 5.0\n",
      "Finishing core-coclustering\n",
      "Number of iterations 1\n",
      "Objective function 1.0 at iter 1\n",
      "Number of repetitions 1\n",
      "% debug % cluster i 1 cluster j 1\n",
      "[[ 0.18316434  0.20868347]\n",
      " [ 0.85019897  0.97591334]\n",
      " [ 0.05752669  0.17452294]]\n",
      "% debug % cluster i 1 cluster j 2\n",
      "[[ 0.16734024]\n",
      " [ 0.24159874]\n",
      " [ 0.27547041]]\n",
      "% debug % cluster i 1 cluster j 3\n",
      "[[ 0.20623117  0.10904945]\n",
      " [ 0.14164708  0.02730453]\n",
      " [ 0.82974892  0.86165395]]\n",
      "% debug % cluster i 1 cluster j 4\n",
      "[[ 0.72520257]\n",
      " [ 0.21219233]\n",
      " [ 0.14913794]]\n",
      "% debug % cluster i 1 cluster j 5\n",
      "[[ 0.22065858]\n",
      " [ 0.06281939]\n",
      " [ 0.06194375]]\n",
      "% debug % cluster i 2 cluster j 1\n",
      "[[ 0.18654394  0.20390258]\n",
      " [ 0.16446217  0.16227218]\n",
      " [ 0.18039379  0.19974512]\n",
      " [ 0.09376661  0.0947114 ]\n",
      " [ 0.22909444  0.29490813]\n",
      " [ 0.21050849  0.05935788]\n",
      " [ 0.04277393  0.12986755]\n",
      " [ 0.13172662  0.23043682]\n",
      " [ 0.21405318  0.16780397]\n",
      " [ 0.14205837  0.20996321]\n",
      " [ 0.19600718  0.10919477]\n",
      " [ 0.20003732  0.16566106]\n",
      " [ 0.15268916  0.21722866]\n",
      " [ 0.20711714  0.25725907]\n",
      " [ 0.07561534  0.20857074]\n",
      " [ 0.92590687  0.94385191]\n",
      " [ 0.08724045  0.14573108]\n",
      " [ 0.08321404  0.21096277]]\n",
      "% debug % cluster i 2 cluster j 2\n",
      "[[ 0.17552844]\n",
      " [ 0.92007509]\n",
      " [ 0.23222638]\n",
      " [ 0.19762949]\n",
      " [ 0.26775835]\n",
      " [ 0.13660467]\n",
      " [ 0.9333979 ]\n",
      " [ 0.13414978]\n",
      " [ 0.1175677 ]\n",
      " [ 0.15647938]\n",
      " [ 0.22054815]\n",
      " [ 0.2561431 ]\n",
      " [ 0.26557521]\n",
      " [ 0.94633962]\n",
      " [ 0.12253044]\n",
      " [ 0.2009809 ]\n",
      " [ 0.17250603]\n",
      " [ 0.8422343 ]]\n",
      "% debug % cluster i 2 cluster j 3\n",
      "[[ 0.11369047  0.1451314 ]\n",
      " [ 0.1480669   0.10542673]\n",
      " [ 0.93191933  0.85097351]\n",
      " [ 0.09734725  0.14633758]\n",
      " [ 0.17716948  0.11476408]\n",
      " [ 0.08332573  0.06190551]\n",
      " [ 0.2409885   0.19801055]\n",
      " [ 0.05459585  0.00462968]\n",
      " [ 0.82343967  0.84354788]\n",
      " [ 0.96501093  0.81173435]\n",
      " [ 0.11619326  0.06293884]\n",
      " [ 0.98252337  0.89778656]\n",
      " [ 0.18261278  0.17576819]\n",
      " [ 0.10263319  0.1666927 ]\n",
      " [ 0.28311133  0.13232238]\n",
      " [ 0.07847764  0.10907988]\n",
      " [ 0.84221591  0.90099172]\n",
      " [ 0.10525907  0.1409612 ]]\n",
      "% debug % cluster i 2 cluster j 4\n",
      "[[ 0.14215679]\n",
      " [ 0.07578331]\n",
      " [ 0.09501267]\n",
      " [ 0.20416775]\n",
      " [ 0.82939385]\n",
      " [ 0.94383048]\n",
      " [ 0.10367397]\n",
      " [ 0.9223986 ]\n",
      " [ 0.1648606 ]\n",
      " [ 0.11015994]\n",
      " [ 0.16247444]\n",
      " [ 0.13121688]\n",
      " [ 0.14960835]\n",
      " [ 0.1910848 ]\n",
      " [ 0.87984726]\n",
      " [ 0.09872178]\n",
      " [ 0.25614897]\n",
      " [ 0.22135996]]\n",
      "% debug % cluster i 2 cluster j 5\n",
      "[[ 0.94957488]\n",
      " [ 0.22481663]\n",
      " [ 0.0967408 ]\n",
      " [ 0.80199664]\n",
      " [ 0.06780038]\n",
      " [ 0.11348906]\n",
      " [ 0.17851153]\n",
      " [ 0.04732671]\n",
      " [ 0.04099623]\n",
      " [ 0.14981364]\n",
      " [ 0.84109943]\n",
      " [ 0.2441032 ]\n",
      " [ 0.98495532]\n",
      " [ 0.15511152]\n",
      " [ 0.16541713]\n",
      " [ 0.08467479]\n",
      " [ 0.03814295]\n",
      " [ 0.09452187]]\n",
      "% debug % cluster i 3 cluster j 1\n",
      "[[ 0.07425608  0.22836359]\n",
      " [ 0.03606259  0.19742056]\n",
      " [ 0.02113619  0.10710662]\n",
      " [ 0.11631444  0.20060314]\n",
      " [ 0.0771243   0.15659958]\n",
      " [ 0.17427294  0.19284793]\n",
      " [ 0.07872281  0.23506498]\n",
      " [ 0.15476022  0.35727573]\n",
      " [ 0.85987264  0.89741548]\n",
      " [ 0.89494907  0.87070292]]\n",
      "% debug % cluster i 3 cluster j 2\n",
      "[[ 0.21500089]\n",
      " [ 0.85289453]\n",
      " [ 0.17494827]\n",
      " [ 0.19573221]\n",
      " [ 0.97287458]\n",
      " [ 0.18143903]\n",
      " [ 0.26617319]\n",
      " [ 0.1606595 ]\n",
      " [ 0.22502394]\n",
      " [ 0.19293279]]\n",
      "% debug % cluster i 3 cluster j 3\n",
      "[[ 0.9013095   1.        ]\n",
      " [ 0.10927177  0.14792876]\n",
      " [ 0.11010059  0.13484583]\n",
      " [ 0.17031565  0.07694825]\n",
      " [ 0.21391354  0.0848523 ]\n",
      " [ 0.13239973  0.11892114]\n",
      " [ 0.08824009  0.10012613]\n",
      " [ 0.17637106  0.04638521]\n",
      " [ 0.11119834  0.14894028]\n",
      " [ 0.12715672  0.19399469]]\n",
      "% debug % cluster i 3 cluster j 4\n",
      "[[ 0.08927742]\n",
      " [ 0.15829049]\n",
      " [ 0.10836141]\n",
      " [ 0.16402895]\n",
      " [ 0.19353828]\n",
      " [ 0.06996849]\n",
      " [ 0.15047803]\n",
      " [ 0.92166235]\n",
      " [ 0.11613132]\n",
      " [ 0.12415294]]\n",
      "% debug % cluster i 3 cluster j 5\n",
      "[[ 0.01016298]\n",
      " [ 0.24689215]\n",
      " [ 0.86532865]\n",
      " [ 1.        ]\n",
      " [ 0.15326324]\n",
      " [ 0.88662251]\n",
      " [ 0.9201691 ]\n",
      " [ 0.00976204]\n",
      " [ 0.20460385]\n",
      " [ 0.16192376]]\n",
      "% debug % cluster i 4 cluster j 1\n",
      "[[ 0.01810182  0.26774164]\n",
      " [ 0.88637698  0.99622325]\n",
      " [ 0.1563808   0.22290135]\n",
      " [ 0.0875496   0.28356429]\n",
      " [ 0.88673965  0.94418698]\n",
      " [ 0.15577978  0.18515835]\n",
      " [ 0.17472869  0.20072354]\n",
      " [ 0.93034398  1.        ]\n",
      " [ 0.22299159  0.13557366]\n",
      " [ 0.22316138  0.22664302]\n",
      " [ 0.0529915   0.07576604]\n",
      " [ 0.17225869  0.17328835]\n",
      " [ 0.81769987  0.85197102]\n",
      " [ 0.21295159  0.18983923]\n",
      " [ 0.12410921  0.14266375]\n",
      " [ 0.21402771  0.20920502]\n",
      " [ 0.20187692  0.12745813]\n",
      " [ 0.21788055  0.08888601]\n",
      " [ 0.20318993  0.20378859]\n",
      " [ 0.91447966  0.83532125]\n",
      " [ 0.09610872  0.18089696]\n",
      " [ 0.15347194  0.201972  ]\n",
      " [ 0.09429539  0.27300174]\n",
      " [ 0.00233449  0.22119458]\n",
      " [ 0.          0.20457585]\n",
      " [ 0.87238902  0.87321714]\n",
      " [ 0.13126299  0.14988579]\n",
      " [ 0.09283464  0.17820009]\n",
      " [ 0.13727093  0.14519618]\n",
      " [ 0.14479711  0.20241634]\n",
      " [ 0.08493641  0.1761693 ]\n",
      " [ 0.02226278  0.21270155]\n",
      " [ 0.19024827  0.10304446]\n",
      " [ 0.08419257  0.16822204]\n",
      " [ 0.10574997  0.07978693]\n",
      " [ 0.09196699  0.20156597]\n",
      " [ 0.11729719  0.31020696]\n",
      " [ 0.04371219  0.18734501]\n",
      " [ 0.20503943  0.23923456]\n",
      " [ 0.10008134  0.23237028]\n",
      " [ 0.12214826  0.25659326]\n",
      " [ 0.24469686  0.30520311]\n",
      " [ 0.15003456  0.16979889]\n",
      " [ 0.93045046  0.96492322]\n",
      " [ 0.15926479  0.14256927]\n",
      " [ 0.93087792  0.95148569]\n",
      " [ 0.8676494   0.89393599]\n",
      " [ 0.09778039  0.17550195]\n",
      " [ 0.84422818  0.95779107]\n",
      " [ 0.03494684  0.22535846]\n",
      " [ 0.14197792  0.18364763]\n",
      " [ 0.22363659  0.21307218]\n",
      " [ 0.12419774  0.1855739 ]\n",
      " [ 0.91880487  0.97746676]\n",
      " [ 0.91053474  0.88373087]\n",
      " [ 0.88955807  0.99833575]\n",
      " [ 0.95559923  0.83864043]\n",
      " [ 0.9695251   0.94445148]\n",
      " [ 0.97933407  0.95168655]\n",
      " [ 0.09794162  0.        ]\n",
      " [ 0.91779196  0.95528815]]\n",
      "% debug % cluster i 4 cluster j 2\n",
      "[[ 0.20639018]\n",
      " [ 0.13709686]\n",
      " [ 0.87271053]\n",
      " [ 0.19624159]\n",
      " [ 0.18101176]\n",
      " [ 0.10675905]\n",
      " [ 0.89721006]\n",
      " [ 0.10948273]\n",
      " [ 0.08963558]\n",
      " [ 0.25799105]\n",
      " [ 0.21555219]\n",
      " [ 0.13733345]\n",
      " [ 0.22489724]\n",
      " [ 0.89211242]\n",
      " [ 0.89038952]\n",
      " [ 0.23392009]\n",
      " [ 0.17182097]\n",
      " [ 0.18264353]\n",
      " [ 0.19522301]\n",
      " [ 0.09273696]\n",
      " [ 0.23467634]\n",
      " [ 0.18651389]\n",
      " [ 0.9031862 ]\n",
      " [ 0.27819114]\n",
      " [ 0.22717817]\n",
      " [ 0.205726  ]\n",
      " [ 0.91385238]\n",
      " [ 0.26675231]\n",
      " [ 0.27648741]\n",
      " [ 0.86965055]\n",
      " [ 1.        ]\n",
      " [ 0.89490188]\n",
      " [ 0.26845746]\n",
      " [ 0.38339827]\n",
      " [ 0.88096234]\n",
      " [ 0.13089185]\n",
      " [ 0.149181  ]\n",
      " [ 0.19234824]\n",
      " [ 0.91386592]\n",
      " [ 0.26069936]\n",
      " [ 0.26833808]\n",
      " [ 0.91180454]\n",
      " [ 0.        ]\n",
      " [ 0.14175672]\n",
      " [ 0.19973502]\n",
      " [ 0.10415119]\n",
      " [ 0.118943  ]\n",
      " [ 0.18850893]\n",
      " [ 0.17588732]\n",
      " [ 0.94055419]\n",
      " [ 0.17024299]\n",
      " [ 0.81719672]\n",
      " [ 0.25661919]\n",
      " [ 0.22608404]\n",
      " [ 0.31814129]\n",
      " [ 0.12488108]\n",
      " [ 0.25593744]\n",
      " [ 0.11064355]\n",
      " [ 0.09876934]\n",
      " [ 0.16582511]\n",
      " [ 0.27630276]]\n",
      "% debug % cluster i 4 cluster j 3\n",
      "[[ 0.87075845  0.92526359]\n",
      " [ 0.21189219  0.17797976]\n",
      " [ 0.11908869  0.19263472]\n",
      " [ 0.18584415  0.07246963]\n",
      " [ 0.09534136  0.17075223]\n",
      " [ 0.14748523  0.09543831]\n",
      " [ 0.12276639  0.08398793]\n",
      " [ 0.08847379  0.13164602]\n",
      " [ 0.11982535  0.13885527]\n",
      " [ 0.15038834  0.02591085]\n",
      " [ 0.18251882  0.        ]\n",
      " [ 0.11364898  0.14447327]\n",
      " [ 0.15609282  0.11600849]\n",
      " [ 0.06255053  0.21436103]\n",
      " [ 0.19693919  0.14935961]\n",
      " [ 0.99225143  0.88359485]\n",
      " [ 0.95540664  0.90962672]\n",
      " [ 0.94139285  0.87048675]\n",
      " [ 0.10456736  0.2085326 ]\n",
      " [ 0.12049847  0.15481742]\n",
      " [ 0.16176914  0.17040684]\n",
      " [ 0.80612298  0.89414809]\n",
      " [ 0.09357331  0.20735285]\n",
      " [ 0.05356421  0.12136181]\n",
      " [ 0.13283702  0.1517136 ]\n",
      " [ 0.09046522  0.14813518]\n",
      " [ 0.11832982  0.15115154]\n",
      " [ 0.12081141  0.15780833]\n",
      " [ 0.13267836  0.13619642]\n",
      " [ 0.07423377  0.16786546]\n",
      " [ 0.18687907  0.18404058]\n",
      " [ 0.06552748  0.13029894]\n",
      " [ 0.17450211  0.17611881]\n",
      " [ 0.97380513  0.84263586]\n",
      " [ 0.14095537  0.06242279]\n",
      " [ 0.17096431  0.11718746]\n",
      " [ 0.97766545  0.84751413]\n",
      " [ 0.04759564  0.16050525]\n",
      " [ 0.11266273  0.1470992 ]\n",
      " [ 0.8638398   0.88072821]\n",
      " [ 1.          0.81014304]\n",
      " [ 0.04834271  0.16412853]\n",
      " [ 0.85381574  0.97948318]\n",
      " [ 0.20671308  0.16024001]\n",
      " [ 0.18062375  0.03470706]\n",
      " [ 0.05368179  0.16496543]\n",
      " [ 0.10755686  0.14988236]\n",
      " [ 0.91723379  0.86713867]\n",
      " [ 0.07065387  0.10793194]\n",
      " [ 0.03530653  0.05829739]\n",
      " [ 0.17823444  0.14153079]\n",
      " [ 0.08048187  0.05246473]\n",
      " [ 0.89034652  0.91095128]\n",
      " [ 0.11622784  0.06572638]\n",
      " [ 0.05236835  0.18326798]\n",
      " [ 0.          0.13632113]\n",
      " [ 0.16186669  0.0926916 ]\n",
      " [ 0.07795277  0.00107762]\n",
      " [ 0.19992743  0.11329361]\n",
      " [ 0.13992703  0.10586749]\n",
      " [ 0.09458907  0.03375239]]\n",
      "% debug % cluster i 4 cluster j 4\n",
      "[[ 0.12204125]\n",
      " [ 0.09820584]\n",
      " [ 0.06713661]\n",
      " [ 0.19493925]\n",
      " [ 0.11173306]\n",
      " [ 0.75559581]\n",
      " [ 0.14310427]\n",
      " [ 0.15515601]\n",
      " [ 0.0772204 ]\n",
      " [ 0.80443217]\n",
      " [ 0.10445172]\n",
      " [ 0.93157187]\n",
      " [ 0.14434051]\n",
      " [ 0.05251659]\n",
      " [ 0.09197018]\n",
      " [ 0.11528229]\n",
      " [ 0.15341073]\n",
      " [ 0.15943679]\n",
      " [ 0.14705627]\n",
      " [ 0.12394907]\n",
      " [ 0.11182846]\n",
      " [ 0.08543504]\n",
      " [ 0.15255548]\n",
      " [ 0.12118875]\n",
      " [ 0.10589583]\n",
      " [ 0.14755607]\n",
      " [ 0.25789043]\n",
      " [ 0.11002835]\n",
      " [ 0.03062138]\n",
      " [ 0.13620845]\n",
      " [ 0.        ]\n",
      " [ 0.25277292]\n",
      " [ 0.17766972]\n",
      " [ 0.15369417]\n",
      " [ 0.11119718]\n",
      " [ 0.89564503]\n",
      " [ 0.06634521]\n",
      " [ 0.15838842]\n",
      " [ 0.10336865]\n",
      " [ 0.20823699]\n",
      " [ 0.19298393]\n",
      " [ 0.04011589]\n",
      " [ 0.04492211]\n",
      " [ 0.06995078]\n",
      " [ 0.07528721]\n",
      " [ 0.06046692]\n",
      " [ 0.14494337]\n",
      " [ 0.10982477]\n",
      " [ 0.18740278]\n",
      " [ 0.25861407]\n",
      " [ 0.84264556]\n",
      " [ 0.28503659]\n",
      " [ 0.20676183]\n",
      " [ 0.13141343]\n",
      " [ 0.02730618]\n",
      " [ 0.20972531]\n",
      " [ 0.12126474]\n",
      " [ 0.01827892]\n",
      " [ 0.12818724]\n",
      " [ 1.        ]\n",
      " [ 0.07988581]]\n",
      "% debug % cluster i 4 cluster j 5\n",
      "[[ 0.10346137]\n",
      " [ 0.11585682]\n",
      " [ 0.23204977]\n",
      " [ 0.94693655]\n",
      " [ 0.1412419 ]\n",
      " [ 0.19812737]\n",
      " [ 0.160413  ]\n",
      " [ 0.23375823]\n",
      " [ 0.75548904]\n",
      " [ 0.18141546]\n",
      " [ 0.86828437]\n",
      " [ 0.13273257]\n",
      " [ 0.01066466]\n",
      " [ 0.12913084]\n",
      " [ 0.12198831]\n",
      " [ 0.18317959]\n",
      " [ 0.15826298]\n",
      " [ 0.11573449]\n",
      " [ 0.81339638]\n",
      " [ 0.14809162]\n",
      " [ 0.84360343]\n",
      " [ 0.16583309]\n",
      " [ 0.12200266]\n",
      " [ 0.94750685]\n",
      " [ 0.77726108]\n",
      " [ 0.        ]\n",
      " [ 0.05250105]\n",
      " [ 0.91777797]\n",
      " [ 0.8266699 ]\n",
      " [ 0.03107777]\n",
      " [ 0.19630685]\n",
      " [ 0.16398571]\n",
      " [ 0.84293645]\n",
      " [ 0.19767621]\n",
      " [ 0.1300078 ]\n",
      " [ 0.1725645 ]\n",
      " [ 0.09173607]\n",
      " [ 0.85907242]\n",
      " [ 0.17045959]\n",
      " [ 0.20158239]\n",
      " [ 0.16769342]\n",
      " [ 0.09067102]\n",
      " [ 0.15634574]\n",
      " [ 0.22254382]\n",
      " [ 0.83591251]\n",
      " [ 0.08350068]\n",
      " [ 0.09667342]\n",
      " [ 0.20903329]\n",
      " [ 0.09922024]\n",
      " [ 0.13098194]\n",
      " [ 0.19294358]\n",
      " [ 0.15455291]\n",
      " [ 0.16783734]\n",
      " [ 0.05652388]\n",
      " [ 0.19361643]\n",
      " [ 0.18405925]\n",
      " [ 0.01266101]\n",
      " [ 0.15041907]\n",
      " [ 0.1389291 ]\n",
      " [ 0.20571727]\n",
      " [ 0.23269972]]\n",
      "% debug % cluster i 5 cluster j 1\n",
      "[[ 0.82672674  0.88677215]\n",
      " [ 0.11741643  0.25855232]\n",
      " [ 0.27069549  0.12850303]\n",
      " [ 0.1698559   0.07522386]\n",
      " [ 1.          0.91311123]\n",
      " [ 0.13473691  0.06933519]\n",
      " [ 0.03095474  0.1195737 ]\n",
      " [ 0.1006683   0.13432961]]\n",
      "% debug % cluster i 5 cluster j 2\n",
      "[[ 0.11425585]\n",
      " [ 0.91005314]\n",
      " [ 0.28272722]\n",
      " [ 0.14380926]\n",
      " [ 0.27565048]\n",
      " [ 0.27365084]\n",
      " [ 0.32446046]\n",
      " [ 0.2372701 ]]\n",
      "% debug % cluster i 5 cluster j 3\n",
      "[[ 0.2069371   0.06360748]\n",
      " [ 0.07421971  0.09875577]\n",
      " [ 0.17642786  0.0817647 ]\n",
      " [ 0.1039095   0.02965655]\n",
      " [ 0.03648113  0.15987592]\n",
      " [ 0.05374235  0.12328734]\n",
      " [ 0.19898194  0.00363817]\n",
      " [ 0.04273825  0.07689643]]\n",
      "% debug % cluster i 5 cluster j 4\n",
      "[[ 0.26960759]\n",
      " [ 0.17776817]\n",
      " [ 0.16108249]\n",
      " [ 0.2113579 ]\n",
      " [ 0.10318972]\n",
      " [ 0.15302317]\n",
      " [ 0.06537685]\n",
      " [ 0.10427206]]\n",
      "% debug % cluster i 5 cluster j 5\n",
      "[[ 0.21798649]\n",
      " [ 0.12186143]\n",
      " [ 0.88020421]\n",
      " [ 0.97059603]\n",
      " [ 0.10924842]\n",
      " [ 0.85107495]\n",
      " [ 0.94599606]\n",
      " [ 0.88082428]]\n"
     ]
    }
   ],
   "source": [
    "rapooc_test.core_co_clustering()"
   ]
  },
  {
   "cell_type": "markdown",
   "metadata": {},
   "source": [
    "sns.tsplot(data= rapooc_test._D[np.ix_(np.where(rapooc_test._rho == 2)[0],np.where(rapooc_test._gamma == 2)[0])])"
   ]
  },
  {
   "cell_type": "code",
   "execution_count": 757,
   "metadata": {},
   "outputs": [
    {
     "data": {
      "image/png": "[encoded data removed]",
      "text/plain": [
       "<matplotlib.figure.Figure at 0x7fa4e74f7588>"
      ]
     },
     "metadata": {},
     "output_type": "display_data"
    }
   ],
   "source": [
    "fit_data = np.array(test_data)[np.argsort(rapooc_test.rho)]\n",
    "fit_data = fit_data[:, np.argsort(rapooc_test.gamma)]\n",
    "plt.matshow(fit_data, cmap=plt.cm.Blues)\n",
    "plt.title(\"After biclustering; rearranged to show biclusters\")\n",
    "\n",
    "plt.show()"
   ]
  },
  {
   "cell_type": "code",
   "execution_count": 473,
   "metadata": {},
   "outputs": [],
   "source": [
    "model_rows = list()\n",
    "for i in range(1,int(max(rapooc_test.rho)) + 1):\n",
    "    r = list()\n",
    "    for j in range(0,len(rapooc_test.rho)):\n",
    "        r.append(i==rapooc_test.rho[j])\n",
    "    model_rows.append(r)"
   ]
  },
  {
   "cell_type": "code",
   "execution_count": 474,
   "metadata": {},
   "outputs": [],
   "source": [
    "model_columns = list()\n",
    "for i in range(1,int(max(rapooc_test.gamma)) + 1):\n",
    "    r = list()\n",
    "    for j in range(0,len(rapooc_test.gamma)):\n",
    "        r.append(i==rapooc_test.gamma[j])\n",
    "    model_columns.append(r)\n",
    "\n",
    "model = (np.array(model_rows),np.array(model_columns))"
   ]
  },
  {
   "cell_type": "code",
   "execution_count": 735,
   "metadata": {},
   "outputs": [
    {
     "data": {
      "text/plain": [
       "array([[ 0.,  0.,  0.,  0.],\n",
       "       [ 0.,  0.,  0.,  0.],\n",
       "       [ 0.,  0.,  0.,  0.],\n",
       "       [ 0.,  0.,  0.,  0.],\n",
       "       [ 0.,  0.,  0.,  0.]])"
      ]
     },
     "execution_count": 735,
     "metadata": {},
     "output_type": "execute_result"
    }
   ],
   "source": [
    "np.array([ [0.0] * (int(3) + 1) for _ in range(int(4 + 1))])"
   ]
  },
  {
   "cell_type": "code",
   "execution_count": null,
   "metadata": {},
   "outputs": [],
   "source": [
    "score"
   ]
  },
  {
   "cell_type": "code",
   "execution_count": 477,
   "metadata": {},
   "outputs": [],
   "source": [
    "a = np.array([ [0.0] * ((3) + 2)  for _ in range(int(2+ 1))])"
   ]
  },
  {
   "cell_type": "code",
   "execution_count": 798,
   "metadata": {},
   "outputs": [],
   "source": [
    "class Test:\n",
    "    def __init__(self):\n",
    "        self._a = 0\n",
    "        \n",
    "    def test_method(self):\n",
    "        if(self._a == 0):\n",
    "            print(\"return\")\n",
    "            return\n",
    "        print(\"didn't return\")\n",
    "    "
   ]
  },
  {
   "cell_type": "code",
   "execution_count": 799,
   "metadata": {},
   "outputs": [],
   "source": [
    "t = Test()"
   ]
  },
  {
   "cell_type": "code",
   "execution_count": 800,
   "metadata": {},
   "outputs": [
    {
     "name": "stdout",
     "output_type": "stream",
     "text": [
      "return\n"
     ]
    }
   ],
   "source": [
    "t.test_method()"
   ]
  },
  {
   "cell_type": "code",
   "execution_count": null,
   "metadata": {},
   "outputs": [],
   "source": []
  }
 ],
 "metadata": {
  "kernelspec": {
   "display_name": "Python 3",
   "language": "python",
   "name": "python3"
  },
  "language_info": {
   "codemirror_mode": {
    "name": "ipython",
    "version": 3
   },
   "file_extension": ".py",
   "mimetype": "text/x-python",
   "name": "python",
   "nbconvert_exporter": "python",
   "pygments_lexer": "ipython3",
   "version": "3.6.3"
  }
 },
 "nbformat": 4,
 "nbformat_minor": 2
}
