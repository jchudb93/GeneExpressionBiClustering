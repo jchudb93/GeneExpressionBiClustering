{
 "cells": [
  {
   "cell_type": "code",
   "execution_count": 19,
   "metadata": {},
   "outputs": [],
   "source": [
    "%matplotlib inline\n",
    "import gc\n",
    "import pandas as pd\n",
    "import glob\n",
    "import sklearn\n",
    "import numpy as np\n",
    "import matplotlib"
   ]
  },
  {
   "cell_type": "code",
   "execution_count": 3,
   "metadata": {},
   "outputs": [
    {
     "data": {
      "text/plain": [
       "['../data/Dc/Jnk.csv',\n",
       " '../data/Dc/CTNNB1.csv',\n",
       " '../data/Dc/LEF1.csv',\n",
       " '../data/Dc/Ikk2.csv',\n",
       " '../data/Dc/Erk.csv',\n",
       " '../data/Dc/MYC.csv',\n",
       " '../data/Dc/IRF4.csv']"
      ]
     },
     "execution_count": 3,
     "metadata": {},
     "output_type": "execute_result"
    }
   ],
   "source": [
    "dcFiles=glob.glob(\"../data/Dc/*\")\n",
    "dcFiles"
   ]
  },
  {
   "cell_type": "code",
   "execution_count": 7,
   "metadata": {},
   "outputs": [],
   "source": [
    "trainIndexFiles=glob.glob(\"../Train/*\")\n",
    "frames = list()\n",
    "for f in trainIndexFiles:\n",
    "    indices = pd.read_csv(f,sep=\";\")\n",
    "    indexList=list(indices['0'])\n",
    "    protein = f.split(\"/\")[-1].split(\".\")[0]\n",
    "    fpath = '../data/Dc/'+f.split(\"/\")[-1].split(\".\")[0]+\".csv\"\n",
    "    dcRead = pd.read_csv(fpath,sep=\";\")\n",
    "    dcPartialTrain=dcRead[dcRead.columns[5:]].loc[indexList].copy()\n",
    "    dcPartialTrain.insert(0,column='Protein',value =protein )\n",
    "    del dcRead\n",
    "    gc.collect()\n",
    "    frames.append(dcPartialTrain)"
   ]
  },
  {
   "cell_type": "code",
   "execution_count": 8,
   "metadata": {},
   "outputs": [],
   "source": [
    "dcTrain = pd.concat(frames)"
   ]
  },
  {
   "cell_type": "markdown",
   "metadata": {
    "scrolled": true
   },
   "source": [
    "dcTrain.to_csv(\"../FullTrain/FullTraindc/FullTraindc.csv\")"
   ]
  },
  {
   "cell_type": "code",
   "execution_count": 9,
   "metadata": {},
   "outputs": [
    {
     "data": {
      "text/html": [
       "<div>\n",
       "<style>\n",
       "    .dataframe thead tr:only-child th {\n",
       "        text-align: right;\n",
       "    }\n",
       "\n",
       "    .dataframe thead th {\n",
       "        text-align: left;\n",
       "    }\n",
       "\n",
       "    .dataframe tbody tr th {\n",
       "        vertical-align: top;\n",
       "    }\n",
       "</style>\n",
       "<table border=\"1\" class=\"dataframe\">\n",
       "  <thead>\n",
       "    <tr style=\"text-align: right;\">\n",
       "      <th></th>\n",
       "      <th>Protein</th>\n",
       "      <th>X0min_neg_effect-X0min_neg_cause</th>\n",
       "      <th>X15min_effect-X0min_neg_cause</th>\n",
       "      <th>X15min_effect-X15min_cause</th>\n",
       "      <th>X30min_effect-X0min_neg_cause</th>\n",
       "      <th>X30min_effect-X15min_cause</th>\n",
       "      <th>X30min_effect-X30min_cause</th>\n",
       "      <th>X90min_effect-X0min_neg_cause</th>\n",
       "      <th>X90min_effect-X15min_cause</th>\n",
       "      <th>X90min_effect-X30min_cause</th>\n",
       "      <th>...</th>\n",
       "      <th>X240min_effect-X240min_cause</th>\n",
       "      <th>X360min_effect-X0min_neg_cause</th>\n",
       "      <th>X360min_effect-X15min_cause</th>\n",
       "      <th>X360min_effect-X30min_cause</th>\n",
       "      <th>X360min_effect-X90min_cause</th>\n",
       "      <th>X360min_effect-X120min_cause</th>\n",
       "      <th>X360min_effect-X180min_cause</th>\n",
       "      <th>X360min_effect-X210min_cause</th>\n",
       "      <th>X360min_effect-X240min_cause</th>\n",
       "      <th>X360min_effect-X360min_cause</th>\n",
       "    </tr>\n",
       "  </thead>\n",
       "  <tbody>\n",
       "    <tr>\n",
       "      <th>20742</th>\n",
       "      <td>CTNNB1</td>\n",
       "      <td>0.258286</td>\n",
       "      <td>-0.040952</td>\n",
       "      <td>1.646857</td>\n",
       "      <td>-0.074884</td>\n",
       "      <td>-0.536817</td>\n",
       "      <td>0.712429</td>\n",
       "      <td>0.004945</td>\n",
       "      <td>0.433192</td>\n",
       "      <td>-0.344667</td>\n",
       "      <td>...</td>\n",
       "      <td>0.948849</td>\n",
       "      <td>-0.028561</td>\n",
       "      <td>-0.277744</td>\n",
       "      <td>0.352905</td>\n",
       "      <td>-0.459728</td>\n",
       "      <td>-0.190113</td>\n",
       "      <td>-0.348160</td>\n",
       "      <td>-0.376223</td>\n",
       "      <td>-0.324230</td>\n",
       "      <td>0.531021</td>\n",
       "    </tr>\n",
       "    <tr>\n",
       "      <th>20743</th>\n",
       "      <td>CTNNB1</td>\n",
       "      <td>0.058530</td>\n",
       "      <td>-0.002715</td>\n",
       "      <td>0.075601</td>\n",
       "      <td>0.005334</td>\n",
       "      <td>-0.000477</td>\n",
       "      <td>0.511641</td>\n",
       "      <td>0.074701</td>\n",
       "      <td>0.009229</td>\n",
       "      <td>0.299339</td>\n",
       "      <td>...</td>\n",
       "      <td>0.258951</td>\n",
       "      <td>0.001004</td>\n",
       "      <td>0.002375</td>\n",
       "      <td>0.122841</td>\n",
       "      <td>0.240059</td>\n",
       "      <td>-0.050992</td>\n",
       "      <td>-0.008164</td>\n",
       "      <td>-0.043653</td>\n",
       "      <td>0.168829</td>\n",
       "      <td>0.220668</td>\n",
       "    </tr>\n",
       "    <tr>\n",
       "      <th>20744</th>\n",
       "      <td>CTNNB1</td>\n",
       "      <td>1.855353</td>\n",
       "      <td>0.386690</td>\n",
       "      <td>1.853610</td>\n",
       "      <td>0.402003</td>\n",
       "      <td>0.632198</td>\n",
       "      <td>0.800743</td>\n",
       "      <td>0.089057</td>\n",
       "      <td>-0.204024</td>\n",
       "      <td>-0.164598</td>\n",
       "      <td>...</td>\n",
       "      <td>1.680482</td>\n",
       "      <td>1.461912</td>\n",
       "      <td>1.231168</td>\n",
       "      <td>1.022377</td>\n",
       "      <td>-0.200750</td>\n",
       "      <td>-0.047090</td>\n",
       "      <td>-0.013835</td>\n",
       "      <td>1.494694</td>\n",
       "      <td>0.945993</td>\n",
       "      <td>8.095240</td>\n",
       "    </tr>\n",
       "    <tr>\n",
       "      <th>20746</th>\n",
       "      <td>CTNNB1</td>\n",
       "      <td>2.424238</td>\n",
       "      <td>-0.189336</td>\n",
       "      <td>0.336505</td>\n",
       "      <td>-0.069250</td>\n",
       "      <td>0.093951</td>\n",
       "      <td>0.246520</td>\n",
       "      <td>0.135422</td>\n",
       "      <td>-0.257685</td>\n",
       "      <td>-0.392767</td>\n",
       "      <td>...</td>\n",
       "      <td>5.311831</td>\n",
       "      <td>0.431805</td>\n",
       "      <td>-0.108607</td>\n",
       "      <td>-0.155356</td>\n",
       "      <td>0.363031</td>\n",
       "      <td>0.218603</td>\n",
       "      <td>-0.127940</td>\n",
       "      <td>0.280688</td>\n",
       "      <td>0.187717</td>\n",
       "      <td>0.473111</td>\n",
       "    </tr>\n",
       "    <tr>\n",
       "      <th>20747</th>\n",
       "      <td>CTNNB1</td>\n",
       "      <td>0.627870</td>\n",
       "      <td>-0.006041</td>\n",
       "      <td>14.938279</td>\n",
       "      <td>-0.001952</td>\n",
       "      <td>0.073875</td>\n",
       "      <td>0.225138</td>\n",
       "      <td>-0.002711</td>\n",
       "      <td>0.242247</td>\n",
       "      <td>0.037177</td>\n",
       "      <td>...</td>\n",
       "      <td>0.278563</td>\n",
       "      <td>0.263646</td>\n",
       "      <td>1.004371</td>\n",
       "      <td>0.062816</td>\n",
       "      <td>0.015194</td>\n",
       "      <td>0.120208</td>\n",
       "      <td>0.039601</td>\n",
       "      <td>0.399952</td>\n",
       "      <td>0.075389</td>\n",
       "      <td>0.971945</td>\n",
       "    </tr>\n",
       "  </tbody>\n",
       "</table>\n",
       "<p>5 rows × 46 columns</p>\n",
       "</div>"
      ],
      "text/plain": [
       "      Protein  X0min_neg_effect-X0min_neg_cause  \\\n",
       "20742  CTNNB1                          0.258286   \n",
       "20743  CTNNB1                          0.058530   \n",
       "20744  CTNNB1                          1.855353   \n",
       "20746  CTNNB1                          2.424238   \n",
       "20747  CTNNB1                          0.627870   \n",
       "\n",
       "       X15min_effect-X0min_neg_cause  X15min_effect-X15min_cause  \\\n",
       "20742                      -0.040952                    1.646857   \n",
       "20743                      -0.002715                    0.075601   \n",
       "20744                       0.386690                    1.853610   \n",
       "20746                      -0.189336                    0.336505   \n",
       "20747                      -0.006041                   14.938279   \n",
       "\n",
       "       X30min_effect-X0min_neg_cause  X30min_effect-X15min_cause  \\\n",
       "20742                      -0.074884                   -0.536817   \n",
       "20743                       0.005334                   -0.000477   \n",
       "20744                       0.402003                    0.632198   \n",
       "20746                      -0.069250                    0.093951   \n",
       "20747                      -0.001952                    0.073875   \n",
       "\n",
       "       X30min_effect-X30min_cause  X90min_effect-X0min_neg_cause  \\\n",
       "20742                    0.712429                       0.004945   \n",
       "20743                    0.511641                       0.074701   \n",
       "20744                    0.800743                       0.089057   \n",
       "20746                    0.246520                       0.135422   \n",
       "20747                    0.225138                      -0.002711   \n",
       "\n",
       "       X90min_effect-X15min_cause  X90min_effect-X30min_cause  \\\n",
       "20742                    0.433192                   -0.344667   \n",
       "20743                    0.009229                    0.299339   \n",
       "20744                   -0.204024                   -0.164598   \n",
       "20746                   -0.257685                   -0.392767   \n",
       "20747                    0.242247                    0.037177   \n",
       "\n",
       "                   ...               X240min_effect-X240min_cause  \\\n",
       "20742              ...                                   0.948849   \n",
       "20743              ...                                   0.258951   \n",
       "20744              ...                                   1.680482   \n",
       "20746              ...                                   5.311831   \n",
       "20747              ...                                   0.278563   \n",
       "\n",
       "       X360min_effect-X0min_neg_cause  X360min_effect-X15min_cause  \\\n",
       "20742                       -0.028561                    -0.277744   \n",
       "20743                        0.001004                     0.002375   \n",
       "20744                        1.461912                     1.231168   \n",
       "20746                        0.431805                    -0.108607   \n",
       "20747                        0.263646                     1.004371   \n",
       "\n",
       "       X360min_effect-X30min_cause  X360min_effect-X90min_cause  \\\n",
       "20742                     0.352905                    -0.459728   \n",
       "20743                     0.122841                     0.240059   \n",
       "20744                     1.022377                    -0.200750   \n",
       "20746                    -0.155356                     0.363031   \n",
       "20747                     0.062816                     0.015194   \n",
       "\n",
       "       X360min_effect-X120min_cause  X360min_effect-X180min_cause  \\\n",
       "20742                     -0.190113                     -0.348160   \n",
       "20743                     -0.050992                     -0.008164   \n",
       "20744                     -0.047090                     -0.013835   \n",
       "20746                      0.218603                     -0.127940   \n",
       "20747                      0.120208                      0.039601   \n",
       "\n",
       "       X360min_effect-X210min_cause  X360min_effect-X240min_cause  \\\n",
       "20742                     -0.376223                     -0.324230   \n",
       "20743                     -0.043653                      0.168829   \n",
       "20744                      1.494694                      0.945993   \n",
       "20746                      0.280688                      0.187717   \n",
       "20747                      0.399952                      0.075389   \n",
       "\n",
       "       X360min_effect-X360min_cause  \n",
       "20742                      0.531021  \n",
       "20743                      0.220668  \n",
       "20744                      8.095240  \n",
       "20746                      0.473111  \n",
       "20747                      0.971945  \n",
       "\n",
       "[5 rows x 46 columns]"
      ]
     },
     "execution_count": 9,
     "metadata": {},
     "output_type": "execute_result"
    }
   ],
   "source": [
    "dcTrain.head()"
   ]
  },
  {
   "cell_type": "code",
   "execution_count": 10,
   "metadata": {},
   "outputs": [],
   "source": [
    "lstn_clusters=range(2,30)"
   ]
  },
  {
   "cell_type": "code",
   "execution_count": 11,
   "metadata": {},
   "outputs": [],
   "source": [
    "import time\n",
    "from sklearn.cluster import MiniBatchKMeans\n",
    "from sklearn.metrics import silhouette_score"
   ]
  },
  {
   "cell_type": "code",
   "execution_count": 12,
   "metadata": {},
   "outputs": [
    {
     "data": {
      "text/plain": [
       "19"
      ]
     },
     "execution_count": 12,
     "metadata": {},
     "output_type": "execute_result"
    }
   ],
   "source": [
    "file = open('../ClusteringOutputs/DC_Clustering/dcMiniBatch.txt','w')  \n",
    "bestOut = open('../ClusteringOutputs/DC_Clustering/dcBestMiniBatch.txt','w') \n",
    "file.write(\"n_clusters,s_score\\n\")"
   ]
  },
  {
   "cell_type": "code",
   "execution_count": 13,
   "metadata": {},
   "outputs": [],
   "source": [
    "dfLabels=pd.DataFrame()"
   ]
  },
  {
   "cell_type": "code",
   "execution_count": 14,
   "metadata": {},
   "outputs": [],
   "source": [
    "dfLabels['Protein'] = dcTrain['Protein'].tolist()"
   ]
  },
  {
   "cell_type": "code",
   "execution_count": 15,
   "metadata": {},
   "outputs": [],
   "source": [
    "max_silhouette=0\n",
    "nClusters=2\n",
    "\n",
    "for n in lstn_clusters:\n",
    "    mbk=MiniBatchKMeans(init='k-means++', n_clusters=n\n",
    "                        , max_no_improvement=10, verbose=0)\n",
    "    mbk.fit(dcTrain[dcTrain.columns[1:]])\n",
    "    labels = mbk.labels_\n",
    "    s_score = silhouette_score(dcTrain[dcTrain.columns[1:]], labels, metric='euclidean')\n",
    "    dfLabels['NClusters'+str(n)] = n\n",
    "    dfLabels['Labels_'+str(n)] =labels\n",
    "    file.write(str(n)+\",\")\n",
    "    file.write(str(s_score)+\"\\n\")\n",
    "    if s_score>max_silhouette:\n",
    "        max_silhouette = s_score\n",
    "        nClusters=n\n",
    "#t_mini_batch = time.time() - t0    \n",
    "#print(\"Num clusters \" + str(n))\n",
    "bestOut.write(\"Num clusters \" + str(n))\n",
    "#print(\"Silhouette score \" + str(max_silhouette))\n",
    "bestOut.write(\"Silhouette score \" + str(max_silhouette))\n",
    "#print(\"Running time \" + str(t_mini_batch))\n",
    "file.close()\n",
    "bestOut.close()\n",
    "file.close()\n",
    "bestOut.close()"
   ]
  },
  {
   "cell_type": "code",
   "execution_count": 16,
   "metadata": {},
   "outputs": [
    {
     "data": {
      "text/plain": [
       "pandas.core.frame.DataFrame"
      ]
     },
     "execution_count": 16,
     "metadata": {},
     "output_type": "execute_result"
    }
   ],
   "source": [
    "type(dfLabels)"
   ]
  },
  {
   "cell_type": "code",
   "execution_count": 17,
   "metadata": {},
   "outputs": [
    {
     "data": {
      "text/html": [
       "<div>\n",
       "<style>\n",
       "    .dataframe thead tr:only-child th {\n",
       "        text-align: right;\n",
       "    }\n",
       "\n",
       "    .dataframe thead th {\n",
       "        text-align: left;\n",
       "    }\n",
       "\n",
       "    .dataframe tbody tr th {\n",
       "        vertical-align: top;\n",
       "    }\n",
       "</style>\n",
       "<table border=\"1\" class=\"dataframe\">\n",
       "  <thead>\n",
       "    <tr style=\"text-align: right;\">\n",
       "      <th></th>\n",
       "      <th>Protein</th>\n",
       "      <th>NClusters2</th>\n",
       "      <th>Labels_2</th>\n",
       "      <th>NClusters3</th>\n",
       "      <th>Labels_3</th>\n",
       "      <th>NClusters4</th>\n",
       "      <th>Labels_4</th>\n",
       "      <th>NClusters5</th>\n",
       "      <th>Labels_5</th>\n",
       "      <th>NClusters6</th>\n",
       "      <th>...</th>\n",
       "      <th>NClusters25</th>\n",
       "      <th>Labels_25</th>\n",
       "      <th>NClusters26</th>\n",
       "      <th>Labels_26</th>\n",
       "      <th>NClusters27</th>\n",
       "      <th>Labels_27</th>\n",
       "      <th>NClusters28</th>\n",
       "      <th>Labels_28</th>\n",
       "      <th>NClusters29</th>\n",
       "      <th>Labels_29</th>\n",
       "    </tr>\n",
       "  </thead>\n",
       "  <tbody>\n",
       "    <tr>\n",
       "      <th>0</th>\n",
       "      <td>CTNNB1</td>\n",
       "      <td>2</td>\n",
       "      <td>1</td>\n",
       "      <td>3</td>\n",
       "      <td>0</td>\n",
       "      <td>4</td>\n",
       "      <td>1</td>\n",
       "      <td>5</td>\n",
       "      <td>2</td>\n",
       "      <td>6</td>\n",
       "      <td>...</td>\n",
       "      <td>25</td>\n",
       "      <td>10</td>\n",
       "      <td>26</td>\n",
       "      <td>0</td>\n",
       "      <td>27</td>\n",
       "      <td>19</td>\n",
       "      <td>28</td>\n",
       "      <td>0</td>\n",
       "      <td>29</td>\n",
       "      <td>1</td>\n",
       "    </tr>\n",
       "    <tr>\n",
       "      <th>1</th>\n",
       "      <td>CTNNB1</td>\n",
       "      <td>2</td>\n",
       "      <td>1</td>\n",
       "      <td>3</td>\n",
       "      <td>0</td>\n",
       "      <td>4</td>\n",
       "      <td>1</td>\n",
       "      <td>5</td>\n",
       "      <td>2</td>\n",
       "      <td>6</td>\n",
       "      <td>...</td>\n",
       "      <td>25</td>\n",
       "      <td>7</td>\n",
       "      <td>26</td>\n",
       "      <td>10</td>\n",
       "      <td>27</td>\n",
       "      <td>15</td>\n",
       "      <td>28</td>\n",
       "      <td>24</td>\n",
       "      <td>29</td>\n",
       "      <td>5</td>\n",
       "    </tr>\n",
       "    <tr>\n",
       "      <th>2</th>\n",
       "      <td>CTNNB1</td>\n",
       "      <td>2</td>\n",
       "      <td>1</td>\n",
       "      <td>3</td>\n",
       "      <td>0</td>\n",
       "      <td>4</td>\n",
       "      <td>0</td>\n",
       "      <td>5</td>\n",
       "      <td>0</td>\n",
       "      <td>6</td>\n",
       "      <td>...</td>\n",
       "      <td>25</td>\n",
       "      <td>23</td>\n",
       "      <td>26</td>\n",
       "      <td>3</td>\n",
       "      <td>27</td>\n",
       "      <td>8</td>\n",
       "      <td>28</td>\n",
       "      <td>5</td>\n",
       "      <td>29</td>\n",
       "      <td>8</td>\n",
       "    </tr>\n",
       "    <tr>\n",
       "      <th>3</th>\n",
       "      <td>CTNNB1</td>\n",
       "      <td>2</td>\n",
       "      <td>1</td>\n",
       "      <td>3</td>\n",
       "      <td>0</td>\n",
       "      <td>4</td>\n",
       "      <td>1</td>\n",
       "      <td>5</td>\n",
       "      <td>1</td>\n",
       "      <td>6</td>\n",
       "      <td>...</td>\n",
       "      <td>25</td>\n",
       "      <td>2</td>\n",
       "      <td>26</td>\n",
       "      <td>17</td>\n",
       "      <td>27</td>\n",
       "      <td>23</td>\n",
       "      <td>28</td>\n",
       "      <td>14</td>\n",
       "      <td>29</td>\n",
       "      <td>28</td>\n",
       "    </tr>\n",
       "    <tr>\n",
       "      <th>4</th>\n",
       "      <td>CTNNB1</td>\n",
       "      <td>2</td>\n",
       "      <td>0</td>\n",
       "      <td>3</td>\n",
       "      <td>1</td>\n",
       "      <td>4</td>\n",
       "      <td>3</td>\n",
       "      <td>5</td>\n",
       "      <td>4</td>\n",
       "      <td>6</td>\n",
       "      <td>...</td>\n",
       "      <td>25</td>\n",
       "      <td>16</td>\n",
       "      <td>26</td>\n",
       "      <td>23</td>\n",
       "      <td>27</td>\n",
       "      <td>5</td>\n",
       "      <td>28</td>\n",
       "      <td>8</td>\n",
       "      <td>29</td>\n",
       "      <td>0</td>\n",
       "    </tr>\n",
       "  </tbody>\n",
       "</table>\n",
       "<p>5 rows × 57 columns</p>\n",
       "</div>"
      ],
      "text/plain": [
       "  Protein  NClusters2  Labels_2  NClusters3  Labels_3  NClusters4  Labels_4  \\\n",
       "0  CTNNB1           2         1           3         0           4         1   \n",
       "1  CTNNB1           2         1           3         0           4         1   \n",
       "2  CTNNB1           2         1           3         0           4         0   \n",
       "3  CTNNB1           2         1           3         0           4         1   \n",
       "4  CTNNB1           2         0           3         1           4         3   \n",
       "\n",
       "   NClusters5  Labels_5  NClusters6    ...      NClusters25  Labels_25  \\\n",
       "0           5         2           6    ...               25         10   \n",
       "1           5         2           6    ...               25          7   \n",
       "2           5         0           6    ...               25         23   \n",
       "3           5         1           6    ...               25          2   \n",
       "4           5         4           6    ...               25         16   \n",
       "\n",
       "   NClusters26  Labels_26  NClusters27  Labels_27  NClusters28  Labels_28  \\\n",
       "0           26          0           27         19           28          0   \n",
       "1           26         10           27         15           28         24   \n",
       "2           26          3           27          8           28          5   \n",
       "3           26         17           27         23           28         14   \n",
       "4           26         23           27          5           28          8   \n",
       "\n",
       "   NClusters29  Labels_29  \n",
       "0           29          1  \n",
       "1           29          5  \n",
       "2           29          8  \n",
       "3           29         28  \n",
       "4           29          0  \n",
       "\n",
       "[5 rows x 57 columns]"
      ]
     },
     "execution_count": 17,
     "metadata": {},
     "output_type": "execute_result"
    }
   ],
   "source": [
    "dfLabels.head()"
   ]
  },
  {
   "cell_type": "markdown",
   "metadata": {},
   "source": [
    "dfLabels.to_csv('../ClusteringOutputs/DI_Clustering/DILabelsKmeans.csv')"
   ]
  },
  {
   "cell_type": "code",
   "execution_count": 18,
   "metadata": {},
   "outputs": [],
   "source": [
    "mbk=MiniBatchKMeans(init='k-means++', n_clusters=4\n",
    "                        , max_no_improvement=10, verbose=0)\n",
    "mbk.fit(dcTrain[dcTrain.columns[1:]])\n",
    "labels = mbk.labels_\n",
    "s_score = silhouette_score(dcTrain[dcTrain.columns[1:]], labels, metric='euclidean')"
   ]
  },
  {
   "cell_type": "code",
   "execution_count": 20,
   "metadata": {},
   "outputs": [],
   "source": [
    "from sklearn.decomposition import PCA"
   ]
  },
  {
   "cell_type": "code",
   "execution_count": 21,
   "metadata": {},
   "outputs": [],
   "source": [
    "pca = PCA(n_components=3, svd_solver='full')"
   ]
  },
  {
   "cell_type": "code",
   "execution_count": 22,
   "metadata": {},
   "outputs": [
    {
     "data": {
      "text/plain": [
       "PCA(copy=True, iterated_power='auto', n_components=3, random_state=None,\n",
       "  svd_solver='full', tol=0.0, whiten=False)"
      ]
     },
     "execution_count": 22,
     "metadata": {},
     "output_type": "execute_result"
    }
   ],
   "source": [
    "pca.fit(dcTrain[dcTrain.columns[1:]])"
   ]
  },
  {
   "cell_type": "code",
   "execution_count": 23,
   "metadata": {},
   "outputs": [],
   "source": [
    "pca_3d = pca.transform(dcTrain[dcTrain.columns[1:]]).T"
   ]
  },
  {
   "cell_type": "code",
   "execution_count": 24,
   "metadata": {},
   "outputs": [
    {
     "data": {
      "text/plain": [
       "3"
      ]
     },
     "execution_count": 24,
     "metadata": {},
     "output_type": "execute_result"
    }
   ],
   "source": [
    "len(pca_3d)"
   ]
  },
  {
   "cell_type": "code",
   "execution_count": 25,
   "metadata": {},
   "outputs": [],
   "source": [
    "from matplotlib import pyplot\n",
    "from mpl_toolkits.mplot3d import Axes3D"
   ]
  },
  {
   "cell_type": "code",
   "execution_count": 26,
   "metadata": {},
   "outputs": [],
   "source": [
    "x=pca_3d[0]\n",
    "y=pca_3d[1]\n",
    "z=pca_3d[2]"
   ]
  },
  {
   "cell_type": "code",
   "execution_count": 27,
   "metadata": {},
   "outputs": [
    {
     "data": {
      "image/png": "[encoded data removed]",
      "text/plain": [
       "<matplotlib.figure.Figure at 0x7fe576fb0748>"
      ]
     },
     "metadata": {},
     "output_type": "display_data"
    }
   ],
   "source": [
    "fig = pyplot.figure()\n",
    "ax = Axes3D(fig)\n",
    "ax.scatter(x, y, z,c=labels)\n",
    "pyplot.show()"
   ]
  },
  {
   "cell_type": "code",
   "execution_count": null,
   "metadata": {},
   "outputs": [],
   "source": []
  }
 ],
 "metadata": {
  "kernelspec": {
   "display_name": "Python 3",
   "language": "python",
   "name": "python3"
  },
  "language_info": {
   "codemirror_mode": {
    "name": "ipython",
    "version": 3
   },
   "file_extension": ".py",
   "mimetype": "text/x-python",
   "name": "python",
   "nbconvert_exporter": "python",
   "pygments_lexer": "ipython3",
   "version": "3.6.3"
  }
 },
 "nbformat": 4,
 "nbformat_minor": 2
}
