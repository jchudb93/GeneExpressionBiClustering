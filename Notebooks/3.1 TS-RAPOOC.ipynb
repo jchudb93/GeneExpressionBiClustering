{
 "cells": [
  {
   "cell_type": "markdown",
   "metadata": {},
   "source": [
    "# TS-RAPOOC"
   ]
  },
  {
   "cell_type": "markdown",
   "metadata": {},
   "source": [
    "### Based on RAPOOC algorithm proposed by Omar Odibat (2014)"
   ]
  },
  {
   "cell_type": "markdown",
   "metadata": {},
   "source": [
    "- Step 1: Devide rows into two separate parts\n",
    "- Step 2: Decide which part will be devided among all generated clusters\n",
    "- Step 3: Devide the chosen cluster in columns or rows, the one that has the highest coherence\n",
    "- Step 4: Check the number of clusters generated this way, if the number of clusters is reached, break, else return to step 2"
   ]
  },
  {
   "cell_type": "code",
   "execution_count": 1,
   "metadata": {},
   "outputs": [],
   "source": [
    "%matplotlib inline\n",
    "import pandas as pd\n",
    "import numpy as np\n",
    "import matplotlib.pyplot as plt\n",
    "import seaborn as sns\n",
    "import math\n",
    "import glob\n",
    "import multiprocessing\n",
    "from operator import attrgetter\n",
    "\n",
    "from metrics import *\n",
    "from clusterer import *"
   ]
  },
  {
   "cell_type": "code",
   "execution_count": 2,
   "metadata": {},
   "outputs": [
    {
     "data": {
      "text/latex": [
       "Define H for a new term 'z' in X\n",
       "$$\n",
       "H_{1}(I,J,X,z) =H_{0}(I,J,X) \\cdot \\frac{(I-1)}{(I+1)} + \\frac{|2|}{(I)(I+1)} \\cdot \\sum_{x \\epsilon X} {h(x,z,J)}\n",
       "$$"
      ],
      "text/plain": [
       "<IPython.core.display.Latex object>"
      ]
     },
     "metadata": {},
     "output_type": "display_data"
    }
   ],
   "source": [
    "%%latex\n",
    "Define H for a new term 'z' in X\n",
    "$$\n",
    "H_{1}(I,J,X,z) =H_{0}(I,J,X) \\cdot \\frac{(I-1)}{(I+1)} + \\frac{|2|}{(I)(I+1)} \\cdot \\sum_{x \\epsilon X} {h(x,z,J)}\n",
    "$$"
   ]
  },
  {
   "cell_type": "code",
   "execution_count": 27,
   "metadata": {},
   "outputs": [],
   "source": [
    "class ClusterMaps(object):\n",
    "    def __init__(self, rho=None, gamma=None, H = 0):\n",
    "        self.gamma = gamma\n",
    "        self.rho = rho\n",
    "        self.H = H\n",
    "    \n",
    "    def __str__(self):\n",
    "        return (\"rho \"+ str(self.rho) + \" gamma \" + str(self.gamma) + \" H \" + str(self.H))"
   ]
  },
  {
   "cell_type": "code",
   "execution_count": 83,
   "metadata": {},
   "outputs": [],
   "source": [
    "class TsRapooc(object):\n",
    "    def __init__(self, data, n_clusters = 3):\n",
    "        self._D = np.array(data)\n",
    "        self._n_clusters = n_clusters\n",
    "        self._labels = list()\n",
    "        self._I, self._J = data.shape\n",
    "        \n",
    "    @property\n",
    "    def n_clusters(self):\n",
    "        return self._n_clusters\n",
    "    \n",
    "    @property\n",
    "    def data(self):\n",
    "        return self._D\n",
    "    \n",
    "    @property\n",
    "    def labels(self):\n",
    "        return _labels\n",
    "    \n",
    "    def fit(self):\n",
    "        n_iteration = 0\n",
    "        n_clusters = 0\n",
    "        for n_iteration in range(0, self._n_clusters):\n",
    "            if n_iteration == 0:\n",
    "                initial_partition = BisectingClusterer(data).fit_rows()\n",
    "                self._labels.append(ClusterMaps(np.where(initial_partition==0)[0],\n",
    "                                   np.arange(self._J),\n",
    "                                    PairBasedCoherence(self._D[np.where(initial_partition==0)[0]]).HP))\n",
    "         \n",
    "                \n",
    "                self._labels.append(ClusterMaps(np.where(initial_partition==1)[0],\n",
    "                                   np.arange(self._J),\n",
    "                                   PairBasedCoherence(self._D[np.where(initial_partition==1)[0]]).HP))\n",
    "            else:\n",
    "                self._partition()\n",
    "        \n",
    "    def _partition(self):\n",
    "        least_coherent = self._find_least_coherent()\n",
    "        lowest_cluster = self._D[np.ix_(least_coherent.rho,least_coherent.gamma)]\n",
    "        print(lowest_cluster.shape)\n",
    "        self._bisect_bicluster(self._D)\n",
    "    \n",
    "    def _find_least_coherent(self):\n",
    "        return self._labels[self._labels.index(min(self._labels,key=attrgetter('H')))]\n",
    "    \n",
    "    def _bisect_bicluster(self,cluster):\n",
    "        #which of the biclusters maximize coherence\n",
    "        print(str(BisectingClusterer(cluster).fit_rows()) + \" rows\")\n",
    "        \n",
    "        print(str(BisectingClusterer(cluster).fit_cols()) + \" cols\")"
   ]
  },
  {
   "cell_type": "code",
   "execution_count": 84,
   "metadata": {},
   "outputs": [
    {
     "name": "stdout",
     "output_type": "stream",
     "text": [
      "(56, 11)\n",
      "[ 1.  1.  1.  1.  1.  1.  1.  0.  1.  0.  1.  1.  1.  1.  1.  1.  0.  0.\n",
      "  0.  0.  1.  0.  1.  0.  1.  1.  1.  1.  1.  0.  0.  1.  1.  0.  1.  0.\n",
      "  1.  0.  0.  1.  1.  0.  0.  1.  0.  0.  1.  0.  1.  1.  1.  1.  1.  1.\n",
      "  1.  0.  1.  0.  1.  0.  0.  0.  0.  0.  0.  0.  1.  1.  0.  0.  1.  1.\n",
      "  0.  1.  1.  1.  0.  0.  1.  1.  1.  0.  1.  0.  0.  1.  1.  1.  0.  0.\n",
      "  0.  0.  1.  1.  1.  0.  0.  0.  1.  0.] rows\n",
      "[ 0.  0.  0.  0.  0.  0.  0.  0.  1.  1.  1.] cols\n",
      "(56, 11)\n",
      "[ 1.  1.  1.  1.  1.  1.  1.  0.  1.  0.  1.  1.  1.  1.  1.  1.  0.  0.\n",
      "  0.  0.  1.  0.  1.  0.  1.  1.  1.  1.  1.  0.  0.  1.  1.  0.  1.  0.\n",
      "  1.  0.  0.  1.  1.  0.  0.  1.  0.  0.  1.  0.  1.  1.  1.  1.  1.  1.\n",
      "  1.  0.  1.  0.  1.  0.  0.  0.  0.  0.  0.  0.  1.  1.  0.  0.  1.  1.\n",
      "  0.  1.  1.  1.  0.  0.  1.  1.  1.  0.  1.  0.  0.  1.  1.  1.  0.  0.\n",
      "  0.  0.  1.  1.  1.  0.  0.  0.  1.  0.] rows\n",
      "[ 0.  0.  0.  0.  0.  0.  0.  0.  1.  1.  1.] cols\n"
     ]
    }
   ],
   "source": [
    "tsrapooc = TsRapooc(data)\n",
    "tsrapooc.fit()"
   ]
  },
  {
   "cell_type": "code",
   "execution_count": 62,
   "metadata": {},
   "outputs": [
    {
     "data": {
      "text/html": [
       "<div>\n",
       "<style>\n",
       "    .dataframe thead tr:only-child th {\n",
       "        text-align: right;\n",
       "    }\n",
       "\n",
       "    .dataframe thead th {\n",
       "        text-align: left;\n",
       "    }\n",
       "\n",
       "    .dataframe tbody tr th {\n",
       "        vertical-align: top;\n",
       "    }\n",
       "</style>\n",
       "<table border=\"1\" class=\"dataframe\">\n",
       "  <thead>\n",
       "    <tr style=\"text-align: right;\">\n",
       "      <th></th>\n",
       "      <th>0</th>\n",
       "      <th>1</th>\n",
       "      <th>2</th>\n",
       "      <th>3</th>\n",
       "      <th>4</th>\n",
       "      <th>5</th>\n",
       "      <th>6</th>\n",
       "      <th>7</th>\n",
       "      <th>8</th>\n",
       "      <th>9</th>\n",
       "      <th>10</th>\n",
       "    </tr>\n",
       "  </thead>\n",
       "  <tbody>\n",
       "    <tr>\n",
       "      <th>count</th>\n",
       "      <td>100.000000</td>\n",
       "      <td>100.000000</td>\n",
       "      <td>100.000000</td>\n",
       "      <td>100.000000</td>\n",
       "      <td>100.000000</td>\n",
       "      <td>100.000000</td>\n",
       "      <td>100.000000</td>\n",
       "      <td>100.000000</td>\n",
       "      <td>100.000000</td>\n",
       "      <td>100.000000</td>\n",
       "      <td>100.000000</td>\n",
       "    </tr>\n",
       "    <tr>\n",
       "      <th>mean</th>\n",
       "      <td>0.004606</td>\n",
       "      <td>-0.502995</td>\n",
       "      <td>-0.000858</td>\n",
       "      <td>0.499152</td>\n",
       "      <td>0.077278</td>\n",
       "      <td>-0.027560</td>\n",
       "      <td>-0.012346</td>\n",
       "      <td>0.033864</td>\n",
       "      <td>-0.050533</td>\n",
       "      <td>0.079913</td>\n",
       "      <td>-0.050834</td>\n",
       "    </tr>\n",
       "    <tr>\n",
       "      <th>std</th>\n",
       "      <td>0.582317</td>\n",
       "      <td>0.029581</td>\n",
       "      <td>0.028747</td>\n",
       "      <td>0.026989</td>\n",
       "      <td>0.525907</td>\n",
       "      <td>0.600420</td>\n",
       "      <td>0.532019</td>\n",
       "      <td>0.583608</td>\n",
       "      <td>0.606005</td>\n",
       "      <td>0.543037</td>\n",
       "      <td>0.530658</td>\n",
       "    </tr>\n",
       "    <tr>\n",
       "      <th>min</th>\n",
       "      <td>-0.999750</td>\n",
       "      <td>-0.549650</td>\n",
       "      <td>-0.048164</td>\n",
       "      <td>0.452690</td>\n",
       "      <td>-0.935230</td>\n",
       "      <td>-0.989520</td>\n",
       "      <td>-0.991830</td>\n",
       "      <td>-0.946980</td>\n",
       "      <td>-0.996860</td>\n",
       "      <td>-0.985320</td>\n",
       "      <td>-0.999570</td>\n",
       "    </tr>\n",
       "    <tr>\n",
       "      <th>25%</th>\n",
       "      <td>-0.456452</td>\n",
       "      <td>-0.529775</td>\n",
       "      <td>-0.024290</td>\n",
       "      <td>0.479252</td>\n",
       "      <td>-0.345800</td>\n",
       "      <td>-0.579965</td>\n",
       "      <td>-0.415975</td>\n",
       "      <td>-0.443180</td>\n",
       "      <td>-0.626035</td>\n",
       "      <td>-0.348007</td>\n",
       "      <td>-0.502070</td>\n",
       "    </tr>\n",
       "    <tr>\n",
       "      <th>50%</th>\n",
       "      <td>-0.117485</td>\n",
       "      <td>-0.501615</td>\n",
       "      <td>0.001816</td>\n",
       "      <td>0.495790</td>\n",
       "      <td>0.089863</td>\n",
       "      <td>0.057297</td>\n",
       "      <td>-0.004626</td>\n",
       "      <td>0.081896</td>\n",
       "      <td>-0.094353</td>\n",
       "      <td>0.182815</td>\n",
       "      <td>-0.081193</td>\n",
       "    </tr>\n",
       "    <tr>\n",
       "      <th>75%</th>\n",
       "      <td>0.444335</td>\n",
       "      <td>-0.476805</td>\n",
       "      <td>0.022487</td>\n",
       "      <td>0.521288</td>\n",
       "      <td>0.412845</td>\n",
       "      <td>0.415545</td>\n",
       "      <td>0.445560</td>\n",
       "      <td>0.561928</td>\n",
       "      <td>0.548183</td>\n",
       "      <td>0.566547</td>\n",
       "      <td>0.434685</td>\n",
       "    </tr>\n",
       "    <tr>\n",
       "      <th>max</th>\n",
       "      <td>0.998100</td>\n",
       "      <td>-0.450290</td>\n",
       "      <td>0.048232</td>\n",
       "      <td>0.549540</td>\n",
       "      <td>0.997430</td>\n",
       "      <td>0.983230</td>\n",
       "      <td>0.992310</td>\n",
       "      <td>0.971070</td>\n",
       "      <td>0.981550</td>\n",
       "      <td>0.941060</td>\n",
       "      <td>0.918970</td>\n",
       "    </tr>\n",
       "  </tbody>\n",
       "</table>\n",
       "</div>"
      ],
      "text/plain": [
       "               0           1           2           3           4           5   \\\n",
       "count  100.000000  100.000000  100.000000  100.000000  100.000000  100.000000   \n",
       "mean     0.004606   -0.502995   -0.000858    0.499152    0.077278   -0.027560   \n",
       "std      0.582317    0.029581    0.028747    0.026989    0.525907    0.600420   \n",
       "min     -0.999750   -0.549650   -0.048164    0.452690   -0.935230   -0.989520   \n",
       "25%     -0.456452   -0.529775   -0.024290    0.479252   -0.345800   -0.579965   \n",
       "50%     -0.117485   -0.501615    0.001816    0.495790    0.089863    0.057297   \n",
       "75%      0.444335   -0.476805    0.022487    0.521288    0.412845    0.415545   \n",
       "max      0.998100   -0.450290    0.048232    0.549540    0.997430    0.983230   \n",
       "\n",
       "               6           7           8           9           10  \n",
       "count  100.000000  100.000000  100.000000  100.000000  100.000000  \n",
       "mean    -0.012346    0.033864   -0.050533    0.079913   -0.050834  \n",
       "std      0.532019    0.583608    0.606005    0.543037    0.530658  \n",
       "min     -0.991830   -0.946980   -0.996860   -0.985320   -0.999570  \n",
       "25%     -0.415975   -0.443180   -0.626035   -0.348007   -0.502070  \n",
       "50%     -0.004626    0.081896   -0.094353    0.182815   -0.081193  \n",
       "75%      0.445560    0.561928    0.548183    0.566547    0.434685  \n",
       "max      0.992310    0.971070    0.981550    0.941060    0.918970  "
      ]
     },
     "execution_count": 62,
     "metadata": {},
     "output_type": "execute_result"
    }
   ],
   "source": [
    "data = pd.read_csv('TestData/SimulatedDataCoherence/BiclusterA_high.csv',header=None)\n",
    "# data = (data - 0.5) * 2.0\n",
    "data.describe()"
   ]
  },
  {
   "cell_type": "code",
   "execution_count": 72,
   "metadata": {},
   "outputs": [],
   "source": [
    "bisect = BisectingClusterer(data)"
   ]
  },
  {
   "cell_type": "code",
   "execution_count": 73,
   "metadata": {},
   "outputs": [
    {
     "data": {
      "text/plain": [
       "array([ 1.,  1.,  1.,  1.,  1.,  1.,  1.,  0.,  1.,  0.,  1.,  1.,  1.,\n",
       "        1.,  1.,  1.,  0.,  0.,  0.,  0.,  1.,  0.,  1.,  0.,  1.,  1.,\n",
       "        1.,  1.,  1.,  0.,  0.,  1.,  1.,  0.,  1.,  0.,  1.,  0.,  0.,\n",
       "        1.,  1.,  0.,  0.,  1.,  0.,  0.,  1.,  0.,  1.,  1.,  1.,  1.,\n",
       "        1.,  1.,  1.,  0.,  1.,  0.,  1.,  0.,  0.,  0.,  0.,  0.,  0.,\n",
       "        0.,  1.,  1.,  0.,  0.,  1.,  1.,  0.,  1.,  1.,  1.,  0.,  0.,\n",
       "        1.,  1.,  1.,  0.,  1.,  0.,  0.,  1.,  1.,  1.,  0.,  0.,  0.,\n",
       "        0.,  1.,  1.,  1.,  0.,  0.,  0.,  1.,  0.])"
      ]
     },
     "execution_count": 73,
     "metadata": {},
     "output_type": "execute_result"
    }
   ],
   "source": [
    "bisect.fit()"
   ]
  },
  {
   "cell_type": "code",
   "execution_count": 74,
   "metadata": {},
   "outputs": [
    {
     "data": {
      "text/plain": [
       "array([ 0.,  0.,  0.,  0.,  0.,  0.,  0.,  0.,  1.,  1.,  1.])"
      ]
     },
     "execution_count": 74,
     "metadata": {},
     "output_type": "execute_result"
    }
   ],
   "source": [
    "bisect.fit_cols()"
   ]
  },
  {
   "cell_type": "code",
   "execution_count": 57,
   "metadata": {},
   "outputs": [],
   "source": []
  },
  {
   "cell_type": "code",
   "execution_count": 58,
   "metadata": {},
   "outputs": [
    {
     "name": "stdout",
     "output_type": "stream",
     "text": [
      "rho [ 0  1  2  3  4  5  6  7  8  9 10] gamma (array([], dtype=int64),) H 0\n"
     ]
    }
   ],
   "source": []
  },
  {
   "cell_type": "code",
   "execution_count": null,
   "metadata": {},
   "outputs": [],
   "source": []
  }
 ],
 "metadata": {
  "kernelspec": {
   "display_name": "Python 3",
   "language": "python",
   "name": "python3"
  },
  "language_info": {
   "codemirror_mode": {
    "name": "ipython",
    "version": 3
   },
   "file_extension": ".py",
   "mimetype": "text/x-python",
   "name": "python",
   "nbconvert_exporter": "python",
   "pygments_lexer": "ipython3",
   "version": "3.6.3"
  }
 },
 "nbformat": 4,
 "nbformat_minor": 2
}
