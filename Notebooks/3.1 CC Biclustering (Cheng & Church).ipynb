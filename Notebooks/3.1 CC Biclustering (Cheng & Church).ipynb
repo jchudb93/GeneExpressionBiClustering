{
 "cells": [
  {
   "cell_type": "markdown",
   "metadata": {},
   "source": [
    "# Biclustering CC\n",
    "Implementation proposed by Cheng & Church in Biclustering of Expression Data"
   ]
  },
  {
   "cell_type": "code",
   "execution_count": 10,
   "metadata": {},
   "outputs": [],
   "source": [
    "%matplotlib inline\n",
    "import numpy as np\n",
    "from matplotlib import pyplot as plt\n",
    "from sklearn.metrics import consensus_score"
   ]
  },
  {
   "cell_type": "code",
   "execution_count": 6,
   "metadata": {},
   "outputs": [
    {
     "data": {
      "text/latex": [
       "Define Mean Squeae Residue (MSR)$H(I,J)$:\n",
       "$$H(I,J) = \\frac{1}{|I||J|} \\sum_{i \\in I} \\sum_{j \\in J} (a_{ij} - a_{Ij} - a_{iJ} + a_{IJ})^2$$\n",
       "where:\n",
       "$$a_{iJ} = \\frac{1}{|J|} \\sum_{j \\in J} a_{ij}$$\n",
       "$$a_{Ij} = \\frac{1}{|I|} \\sum_{i \\in I} a_{ij}$$\n",
       "$$a_{IJ} = \\frac{1}{|I||J|} \\sum_{i \\in I, j \\in J} a_{ij}$$"
      ],
      "text/plain": [
       "<IPython.core.display.Latex object>"
      ]
     },
     "metadata": {},
     "output_type": "display_data"
    }
   ],
   "source": [
    "%%latex\n",
    "Define Mean Squeae Residue (MSR)$H(I,J)$:\n",
    "$$H(I,J) = \\frac{1}{|I||J|} \\sum_{i \\in I} \\sum_{j \\in J} (a_{ij} - a_{Ij} - a_{iJ} + a_{IJ})^2$$\n",
    "where:\n",
    "$$a_{iJ} = \\frac{1}{|J|} \\sum_{j \\in J} a_{ij}$$\n",
    "$$a_{Ij} = \\frac{1}{|I|} \\sum_{i \\in I} a_{ij}$$\n",
    "$$a_{IJ} = \\frac{1}{|I||J|} \\sum_{i \\in I, j \\in J} a_{ij}$$\n"
   ]
  },
  {
   "cell_type": "code",
   "execution_count": 26,
   "metadata": {},
   "outputs": [],
   "source": [
    "class MSR(object):\n",
    "    def __init__(self,data):\n",
    "        self.data=data\n",
    "        self.n, self.m = data.shape\n",
    "        self.aiJ = np.mean(data,axis=1)\n",
    "        self.aIj = np.mean(data,axis=0)\n",
    "        self.aIJ = np.mean(data)\n",
    "        self._H = None\n",
    "        self._HiJ = None\n",
    "        self._HIj = None\n",
    "    \n",
    "    @property\n",
    "    def H(self):\n",
    "        if self._H is None:\n",
    "            print (\"computing MSR ...\")\n",
    "            self._H = self._compute_H()\n",
    "            print (\"MSR VALUE \" + str(self._H))\n",
    "        return self._H\n",
    "        \n",
    "    @property\n",
    "    def HiJ(self):\n",
    "        if self._HiJ is None:\n",
    "            self._HiJ = self._compute_HiJ()\n",
    "        return self._HiJ\n",
    "    \n",
    "    @property\n",
    "    def HIj(self):\n",
    "        if self._HIj is None:\n",
    "            self._HIj = self._compute_HIj()\n",
    "        return self._HIj\n",
    "    \n",
    "    def _compute_H(self):\n",
    "        H = 0\n",
    "        for i in range(self.n):\n",
    "            for j in range(self.m):\n",
    "                H  += (self.data[i,j] - self.aIj[j] - self.aiJ[i] + self.aIJ ) ** 2\n",
    "        H *= 1.0/(self.n + self.m)       \n",
    "        return H\n",
    "    \n",
    "    def _compute_HiJ(self):\n",
    "        HiJ = np.zeros(self.n)\n",
    "        for i in range(self.n):\n",
    "            for j in range(self.m):\n",
    "                HiJ[i] += ( self.data[i,j] - self.aIj[j] - self.aiJ[i] + self.aIJ )**2\n",
    "        HiJ *= 1.0/self.m\n",
    "        return HiJ\n",
    "\n",
    "\n",
    "    def _compute_HIj(self):\n",
    "        HIj = np.zeros(self.m)\n",
    "        for j in range(self.m):\n",
    "            for i in range(self.n):\n",
    "                HIj[j] += ( self.data[i,j] - self.aIj[j] - self.aiJ[i] + self.aIJ )**2\n",
    "        HIj *= 1.0/self.n\n",
    "        return HIj\n",
    "\n",
    "\n",
    "        "
   ]
  },
  {
   "cell_type": "code",
   "execution_count": 31,
   "metadata": {},
   "outputs": [
    {
     "data": {
      "text/plain": [
       "array([[ 0.03852874,  0.36069209,  0.72373909,  0.04372628,  0.68043933],\n",
       "       [ 0.12771973,  0.89955523,  0.10638015,  0.64355391,  0.05493306],\n",
       "       [ 0.02884842,  0.32832336,  0.08935252,  0.62375808,  0.8367072 ],\n",
       "       [ 0.91723187,  0.56400323,  0.98114488,  0.35462762,  0.61136659],\n",
       "       [ 0.04844373,  0.75568786,  0.76464619,  0.80134422,  0.43680953]])"
      ]
     },
     "execution_count": 31,
     "metadata": {},
     "output_type": "execute_result"
    }
   ],
   "source": [
    "import random\n",
    "data  = np.random.random((5, 5))\n",
    "data"
   ]
  },
  {
   "cell_type": "code",
   "execution_count": 34,
   "metadata": {},
   "outputs": [
    {
     "name": "stdout",
     "output_type": "stream",
     "text": [
      "aIJ= 0.472862516555\n",
      "computing MSR ...\n",
      "MSR VALUE 0.18029325033\n",
      "H= 0.18029325033\n",
      "aiJ= [ 0.36942511  0.36642842  0.38139792  0.68567484  0.56138631]\n",
      "aIj= [ 0.2321545   0.58165235  0.53305257  0.49340202  0.52405114]\n"
     ]
    }
   ],
   "source": [
    "msr = MSR(data)\n",
    "print (\"aIJ= \" + str(msr.aIJ))\n",
    "print (\"H= \" + str(msr.H))\n",
    "print (\"aiJ= \" + str(msr.aiJ))\n",
    "print (\"aIj= \" + str(msr.aIj))"
   ]
  },
  {
   "cell_type": "code",
   "execution_count": 35,
   "metadata": {},
   "outputs": [],
   "source": [
    "def remove_unique_nodes(data, delta, I=None, J=None):\n",
    "    it = 1\n",
    "    \n",
    "    if I is None:\n",
    "        I = np.arange(len(data))\n",
    "    \n",
    "    if J is None:    \n",
    "        J = np.arange(len(data[0]))\n",
    "        \n",
    "    while True:\n",
    "        it += 1\n",
    "        \n",
    "        msr = MSR(data[I][:,J])\n",
    "        \n",
    "        if msr.H <delta:\n",
    "            break\n",
    "            \n",
    "        if len(I) == 1 or len(J) == 1:\n",
    "            break\n",
    "        \n",
    "        row_idx_to_remove = np.argmax(msr.HiJ)\n",
    "        col_idx_to_remove = np.argmax(msr.HIj)\n",
    "        \n",
    "        if msr.HiJ[row_idx_to_remove] > msr.HIj[col_idx_to_remove]:\n",
    "            print(\"removing row \" + str(row_idx_to_remove))\n",
    "            I = np.delete(I,row_idx_to_remove)\n",
    "            \n",
    "        else:\n",
    "            pri\n",
    "        \n",
    "        \n",
    "            \n",
    "        \n",
    "        \n",
    "        \n",
    "    "
   ]
  },
  {
   "cell_type": "code",
   "execution_count": null,
   "metadata": {},
   "outputs": [],
   "source": []
  }
 ],
 "metadata": {
  "kernelspec": {
   "display_name": "Python 3",
   "language": "python",
   "name": "python3"
  },
  "language_info": {
   "codemirror_mode": {
    "name": "ipython",
    "version": 3
   },
   "file_extension": ".py",
   "mimetype": "text/x-python",
   "name": "python",
   "nbconvert_exporter": "python",
   "pygments_lexer": "ipython3",
   "version": "3.6.3"
  }
 },
 "nbformat": 4,
 "nbformat_minor": 2
}
